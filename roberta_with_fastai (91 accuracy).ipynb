{
 "cells": [
  {
   "cell_type": "markdown",
   "metadata": {
    "id": "NcdUj8k41myX"
   },
   "source": [
    "# DECEPTIVE REVIEW CLASSIFIER"
   ]
  },
  {
   "cell_type": "code",
   "execution_count": 1,
   "metadata": {
    "id": "MBffgz4A79gO"
   },
   "outputs": [],
   "source": [
    "import os\n",
    "__print__ = print\n",
    "def print(string):\n",
    "    os.system(f'echo \\\"{string}\\\"')\n",
    "    __print__(string)"
   ]
  },
  {
   "cell_type": "code",
   "execution_count": 2,
   "metadata": {
    "colab": {
     "base_uri": "https://localhost:8080/"
    },
    "id": "UGaaK4yZ8FWa",
    "outputId": "d48446a4-6c6b-433d-996e-20f1a69f1d98"
   },
   "outputs": [
    {
     "name": "stdout",
     "output_type": "stream",
     "text": [
      "Collecting pytorch-transformers\n",
      "  Downloading pytorch_transformers-1.2.0-py3-none-any.whl (176 kB)\n",
      "\u001b[?25l\r",
      "\u001b[K     |█▉                              | 10 kB 21.7 MB/s eta 0:00:01\r",
      "\u001b[K     |███▊                            | 20 kB 23.1 MB/s eta 0:00:01\r",
      "\u001b[K     |█████▋                          | 30 kB 24.6 MB/s eta 0:00:01\r",
      "\u001b[K     |███████▍                        | 40 kB 20.0 MB/s eta 0:00:01\r",
      "\u001b[K     |█████████▎                      | 51 kB 15.9 MB/s eta 0:00:01\r",
      "\u001b[K     |███████████▏                    | 61 kB 16.1 MB/s eta 0:00:01\r",
      "\u001b[K     |█████████████                   | 71 kB 13.3 MB/s eta 0:00:01\r",
      "\u001b[K     |██████████████▉                 | 81 kB 14.4 MB/s eta 0:00:01\r",
      "\u001b[K     |████████████████▊               | 92 kB 12.5 MB/s eta 0:00:01\r",
      "\u001b[K     |██████████████████▋             | 102 kB 12.9 MB/s eta 0:00:01\r",
      "\u001b[K     |████████████████████▍           | 112 kB 12.9 MB/s eta 0:00:01\r",
      "\u001b[K     |██████████████████████▎         | 122 kB 12.9 MB/s eta 0:00:01\r",
      "\u001b[K     |████████████████████████▏       | 133 kB 12.9 MB/s eta 0:00:01\r",
      "\u001b[K     |██████████████████████████      | 143 kB 12.9 MB/s eta 0:00:01\r",
      "\u001b[K     |███████████████████████████▉    | 153 kB 12.9 MB/s eta 0:00:01\r",
      "\u001b[K     |█████████████████████████████▊  | 163 kB 12.9 MB/s eta 0:00:01\r",
      "\u001b[K     |███████████████████████████████▋| 174 kB 12.9 MB/s eta 0:00:01\r",
      "\u001b[K     |████████████████████████████████| 176 kB 12.9 MB/s \n",
      "\u001b[?25hRequirement already satisfied: tqdm in /usr/local/lib/python3.7/dist-packages (from pytorch-transformers) (4.62.2)\n",
      "Requirement already satisfied: requests in /usr/local/lib/python3.7/dist-packages (from pytorch-transformers) (2.23.0)\n",
      "Collecting sacremoses\n",
      "  Downloading sacremoses-0.0.45-py3-none-any.whl (895 kB)\n",
      "\u001b[K     |████████████████████████████████| 895 kB 47.2 MB/s \n",
      "\u001b[?25hRequirement already satisfied: torch>=1.0.0 in /usr/local/lib/python3.7/dist-packages (from pytorch-transformers) (1.9.0+cu102)\n",
      "Requirement already satisfied: regex in /usr/local/lib/python3.7/dist-packages (from pytorch-transformers) (2019.12.20)\n",
      "Collecting sentencepiece\n",
      "  Downloading sentencepiece-0.1.96-cp37-cp37m-manylinux_2_17_x86_64.manylinux2014_x86_64.whl (1.2 MB)\n",
      "\u001b[K     |████████████████████████████████| 1.2 MB 43.8 MB/s \n",
      "\u001b[?25hRequirement already satisfied: numpy in /usr/local/lib/python3.7/dist-packages (from pytorch-transformers) (1.19.5)\n",
      "Collecting boto3\n",
      "  Downloading boto3-1.18.46-py3-none-any.whl (131 kB)\n",
      "\u001b[K     |████████████████████████████████| 131 kB 52.7 MB/s \n",
      "\u001b[?25hRequirement already satisfied: typing-extensions in /usr/local/lib/python3.7/dist-packages (from torch>=1.0.0->pytorch-transformers) (3.7.4.3)\n",
      "Collecting s3transfer<0.6.0,>=0.5.0\n",
      "  Downloading s3transfer-0.5.0-py3-none-any.whl (79 kB)\n",
      "\u001b[K     |████████████████████████████████| 79 kB 8.4 MB/s \n",
      "\u001b[?25hCollecting jmespath<1.0.0,>=0.7.1\n",
      "  Downloading jmespath-0.10.0-py2.py3-none-any.whl (24 kB)\n",
      "Collecting botocore<1.22.0,>=1.21.46\n",
      "  Downloading botocore-1.21.46.tar.gz (8.2 MB)\n",
      "\u001b[K     |████████████████████████████████| 8.2 MB 39.3 MB/s \n",
      "\u001b[?25hRequirement already satisfied: python-dateutil<3.0.0,>=2.1 in /usr/local/lib/python3.7/dist-packages (from botocore<1.22.0,>=1.21.46->boto3->pytorch-transformers) (2.8.2)\n",
      "Collecting urllib3<1.27,>=1.25.4\n",
      "  Downloading urllib3-1.26.7-py2.py3-none-any.whl (138 kB)\n",
      "\u001b[K     |████████████████████████████████| 138 kB 28.6 MB/s \n",
      "\u001b[?25hRequirement already satisfied: six>=1.5 in /usr/local/lib/python3.7/dist-packages (from python-dateutil<3.0.0,>=2.1->botocore<1.22.0,>=1.21.46->boto3->pytorch-transformers) (1.15.0)\n",
      "Requirement already satisfied: idna<3,>=2.5 in /usr/local/lib/python3.7/dist-packages (from requests->pytorch-transformers) (2.10)\n",
      "  Downloading urllib3-1.25.11-py2.py3-none-any.whl (127 kB)\n",
      "\u001b[K     |████████████████████████████████| 127 kB 44.2 MB/s \n",
      "\u001b[?25hRequirement already satisfied: certifi>=2017.4.17 in /usr/local/lib/python3.7/dist-packages (from requests->pytorch-transformers) (2021.5.30)\n",
      "Requirement already satisfied: chardet<4,>=3.0.2 in /usr/local/lib/python3.7/dist-packages (from requests->pytorch-transformers) (3.0.4)\n",
      "Requirement already satisfied: joblib in /usr/local/lib/python3.7/dist-packages (from sacremoses->pytorch-transformers) (1.0.1)\n",
      "Requirement already satisfied: click in /usr/local/lib/python3.7/dist-packages (from sacremoses->pytorch-transformers) (7.1.2)\n",
      "Building wheels for collected packages: botocore\n",
      "  Building wheel for botocore (setup.py) ... \u001b[?25l\u001b[?25hdone\n",
      "  Created wheel for botocore: filename=botocore-1.21.46-py3-none-any.whl size=7933638 sha256=23bf6e2b81237b75abc93c5a0da5384ffe333a051a482449d586c3d97658adc0\n",
      "  Stored in directory: /root/.cache/pip/wheels/9f/11/c2/67df06867ca3e19a609bfb50fc033e1901510c738664b38366\n",
      "Successfully built botocore\n",
      "Installing collected packages: urllib3, jmespath, botocore, s3transfer, sentencepiece, sacremoses, boto3, pytorch-transformers\n",
      "  Attempting uninstall: urllib3\n",
      "    Found existing installation: urllib3 1.24.3\n",
      "    Uninstalling urllib3-1.24.3:\n",
      "      Successfully uninstalled urllib3-1.24.3\n",
      "\u001b[31mERROR: pip's dependency resolver does not currently take into account all the packages that are installed. This behaviour is the source of the following dependency conflicts.\n",
      "datascience 0.10.6 requires folium==0.2.1, but you have folium 0.8.3 which is incompatible.\u001b[0m\n",
      "Successfully installed boto3-1.18.46 botocore-1.21.46 jmespath-0.10.0 pytorch-transformers-1.2.0 s3transfer-0.5.0 sacremoses-0.0.45 sentencepiece-0.1.96 urllib3-1.25.11\n"
     ]
    }
   ],
   "source": [
    "! pip install pytorch-transformers"
   ]
  },
  {
   "cell_type": "code",
   "execution_count": 3,
   "metadata": {
    "colab": {
     "base_uri": "https://localhost:8080/"
    },
    "id": "Z37XjQVmH7vm",
    "outputId": "13cdd3d0-c626-46c9-fdfd-d8c66bc27f33"
   },
   "outputs": [
    {
     "name": "stdout",
     "output_type": "stream",
     "text": [
      "Collecting fastcore==1.0.9\n",
      "  Downloading fastcore-1.0.9-py3-none-any.whl (37 kB)\n",
      "Requirement already satisfied: packaging in /usr/local/lib/python3.7/dist-packages (from fastcore==1.0.9) (21.0)\n",
      "Requirement already satisfied: pip in /usr/local/lib/python3.7/dist-packages (from fastcore==1.0.9) (21.1.3)\n",
      "Requirement already satisfied: pyparsing>=2.0.2 in /usr/local/lib/python3.7/dist-packages (from packaging->fastcore==1.0.9) (2.4.7)\n",
      "Installing collected packages: fastcore\n",
      "Successfully installed fastcore-1.0.9\n"
     ]
    }
   ],
   "source": [
    "!pip install fastcore==1.0.9"
   ]
  },
  {
   "cell_type": "code",
   "execution_count": 4,
   "metadata": {
    "colab": {
     "base_uri": "https://localhost:8080/"
    },
    "id": "yKLZ1_SgOcIf",
    "outputId": "84b1cdb5-377b-4f27-db17-c739016c23d5"
   },
   "outputs": [
    {
     "name": "stdout",
     "output_type": "stream",
     "text": [
      "Collecting transformers\n",
      "  Downloading transformers-4.10.3-py3-none-any.whl (2.8 MB)\n",
      "\u001b[K     |████████████████████████████████| 2.8 MB 13.8 MB/s \n",
      "\u001b[?25hRequirement already satisfied: numpy>=1.17 in /usr/local/lib/python3.7/dist-packages (from transformers) (1.19.5)\n",
      "Requirement already satisfied: requests in /usr/local/lib/python3.7/dist-packages (from transformers) (2.23.0)\n",
      "Requirement already satisfied: tqdm>=4.27 in /usr/local/lib/python3.7/dist-packages (from transformers) (4.62.2)\n",
      "Requirement already satisfied: sacremoses in /usr/local/lib/python3.7/dist-packages (from transformers) (0.0.45)\n",
      "Requirement already satisfied: filelock in /usr/local/lib/python3.7/dist-packages (from transformers) (3.0.12)\n",
      "Requirement already satisfied: packaging in /usr/local/lib/python3.7/dist-packages (from transformers) (21.0)\n",
      "Collecting tokenizers<0.11,>=0.10.1\n",
      "  Downloading tokenizers-0.10.3-cp37-cp37m-manylinux_2_5_x86_64.manylinux1_x86_64.manylinux_2_12_x86_64.manylinux2010_x86_64.whl (3.3 MB)\n",
      "\u001b[K     |████████████████████████████████| 3.3 MB 33.5 MB/s \n",
      "\u001b[?25hRequirement already satisfied: regex!=2019.12.17 in /usr/local/lib/python3.7/dist-packages (from transformers) (2019.12.20)\n",
      "Collecting huggingface-hub>=0.0.12\n",
      "  Downloading huggingface_hub-0.0.17-py3-none-any.whl (52 kB)\n",
      "\u001b[K     |████████████████████████████████| 52 kB 1.6 MB/s \n",
      "\u001b[?25hCollecting pyyaml>=5.1\n",
      "  Downloading PyYAML-5.4.1-cp37-cp37m-manylinux1_x86_64.whl (636 kB)\n",
      "\u001b[K     |████████████████████████████████| 636 kB 45.5 MB/s \n",
      "\u001b[?25hRequirement already satisfied: importlib-metadata in /usr/local/lib/python3.7/dist-packages (from transformers) (4.8.1)\n",
      "Requirement already satisfied: typing-extensions in /usr/local/lib/python3.7/dist-packages (from huggingface-hub>=0.0.12->transformers) (3.7.4.3)\n",
      "Requirement already satisfied: pyparsing>=2.0.2 in /usr/local/lib/python3.7/dist-packages (from packaging->transformers) (2.4.7)\n",
      "Requirement already satisfied: zipp>=0.5 in /usr/local/lib/python3.7/dist-packages (from importlib-metadata->transformers) (3.5.0)\n",
      "Requirement already satisfied: idna<3,>=2.5 in /usr/local/lib/python3.7/dist-packages (from requests->transformers) (2.10)\n",
      "Requirement already satisfied: certifi>=2017.4.17 in /usr/local/lib/python3.7/dist-packages (from requests->transformers) (2021.5.30)\n",
      "Requirement already satisfied: urllib3!=1.25.0,!=1.25.1,<1.26,>=1.21.1 in /usr/local/lib/python3.7/dist-packages (from requests->transformers) (1.25.11)\n",
      "Requirement already satisfied: chardet<4,>=3.0.2 in /usr/local/lib/python3.7/dist-packages (from requests->transformers) (3.0.4)\n",
      "Requirement already satisfied: six in /usr/local/lib/python3.7/dist-packages (from sacremoses->transformers) (1.15.0)\n",
      "Requirement already satisfied: joblib in /usr/local/lib/python3.7/dist-packages (from sacremoses->transformers) (1.0.1)\n",
      "Requirement already satisfied: click in /usr/local/lib/python3.7/dist-packages (from sacremoses->transformers) (7.1.2)\n",
      "Installing collected packages: tokenizers, pyyaml, huggingface-hub, transformers\n",
      "  Attempting uninstall: pyyaml\n",
      "    Found existing installation: PyYAML 3.13\n",
      "    Uninstalling PyYAML-3.13:\n",
      "      Successfully uninstalled PyYAML-3.13\n",
      "Successfully installed huggingface-hub-0.0.17 pyyaml-5.4.1 tokenizers-0.10.3 transformers-4.10.3\n"
     ]
    }
   ],
   "source": [
    "!pip install transformers"
   ]
  },
  {
   "cell_type": "code",
   "execution_count": 5,
   "metadata": {
    "colab": {
     "base_uri": "https://localhost:8080/"
    },
    "id": "uW_jgygmOj__",
    "outputId": "51c7062b-57d1-45af-b33a-9857832f1030"
   },
   "outputs": [
    {
     "name": "stdout",
     "output_type": "stream",
     "text": [
      "WARNING:tensorflow:From /usr/local/lib/python3.7/dist-packages/tensorflow/python/compat/v2_compat.py:101: disable_resource_variables (from tensorflow.python.ops.variable_scope) is deprecated and will be removed in a future version.\n",
      "Instructions for updating:\n",
      "non-resource variables are not supported in the long term\n"
     ]
    }
   ],
   "source": [
    "import tensorflow.compat.v1 as tf\n",
    "tf.disable_v2_behavior()"
   ]
  },
  {
   "cell_type": "code",
   "execution_count": 6,
   "metadata": {
    "colab": {
     "base_uri": "https://localhost:8080/"
    },
    "id": "EZoxXVa0OkER",
    "outputId": "ed167446-c48c-4745-8d1c-4c62309718ed"
   },
   "outputs": [
    {
     "name": "stdout",
     "output_type": "stream",
     "text": [
      "Collecting chart_studio\n",
      "  Downloading chart_studio-1.1.0-py3-none-any.whl (64 kB)\n",
      "\u001b[?25l\r",
      "\u001b[K     |█████                           | 10 kB 23.4 MB/s eta 0:00:01\r",
      "\u001b[K     |██████████▏                     | 20 kB 29.6 MB/s eta 0:00:01\r",
      "\u001b[K     |███████████████▎                | 30 kB 33.2 MB/s eta 0:00:01\r",
      "\u001b[K     |████████████████████▍           | 40 kB 32.3 MB/s eta 0:00:01\r",
      "\u001b[K     |█████████████████████████▍      | 51 kB 16.5 MB/s eta 0:00:01\r",
      "\u001b[K     |██████████████████████████████▌ | 61 kB 13.3 MB/s eta 0:00:01\r",
      "\u001b[K     |████████████████████████████████| 64 kB 2.6 MB/s \n",
      "\u001b[?25hRequirement already satisfied: retrying>=1.3.3 in /usr/local/lib/python3.7/dist-packages (from chart_studio) (1.3.3)\n",
      "Requirement already satisfied: requests in /usr/local/lib/python3.7/dist-packages (from chart_studio) (2.23.0)\n",
      "Requirement already satisfied: plotly in /usr/local/lib/python3.7/dist-packages (from chart_studio) (4.4.1)\n",
      "Requirement already satisfied: six in /usr/local/lib/python3.7/dist-packages (from chart_studio) (1.15.0)\n",
      "Requirement already satisfied: idna<3,>=2.5 in /usr/local/lib/python3.7/dist-packages (from requests->chart_studio) (2.10)\n",
      "Requirement already satisfied: certifi>=2017.4.17 in /usr/local/lib/python3.7/dist-packages (from requests->chart_studio) (2021.5.30)\n",
      "Requirement already satisfied: urllib3!=1.25.0,!=1.25.1,<1.26,>=1.21.1 in /usr/local/lib/python3.7/dist-packages (from requests->chart_studio) (1.25.11)\n",
      "Requirement already satisfied: chardet<4,>=3.0.2 in /usr/local/lib/python3.7/dist-packages (from requests->chart_studio) (3.0.4)\n",
      "Installing collected packages: chart-studio\n",
      "Successfully installed chart-studio-1.1.0\n",
      "Collecting scikit-plot\n",
      "  Downloading scikit_plot-0.3.7-py3-none-any.whl (33 kB)\n",
      "Requirement already satisfied: scipy>=0.9 in /usr/local/lib/python3.7/dist-packages (from scikit-plot) (1.4.1)\n",
      "Requirement already satisfied: matplotlib>=1.4.0 in /usr/local/lib/python3.7/dist-packages (from scikit-plot) (3.2.2)\n",
      "Requirement already satisfied: joblib>=0.10 in /usr/local/lib/python3.7/dist-packages (from scikit-plot) (1.0.1)\n",
      "Requirement already satisfied: scikit-learn>=0.18 in /usr/local/lib/python3.7/dist-packages (from scikit-plot) (0.22.2.post1)\n",
      "Requirement already satisfied: cycler>=0.10 in /usr/local/lib/python3.7/dist-packages (from matplotlib>=1.4.0->scikit-plot) (0.10.0)\n",
      "Requirement already satisfied: numpy>=1.11 in /usr/local/lib/python3.7/dist-packages (from matplotlib>=1.4.0->scikit-plot) (1.19.5)\n",
      "Requirement already satisfied: kiwisolver>=1.0.1 in /usr/local/lib/python3.7/dist-packages (from matplotlib>=1.4.0->scikit-plot) (1.3.2)\n",
      "Requirement already satisfied: pyparsing!=2.0.4,!=2.1.2,!=2.1.6,>=2.0.1 in /usr/local/lib/python3.7/dist-packages (from matplotlib>=1.4.0->scikit-plot) (2.4.7)\n",
      "Requirement already satisfied: python-dateutil>=2.1 in /usr/local/lib/python3.7/dist-packages (from matplotlib>=1.4.0->scikit-plot) (2.8.2)\n",
      "Requirement already satisfied: six in /usr/local/lib/python3.7/dist-packages (from cycler>=0.10->matplotlib>=1.4.0->scikit-plot) (1.15.0)\n",
      "Installing collected packages: scikit-plot\n",
      "Successfully installed scikit-plot-0.3.7\n"
     ]
    }
   ],
   "source": [
    "!pip install chart_studio\n",
    "!pip install scikit-plot"
   ]
  },
  {
   "cell_type": "code",
   "execution_count": 7,
   "metadata": {
    "id": "dviyRLXGOuqk"
   },
   "outputs": [],
   "source": [
    "from fastai.text import *\n",
    "from fastai.metrics import *\n",
    "from transformers import RobertaTokenizer"
   ]
  },
  {
   "cell_type": "code",
   "execution_count": 8,
   "metadata": {
    "id": "Oe8bo4u3Ouw-"
   },
   "outputs": [],
   "source": [
    "# Creating a config object to store task specific information\n",
    "class Config(dict):\n",
    "    def __init__(self, **kwargs):\n",
    "        super().__init__(**kwargs)\n",
    "        for k, v in kwargs.items():\n",
    "            setattr(self, k, v)\n",
    "    \n",
    "    def set(self, key, val):\n",
    "        self[key] = val\n",
    "        setattr(self, key, val)\n",
    "        \n",
    "config = Config(\n",
    "    testing=False,\n",
    "    seed = 2019,\n",
    "    roberta_model_name='roberta-base', # can also be exchnaged with roberta-large \n",
    "    max_lr=1e-5,\n",
    "    epochs=6,\n",
    "    use_fp16=False,\n",
    "    bs=16, \n",
    "    max_seq_len=256, \n",
    "    num_labels = 2,\n",
    "    hidden_dropout_prob=.05,\n",
    "    hidden_size=768, # 1024 for roberta-large\n",
    "    start_tok = \"<s>\",\n",
    "    end_tok = \"</s>\",\n",
    ")"
   ]
  },
  {
   "cell_type": "code",
   "execution_count": 9,
   "metadata": {
    "id": "ZcAj793YOu17"
   },
   "outputs": [],
   "source": [
    "import pandas as pd\n",
    "import io\n",
    "import os"
   ]
  },
  {
   "cell_type": "code",
   "execution_count": 10,
   "metadata": {
    "colab": {
     "base_uri": "https://localhost:8080/"
    },
    "id": "p0FBtCv5PxVc",
    "outputId": "a8620ea8-4ad8-4974-8f2f-3af5c01306fc"
   },
   "outputs": [
    {
     "name": "stdout",
     "output_type": "stream",
     "text": [
      "[nltk_data] Downloading package stopwords to /root/nltk_data...\n",
      "[nltk_data]   Unzipping corpora/stopwords.zip.\n",
      "[nltk_data] Downloading package punkt to /root/nltk_data...\n",
      "[nltk_data]   Unzipping tokenizers/punkt.zip.\n",
      "[nltk_data] Downloading package wordnet to /root/nltk_data...\n",
      "[nltk_data]   Unzipping corpora/wordnet.zip.\n"
     ]
    }
   ],
   "source": [
    "#importing libraries\n",
    "import numpy as np\n",
    "import pandas as pd\n",
    "import nltk\n",
    "import matplotlib.pyplot as plt\n",
    "import statistics\n",
    "import math\n",
    "import os\n",
    "nltk.download('stopwords')\n",
    "nltk.download('punkt')\n",
    "nltk.download('wordnet')\n",
    "import re\n",
    "pd.set_option('max_colwidth', 800)"
   ]
  },
  {
   "cell_type": "code",
   "execution_count": 11,
   "metadata": {
    "id": "QM7bVgFRgNEI"
   },
   "outputs": [],
   "source": [
    "# importing deep learning libraries\n",
    "import tqdm"
   ]
  },
  {
   "cell_type": "code",
   "execution_count": 12,
   "metadata": {
    "colab": {
     "base_uri": "https://localhost:8080/",
     "height": 692
    },
    "id": "5ND0MVSoyIzC",
    "outputId": "4cc73524-c15a-4bba-d41d-c5db8e40d0b2"
   },
   "outputs": [
    {
     "data": {
      "text/html": [
       "<div>\n",
       "<style scoped>\n",
       "    .dataframe tbody tr th:only-of-type {\n",
       "        vertical-align: middle;\n",
       "    }\n",
       "\n",
       "    .dataframe tbody tr th {\n",
       "        vertical-align: top;\n",
       "    }\n",
       "\n",
       "    .dataframe thead th {\n",
       "        text-align: right;\n",
       "    }\n",
       "</style>\n",
       "<table border=\"1\" class=\"dataframe\">\n",
       "  <thead>\n",
       "    <tr style=\"text-align: right;\">\n",
       "      <th></th>\n",
       "      <th>deceptive</th>\n",
       "      <th>hotel</th>\n",
       "      <th>polarity</th>\n",
       "      <th>source</th>\n",
       "      <th>text</th>\n",
       "    </tr>\n",
       "  </thead>\n",
       "  <tbody>\n",
       "    <tr>\n",
       "      <th>0</th>\n",
       "      <td>truthful</td>\n",
       "      <td>conrad</td>\n",
       "      <td>positive</td>\n",
       "      <td>TripAdvisor</td>\n",
       "      <td>We stayed for a one night getaway with family on a thursday. Triple AAA rate of 173 was a steal. 7th floor room complete with 44in plasma TV bose stereo, voss and evian water, and gorgeous bathroom(no tub but was fine for us) Concierge was very helpful. You cannot beat this location... Only flaw was breakfast was pricey and service was very very slow(2hours for four kids and four adults on a friday morning) even though there were only two other tables in the restaurant. Food was very good so it was worth the wait. I would return in a heartbeat. A gem in chicago... \\n</td>\n",
       "    </tr>\n",
       "    <tr>\n",
       "      <th>1</th>\n",
       "      <td>truthful</td>\n",
       "      <td>hyatt</td>\n",
       "      <td>positive</td>\n",
       "      <td>TripAdvisor</td>\n",
       "      <td>Triple A rate with upgrade to view room was less than $200 which also included breakfast vouchers. Had a great view of river, lake, Wrigley Bldg. &amp; Tribune Bldg. Most major restaurants, Shopping, Sightseeing attractions within walking distance. Large room with a very comfortable bed. \\n</td>\n",
       "    </tr>\n",
       "    <tr>\n",
       "      <th>2</th>\n",
       "      <td>truthful</td>\n",
       "      <td>hyatt</td>\n",
       "      <td>positive</td>\n",
       "      <td>TripAdvisor</td>\n",
       "      <td>This comes a little late as I'm finally catching up on my reviews from the past several months:) A dear friend and I stayed at the Hyatt Regency in late October 2007 for one night while visiting a friend and her husband from out of town. This hotel is perfect, IMO. Easy check in and check out. Lovely, clean, comfortable rooms with great views of the city. I know this area pretty well and it's very convenient to many downtown Chicago attractions. We had dinner and went clubing with our friends around Division St.. We had no problems getting cabs back and forth to the Hyatt and there's even public transportation right near by but we didn't bother since we only needed cabs from and to the hotel. Parking, as is usual for Chicago, was expensive but we were able to get our car out quickly (h...</td>\n",
       "    </tr>\n",
       "    <tr>\n",
       "      <th>3</th>\n",
       "      <td>truthful</td>\n",
       "      <td>omni</td>\n",
       "      <td>positive</td>\n",
       "      <td>TripAdvisor</td>\n",
       "      <td>The Omni Chicago really delivers on all fronts, from the spaciousness of the rooms to the helpful staff to the prized location on Michigan Avenue. While this address in Chicago requires a high level of quality, the Omni delivers. Check in for myself and a whole group of people with me was under 3 minutes, the staff had plentiful recommendations for dining and events, and the rooms are some of the largest you'll find at this price range in Chicago. Even the 'standard' room has a separate living area and work desk. The fitness center has free weights, weight machines, and two rows of cardio equipment. I shared the room with 7 others and did not feel cramped in any way! All in all, a great property! \\n</td>\n",
       "    </tr>\n",
       "    <tr>\n",
       "      <th>4</th>\n",
       "      <td>truthful</td>\n",
       "      <td>hyatt</td>\n",
       "      <td>positive</td>\n",
       "      <td>TripAdvisor</td>\n",
       "      <td>I asked for a high floor away from the elevator and that is what I got. The room was pleasantly decorated, functional and very clean. I didn't need a whole lot of service but when I did they were pleasant and prompt. I used the fitness center which was well equipped and everything was in working order. It is in a great location at one end of the Michigan Avenue shopping district. \\n</td>\n",
       "    </tr>\n",
       "  </tbody>\n",
       "</table>\n",
       "</div>"
      ],
      "text/plain": [
       "  deceptive  ...                                                                                                                                                                                                                                                                                                                                                                                                                                                                                                                                                                                                                                                                                                                                                                                                                             text\n",
       "0  truthful  ...                                                                                                                                                                                                                                    We stayed for a one night getaway with family on a thursday. Triple AAA rate of 173 was a steal. 7th floor room complete with 44in plasma TV bose stereo, voss and evian water, and gorgeous bathroom(no tub but was fine for us) Concierge was very helpful. You cannot beat this location... Only flaw was breakfast was pricey and service was very very slow(2hours for four kids and four adults on a friday morning) even though there were only two other tables in the restaurant. Food was very good so it was worth the wait. I would return in a heartbeat. A gem in chicago... \\n\n",
       "1  truthful  ...                                                                                                                                                                                                                                                                                                                                                                                                                                                                                                                                  Triple A rate with upgrade to view room was less than $200 which also included breakfast vouchers. Had a great view of river, lake, Wrigley Bldg. & Tribune Bldg. Most major restaurants, Shopping, Sightseeing attractions within walking distance. Large room with a very comfortable bed. \\n\n",
       "2  truthful  ...  This comes a little late as I'm finally catching up on my reviews from the past several months:) A dear friend and I stayed at the Hyatt Regency in late October 2007 for one night while visiting a friend and her husband from out of town. This hotel is perfect, IMO. Easy check in and check out. Lovely, clean, comfortable rooms with great views of the city. I know this area pretty well and it's very convenient to many downtown Chicago attractions. We had dinner and went clubing with our friends around Division St.. We had no problems getting cabs back and forth to the Hyatt and there's even public transportation right near by but we didn't bother since we only needed cabs from and to the hotel. Parking, as is usual for Chicago, was expensive but we were able to get our car out quickly (h...\n",
       "3  truthful  ...                                                                                             The Omni Chicago really delivers on all fronts, from the spaciousness of the rooms to the helpful staff to the prized location on Michigan Avenue. While this address in Chicago requires a high level of quality, the Omni delivers. Check in for myself and a whole group of people with me was under 3 minutes, the staff had plentiful recommendations for dining and events, and the rooms are some of the largest you'll find at this price range in Chicago. Even the 'standard' room has a separate living area and work desk. The fitness center has free weights, weight machines, and two rows of cardio equipment. I shared the room with 7 others and did not feel cramped in any way! All in all, a great property! \\n\n",
       "4  truthful  ...                                                                                                                                                                                                                                                                                                                                                                                                                                I asked for a high floor away from the elevator and that is what I got. The room was pleasantly decorated, functional and very clean. I didn't need a whole lot of service but when I did they were pleasant and prompt. I used the fitness center which was well equipped and everything was in working order. It is in a great location at one end of the Michigan Avenue shopping district. \\n\n",
       "\n",
       "[5 rows x 5 columns]"
      ]
     },
     "execution_count": 12,
     "metadata": {},
     "output_type": "execute_result"
    }
   ],
   "source": [
    "#loading dataset\n",
    "df=pd.read_csv('/content/deceptive.csv')\n",
    "df.head()"
   ]
  },
  {
   "cell_type": "code",
   "execution_count": 13,
   "metadata": {
    "colab": {
     "base_uri": "https://localhost:8080/"
    },
    "id": "iQtMqQOayI3H",
    "outputId": "fbbbd12c-c1b2-47a5-cd39-e4ad8e48b645"
   },
   "outputs": [
    {
     "data": {
      "text/plain": [
       "(1600, 5)"
      ]
     },
     "execution_count": 13,
     "metadata": {},
     "output_type": "execute_result"
    }
   ],
   "source": [
    "df.shape"
   ]
  },
  {
   "cell_type": "code",
   "execution_count": 14,
   "metadata": {
    "colab": {
     "base_uri": "https://localhost:8080/"
    },
    "id": "mvJBu0hRyI6N",
    "outputId": "76af0ab8-d380-4260-f993-862a65318137"
   },
   "outputs": [
    {
     "data": {
      "text/plain": [
       "deceptive    800\n",
       "truthful     800\n",
       "Name: deceptive, dtype: int64"
      ]
     },
     "execution_count": 14,
     "metadata": {},
     "output_type": "execute_result"
    }
   ],
   "source": [
    "df['deceptive'].value_counts()"
   ]
  },
  {
   "cell_type": "code",
   "execution_count": 15,
   "metadata": {
    "colab": {
     "base_uri": "https://localhost:8080/"
    },
    "id": "THLN8v0IyI9M",
    "outputId": "99fddc48-d71c-4128-9963-bc5e426fb802"
   },
   "outputs": [
    {
     "data": {
      "text/plain": [
       "positive    800\n",
       "negative    800\n",
       "Name: polarity, dtype: int64"
      ]
     },
     "execution_count": 15,
     "metadata": {},
     "output_type": "execute_result"
    }
   ],
   "source": [
    "df['polarity'].value_counts()"
   ]
  },
  {
   "cell_type": "markdown",
   "metadata": {
    "id": "Bb2SpDri0EQ9"
   },
   "source": [
    "This is perfectly balanced dataset. Our target variable is 'deceptive'."
   ]
  },
  {
   "cell_type": "code",
   "execution_count": 16,
   "metadata": {
    "colab": {
     "base_uri": "https://localhost:8080/"
    },
    "id": "yu8kwTeVz7Qd",
    "outputId": "43fdb877-d584-4ef6-ecdc-e4dc549cdd46"
   },
   "outputs": [
    {
     "data": {
      "text/plain": [
       "affinia             80\n",
       "sofitel             80\n",
       "hyatt               80\n",
       "swissotel           80\n",
       "ambassador          80\n",
       "amalfi              80\n",
       "james               80\n",
       "omni                80\n",
       "conrad              80\n",
       "talbott             80\n",
       "palmer              80\n",
       "homewood            80\n",
       "hilton              80\n",
       "fairmont            80\n",
       "knickerbocker       80\n",
       "hardrock            80\n",
       "allegro             80\n",
       "intercontinental    80\n",
       "sheraton            80\n",
       "monaco              80\n",
       "Name: hotel, dtype: int64"
      ]
     },
     "execution_count": 16,
     "metadata": {},
     "output_type": "execute_result"
    }
   ],
   "source": [
    "df['hotel'].value_counts()"
   ]
  },
  {
   "cell_type": "code",
   "execution_count": 17,
   "metadata": {
    "colab": {
     "base_uri": "https://localhost:8080/"
    },
    "id": "Wphr2Fa13mp3",
    "outputId": "75e3a176-3eae-4d9e-ad18-7ade61373094"
   },
   "outputs": [
    {
     "data": {
      "text/plain": [
       "MTurk          800\n",
       "TripAdvisor    400\n",
       "Web            400\n",
       "Name: source, dtype: int64"
      ]
     },
     "execution_count": 17,
     "metadata": {},
     "output_type": "execute_result"
    }
   ],
   "source": [
    "df['source'].value_counts()"
   ]
  },
  {
   "cell_type": "markdown",
   "metadata": {
    "id": "BN716IOK3TrK"
   },
   "source": [
    "### DATA PREPROCESSING AND EDA"
   ]
  },
  {
   "cell_type": "code",
   "execution_count": 18,
   "metadata": {
    "colab": {
     "base_uri": "https://localhost:8080/",
     "height": 297
    },
    "id": "5uFkuJhWz7UZ",
    "outputId": "fce0cc5d-4411-49ae-a453-af4cda875846"
   },
   "outputs": [
    {
     "data": {
      "text/plain": [
       "<matplotlib.axes._subplots.AxesSubplot at 0x7ff18322ac50>"
      ]
     },
     "execution_count": 18,
     "metadata": {},
     "output_type": "execute_result"
    },
    {
     "data": {
      "image/png": "[encoded data removed]",
      "text/plain": [
       "<Figure size 432x288 with 1 Axes>"
      ]
     },
     "metadata": {
      "needs_background": "light"
     },
     "output_type": "display_data"
    }
   ],
   "source": [
    "import seaborn as sns\n",
    "sns.countplot(x=df['deceptive'],hue='polarity',data=df)"
   ]
  },
  {
   "cell_type": "code",
   "execution_count": 19,
   "metadata": {
    "colab": {
     "base_uri": "https://localhost:8080/",
     "height": 297
    },
    "id": "90xUlMklz7Yr",
    "outputId": "f79cff65-8fa9-4260-e930-43530db38f82"
   },
   "outputs": [
    {
     "data": {
      "text/plain": [
       "<matplotlib.axes._subplots.AxesSubplot at 0x7ff181c7e690>"
      ]
     },
     "execution_count": 19,
     "metadata": {},
     "output_type": "execute_result"
    },
    {
     "data": {
      "image/png": "[encoded data removed]",
      "text/plain": [
       "<Figure size 432x288 with 1 Axes>"
      ]
     },
     "metadata": {
      "needs_background": "light"
     },
     "output_type": "display_data"
    }
   ],
   "source": [
    "sns.countplot(x=df['source'],hue='deceptive',data=df)"
   ]
  },
  {
   "cell_type": "code",
   "execution_count": 20,
   "metadata": {
    "colab": {
     "base_uri": "https://localhost:8080/"
    },
    "id": "FO1iHYpP5Fpe",
    "outputId": "5c8120a2-85c1-4fba-86bc-132d933aa44e"
   },
   "outputs": [
    {
     "data": {
      "text/plain": [
       "Index(['deceptive', 'hotel', 'polarity', 'source', 'text'], dtype='object')"
      ]
     },
     "execution_count": 20,
     "metadata": {},
     "output_type": "execute_result"
    }
   ],
   "source": [
    "df.columns"
   ]
  },
  {
   "cell_type": "code",
   "execution_count": 21,
   "metadata": {
    "id": "xnUdH8nrozA4"
   },
   "outputs": [],
   "source": [
    "# so combining three text columns --- hotel, source, text\n",
    "#df['text'] = df['hotel']+' '+df['source']+' '+df['text']\n",
    "#df.head()"
   ]
  },
  {
   "cell_type": "code",
   "execution_count": 22,
   "metadata": {
    "colab": {
     "base_uri": "https://localhost:8080/",
     "height": 536
    },
    "id": "waroBGNWz7fm",
    "outputId": "268f3413-1967-4cd2-e692-9029db81b3cf"
   },
   "outputs": [
    {
     "data": {
      "text/html": [
       "<div>\n",
       "<style scoped>\n",
       "    .dataframe tbody tr th:only-of-type {\n",
       "        vertical-align: middle;\n",
       "    }\n",
       "\n",
       "    .dataframe tbody tr th {\n",
       "        vertical-align: top;\n",
       "    }\n",
       "\n",
       "    .dataframe thead th {\n",
       "        text-align: right;\n",
       "    }\n",
       "</style>\n",
       "<table border=\"1\" class=\"dataframe\">\n",
       "  <thead>\n",
       "    <tr style=\"text-align: right;\">\n",
       "      <th></th>\n",
       "      <th>deceptive</th>\n",
       "      <th>text</th>\n",
       "    </tr>\n",
       "  </thead>\n",
       "  <tbody>\n",
       "    <tr>\n",
       "      <th>0</th>\n",
       "      <td>truthful</td>\n",
       "      <td>We stayed for a one night getaway with family on a thursday. Triple AAA rate of 173 was a steal. 7th floor room complete with 44in plasma TV bose stereo, voss and evian water, and gorgeous bathroom(no tub but was fine for us) Concierge was very helpful. You cannot beat this location... Only flaw was breakfast was pricey and service was very very slow(2hours for four kids and four adults on a friday morning) even though there were only two other tables in the restaurant. Food was very good so it was worth the wait. I would return in a heartbeat. A gem in chicago... \\n</td>\n",
       "    </tr>\n",
       "    <tr>\n",
       "      <th>1</th>\n",
       "      <td>truthful</td>\n",
       "      <td>Triple A rate with upgrade to view room was less than $200 which also included breakfast vouchers. Had a great view of river, lake, Wrigley Bldg. &amp; Tribune Bldg. Most major restaurants, Shopping, Sightseeing attractions within walking distance. Large room with a very comfortable bed. \\n</td>\n",
       "    </tr>\n",
       "    <tr>\n",
       "      <th>2</th>\n",
       "      <td>truthful</td>\n",
       "      <td>This comes a little late as I'm finally catching up on my reviews from the past several months:) A dear friend and I stayed at the Hyatt Regency in late October 2007 for one night while visiting a friend and her husband from out of town. This hotel is perfect, IMO. Easy check in and check out. Lovely, clean, comfortable rooms with great views of the city. I know this area pretty well and it's very convenient to many downtown Chicago attractions. We had dinner and went clubing with our friends around Division St.. We had no problems getting cabs back and forth to the Hyatt and there's even public transportation right near by but we didn't bother since we only needed cabs from and to the hotel. Parking, as is usual for Chicago, was expensive but we were able to get our car out quickly (h...</td>\n",
       "    </tr>\n",
       "    <tr>\n",
       "      <th>3</th>\n",
       "      <td>truthful</td>\n",
       "      <td>The Omni Chicago really delivers on all fronts, from the spaciousness of the rooms to the helpful staff to the prized location on Michigan Avenue. While this address in Chicago requires a high level of quality, the Omni delivers. Check in for myself and a whole group of people with me was under 3 minutes, the staff had plentiful recommendations for dining and events, and the rooms are some of the largest you'll find at this price range in Chicago. Even the 'standard' room has a separate living area and work desk. The fitness center has free weights, weight machines, and two rows of cardio equipment. I shared the room with 7 others and did not feel cramped in any way! All in all, a great property! \\n</td>\n",
       "    </tr>\n",
       "    <tr>\n",
       "      <th>4</th>\n",
       "      <td>truthful</td>\n",
       "      <td>I asked for a high floor away from the elevator and that is what I got. The room was pleasantly decorated, functional and very clean. I didn't need a whole lot of service but when I did they were pleasant and prompt. I used the fitness center which was well equipped and everything was in working order. It is in a great location at one end of the Michigan Avenue shopping district. \\n</td>\n",
       "    </tr>\n",
       "  </tbody>\n",
       "</table>\n",
       "</div>"
      ],
      "text/plain": [
       "  deceptive                                                                                                                                                                                                                                                                                                                                                                                                                                                                                                                                                                                                                                                                                                                                                                                                                             text\n",
       "0  truthful                                                                                                                                                                                                                                    We stayed for a one night getaway with family on a thursday. Triple AAA rate of 173 was a steal. 7th floor room complete with 44in plasma TV bose stereo, voss and evian water, and gorgeous bathroom(no tub but was fine for us) Concierge was very helpful. You cannot beat this location... Only flaw was breakfast was pricey and service was very very slow(2hours for four kids and four adults on a friday morning) even though there were only two other tables in the restaurant. Food was very good so it was worth the wait. I would return in a heartbeat. A gem in chicago... \\n\n",
       "1  truthful                                                                                                                                                                                                                                                                                                                                                                                                                                                                                                                                  Triple A rate with upgrade to view room was less than $200 which also included breakfast vouchers. Had a great view of river, lake, Wrigley Bldg. & Tribune Bldg. Most major restaurants, Shopping, Sightseeing attractions within walking distance. Large room with a very comfortable bed. \\n\n",
       "2  truthful  This comes a little late as I'm finally catching up on my reviews from the past several months:) A dear friend and I stayed at the Hyatt Regency in late October 2007 for one night while visiting a friend and her husband from out of town. This hotel is perfect, IMO. Easy check in and check out. Lovely, clean, comfortable rooms with great views of the city. I know this area pretty well and it's very convenient to many downtown Chicago attractions. We had dinner and went clubing with our friends around Division St.. We had no problems getting cabs back and forth to the Hyatt and there's even public transportation right near by but we didn't bother since we only needed cabs from and to the hotel. Parking, as is usual for Chicago, was expensive but we were able to get our car out quickly (h...\n",
       "3  truthful                                                                                             The Omni Chicago really delivers on all fronts, from the spaciousness of the rooms to the helpful staff to the prized location on Michigan Avenue. While this address in Chicago requires a high level of quality, the Omni delivers. Check in for myself and a whole group of people with me was under 3 minutes, the staff had plentiful recommendations for dining and events, and the rooms are some of the largest you'll find at this price range in Chicago. Even the 'standard' room has a separate living area and work desk. The fitness center has free weights, weight machines, and two rows of cardio equipment. I shared the room with 7 others and did not feel cramped in any way! All in all, a great property! \\n\n",
       "4  truthful                                                                                                                                                                                                                                                                                                                                                                                                                                I asked for a high floor away from the elevator and that is what I got. The room was pleasantly decorated, functional and very clean. I didn't need a whole lot of service but when I did they were pleasant and prompt. I used the fitness center which was well equipped and everything was in working order. It is in a great location at one end of the Michigan Avenue shopping district. \\n"
      ]
     },
     "execution_count": 22,
     "metadata": {},
     "output_type": "execute_result"
    }
   ],
   "source": [
    "# dropping unnecessary columns. \n",
    "# dropping hotel names\n",
    "# dropping the source of the data\n",
    "# dropping the polarity of the dataset\n",
    "df.drop(['hotel', 'polarity', 'source'], axis = 1, inplace=True)\n",
    "df.head()"
   ]
  },
  {
   "cell_type": "code",
   "execution_count": 23,
   "metadata": {
    "id": "GqpULgn0z7ix"
   },
   "outputs": [],
   "source": [
    "z = {'truthful' : 1, 'deceptive' : 0}  # 1 for truthful reviews and 0 for deceptive reviews\n",
    "df['deceptive'] = df['deceptive'].map(z)"
   ]
  },
  {
   "cell_type": "code",
   "execution_count": 24,
   "metadata": {
    "colab": {
     "base_uri": "https://localhost:8080/",
     "height": 536
    },
    "id": "Jps0pDmWz7mR",
    "outputId": "5d12c94a-9c63-480b-d3d7-30b63272ce20"
   },
   "outputs": [
    {
     "data": {
      "text/html": [
       "<div>\n",
       "<style scoped>\n",
       "    .dataframe tbody tr th:only-of-type {\n",
       "        vertical-align: middle;\n",
       "    }\n",
       "\n",
       "    .dataframe tbody tr th {\n",
       "        vertical-align: top;\n",
       "    }\n",
       "\n",
       "    .dataframe thead th {\n",
       "        text-align: right;\n",
       "    }\n",
       "</style>\n",
       "<table border=\"1\" class=\"dataframe\">\n",
       "  <thead>\n",
       "    <tr style=\"text-align: right;\">\n",
       "      <th></th>\n",
       "      <th>deceptive</th>\n",
       "      <th>text</th>\n",
       "    </tr>\n",
       "  </thead>\n",
       "  <tbody>\n",
       "    <tr>\n",
       "      <th>0</th>\n",
       "      <td>1</td>\n",
       "      <td>We stayed for a one night getaway with family on a thursday. Triple AAA rate of 173 was a steal. 7th floor room complete with 44in plasma TV bose stereo, voss and evian water, and gorgeous bathroom(no tub but was fine for us) Concierge was very helpful. You cannot beat this location... Only flaw was breakfast was pricey and service was very very slow(2hours for four kids and four adults on a friday morning) even though there were only two other tables in the restaurant. Food was very good so it was worth the wait. I would return in a heartbeat. A gem in chicago... \\n</td>\n",
       "    </tr>\n",
       "    <tr>\n",
       "      <th>1</th>\n",
       "      <td>1</td>\n",
       "      <td>Triple A rate with upgrade to view room was less than $200 which also included breakfast vouchers. Had a great view of river, lake, Wrigley Bldg. &amp; Tribune Bldg. Most major restaurants, Shopping, Sightseeing attractions within walking distance. Large room with a very comfortable bed. \\n</td>\n",
       "    </tr>\n",
       "    <tr>\n",
       "      <th>2</th>\n",
       "      <td>1</td>\n",
       "      <td>This comes a little late as I'm finally catching up on my reviews from the past several months:) A dear friend and I stayed at the Hyatt Regency in late October 2007 for one night while visiting a friend and her husband from out of town. This hotel is perfect, IMO. Easy check in and check out. Lovely, clean, comfortable rooms with great views of the city. I know this area pretty well and it's very convenient to many downtown Chicago attractions. We had dinner and went clubing with our friends around Division St.. We had no problems getting cabs back and forth to the Hyatt and there's even public transportation right near by but we didn't bother since we only needed cabs from and to the hotel. Parking, as is usual for Chicago, was expensive but we were able to get our car out quickly (h...</td>\n",
       "    </tr>\n",
       "    <tr>\n",
       "      <th>3</th>\n",
       "      <td>1</td>\n",
       "      <td>The Omni Chicago really delivers on all fronts, from the spaciousness of the rooms to the helpful staff to the prized location on Michigan Avenue. While this address in Chicago requires a high level of quality, the Omni delivers. Check in for myself and a whole group of people with me was under 3 minutes, the staff had plentiful recommendations for dining and events, and the rooms are some of the largest you'll find at this price range in Chicago. Even the 'standard' room has a separate living area and work desk. The fitness center has free weights, weight machines, and two rows of cardio equipment. I shared the room with 7 others and did not feel cramped in any way! All in all, a great property! \\n</td>\n",
       "    </tr>\n",
       "    <tr>\n",
       "      <th>4</th>\n",
       "      <td>1</td>\n",
       "      <td>I asked for a high floor away from the elevator and that is what I got. The room was pleasantly decorated, functional and very clean. I didn't need a whole lot of service but when I did they were pleasant and prompt. I used the fitness center which was well equipped and everything was in working order. It is in a great location at one end of the Michigan Avenue shopping district. \\n</td>\n",
       "    </tr>\n",
       "  </tbody>\n",
       "</table>\n",
       "</div>"
      ],
      "text/plain": [
       "   deceptive                                                                                                                                                                                                                                                                                                                                                                                                                                                                                                                                                                                                                                                                                                                                                                                                                             text\n",
       "0          1                                                                                                                                                                                                                                    We stayed for a one night getaway with family on a thursday. Triple AAA rate of 173 was a steal. 7th floor room complete with 44in plasma TV bose stereo, voss and evian water, and gorgeous bathroom(no tub but was fine for us) Concierge was very helpful. You cannot beat this location... Only flaw was breakfast was pricey and service was very very slow(2hours for four kids and four adults on a friday morning) even though there were only two other tables in the restaurant. Food was very good so it was worth the wait. I would return in a heartbeat. A gem in chicago... \\n\n",
       "1          1                                                                                                                                                                                                                                                                                                                                                                                                                                                                                                                                  Triple A rate with upgrade to view room was less than $200 which also included breakfast vouchers. Had a great view of river, lake, Wrigley Bldg. & Tribune Bldg. Most major restaurants, Shopping, Sightseeing attractions within walking distance. Large room with a very comfortable bed. \\n\n",
       "2          1  This comes a little late as I'm finally catching up on my reviews from the past several months:) A dear friend and I stayed at the Hyatt Regency in late October 2007 for one night while visiting a friend and her husband from out of town. This hotel is perfect, IMO. Easy check in and check out. Lovely, clean, comfortable rooms with great views of the city. I know this area pretty well and it's very convenient to many downtown Chicago attractions. We had dinner and went clubing with our friends around Division St.. We had no problems getting cabs back and forth to the Hyatt and there's even public transportation right near by but we didn't bother since we only needed cabs from and to the hotel. Parking, as is usual for Chicago, was expensive but we were able to get our car out quickly (h...\n",
       "3          1                                                                                             The Omni Chicago really delivers on all fronts, from the spaciousness of the rooms to the helpful staff to the prized location on Michigan Avenue. While this address in Chicago requires a high level of quality, the Omni delivers. Check in for myself and a whole group of people with me was under 3 minutes, the staff had plentiful recommendations for dining and events, and the rooms are some of the largest you'll find at this price range in Chicago. Even the 'standard' room has a separate living area and work desk. The fitness center has free weights, weight machines, and two rows of cardio equipment. I shared the room with 7 others and did not feel cramped in any way! All in all, a great property! \\n\n",
       "4          1                                                                                                                                                                                                                                                                                                                                                                                                                                I asked for a high floor away from the elevator and that is what I got. The room was pleasantly decorated, functional and very clean. I didn't need a whole lot of service but when I did they were pleasant and prompt. I used the fitness center which was well equipped and everything was in working order. It is in a great location at one end of the Michigan Avenue shopping district. \\n"
      ]
     },
     "execution_count": 24,
     "metadata": {},
     "output_type": "execute_result"
    }
   ],
   "source": [
    "df.head()"
   ]
  },
  {
   "cell_type": "code",
   "execution_count": 25,
   "metadata": {
    "id": "5n9gz6FMz7pQ"
   },
   "outputs": [],
   "source": [
    "# Cleaning Raw tweets\n",
    "def clean_text(text):\n",
    "    \n",
    "    #remove emails\n",
    "    text = ' '.join([i for i in text.split() if '@' not in i])\n",
    "    \n",
    "    #remove web address\n",
    "    text = re.sub('http[s]?://\\S+', '', text)\n",
    "\n",
    "    #remove brackets and parantheses (and removing the text inside the brackets and parantheses)\n",
    "    text = re.sub(\"[\\(\\[].*?[\\)\\]]\", \"\", text)\n",
    "\n",
    "    #remove punctuations\n",
    "    text = re.sub(r'[^\\w\\s]', ' ', text)\n",
    "    \n",
    "    #Filter to allow only alphabets and numbers\n",
    "    text = re.sub(r'[^a-zA-Z\\']', ' ', text)\n",
    "    \n",
    "    #Remove Unicode characters\n",
    "    text = re.sub(r'[^\\x00-\\x7F]+', '', text)\n",
    "\n",
    "    #remove double spaces \n",
    "    text = re.sub('\\s+', ' ', text)\n",
    "    \n",
    "    return text"
   ]
  },
  {
   "cell_type": "code",
   "execution_count": 26,
   "metadata": {
    "colab": {
     "base_uri": "https://localhost:8080/",
     "height": 1000
    },
    "id": "MpwEfvotz7sZ",
    "outputId": "ea9f46bc-e84f-4f13-ddd0-bb383945d6d2"
   },
   "outputs": [
    {
     "data": {
      "text/html": [
       "<div>\n",
       "<style scoped>\n",
       "    .dataframe tbody tr th:only-of-type {\n",
       "        vertical-align: middle;\n",
       "    }\n",
       "\n",
       "    .dataframe tbody tr th {\n",
       "        vertical-align: top;\n",
       "    }\n",
       "\n",
       "    .dataframe thead th {\n",
       "        text-align: right;\n",
       "    }\n",
       "</style>\n",
       "<table border=\"1\" class=\"dataframe\">\n",
       "  <thead>\n",
       "    <tr style=\"text-align: right;\">\n",
       "      <th></th>\n",
       "      <th>deceptive</th>\n",
       "      <th>text</th>\n",
       "      <th>clean_text</th>\n",
       "    </tr>\n",
       "  </thead>\n",
       "  <tbody>\n",
       "    <tr>\n",
       "      <th>0</th>\n",
       "      <td>1</td>\n",
       "      <td>We stayed for a one night getaway with family on a thursday. Triple AAA rate of 173 was a steal. 7th floor room complete with 44in plasma TV bose stereo, voss and evian water, and gorgeous bathroom(no tub but was fine for us) Concierge was very helpful. You cannot beat this location... Only flaw was breakfast was pricey and service was very very slow(2hours for four kids and four adults on a friday morning) even though there were only two other tables in the restaurant. Food was very good so it was worth the wait. I would return in a heartbeat. A gem in chicago... \\n</td>\n",
       "      <td>We stayed for a one night getaway with family on a thursday Triple AAA rate of was a steal th floor room complete with in plasma TV bose stereo voss and evian water and gorgeous bathroom Concierge was very helpful You cannot beat this location Only flaw was breakfast was pricey and service was very very slow even though there were only two other tables in the restaurant Food was very good so it was worth the wait I would return in a heartbeat A gem in chicago</td>\n",
       "    </tr>\n",
       "    <tr>\n",
       "      <th>1</th>\n",
       "      <td>1</td>\n",
       "      <td>Triple A rate with upgrade to view room was less than $200 which also included breakfast vouchers. Had a great view of river, lake, Wrigley Bldg. &amp; Tribune Bldg. Most major restaurants, Shopping, Sightseeing attractions within walking distance. Large room with a very comfortable bed. \\n</td>\n",
       "      <td>Triple A rate with upgrade to view room was less than which also included breakfast vouchers Had a great view of river lake Wrigley Bldg Tribune Bldg Most major restaurants Shopping Sightseeing attractions within walking distance Large room with a very comfortable bed</td>\n",
       "    </tr>\n",
       "    <tr>\n",
       "      <th>2</th>\n",
       "      <td>1</td>\n",
       "      <td>This comes a little late as I'm finally catching up on my reviews from the past several months:) A dear friend and I stayed at the Hyatt Regency in late October 2007 for one night while visiting a friend and her husband from out of town. This hotel is perfect, IMO. Easy check in and check out. Lovely, clean, comfortable rooms with great views of the city. I know this area pretty well and it's very convenient to many downtown Chicago attractions. We had dinner and went clubing with our friends around Division St.. We had no problems getting cabs back and forth to the Hyatt and there's even public transportation right near by but we didn't bother since we only needed cabs from and to the hotel. Parking, as is usual for Chicago, was expensive but we were able to get our car out quickly (h...</td>\n",
       "      <td>This comes a little late as I m finally catching up on my reviews from the past several months A dear friend and I stayed at the Hyatt Regency in late October for one night while visiting a friend and her husband from out of town This hotel is perfect IMO Easy check in and check out Lovely clean comfortable rooms with great views of the city I know this area pretty well and it s very convenient to many downtown Chicago attractions We had dinner and went clubing with our friends around Division St We had no problems getting cabs back and forth to the Hyatt and there s even public transportation right near by but we didn t bother since we only needed cabs from and to the hotel Parking as is usual for Chicago was expensive but we were able to get our car out quickly No problems at all and...</td>\n",
       "    </tr>\n",
       "    <tr>\n",
       "      <th>3</th>\n",
       "      <td>1</td>\n",
       "      <td>The Omni Chicago really delivers on all fronts, from the spaciousness of the rooms to the helpful staff to the prized location on Michigan Avenue. While this address in Chicago requires a high level of quality, the Omni delivers. Check in for myself and a whole group of people with me was under 3 minutes, the staff had plentiful recommendations for dining and events, and the rooms are some of the largest you'll find at this price range in Chicago. Even the 'standard' room has a separate living area and work desk. The fitness center has free weights, weight machines, and two rows of cardio equipment. I shared the room with 7 others and did not feel cramped in any way! All in all, a great property! \\n</td>\n",
       "      <td>The Omni Chicago really delivers on all fronts from the spaciousness of the rooms to the helpful staff to the prized location on Michigan Avenue While this address in Chicago requires a high level of quality the Omni delivers Check in for myself and a whole group of people with me was under minutes the staff had plentiful recommendations for dining and events and the rooms are some of the largest you ll find at this price range in Chicago Even the standard room has a separate living area and work desk The fitness center has free weights weight machines and two rows of cardio equipment I shared the room with others and did not feel cramped in any way All in all a great property</td>\n",
       "    </tr>\n",
       "    <tr>\n",
       "      <th>4</th>\n",
       "      <td>1</td>\n",
       "      <td>I asked for a high floor away from the elevator and that is what I got. The room was pleasantly decorated, functional and very clean. I didn't need a whole lot of service but when I did they were pleasant and prompt. I used the fitness center which was well equipped and everything was in working order. It is in a great location at one end of the Michigan Avenue shopping district. \\n</td>\n",
       "      <td>I asked for a high floor away from the elevator and that is what I got The room was pleasantly decorated functional and very clean I didn t need a whole lot of service but when I did they were pleasant and prompt I used the fitness center which was well equipped and everything was in working order It is in a great location at one end of the Michigan Avenue shopping district</td>\n",
       "    </tr>\n",
       "    <tr>\n",
       "      <th>5</th>\n",
       "      <td>1</td>\n",
       "      <td>I stayed at the Omni for one night following a business meeting at another downtown Chicago hotel. I was completely impressed by the service; all personnel during my stay were absolutely outstanding. I checked in quite early (no problem) and was efficiently checked in. My room had a somewhat heavy scent of air freshener (the ONLY negative from the entire stay), which was managed reasonably well by opening the windows. I don't generally require much during my hotel stays, but suffice to say the doorman, housekeeping, the night manager and bartender at 676, the day waiter at 676, and the concierge were amazing - I never waited more than about 30 seconds for anything. The room was very comfy and the amenities were superior. One very tiny complaint - there was no wastebasket near the sink ...</td>\n",
       "      <td>I stayed at the Omni for one night following a business meeting at another downtown Chicago hotel I was completely impressed by the service all personnel during my stay were absolutely outstanding I checked in quite early and was efficiently checked in My room had a somewhat heavy scent of air freshener which was managed reasonably well by opening the windows I don t generally require much during my hotel stays but suffice to say the doorman housekeeping the night manager and bartender at the day waiter at and the concierge were amazing I never waited more than about seconds for anything The room was very comfy and the amenities were superior One very tiny complaint there was no wastebasket near the sink or near the wet bar had to walk to the other end of the bathroom or sitting room t...</td>\n",
       "    </tr>\n",
       "    <tr>\n",
       "      <th>6</th>\n",
       "      <td>1</td>\n",
       "      <td>We stayed in the Conrad for 4 nights just before Thanksgiving. We had a corner room overlooking N Michigan Av and the Tribune Building. To say this is a 5 star hotel is to damn this place with faint praise - it is wonderful. The staff were unbelievably helpful. The standard of the room was superb - HD plasma screens, luxury bedlinens, iPod radio, huge bathroom. Location is unbeatable - right in the heart of everything - watched the whole Light Festival parade from the window. Breakfasts were excellent - no help yourself buffet here - with full and attentive table service. Would have no hesitation recommending or staying again in this hotel - 5 out of 5. \\n</td>\n",
       "      <td>We stayed in the Conrad for nights just before Thanksgiving We had a corner room overlooking N Michigan Av and the Tribune Building To say this is a star hotel is to damn this place with faint praise it is wonderful The staff were unbelievably helpful The standard of the room was superb HD plasma screens luxury bedlinens iPod radio huge bathroom Location is unbeatable right in the heart of everything watched the whole Light Festival parade from the window Breakfasts were excellent no help yourself buffet here with full and attentive table service Would have no hesitation recommending or staying again in this hotel out of</td>\n",
       "    </tr>\n",
       "    <tr>\n",
       "      <th>7</th>\n",
       "      <td>1</td>\n",
       "      <td>Just got back from 2 days up in Chicago shopping with girlfriends. First time I have stayed at the Omni. I did so because I saw a $129.00 rate that included $25.00 of free food on Travelzoo. The three of us (55 year olds) all stayed in one suite with 2 double beds and a VERY comfortable pull out sofa. We had plenty of room. Food in the restaurant was great, service was outstanding from everone we came into contact with, early morning delivery of free coffee, juice and hot chocolate was fabulous and recommendations from the staff on where to eat, time of movies, shopping areas, etc was really helpful. Need I mention the outstanding location? Simply the best! We all decided that the Omni is our new favorite hotel. \\n</td>\n",
       "      <td>Just got back from days up in Chicago shopping with girlfriends First time I have stayed at the Omni I did so because I saw a rate that included of free food on Travelzoo The three of us all stayed in one suite with double beds and a VERY comfortable pull out sofa We had plenty of room Food in the restaurant was great service was outstanding from everone we came into contact with early morning delivery of free coffee juice and hot chocolate was fabulous and recommendations from the staff on where to eat time of movies shopping areas etc was really helpful Need I mention the outstanding location Simply the best We all decided that the Omni is our new favorite hotel</td>\n",
       "    </tr>\n",
       "    <tr>\n",
       "      <th>8</th>\n",
       "      <td>1</td>\n",
       "      <td>We arrived at the Omni on 2nd September for a 6 day stay. I took ill when I left the plane after travelling from Manchester so I saw more of the room than I anticipated. I couldn't go out for 4 days. The room was spacious and clean. The bed was extremely comfortable. The bathroom was large and very clean. What more could you ask. We had coffee and juice left outside our door every morning at the time we requested. I managed to go to the 5th floor to see the sun terrace (outside the gym) Having a sun terrace in a city hotel is a great idea but the terrace was a bit grim. A few sunbeds on a concrete floor. There was also noise from an air conditioning unit. It could do with a bit of cheering up. What I saw of Chicago was very pleasing, it has something for everyone. Would I go back to th...</td>\n",
       "      <td>We arrived at the Omni on nd September for a day stay I took ill when I left the plane after travelling from Manchester so I saw more of the room than I anticipated I couldn t go out for days The room was spacious and clean The bed was extremely comfortable The bathroom was large and very clean What more could you ask We had coffee and juice left outside our door every morning at the time we requested I managed to go to the th floor to see the sun terrace Having a sun terrace in a city hotel is a great idea but the terrace was a bit grim A few sunbeds on a concrete floor There was also noise from an air conditioning unit It could do with a bit of cheering up What I saw of Chicago was very pleasing it has something for everyone Would I go back to the Omni yes I would</td>\n",
       "    </tr>\n",
       "    <tr>\n",
       "      <th>9</th>\n",
       "      <td>1</td>\n",
       "      <td>On our visit to Chicago, we chose the Hyatt due to its location in downtown, within walking distance to most major attractions, such as Sears Tower, Magnificent Mile, Grant/Millenium Parks, etc. Subway &amp; bus stops very close by to travel to other locations in the city . Overall the hotel was very nice, clean, and at a great location. Was in a safe area. Went to beautiful Wrigley Field and Soldier Field and saw both teams play. I love Chicago and would defenitely stay here again! \\n</td>\n",
       "      <td>On our visit to Chicago we chose the Hyatt due to its location in downtown within walking distance to most major attractions such as Sears Tower Magnificent Mile Grant Millenium Parks etc Subway bus stops very close by to travel to other locations in the city Overall the hotel was very nice clean and at a great location Was in a safe area Went to beautiful Wrigley Field and Soldier Field and saw both teams play I love Chicago and would defenitely stay here again</td>\n",
       "    </tr>\n",
       "  </tbody>\n",
       "</table>\n",
       "</div>"
      ],
      "text/plain": [
       "   deceptive  ...                                                                                                                                                                                                                                                                                                                                                                                                                                                                                                                                                                                                                                                                                                                                                                                                                       clean_text\n",
       "0          1  ...                                                                                                                                                                                                                                                                                                                                                 We stayed for a one night getaway with family on a thursday Triple AAA rate of was a steal th floor room complete with in plasma TV bose stereo voss and evian water and gorgeous bathroom Concierge was very helpful You cannot beat this location Only flaw was breakfast was pricey and service was very very slow even though there were only two other tables in the restaurant Food was very good so it was worth the wait I would return in a heartbeat A gem in chicago \n",
       "1          1  ...                                                                                                                                                                                                                                                                                                                                                                                                                                                                                                                                                    Triple A rate with upgrade to view room was less than which also included breakfast vouchers Had a great view of river lake Wrigley Bldg Tribune Bldg Most major restaurants Shopping Sightseeing attractions within walking distance Large room with a very comfortable bed \n",
       "2          1  ...  This comes a little late as I m finally catching up on my reviews from the past several months A dear friend and I stayed at the Hyatt Regency in late October for one night while visiting a friend and her husband from out of town This hotel is perfect IMO Easy check in and check out Lovely clean comfortable rooms with great views of the city I know this area pretty well and it s very convenient to many downtown Chicago attractions We had dinner and went clubing with our friends around Division St We had no problems getting cabs back and forth to the Hyatt and there s even public transportation right near by but we didn t bother since we only needed cabs from and to the hotel Parking as is usual for Chicago was expensive but we were able to get our car out quickly No problems at all and...\n",
       "3          1  ...                                                                                                                   The Omni Chicago really delivers on all fronts from the spaciousness of the rooms to the helpful staff to the prized location on Michigan Avenue While this address in Chicago requires a high level of quality the Omni delivers Check in for myself and a whole group of people with me was under minutes the staff had plentiful recommendations for dining and events and the rooms are some of the largest you ll find at this price range in Chicago Even the standard room has a separate living area and work desk The fitness center has free weights weight machines and two rows of cardio equipment I shared the room with others and did not feel cramped in any way All in all a great property \n",
       "4          1  ...                                                                                                                                                                                                                                                                                                                                                                                                                                        I asked for a high floor away from the elevator and that is what I got The room was pleasantly decorated functional and very clean I didn t need a whole lot of service but when I did they were pleasant and prompt I used the fitness center which was well equipped and everything was in working order It is in a great location at one end of the Michigan Avenue shopping district \n",
       "5          1  ...  I stayed at the Omni for one night following a business meeting at another downtown Chicago hotel I was completely impressed by the service all personnel during my stay were absolutely outstanding I checked in quite early and was efficiently checked in My room had a somewhat heavy scent of air freshener which was managed reasonably well by opening the windows I don t generally require much during my hotel stays but suffice to say the doorman housekeeping the night manager and bartender at the day waiter at and the concierge were amazing I never waited more than about seconds for anything The room was very comfy and the amenities were superior One very tiny complaint there was no wastebasket near the sink or near the wet bar had to walk to the other end of the bathroom or sitting room t...\n",
       "6          1  ...                                                                                                                                                                            We stayed in the Conrad for nights just before Thanksgiving We had a corner room overlooking N Michigan Av and the Tribune Building To say this is a star hotel is to damn this place with faint praise it is wonderful The staff were unbelievably helpful The standard of the room was superb HD plasma screens luxury bedlinens iPod radio huge bathroom Location is unbeatable right in the heart of everything watched the whole Light Festival parade from the window Breakfasts were excellent no help yourself buffet here with full and attentive table service Would have no hesitation recommending or staying again in this hotel out of \n",
       "7          1  ...                                                                                                                                Just got back from days up in Chicago shopping with girlfriends First time I have stayed at the Omni I did so because I saw a rate that included of free food on Travelzoo The three of us all stayed in one suite with double beds and a VERY comfortable pull out sofa We had plenty of room Food in the restaurant was great service was outstanding from everone we came into contact with early morning delivery of free coffee juice and hot chocolate was fabulous and recommendations from the staff on where to eat time of movies shopping areas etc was really helpful Need I mention the outstanding location Simply the best We all decided that the Omni is our new favorite hotel \n",
       "8          1  ...                        We arrived at the Omni on nd September for a day stay I took ill when I left the plane after travelling from Manchester so I saw more of the room than I anticipated I couldn t go out for days The room was spacious and clean The bed was extremely comfortable The bathroom was large and very clean What more could you ask We had coffee and juice left outside our door every morning at the time we requested I managed to go to the th floor to see the sun terrace Having a sun terrace in a city hotel is a great idea but the terrace was a bit grim A few sunbeds on a concrete floor There was also noise from an air conditioning unit It could do with a bit of cheering up What I saw of Chicago was very pleasing it has something for everyone Would I go back to the Omni yes I would \n",
       "9          1  ...                                                                                                                                                                                                                                                                                                                                              On our visit to Chicago we chose the Hyatt due to its location in downtown within walking distance to most major attractions such as Sears Tower Magnificent Mile Grant Millenium Parks etc Subway bus stops very close by to travel to other locations in the city Overall the hotel was very nice clean and at a great location Was in a safe area Went to beautiful Wrigley Field and Soldier Field and saw both teams play I love Chicago and would defenitely stay here again \n",
       "\n",
       "[10 rows x 3 columns]"
      ]
     },
     "execution_count": 26,
     "metadata": {},
     "output_type": "execute_result"
    }
   ],
   "source": [
    "# applying that into function.\n",
    "df[\"clean_text\"] = df['text'].apply(lambda x: clean_text(x))\n",
    "df.head(10)"
   ]
  },
  {
   "cell_type": "code",
   "execution_count": 27,
   "metadata": {
    "id": "rUUuX-sfz7vM"
   },
   "outputs": [],
   "source": [
    "# dropping the uncleaned text column \"text\"\n",
    "df = df.drop(['text'], axis=1)"
   ]
  },
  {
   "cell_type": "code",
   "execution_count": 28,
   "metadata": {
    "colab": {
     "base_uri": "https://localhost:8080/",
     "height": 519
    },
    "id": "z1ztjGdL8Cap",
    "outputId": "478668e2-ddf5-4f01-f3fd-632224574edc"
   },
   "outputs": [
    {
     "data": {
      "text/html": [
       "<div>\n",
       "<style scoped>\n",
       "    .dataframe tbody tr th:only-of-type {\n",
       "        vertical-align: middle;\n",
       "    }\n",
       "\n",
       "    .dataframe tbody tr th {\n",
       "        vertical-align: top;\n",
       "    }\n",
       "\n",
       "    .dataframe thead th {\n",
       "        text-align: right;\n",
       "    }\n",
       "</style>\n",
       "<table border=\"1\" class=\"dataframe\">\n",
       "  <thead>\n",
       "    <tr style=\"text-align: right;\">\n",
       "      <th></th>\n",
       "      <th>sentiment</th>\n",
       "      <th>review</th>\n",
       "    </tr>\n",
       "  </thead>\n",
       "  <tbody>\n",
       "    <tr>\n",
       "      <th>0</th>\n",
       "      <td>1</td>\n",
       "      <td>We stayed for a one night getaway with family on a thursday Triple AAA rate of was a steal th floor room complete with in plasma TV bose stereo voss and evian water and gorgeous bathroom Concierge was very helpful You cannot beat this location Only flaw was breakfast was pricey and service was very very slow even though there were only two other tables in the restaurant Food was very good so it was worth the wait I would return in a heartbeat A gem in chicago</td>\n",
       "    </tr>\n",
       "    <tr>\n",
       "      <th>1</th>\n",
       "      <td>1</td>\n",
       "      <td>Triple A rate with upgrade to view room was less than which also included breakfast vouchers Had a great view of river lake Wrigley Bldg Tribune Bldg Most major restaurants Shopping Sightseeing attractions within walking distance Large room with a very comfortable bed</td>\n",
       "    </tr>\n",
       "    <tr>\n",
       "      <th>2</th>\n",
       "      <td>1</td>\n",
       "      <td>This comes a little late as I m finally catching up on my reviews from the past several months A dear friend and I stayed at the Hyatt Regency in late October for one night while visiting a friend and her husband from out of town This hotel is perfect IMO Easy check in and check out Lovely clean comfortable rooms with great views of the city I know this area pretty well and it s very convenient to many downtown Chicago attractions We had dinner and went clubing with our friends around Division St We had no problems getting cabs back and forth to the Hyatt and there s even public transportation right near by but we didn t bother since we only needed cabs from and to the hotel Parking as is usual for Chicago was expensive but we were able to get our car out quickly No problems at all and...</td>\n",
       "    </tr>\n",
       "    <tr>\n",
       "      <th>3</th>\n",
       "      <td>1</td>\n",
       "      <td>The Omni Chicago really delivers on all fronts from the spaciousness of the rooms to the helpful staff to the prized location on Michigan Avenue While this address in Chicago requires a high level of quality the Omni delivers Check in for myself and a whole group of people with me was under minutes the staff had plentiful recommendations for dining and events and the rooms are some of the largest you ll find at this price range in Chicago Even the standard room has a separate living area and work desk The fitness center has free weights weight machines and two rows of cardio equipment I shared the room with others and did not feel cramped in any way All in all a great property</td>\n",
       "    </tr>\n",
       "    <tr>\n",
       "      <th>4</th>\n",
       "      <td>1</td>\n",
       "      <td>I asked for a high floor away from the elevator and that is what I got The room was pleasantly decorated functional and very clean I didn t need a whole lot of service but when I did they were pleasant and prompt I used the fitness center which was well equipped and everything was in working order It is in a great location at one end of the Michigan Avenue shopping district</td>\n",
       "    </tr>\n",
       "  </tbody>\n",
       "</table>\n",
       "</div>"
      ],
      "text/plain": [
       "   sentiment                                                                                                                                                                                                                                                                                                                                                                                                                                                                                                                                                                                                                                                                                                                                                                                                                           review\n",
       "0          1                                                                                                                                                                                                                                                                                                                                                 We stayed for a one night getaway with family on a thursday Triple AAA rate of was a steal th floor room complete with in plasma TV bose stereo voss and evian water and gorgeous bathroom Concierge was very helpful You cannot beat this location Only flaw was breakfast was pricey and service was very very slow even though there were only two other tables in the restaurant Food was very good so it was worth the wait I would return in a heartbeat A gem in chicago \n",
       "1          1                                                                                                                                                                                                                                                                                                                                                                                                                                                                                                                                                    Triple A rate with upgrade to view room was less than which also included breakfast vouchers Had a great view of river lake Wrigley Bldg Tribune Bldg Most major restaurants Shopping Sightseeing attractions within walking distance Large room with a very comfortable bed \n",
       "2          1  This comes a little late as I m finally catching up on my reviews from the past several months A dear friend and I stayed at the Hyatt Regency in late October for one night while visiting a friend and her husband from out of town This hotel is perfect IMO Easy check in and check out Lovely clean comfortable rooms with great views of the city I know this area pretty well and it s very convenient to many downtown Chicago attractions We had dinner and went clubing with our friends around Division St We had no problems getting cabs back and forth to the Hyatt and there s even public transportation right near by but we didn t bother since we only needed cabs from and to the hotel Parking as is usual for Chicago was expensive but we were able to get our car out quickly No problems at all and...\n",
       "3          1                                                                                                                   The Omni Chicago really delivers on all fronts from the spaciousness of the rooms to the helpful staff to the prized location on Michigan Avenue While this address in Chicago requires a high level of quality the Omni delivers Check in for myself and a whole group of people with me was under minutes the staff had plentiful recommendations for dining and events and the rooms are some of the largest you ll find at this price range in Chicago Even the standard room has a separate living area and work desk The fitness center has free weights weight machines and two rows of cardio equipment I shared the room with others and did not feel cramped in any way All in all a great property \n",
       "4          1                                                                                                                                                                                                                                                                                                                                                                                                                                        I asked for a high floor away from the elevator and that is what I got The room was pleasantly decorated functional and very clean I didn t need a whole lot of service but when I did they were pleasant and prompt I used the fitness center which was well equipped and everything was in working order It is in a great location at one end of the Michigan Avenue shopping district "
      ]
     },
     "execution_count": 28,
     "metadata": {},
     "output_type": "execute_result"
    }
   ],
   "source": [
    "# renaming the column\n",
    "df.rename(columns = {'clean_text':'review', 'deceptive' : 'sentiment'}, inplace = True)\n",
    "df.head()"
   ]
  },
  {
   "cell_type": "code",
   "execution_count": 29,
   "metadata": {
    "id": "9MjyJicr9Wmh"
   },
   "outputs": [],
   "source": [
    "x = df['review']\n",
    "y = df['sentiment']"
   ]
  },
  {
   "cell_type": "code",
   "execution_count": 30,
   "metadata": {
    "id": "Ieu-4QWI9W5F"
   },
   "outputs": [],
   "source": [
    "# train - test split equally splitting both 0 and 1.\n",
    "from sklearn.model_selection import train_test_split\n",
    "X_train, X_test, y_train, y_test = train_test_split(x, y, test_size = 0.2, random_state = 42, stratify = y) "
   ]
  },
  {
   "cell_type": "markdown",
   "metadata": {
    "id": "rRKYoDlQBrBp"
   },
   "source": [
    "### TEXT AUGMENTATION USING SYNONYM REPLACEMENT"
   ]
  },
  {
   "cell_type": "code",
   "execution_count": 31,
   "metadata": {
    "colab": {
     "base_uri": "https://localhost:8080/"
    },
    "id": "Zupj3uVtDNnO",
    "outputId": "379949c9-f3b8-4dcf-d133-937eb5a7cb4f"
   },
   "outputs": [
    {
     "name": "stdout",
     "output_type": "stream",
     "text": [
      "Collecting nlpaug\n",
      "  Downloading nlpaug-1.1.7-py3-none-any.whl (405 kB)\n",
      "\u001b[?25l\r",
      "\u001b[K     |▉                               | 10 kB 22.8 MB/s eta 0:00:01\r",
      "\u001b[K     |█▋                              | 20 kB 26.2 MB/s eta 0:00:01\r",
      "\u001b[K     |██▍                             | 30 kB 22.1 MB/s eta 0:00:01\r",
      "\u001b[K     |███▎                            | 40 kB 17.7 MB/s eta 0:00:01\r",
      "\u001b[K     |████                            | 51 kB 14.1 MB/s eta 0:00:01\r",
      "\u001b[K     |████▉                           | 61 kB 10.4 MB/s eta 0:00:01\r",
      "\u001b[K     |█████▋                          | 71 kB 11.4 MB/s eta 0:00:01\r",
      "\u001b[K     |██████▌                         | 81 kB 12.5 MB/s eta 0:00:01\r",
      "\u001b[K     |███████▎                        | 92 kB 11.5 MB/s eta 0:00:01\r",
      "\u001b[K     |████████                        | 102 kB 12.3 MB/s eta 0:00:01\r",
      "\u001b[K     |█████████                       | 112 kB 12.3 MB/s eta 0:00:01\r",
      "\u001b[K     |█████████▊                      | 122 kB 12.3 MB/s eta 0:00:01\r",
      "\u001b[K     |██████████▌                     | 133 kB 12.3 MB/s eta 0:00:01\r",
      "\u001b[K     |███████████▎                    | 143 kB 12.3 MB/s eta 0:00:01\r",
      "\u001b[K     |████████████▏                   | 153 kB 12.3 MB/s eta 0:00:01\r",
      "\u001b[K     |█████████████                   | 163 kB 12.3 MB/s eta 0:00:01\r",
      "\u001b[K     |█████████████▊                  | 174 kB 12.3 MB/s eta 0:00:01\r",
      "\u001b[K     |██████████████▋                 | 184 kB 12.3 MB/s eta 0:00:01\r",
      "\u001b[K     |███████████████▍                | 194 kB 12.3 MB/s eta 0:00:01\r",
      "\u001b[K     |████████████████▏               | 204 kB 12.3 MB/s eta 0:00:01\r",
      "\u001b[K     |█████████████████               | 215 kB 12.3 MB/s eta 0:00:01\r",
      "\u001b[K     |█████████████████▉              | 225 kB 12.3 MB/s eta 0:00:01\r",
      "\u001b[K     |██████████████████▋             | 235 kB 12.3 MB/s eta 0:00:01\r",
      "\u001b[K     |███████████████████▍            | 245 kB 12.3 MB/s eta 0:00:01\r",
      "\u001b[K     |████████████████████▎           | 256 kB 12.3 MB/s eta 0:00:01\r",
      "\u001b[K     |█████████████████████           | 266 kB 12.3 MB/s eta 0:00:01\r",
      "\u001b[K     |█████████████████████▉          | 276 kB 12.3 MB/s eta 0:00:01\r",
      "\u001b[K     |██████████████████████▋         | 286 kB 12.3 MB/s eta 0:00:01\r",
      "\u001b[K     |███████████████████████▌        | 296 kB 12.3 MB/s eta 0:00:01\r",
      "\u001b[K     |████████████████████████▎       | 307 kB 12.3 MB/s eta 0:00:01\r",
      "\u001b[K     |█████████████████████████       | 317 kB 12.3 MB/s eta 0:00:01\r",
      "\u001b[K     |█████████████████████████▉      | 327 kB 12.3 MB/s eta 0:00:01\r",
      "\u001b[K     |██████████████████████████▊     | 337 kB 12.3 MB/s eta 0:00:01\r",
      "\u001b[K     |███████████████████████████▌    | 348 kB 12.3 MB/s eta 0:00:01\r",
      "\u001b[K     |████████████████████████████▎   | 358 kB 12.3 MB/s eta 0:00:01\r",
      "\u001b[K     |█████████████████████████████▏  | 368 kB 12.3 MB/s eta 0:00:01\r",
      "\u001b[K     |██████████████████████████████  | 378 kB 12.3 MB/s eta 0:00:01\r",
      "\u001b[K     |██████████████████████████████▊ | 389 kB 12.3 MB/s eta 0:00:01\r",
      "\u001b[K     |███████████████████████████████▌| 399 kB 12.3 MB/s eta 0:00:01\r",
      "\u001b[K     |████████████████████████████████| 405 kB 12.3 MB/s \n",
      "\u001b[?25hInstalling collected packages: nlpaug\n",
      "Successfully installed nlpaug-1.1.7\n"
     ]
    }
   ],
   "source": [
    "!pip install nlpaug"
   ]
  },
  {
   "cell_type": "code",
   "execution_count": 32,
   "metadata": {
    "colab": {
     "base_uri": "https://localhost:8080/"
    },
    "id": "fvwaWcmmDHpQ",
    "outputId": "852fa011-f42d-4711-87b3-5726196205e3"
   },
   "outputs": [
    {
     "name": "stdout",
     "output_type": "stream",
     "text": [
      "[nltk_data] Downloading package averaged_perceptron_tagger to\n",
      "[nltk_data]     /root/nltk_data...\n",
      "[nltk_data]   Unzipping taggers/averaged_perceptron_tagger.zip.\n"
     ]
    }
   ],
   "source": [
    "from nltk.stem import PorterStemmer\n",
    "from nltk.tokenize import TweetTokenizer\n",
    "from nltk.stem import WordNetLemmatizer\n",
    "\n",
    "import nlpaug.augmenter.char as nac\n",
    "import nlpaug.augmenter.word as naw\n",
    "import nlpaug.augmenter.sentence as nas\n",
    "import nlpaug.flow as nafc\n",
    "nltk.download('averaged_perceptron_tagger')\n",
    "\n",
    "from nlpaug.util import Action"
   ]
  },
  {
   "cell_type": "code",
   "execution_count": 33,
   "metadata": {
    "id": "6O3MRLV09fwL"
   },
   "outputs": [],
   "source": [
    "aug = naw.SynonymAug(aug_src='wordnet',aug_max=5)"
   ]
  },
  {
   "cell_type": "code",
   "execution_count": 34,
   "metadata": {
    "id": "h5qQZAuo9f1s"
   },
   "outputs": [],
   "source": [
    "augmented_sentences=[]\n",
    "augmented_sentences_labels=[]\n",
    "for i in X_train.index:\n",
    "  if y_train[i]==0:\n",
    "    temps=aug.augment(X_train[i],n=5)\n",
    "    for sent in temps:\n",
    "      augmented_sentences.append(sent)\n",
    "      augmented_sentences_labels.append(0)\n",
    "  else :\n",
    "    temps=aug.augment(X_train[i],n=5)\n",
    "    for sent in temps:\n",
    "      augmented_sentences.append(sent)\n",
    "      augmented_sentences_labels.append(1)"
   ]
  },
  {
   "cell_type": "code",
   "execution_count": 35,
   "metadata": {
    "colab": {
     "base_uri": "https://localhost:8080/"
    },
    "id": "Guv4dbuf9f5-",
    "outputId": "8dbe246c-9ea3-4768-87b6-5b6ffe6469d5"
   },
   "outputs": [
    {
     "name": "stdout",
     "output_type": "stream",
     "text": [
      "(7680,)\n",
      "(7680,)\n"
     ]
    }
   ],
   "source": [
    "# after augumenting, our dataset is multiplied with 10 times.\n",
    "X_train=X_train.append(pd.Series(augmented_sentences),ignore_index=True)\n",
    "y_train=y_train.append(pd.Series(augmented_sentences_labels),ignore_index=True)\n",
    "\n",
    "print(X_train.shape)\n",
    "print(y_train.shape)"
   ]
  },
  {
   "cell_type": "code",
   "execution_count": 36,
   "metadata": {
    "colab": {
     "base_uri": "https://localhost:8080/"
    },
    "id": "vegQPEG09gBr",
    "outputId": "1cb92ab5-33da-40ac-bd03-981d158c2ee6"
   },
   "outputs": [
    {
     "data": {
      "text/plain": [
       "((8000,), (8000,))"
      ]
     },
     "execution_count": 36,
     "metadata": {},
     "output_type": "execute_result"
    }
   ],
   "source": [
    "# combining both train and test data \n",
    "# train data - 7680\n",
    "# test data - 320\n",
    "x=X_train.append(X_test).reset_index(drop=True)\n",
    "y=y_train.append(y_test).reset_index(drop=True)\n",
    "\n",
    "x.shape, y.shape"
   ]
  },
  {
   "cell_type": "code",
   "execution_count": 38,
   "metadata": {
    "colab": {
     "base_uri": "https://localhost:8080/",
     "height": 710
    },
    "id": "APi_2rYhPpkL",
    "outputId": "cb72fef9-58fa-40c7-fe68-3cfa69f13991"
   },
   "outputs": [
    {
     "data": {
      "text/html": [
       "<div>\n",
       "<style scoped>\n",
       "    .dataframe tbody tr th:only-of-type {\n",
       "        vertical-align: middle;\n",
       "    }\n",
       "\n",
       "    .dataframe tbody tr th {\n",
       "        vertical-align: top;\n",
       "    }\n",
       "\n",
       "    .dataframe thead th {\n",
       "        text-align: right;\n",
       "    }\n",
       "</style>\n",
       "<table border=\"1\" class=\"dataframe\">\n",
       "  <thead>\n",
       "    <tr style=\"text-align: right;\">\n",
       "      <th></th>\n",
       "      <th>review</th>\n",
       "      <th>sentiment</th>\n",
       "    </tr>\n",
       "  </thead>\n",
       "  <tbody>\n",
       "    <tr>\n",
       "      <th>0</th>\n",
       "      <td>Oh my goodness this has got to be one of the worst places to stay in all of downtown Chicago It all went well enough checking in but them went downhill There was so much left to be desired The biggest problem was a huge turd in the toilet I kid you not I guess the maid was rather busy that day or took a break and forgot about it I just don t know But for the prices they charge this type of thing is unacceptable Most everything else about the actual room was as expected The noise was a bit more than I m used to though but there was a convention of college age kids staying on the floor above us So we asked to be moved to another room they did get us in another room but that took nearly hours The second room worked out well for us but I won t be risking staying here again Plus the pool wa...</td>\n",
       "      <td>0</td>\n",
       "    </tr>\n",
       "    <tr>\n",
       "      <th>1</th>\n",
       "      <td>I stayed here for nights last summer I booked the reservation on priceline for night which was the cheapest rate I could find anywhere during a convention week Anyway when I arrived at pm from the airport I was told that they had overbooked the hotel and had no room for me They booked me at a dumpy star motel by the airport They gave me for a taxi to get there and it cost me I was late for a meeting the next morning because of the extra travel and packing unpacking The Millennium offered no compensation whatsoever for their foul up No free drink no room upgrade nothing Since I booked on the internet I was chopped liver Beware</td>\n",
       "      <td>1</td>\n",
       "    </tr>\n",
       "    <tr>\n",
       "      <th>2</th>\n",
       "      <td>I recently stayed at the Affina Chicago hotel and was really dissappointed When I arrived the desk clerk was really slow checking me in I feel like turtles could have checked me in faster I was finally checked in and my room was on the th floor The elevator ride seemed to take forever I arrived and the room and at first glance it looked great but after looking everything over there were finger smudges on the glass table I figured maybe room cleanin must have accidentally touched it I went to the C House for supper that evening and I had to wait for what seemed like forever The meal was good but my waitress was very uptight On my way back to my room I asked the front desk to set up a wake up call for AM the next morning and they were very grateful to set that up It would have been nice ...</td>\n",
       "      <td>0</td>\n",
       "    </tr>\n",
       "    <tr>\n",
       "      <th>3</th>\n",
       "      <td>After reading good reviews about the Affinia Hotel in Chicago my husband and I decided to spend two nights there to celebrate our th anniversary Unfortunately the hotel missed the mark for us I did not expect to find bedbugs underneath the mattress in a star hotel Because my husband and I have had a bad experience with bedbugs as a rule we always check underneath the mattress before settling down for the night in any hotel When I brought this to the attention of the front desk staff they practically accused us of planting the bugs there I was very humiliated and disappointed in the way the situation was handled Needless to say we made the decision to pack our bags and went elsewhere to celebrate our anniversary I have written a letter to the hotel chain and hope that they will be more ...</td>\n",
       "      <td>0</td>\n",
       "    </tr>\n",
       "    <tr>\n",
       "      <th>4</th>\n",
       "      <td>Stayed at the Fitzpatrick as a result of all of the glowing reviews on TripAdvisor and to avoid the normal corporate hotel Good location but the room was dirty and not just from the last housekeeping It was dingy a place where you needed the slippers they provided And this was a suite Also the refrigerator was caked with ice and didn t work Furthermore because my travel agent had mixed up the dates I was to travel I showed up a day late The hotel said it wasn t a problem and that I wouldn t be charged for the no show the night before I had my travel desk verify this with the hotel management the same day Then the Fitzpatrick charged me for both nights and refused to reverse the charges after many attempts to resolve Neither I nor my corporate travel desk will use the Fitzpatrick again ...</td>\n",
       "      <td>1</td>\n",
       "    </tr>\n",
       "  </tbody>\n",
       "</table>\n",
       "</div>"
      ],
      "text/plain": [
       "                                                                                                                                                                                                                                                                                                                                                                                                                                                                                                                                                                                                                                                                                                                                                                                                                            review  sentiment\n",
       "0  Oh my goodness this has got to be one of the worst places to stay in all of downtown Chicago It all went well enough checking in but them went downhill There was so much left to be desired The biggest problem was a huge turd in the toilet I kid you not I guess the maid was rather busy that day or took a break and forgot about it I just don t know But for the prices they charge this type of thing is unacceptable Most everything else about the actual room was as expected The noise was a bit more than I m used to though but there was a convention of college age kids staying on the floor above us So we asked to be moved to another room they did get us in another room but that took nearly hours The second room worked out well for us but I won t be risking staying here again Plus the pool wa...          0\n",
       "1                                                                                                                                                                       I stayed here for nights last summer I booked the reservation on priceline for night which was the cheapest rate I could find anywhere during a convention week Anyway when I arrived at pm from the airport I was told that they had overbooked the hotel and had no room for me They booked me at a dumpy star motel by the airport They gave me for a taxi to get there and it cost me I was late for a meeting the next morning because of the extra travel and packing unpacking The Millennium offered no compensation whatsoever for their foul up No free drink no room upgrade nothing Since I booked on the internet I was chopped liver Beware           1\n",
       "2  I recently stayed at the Affina Chicago hotel and was really dissappointed When I arrived the desk clerk was really slow checking me in I feel like turtles could have checked me in faster I was finally checked in and my room was on the th floor The elevator ride seemed to take forever I arrived and the room and at first glance it looked great but after looking everything over there were finger smudges on the glass table I figured maybe room cleanin must have accidentally touched it I went to the C House for supper that evening and I had to wait for what seemed like forever The meal was good but my waitress was very uptight On my way back to my room I asked the front desk to set up a wake up call for AM the next morning and they were very grateful to set that up It would have been nice ...          0\n",
       "3  After reading good reviews about the Affinia Hotel in Chicago my husband and I decided to spend two nights there to celebrate our th anniversary Unfortunately the hotel missed the mark for us I did not expect to find bedbugs underneath the mattress in a star hotel Because my husband and I have had a bad experience with bedbugs as a rule we always check underneath the mattress before settling down for the night in any hotel When I brought this to the attention of the front desk staff they practically accused us of planting the bugs there I was very humiliated and disappointed in the way the situation was handled Needless to say we made the decision to pack our bags and went elsewhere to celebrate our anniversary I have written a letter to the hotel chain and hope that they will be more ...          0\n",
       "4  Stayed at the Fitzpatrick as a result of all of the glowing reviews on TripAdvisor and to avoid the normal corporate hotel Good location but the room was dirty and not just from the last housekeeping It was dingy a place where you needed the slippers they provided And this was a suite Also the refrigerator was caked with ice and didn t work Furthermore because my travel agent had mixed up the dates I was to travel I showed up a day late The hotel said it wasn t a problem and that I wouldn t be charged for the no show the night before I had my travel desk verify this with the hotel management the same day Then the Fitzpatrick charged me for both nights and refused to reverse the charges after many attempts to resolve Neither I nor my corporate travel desk will use the Fitzpatrick again ...          1"
      ]
     },
     "execution_count": 38,
     "metadata": {},
     "output_type": "execute_result"
    }
   ],
   "source": [
    "df1=pd.DataFrame({'review':x,'sentiment':y})\n",
    "df1.head()"
   ]
  },
  {
   "cell_type": "code",
   "execution_count": 39,
   "metadata": {
    "colab": {
     "base_uri": "https://localhost:8080/"
    },
    "id": "GmsMBs2PQplc",
    "outputId": "02942b83-8926-4701-8fd9-fc00e942b28e"
   },
   "outputs": [
    {
     "data": {
      "text/plain": [
       "(8000, 2)"
      ]
     },
     "execution_count": 39,
     "metadata": {},
     "output_type": "execute_result"
    }
   ],
   "source": [
    "df1.shape"
   ]
  },
  {
   "cell_type": "markdown",
   "metadata": {
    "id": "t5OYfKyxS2Au"
   },
   "source": [
    "## ROBERTA APPROACH USING FASTAI"
   ]
  },
  {
   "cell_type": "markdown",
   "metadata": {
    "id": "15-9K3gDYKyF"
   },
   "source": [
    "RoBERTa (A Robustly Optimized BERT Pretraining Approach) BERT(Bidirectional Encoder Representations from Transformers) builds upon BERT by pretraining longer with more data, bigger batch sizes while only pretraining on masked language modeling as opposed to pretraining on next sentence prediction as well. "
   ]
  },
  {
   "cell_type": "markdown",
   "metadata": {
    "id": "YmyitoHcV4QK"
   },
   "source": [
    "### Setting Up the Tokenizer"
   ]
  },
  {
   "cell_type": "code",
   "execution_count": 40,
   "metadata": {
    "id": "mVueQseLPlXo"
   },
   "outputs": [],
   "source": [
    "feat_cols = \"review\"\n",
    "label_cols = \"sentiment\""
   ]
  },
  {
   "cell_type": "markdown",
   "metadata": {
    "id": "RCdSZtqtaMZc"
   },
   "source": [
    "RoBERTa uses different default special tokens from BERT. For example, instead of [CLS] and [SEP] for starting and ending tokens, <s> and </s> are used respectively. For example, a tokenized movie review may look like:\n",
    "\n",
    "“the movie was great” → \n",
    " the, Ġmovie, Ġwas, Ġgreat\n",
    "\n",
    "We will now create a Fastai wrapper around RobertaTokenizer."
   ]
  },
  {
   "cell_type": "code",
   "execution_count": 41,
   "metadata": {
    "id": "82hFOmWQ8jgQ"
   },
   "outputs": [],
   "source": [
    "class FastAiRobertaTokenizer(BaseTokenizer):\n",
    "    \"\"\"Wrapper around RobertaTokenizer to be compatible with fastai\"\"\"\n",
    "    def __init__(self, tokenizer: RobertaTokenizer, max_seq_len: int=128, **kwargs): \n",
    "        self._pretrained_tokenizer = tokenizer\n",
    "        self.max_seq_len = max_seq_len \n",
    "    def __call__(self, *args, **kwargs): \n",
    "        return self \n",
    "    def tokenizer(self, t:str) -> List[str]: \n",
    "        \"\"\"Adds Roberta bos and eos tokens and limits the maximum sequence length\"\"\" \n",
    "        return [config.start_tok] + self._pretrained_tokenizer.tokenize(t)[:self.max_seq_len - 2] + [config.end_tok]"
   ]
  },
  {
   "cell_type": "markdown",
   "metadata": {
    "id": "RoWevoOoaoIa"
   },
   "source": [
    "Now, we can initialize our Fastai tokenizer. (Note: we have to wrap our Fastai wrapper within the Tokenizer class for Fastai compatibility)"
   ]
  },
  {
   "cell_type": "code",
   "execution_count": 42,
   "metadata": {
    "colab": {
     "base_uri": "https://localhost:8080/",
     "height": 0,
     "referenced_widgets": [
      "c87c5730e72148d79ea99f604c667e86",
      "b9999b3b39724bd48c7f13279586e204",
      "5e1387d6e1d142e99113b6da528b9a11",
      "81ed78f1e83c463eb778a37d14bdc208",
      "ea2dd27f412c4730837e287954dd64b6",
      "111e33227c844a3a8664581b73da950f",
      "86611d1125644521bbf8442bb802d600",
      "b844ccac4d814e64980c6ad252145468",
      "0fa19a6e8ee94e0497e504a77cae5d33",
      "c97cce24145d43a9a3ab3eb232b5ce9d",
      "ae87296f434f44318b4268cd3664d1bd",
      "d3efc0a12aa941c2a267cc8b98c85abf",
      "305bd7dfc3094b0b8378e77d896e256a",
      "066670b77f974d0294d08a934dad6a03",
      "88431661aa204a6ba46852cce442b776",
      "3b8a9c0587ca452496ed95072884fbe7",
      "1a53e92813484c1cb4828ec327884d1e",
      "a2ee265a07a8409e9a8ca4985ca56405",
      "9f8b004c6fa7463a9fb7695ae860395f",
      "bb99793003aa44aaa9cab6e6014b3671",
      "b34ef571c7e74788b0f8f5c8c7a76734",
      "d61cefe606074358b15ffcb92106d7d5",
      "d6d18cae86144f0fa2908b2347f3680f",
      "f12ef94a15cb4fb48e22a5e0d2ca0c01",
      "2f7ec436c8404703bfaf7160a406a4ff",
      "ac695488509348dfa42dcbbd0e83c153",
      "7ad8bd6a0041497ab6cae65e8bb84571",
      "4dc1f6cbfb784ff1a9271116a4c21773",
      "76ec2b32be7f49748c61286401c9faaa",
      "0de49ff81a984fe0a279598706193201",
      "80175acea5f84a558a89bc3309ac43fa",
      "47f16f7b9a8b41fd830923118ad05cd7",
      "d1d8591b42314d0da43a9250a5421f36",
      "717b8987a56343b5893f3cb693a87c33",
      "ea72efd5518f4d0c9f0e42ee005b1781",
      "4f34285fe7fd4327b5507e1a40c4093a",
      "648d5b2d1ad1451897c9aeb337fa32f7",
      "f3843638fc294899b2f7e061336b97f5",
      "dfc531220dd94e0d9f7a1ee4d75f2c06",
      "6025bb12e4d14df6968b4845f25b5128",
      "c23c8b258b9f480e990129077fe809b4",
      "7d67345b8bca47cbb7920a5fb0020fc6",
      "cfd211ffe83147e8a1d70fb05fcc8264",
      "628ef0b6706a4a929a946e61756c1f0b"
     ]
    },
    "id": "8WEm-SJVPlkD",
    "outputId": "20eedc4d-6fbc-4c18-8750-f639a0082bda"
   },
   "outputs": [
    {
     "data": {
      "application/vnd.jupyter.widget-view+json": {
       "model_id": "c87c5730e72148d79ea99f604c667e86",
       "version_major": 2,
       "version_minor": 0
      },
      "text/plain": [
       "Downloading:   0%|          | 0.00/899k [00:00<?, ?B/s]"
      ]
     },
     "metadata": {},
     "output_type": "display_data"
    },
    {
     "data": {
      "application/vnd.jupyter.widget-view+json": {
       "model_id": "d3efc0a12aa941c2a267cc8b98c85abf",
       "version_major": 2,
       "version_minor": 0
      },
      "text/plain": [
       "Downloading:   0%|          | 0.00/456k [00:00<?, ?B/s]"
      ]
     },
     "metadata": {},
     "output_type": "display_data"
    },
    {
     "data": {
      "application/vnd.jupyter.widget-view+json": {
       "model_id": "d6d18cae86144f0fa2908b2347f3680f",
       "version_major": 2,
       "version_minor": 0
      },
      "text/plain": [
       "Downloading:   0%|          | 0.00/1.36M [00:00<?, ?B/s]"
      ]
     },
     "metadata": {},
     "output_type": "display_data"
    },
    {
     "data": {
      "application/vnd.jupyter.widget-view+json": {
       "model_id": "717b8987a56343b5893f3cb693a87c33",
       "version_major": 2,
       "version_minor": 0
      },
      "text/plain": [
       "Downloading:   0%|          | 0.00/481 [00:00<?, ?B/s]"
      ]
     },
     "metadata": {},
     "output_type": "display_data"
    }
   ],
   "source": [
    "# create fastai tokenizer for roberta\n",
    "from transformers import RobertaTokenizer\n",
    "roberta_tok = RobertaTokenizer.from_pretrained(\"roberta-base\")\n",
    "\n",
    "fastai_tokenizer = Tokenizer(tok_func=FastAiRobertaTokenizer(roberta_tok, max_seq_len=config.max_seq_len), \n",
    "                             pre_rules=[], post_rules=[])"
   ]
  },
  {
   "cell_type": "code",
   "execution_count": 43,
   "metadata": {
    "colab": {
     "base_uri": "https://localhost:8080/"
    },
    "id": "pTFW0q2pPlpA",
    "outputId": "1b399290-28de-4c42-b5b3-6bd2c2a0a77e"
   },
   "outputs": [
    {
     "data": {
      "text/plain": [
       "PreTrainedTokenizer(name_or_path='roberta-base', vocab_size=50265, model_max_len=512, is_fast=False, padding_side='right', special_tokens={'bos_token': AddedToken(\"<s>\", rstrip=False, lstrip=False, single_word=False, normalized=True), 'eos_token': AddedToken(\"</s>\", rstrip=False, lstrip=False, single_word=False, normalized=True), 'unk_token': AddedToken(\"<unk>\", rstrip=False, lstrip=False, single_word=False, normalized=True), 'sep_token': AddedToken(\"</s>\", rstrip=False, lstrip=False, single_word=False, normalized=True), 'pad_token': AddedToken(\"<pad>\", rstrip=False, lstrip=False, single_word=False, normalized=True), 'cls_token': AddedToken(\"<s>\", rstrip=False, lstrip=False, single_word=False, normalized=True), 'mask_token': AddedToken(\"<mask>\", rstrip=False, lstrip=True, single_word=False, normalized=True)})"
      ]
     },
     "execution_count": 43,
     "metadata": {},
     "output_type": "execute_result"
    }
   ],
   "source": [
    "roberta_tok"
   ]
  },
  {
   "cell_type": "code",
   "execution_count": 44,
   "metadata": {
    "id": "MlGMpkS1Plsz"
   },
   "outputs": [],
   "source": [
    "import json"
   ]
  },
  {
   "cell_type": "code",
   "execution_count": 45,
   "metadata": {
    "id": "fCFlvKfsPlvy"
   },
   "outputs": [],
   "source": [
    "path = F\"/content/roberta_models\""
   ]
  },
  {
   "cell_type": "code",
   "execution_count": 46,
   "metadata": {
    "colab": {
     "base_uri": "https://localhost:8080/"
    },
    "id": "pEIZ2KdqPlzV",
    "outputId": "0f6583c0-79b7-4fd2-8ca0-fef5f057eeb5"
   },
   "outputs": [
    {
     "data": {
      "text/plain": [
       "('/content/roberta_models/vocab.json', '/content/roberta_models/merges.txt')"
      ]
     },
     "execution_count": 46,
     "metadata": {},
     "output_type": "execute_result"
    }
   ],
   "source": [
    "roberta_tok.save_vocabulary(path)"
   ]
  },
  {
   "cell_type": "code",
   "execution_count": 47,
   "metadata": {
    "colab": {
     "base_uri": "https://localhost:8080/"
    },
    "id": "OOTazQiNQfMo",
    "outputId": "37962696-0b60-498f-ed3a-54d8215806b8"
   },
   "outputs": [
    {
     "data": {
      "text/plain": [
       "['vocab.json', 'merges.txt']"
      ]
     },
     "execution_count": 47,
     "metadata": {},
     "output_type": "execute_result"
    }
   ],
   "source": [
    "os.chdir(\"/content/roberta_models\")\n",
    "os.listdir()"
   ]
  },
  {
   "cell_type": "code",
   "execution_count": 48,
   "metadata": {
    "id": "dpUpTzG-QgcM"
   },
   "outputs": [],
   "source": [
    "# create fastai vocabulary for roberta\n",
    "\n",
    "with open('vocab.json', 'r', encoding='utf-8') as f:\n",
    "    roberta_vocab_dict = json.load(f)"
   ]
  },
  {
   "cell_type": "markdown",
   "metadata": {
    "id": "qKyyHf7la1YM"
   },
   "source": [
    "Next, we will load Roberta’s vocabulary."
   ]
  },
  {
   "cell_type": "code",
   "execution_count": 49,
   "metadata": {
    "id": "Ad2HyKEaQgiq"
   },
   "outputs": [],
   "source": [
    "fastai_roberta_vocab = Vocab(list(roberta_vocab_dict.keys()))"
   ]
  },
  {
   "cell_type": "code",
   "execution_count": 50,
   "metadata": {
    "colab": {
     "base_uri": "https://localhost:8080/"
    },
    "id": "BMBljuEgWMtm",
    "outputId": "f64894ac-c625-4891-dbdf-ec0a1cbd7f96"
   },
   "outputs": [
    {
     "data": {
      "text/plain": [
       "<fastai.text.transform.Vocab at 0x7ff16b3e4f90>"
      ]
     },
     "execution_count": 50,
     "metadata": {},
     "output_type": "execute_result"
    }
   ],
   "source": [
    "fastai_roberta_vocab"
   ]
  },
  {
   "cell_type": "markdown",
   "metadata": {
    "id": "EHqDSHdWWfjp"
   },
   "source": [
    "### Setting up pre-processors"
   ]
  },
  {
   "cell_type": "markdown",
   "metadata": {
    "id": "pany8lERa_dH"
   },
   "source": [
    "Before we can build our Fastai DataBunch, we need to create appropriate pre-processors for the tokenizer and vocabulary."
   ]
  },
  {
   "cell_type": "code",
   "execution_count": 51,
   "metadata": {
    "id": "31gWv1ORQgpB"
   },
   "outputs": [],
   "source": [
    "# Setting up pre-processors\n",
    "class RobertaTokenizeProcessor(TokenizeProcessor):\n",
    "    def __init__(self, tokenizer):\n",
    "         super().__init__(tokenizer=tokenizer, include_bos=False, include_eos=False)\n",
    "\n",
    "class RobertaNumericalizeProcessor(NumericalizeProcessor):\n",
    "    def __init__(self, *args, **kwargs):\n",
    "        super().__init__(*args, vocab=fastai_roberta_vocab, **kwargs)\n",
    "\n",
    "\n",
    "def get_roberta_processor(tokenizer:Tokenizer=None, vocab:Vocab=None):\n",
    "    \"\"\"\n",
    "    Constructing preprocessors for Roberta\n",
    "    We remove sos and eos tokens since we add that ourselves (OUR OWN DATA) in the tokenizer.\n",
    "    We also use a custom vocabulary to match the numericalization with the original Roberta model.\n",
    "    \"\"\"\n",
    "    return [RobertaTokenizeProcessor(tokenizer=tokenizer), NumericalizeProcessor(vocab=vocab)]"
   ]
  },
  {
   "cell_type": "markdown",
   "metadata": {
    "id": "kkMSlYoGWcUr"
   },
   "source": [
    "#### Setting up the DataBunch"
   ]
  },
  {
   "cell_type": "markdown",
   "metadata": {
    "id": "-d-6CjJ4bGbJ"
   },
   "source": [
    "Now, we will create a DataBunch class specifically for Roberta."
   ]
  },
  {
   "cell_type": "code",
   "execution_count": 52,
   "metadata": {
    "id": "xT9wTwWEQgsY"
   },
   "outputs": [],
   "source": [
    "# Creating a Roberta specific DataBunch class\n",
    "class RobertaDataBunch(TextDataBunch):\n",
    "    \"Create a `TextDataBunch` suitable for training Roberta\"\n",
    "    @classmethod\n",
    "    def create(cls, train_ds, valid_ds, test_ds=None, path:PathOrStr='.', bs:int=64, val_bs:int=None, pad_idx=1,\n",
    "               pad_first=True, device:torch.device=None, no_check:bool=False, backwards:bool=False, \n",
    "               dl_tfms:Optional[Collection[Callable]]=None, **dl_kwargs) -> DataBunch:\n",
    "        \"Function that transform the `datasets` in a `DataBunch` for classification. Passes `**dl_kwargs` on to `DataLoader()`\"\n",
    "        datasets = cls._init_ds(train_ds, valid_ds, test_ds)\n",
    "        val_bs = ifnone(val_bs, bs)\n",
    "        collate_fn = partial(pad_collate, pad_idx=pad_idx, pad_first=pad_first, backwards=backwards)\n",
    "        train_sampler = SortishSampler(datasets[0].x, key=lambda t: len(datasets[0][t][0].data), bs=bs)\n",
    "        train_dl = DataLoader(datasets[0], batch_size=bs, sampler=train_sampler, drop_last=True, **dl_kwargs)\n",
    "        dataloaders = [train_dl]\n",
    "        for ds in datasets[1:]:\n",
    "            lengths = [len(t) for t in ds.x.items]\n",
    "            sampler = SortSampler(ds.x, key=lengths.__getitem__)\n",
    "            dataloaders.append(DataLoader(ds, batch_size=val_bs, sampler=sampler, **dl_kwargs))\n",
    "        return cls(*dataloaders, path=path, device=device, dl_tfms=dl_tfms, collate_fn=collate_fn, no_check=no_check)"
   ]
  },
  {
   "cell_type": "markdown",
   "metadata": {
    "id": "UPuF15CrbsDg"
   },
   "source": [
    "And lastly, we will also need a Roberta specific TextList class."
   ]
  },
  {
   "cell_type": "code",
   "execution_count": 53,
   "metadata": {
    "id": "KJUu862WQgwA"
   },
   "outputs": [],
   "source": [
    "class RobertaTextList(TextList):\n",
    "    _bunch = RobertaDataBunch\n",
    "    _label_cls = TextList"
   ]
  },
  {
   "cell_type": "code",
   "execution_count": 54,
   "metadata": {
    "id": "FeHubf-2Qg0K"
   },
   "outputs": [],
   "source": [
    "import concurrent.futures\n",
    "\n",
    "# loading the tokenizer and vocab processors\n",
    "processor = get_roberta_processor(tokenizer=fastai_tokenizer, vocab=fastai_roberta_vocab)"
   ]
  },
  {
   "cell_type": "code",
   "execution_count": 55,
   "metadata": {
    "colab": {
     "base_uri": "https://localhost:8080/"
    },
    "id": "wbUluljIQg30",
    "outputId": "8d16f219-dfdd-4cfd-ceb7-42919a17017f"
   },
   "outputs": [
    {
     "data": {
      "text/plain": [
       "[<__main__.RobertaTokenizeProcessor at 0x7ff16b6e71d0>,\n",
       " <fastai.text.data.NumericalizeProcessor at 0x7ff16b6e7a50>]"
      ]
     },
     "execution_count": 55,
     "metadata": {},
     "output_type": "execute_result"
    }
   ],
   "source": [
    "processor"
   ]
  },
  {
   "cell_type": "markdown",
   "metadata": {
    "id": "2-k4Hr5ab083"
   },
   "source": [
    "We can now simply create a Fastai DataBunch with Roberta"
   ]
  },
  {
   "cell_type": "code",
   "execution_count": 56,
   "metadata": {
    "colab": {
     "base_uri": "https://localhost:8080/",
     "height": 74
    },
    "id": "Haoe18seAMig",
    "outputId": "c8fe9af6-9cae-4091-f610-273fa3bf1406"
   },
   "outputs": [
    {
     "data": {
      "text/html": [],
      "text/plain": [
       "<IPython.core.display.HTML object>"
      ]
     },
     "metadata": {},
     "output_type": "display_data"
    },
    {
     "name": "stderr",
     "output_type": "stream",
     "text": [
      "/usr/local/lib/python3.7/dist-packages/fastai/core.py:302: VisibleDeprecationWarning: Creating an ndarray from ragged nested sequences (which is a list-or-tuple of lists-or-tuples-or ndarrays with different lengths or shapes) is deprecated. If you meant to do this, you must specify 'dtype=object' when creating the ndarray\n",
      "  return np.array(a, dtype=dtype, **kwargs)\n"
     ]
    },
    {
     "data": {
      "text/html": [],
      "text/plain": [
       "<IPython.core.display.HTML object>"
      ]
     },
     "metadata": {},
     "output_type": "display_data"
    }
   ],
   "source": [
    "# creating our databunch \n",
    "data = RobertaTextList.from_df(df1, \".\", cols=feat_cols, processor=processor) \\\n",
    "    .split_by_idx(valid_idx=range(7680,8000)) \\\n",
    "    .label_from_df(cols=label_cols,label_cls=CategoryList) \\\n",
    "    .databunch(bs=config.bs, pad_first=False, pad_idx=0)"
   ]
  },
  {
   "cell_type": "code",
   "execution_count": 57,
   "metadata": {
    "colab": {
     "base_uri": "https://localhost:8080/"
    },
    "id": "xt1MiIstQfVp",
    "outputId": "c4653c60-9ac6-4a11-ef73-12ed1e90a8a7"
   },
   "outputs": [
    {
     "data": {
      "text/plain": [
       "RobertaDataBunch;\n",
       "\n",
       "Train: LabelList (7680 items)\n",
       "x: RobertaTextList\n",
       "<s> Oh Ġmy Ġgoodness Ġthis Ġhas Ġgot Ġto Ġbe Ġone Ġof Ġthe Ġworst Ġplaces Ġto Ġstay Ġin Ġall Ġof Ġdowntown ĠChicago ĠIt Ġall Ġwent Ġwell Ġenough Ġchecking Ġin Ġbut Ġthem Ġwent Ġdownhill ĠThere Ġwas Ġso Ġmuch Ġleft Ġto Ġbe Ġdesired ĠThe Ġbiggest Ġproblem Ġwas Ġa Ġhuge Ġt urd Ġin Ġthe Ġtoilet ĠI Ġkid Ġyou Ġnot ĠI Ġguess Ġthe Ġmaid Ġwas Ġrather Ġbusy Ġthat Ġday Ġor Ġtook Ġa Ġbreak Ġand Ġforgot Ġabout Ġit ĠI Ġjust Ġdon Ġt Ġknow ĠBut Ġfor Ġthe Ġprices Ġthey Ġcharge Ġthis Ġtype Ġof Ġthing Ġis Ġunacceptable ĠMost Ġeverything Ġelse Ġabout Ġthe Ġactual Ġroom Ġwas Ġas Ġexpected ĠThe Ġnoise Ġwas Ġa Ġbit Ġmore Ġthan ĠI Ġm Ġused Ġto Ġthough Ġbut Ġthere Ġwas Ġa Ġconvention Ġof Ġcollege Ġage Ġkids Ġstaying Ġon Ġthe Ġfloor Ġabove Ġus ĠSo Ġwe Ġasked Ġto Ġbe Ġmoved Ġto Ġanother Ġroom Ġthey Ġdid Ġget Ġus Ġin Ġanother Ġroom Ġbut Ġthat Ġtook Ġnearly Ġhours ĠThe Ġsecond Ġroom Ġworked Ġout Ġwell Ġfor Ġus Ġbut ĠI Ġwon Ġt Ġbe Ġrisking Ġstaying Ġhere Ġagain ĠPlus Ġthe Ġpool Ġwas Ġnot Ġavailable ĠI Ġreally Ġwish Ġthey Ġwould Ġhave Ġmentioned Ġthat Ġon Ġtheir Ġwebsite ĠI Ġwas Ġlooking Ġforward Ġto Ġit Ġfor Ġdays ĠAll Ġin Ġall Ġit Ġis Ġa Ġbeautiful Ġplace Ġin Ġa Ġwonderful Ġlocation Ġbut Ġthey Ġneed Ġto Ġwork Ġon Ġtheir Ġcustomer Ġservice Ġbefore ĠI Ġll Ġreconsider Ġstaying Ġat Ġthe ĠHom ew ood ĠSu ites Ġby ĠHilton ĠChicago ĠDowntown Ġ </s>,<s> I Ġstayed Ġhere Ġfor Ġnights Ġlast Ġsummer ĠI Ġbooked Ġthe Ġreservation Ġon Ġpric eline Ġfor Ġnight Ġwhich Ġwas Ġthe Ġcheapest Ġrate ĠI Ġcould Ġfind Ġanywhere Ġduring Ġa Ġconvention Ġweek ĠAnyway Ġwhen ĠI Ġarrived Ġat Ġpm Ġfrom Ġthe Ġairport ĠI Ġwas Ġtold Ġthat Ġthey Ġhad Ġover book ed Ġthe Ġhotel Ġand Ġhad Ġno Ġroom Ġfor Ġme ĠThey Ġbooked Ġme Ġat Ġa Ġdump y Ġstar Ġmotel Ġby Ġthe Ġairport ĠThey Ġgave Ġme Ġfor Ġa Ġtaxi Ġto Ġget Ġthere Ġand Ġit Ġcost Ġme ĠI Ġwas Ġlate Ġfor Ġa Ġmeeting Ġthe Ġnext Ġmorning Ġbecause Ġof Ġthe Ġextra Ġtravel Ġand Ġpacking Ġunp acking ĠThe ĠMillennium Ġoffered Ġno Ġcompensation Ġwhatsoever Ġfor Ġtheir Ġfoul Ġup ĠNo Ġfree Ġdrink Ġno Ġroom Ġupgrade Ġnothing ĠSince ĠI Ġbooked Ġon Ġthe Ġinternet ĠI Ġwas Ġchopped Ġliver ĠBeware Ġ </s>,<s> I Ġrecently Ġstayed Ġat Ġthe ĠAff ina ĠChicago Ġhotel Ġand Ġwas Ġreally Ġdiss appointed ĠWhen ĠI Ġarrived Ġthe Ġdesk Ġclerk Ġwas Ġreally Ġslow Ġchecking Ġme Ġin ĠI Ġfeel Ġlike Ġturtles Ġcould Ġhave Ġchecked Ġme Ġin Ġfaster ĠI Ġwas Ġfinally Ġchecked Ġin Ġand Ġmy Ġroom Ġwas Ġon Ġthe Ġth Ġfloor ĠThe Ġelevator Ġride Ġseemed Ġto Ġtake Ġforever ĠI Ġarrived Ġand Ġthe Ġroom Ġand Ġat Ġfirst Ġglance Ġit Ġlooked Ġgreat Ġbut Ġafter Ġlooking Ġeverything Ġover Ġthere Ġwere Ġfinger Ġsm ud ges Ġon Ġthe Ġglass Ġtable ĠI Ġfigured Ġmaybe Ġroom Ġclean in Ġmust Ġhave Ġaccidentally Ġtouched Ġit ĠI Ġwent Ġto Ġthe ĠC ĠHouse Ġfor Ġsupper Ġthat Ġevening Ġand ĠI Ġhad Ġto Ġwait Ġfor Ġwhat Ġseemed Ġlike Ġforever ĠThe Ġmeal Ġwas Ġgood Ġbut Ġmy Ġwaitress Ġwas Ġvery Ġupt ight ĠOn Ġmy Ġway Ġback Ġto Ġmy Ġroom ĠI Ġasked Ġthe Ġfront Ġdesk Ġto Ġset Ġup Ġa Ġwake Ġup Ġcall Ġfor ĠAM Ġthe Ġnext Ġmorning Ġand Ġthey Ġwere Ġvery Ġgrateful Ġto Ġset Ġthat Ġup ĠIt Ġwould Ġhave Ġbeen Ġnice Ġto Ġactually Ġget Ġit Ġthough ĠThe Ġnext Ġmorning ĠI Ġsurprisingly Ġwork Ġup Ġat ĠAM Ġand Ġrealized Ġthat ĠI Ġhad Ġnot Ġreceived Ġa Ġwake Ġup Ġcall ĠI Ġwas Ġvery Ġupset Ġand Ġlet Ġthem Ġknow ĠOverall Ġthis Ġexperience Ġwas Ġnot Ġworth Ġthe Ġstars Ġthat Ġthis Ġhotel Ġhas Ġbeen Ġgiven ĠFor Ġthe Ġprice Ġquality Ġand Ġratings Ġthe ĠAff ina ĠChicago Ġhotel Ġhas Ġbeen Ġgiven ĠI Ġwould Ġexpect Ġbetter Ġservice Ġ </s>,<s> After Ġreading Ġgood Ġreviews Ġabout Ġthe ĠAff inia ĠHotel Ġin ĠChicago Ġmy Ġhusband Ġand ĠI Ġdecided Ġto Ġspend Ġtwo Ġnights Ġthere Ġto Ġcelebrate Ġour Ġth Ġanniversary ĠUnfortunately Ġthe Ġhotel Ġmissed Ġthe Ġmark Ġfor Ġus ĠI Ġdid Ġnot Ġexpect Ġto Ġfind Ġbed bugs Ġunderneath Ġthe Ġmattress Ġin Ġa Ġstar Ġhotel ĠBecause Ġmy Ġhusband Ġand ĠI Ġhave Ġhad Ġa Ġbad Ġexperience Ġwith Ġbed bugs Ġas Ġa Ġrule Ġwe Ġalways Ġcheck Ġunderneath Ġthe Ġmattress Ġbefore Ġsettling Ġdown Ġfor Ġthe Ġnight Ġin Ġany Ġhotel ĠWhen ĠI Ġbrought Ġthis Ġto Ġthe Ġattention Ġof Ġthe Ġfront Ġdesk Ġstaff Ġthey Ġpractically Ġaccused Ġus Ġof Ġplanting Ġthe Ġbugs Ġthere ĠI Ġwas Ġvery Ġhumiliated Ġand Ġdisappointed Ġin Ġthe Ġway Ġthe Ġsituation Ġwas Ġhandled ĠNeedless Ġto Ġsay Ġwe Ġmade Ġthe Ġdecision Ġto Ġpack Ġour Ġbags Ġand Ġwent Ġelsewhere Ġto Ġcelebrate Ġour Ġanniversary ĠI Ġhave Ġwritten Ġa Ġletter Ġto Ġthe Ġhotel Ġchain Ġand Ġhope Ġthat Ġthey Ġwill Ġbe Ġmore Ġresponsive Ġto Ġthe Ġsituation ĠI Ġhave Ġalso Ġreported Ġthe Ġincident Ġto Ġmy Ġcredit Ġcard Ġcompany Ġto Ġalert Ġthem Ġthat ĠI Ġwill Ġbe Ġref uting Ġthe Ġcharge Ġfor Ġthe Ġone Ġnight Ġthe ĠAff inia Ġcharged Ġto Ġmy Ġaccount Ġbecause Ġwe Ġmissed Ġthe Ġcancellation Ġdeadline Ġ </s>,<s> St ayed Ġat Ġthe ĠFitzpatrick Ġas Ġa Ġresult Ġof Ġall Ġof Ġthe Ġglowing Ġreviews Ġon ĠTrip Ad visor Ġand Ġto Ġavoid Ġthe Ġnormal Ġcorporate Ġhotel ĠGood Ġlocation Ġbut Ġthe Ġroom Ġwas Ġdirty Ġand Ġnot Ġjust Ġfrom Ġthe Ġlast Ġhouse keeping ĠIt Ġwas Ġding y Ġa Ġplace Ġwhere Ġyou Ġneeded Ġthe Ġsl ippers Ġthey Ġprovided ĠAnd Ġthis Ġwas Ġa Ġsuite ĠAlso Ġthe Ġrefrigerator Ġwas Ġc aked Ġwith Ġice Ġand Ġdidn Ġt Ġwork ĠFurthermore Ġbecause Ġmy Ġtravel Ġagent Ġhad Ġmixed Ġup Ġthe Ġdates ĠI Ġwas Ġto Ġtravel ĠI Ġshowed Ġup Ġa Ġday Ġlate ĠThe Ġhotel Ġsaid Ġit Ġwasn Ġt Ġa Ġproblem Ġand Ġthat ĠI Ġwouldn Ġt Ġbe Ġcharged Ġfor Ġthe Ġno Ġshow Ġthe Ġnight Ġbefore ĠI Ġhad Ġmy Ġtravel Ġdesk Ġverify Ġthis Ġwith Ġthe Ġhotel Ġmanagement Ġthe Ġsame Ġday ĠThen Ġthe ĠFitzpatrick Ġcharged Ġme Ġfor Ġboth Ġnights Ġand Ġrefused Ġto Ġreverse Ġthe Ġcharges Ġafter Ġmany Ġattempts Ġto Ġresolve ĠNeither ĠI Ġnor Ġmy Ġcorporate Ġtravel Ġdesk Ġwill Ġuse Ġthe ĠFitzpatrick Ġagain ĠTwo Ġdots Ġonly Ġbecause Ġit Ġs Ġin Ġa Ġgood Ġlocation Ġand Ġbecause Ġthe Ġlobby Ġwas Ġclean ĠI Ġm Ġgenerally Ġeasy Ġto Ġplease Ġand Ġslow Ġto Ġcomplain Ġbut Ġthis Ġwas Ġbad Ġ </s>\n",
       "y: CategoryList\n",
       "0,1,0,0,1\n",
       "Path: .;\n",
       "\n",
       "Valid: LabelList (320 items)\n",
       "x: RobertaTextList\n",
       "<s> St ayed Ġnights Ġat Ġthis Ġgreat Ġhotel ĠUpdated Ġrooms ĠClean ĠUsed ĠTim Ġto Ġbook Ġtheater Ġand Ġdin ning Ġreservations ĠProvided Ġexcellent Ġservice ĠClose Ġto Ġsubway Ġshopping Ġand Ġdin ning ĠExcellent Ġvalue ĠFree Ġwireless Ġinternet Ġand Ġaccess Ġto Ġnearby Ġhealth Ġclub Ġvery Ġnice Ġperks ĠHighly Ġrecommend Ġit ĠFuture Ġconcern Ġis Ġadjacent Ġconstruction Ġof Ġcondos ĠNot Ġa Ġproblem Ġwhile Ġwe Ġwere Ġthere Ġbut Ġsomething Ġto Ġask Ġfront Ġdesk Ġabout Ġin Ġthe Ġfuture Ġ </s>,<s> I Ġloved Ġthe ĠAmbassador ĠWhat Ġa Ġgreat Ġhotel ĠIt Ġs Ġreally Ġbeautiful Ġand Ġthe Ġroom Ġwas Ġabsolutely Ġstriking Ġvery Ġclassic Ġand Ġelegant ĠEverything Ġwas Ġdone Ġreally Ġwell Ġthe Ġstaff Ġtreated Ġme Ġlike Ġa Ġregular ĠThis Ġis Ġa Ġtop Ġnotch Ġhotel Ġthe Ġbest Ġplace ĠI Ġve Ġstayed Ġin Ġa Ġlong Ġtime ĠMy Ġonly Ġcomplaint Ġis Ġthat ĠI Ġwish Ġit Ġwas Ġon Ġthe ĠMile Ġbut Ġthat Ġs Ġit Ġ </s>,<s> THE ĠRO OM ĠI Ġbooked Ġa Ġroom Ġhere Ġand Ġwas Ġtold ĠI Ġd Ġbe Ġgetting Ġa Ġking Ġbed ĠWhen ĠI Ġcheck Ġin Ġthey Ġsay Ġthey Ġonly Ġhave Ġa Ġqueen Ġbed Ġroom Ġavailable ĠI Ġprotested Ġto Ġno Ġavail ĠWhen ĠI Ġgot Ġto Ġthe Ġroom Ġit Ġwas Ġreally Ġonly Ġa Ġfull Ġsize Ġbed ĠSo ĠI Ġwent Ġfrom Ġfrom Ġa Ġking Ġbed Ġat Ġhome Ġto Ġa Ġfull Ġsize Ġbed Ġin Ġa Ġtiny Ġbroom Ġcloset Ġof Ġa Ġroom Ġin ĠChicago ĠFor Ġthe Ġpleasure ĠI Ġpaid Ġthe Ġsame Ġprice Ġas Ġa Ġnormal Ġking Ġbed Ġroom ĠThe Ġfull Ġsize Ġbed Ġwe Ġhad Ġwas Ġalso Ġextremely Ġuncomfortable ĠI Ġthink Ġit Ġwas Ġl op Ġsided Ġbecause Ġthey Ġnever Ġrotate Ġthe Ġmatt resses ĠWe Ġwould Ġwake Ġup Ġwith Ġbody Ġac hes Ġand Ġheadaches ĠMy Ġwife Ġeven Ġsaid Ġshe Ġlost Ġfeeling Ġin Ġher Ġarms Ġsome Ġnights ĠNot Ġgood ĠAlso Ġthe Ġinternet Ġin Ġthe Ġroom Ġis Ġhard Ġto Ġset Ġup Ġslow Ġto Ġuse Ġand Ġinconsistent ĠI Ġgenerally Ġhad Ġto Ġrestart Ġmy Ġcomputer Ġat Ġleast Ġonce Ġto Ġget Ġthe Ġinternet Ġto Ġwork ĠThe Ġinternet Ġworked Ġone Ġday Ġon Ġmy ĠiPhone Ġand Ġthen Ġwould Ġnot Ġlog Ġme Ġin ĠIt Ġs Ġnot Ġreally Ġworth Ġit ĠRO OM ĠSERVICE ĠRoom Ġservice Ġwas Ġvery Ġinconsistent Ġand Ġnonsensical ĠSome Ġmornings Ġthey Ġwould Ġtake Ġour Ġtowels Ġand Ġnot Ġreplace Ġthem Ġother Ġtimes Ġthey Ġwould Ġreplace Ġsome Ġtowels Ġand Ġnot Ġothers ĠThey Ġwould Ġalso Ġcome Ġat Ġvastly Ġdifferent Ġtimes ĠHOT EL ĠSERVICE ĠThis Ġhotel ĠL OV ES Ġto Ġnickel Ġand Ġdime ĠI Ġasked Ġfor Ġa Ġfridge Ġin Ġthe Ġroom Ġand Ġthey Ġtold Ġme </s>,<s> The ĠAm alf i ĠHotel Ġadvert ises Ġitself Ġas Ġa Ġluxury Ġboutique Ġhotel Ġand Ġas Ġsuch ĠI Ġexpected Ġmy Ġexperience Ġthere Ġto Ġbe Ġsomewhat Ġbetter Ġthan Ġaverage ĠUnfortunately Ġthis Ġwas Ġnot Ġthe Ġcase ĠThe Ġroom ĠI Ġbooked Ġwas Ġnot Ġclean Ġin Ġparticular Ġthe Ġbathroom Ġlooked Ġas Ġif Ġsomeone Ġhad Ġdone Ġa Ġvery Ġminimal Ġamount Ġof Ġcleaning Ġafter Ġthe Ġlast Ġguest ĠThere Ġwas Ġhair Ġin Ġthe Ġcorners Ġof Ġthe Ġroom Ġleading Ġme Ġto Ġthink Ġthe Ġfloor Ġhad Ġnot Ġbeen Ġswept Ġor Ġcleaned ĠIn Ġaddition Ġalthough Ġthe Ġroom Ġwas Ġsupposed Ġto Ġbe Ġa Ġnon Ġsmoking Ġroom ĠI Ġcould Ġstill Ġdetect Ġthe Ġodor Ġof Ġcigarette Ġsmoke ĠI Ġwill Ġsay Ġthat Ġthe Ġstaff Ġwas Ġcour te ous Ġand Ġthe Ġhotel Ġis Ġvery Ġwell Ġsituated Ġin Ġterms Ġof Ġthe Ġmany Ġrestaurants Ġsites Ġand Ġshops Ġall Ġwithin Ġwalking Ġdistance ĠHowever Ġgiven Ġthe Ġcost Ġof Ġthe Ġroom Ġand Ġmy Ġexperience Ġwith Ġthe Ġclean liness Ġof Ġthe Ġroom ĠI Ġwould Ġnot Ġstay Ġat Ġthe ĠAm alf i ĠHotel Ġagain Ġ </s>,<s> has Ġgone Ġdownhill Ġso Ġmuch Ġwe Ġalmost Ġchecked Ġout ĠWe Ġstayed Ġin Ġthe ĠDean ĠMartin ĠCelebrity ĠSuite Ġfor Ġnights Ġwhile Ġentertaining Ġcustomers Ġin ĠChicago ĠWe Ġve Ġstayed Ġthere Ġfor Ġmany Ġyears Ġand Ġwhile Ġnot Ġup Ġto Ġdate Ġlike Ġthe ĠFour ĠSeasons Ġor Ġthe ĠPeninsula Ġit Ġhas Ġalways Ġbeen Ġa Ġcomfortable Ġand Ġclean Ġservice Ġoriented Ġhotel ĠNot Ġonly Ġhas Ġroom Ġservice Ġbeen Ġeliminated Ġcomplimentary Ġmorning Ġcoffee Ġis Ġno Ġlonger Ġavailable Ġmini Ġbars Ġhave Ġbeen Ġremoved Ġfrom Ġthe Ġrooms Ġetc Ġetc ĠThe Ġonly Ġrestaurant Ġthe ĠPump ĠRoom Ġwas Ġclosed Ġfor Ġa Ġprivate Ġfunction Ġon ĠSaturday Ġnight Ġthe Ġbar Ġalso Ġso Ġwe Ġweren Ġt Ġeven Ġable Ġto Ġhave Ġan Ġafter Ġdinner Ġdrink Ġwith Ġour Ġguests ĠSurely Ġthe Ġfunction Ġwas Ġplanned Ġbefore Ġwe Ġmade Ġour Ġreservations Ġbut Ġwe Ġweren Ġt Ġtold Ġof Ġit ĠWe Ġalso Ġlearned Ġthat Ġthe Ġbell Ġstaff Ġis Ġbeing Ġeliminated ĠSo Ġin Ġother Ġwords Ġany ting Ġto Ġdo Ġwith Ġservice Ġis Ġgone Ġfrom Ġthis Ġhotel ĠI Ġhear Ġthey Ġare Ġgoing Ġto Ġbegin Ġrenovations Ġin ĠDecember Ġbut Ġthat Ġis Ġno Ġexcuse Ġto Ġlet Ġan Ġold Ġglory Ġgo Ġto Ġpot Ġin Ġthe Ġmeantime ĠWe Ġwon Ġt Ġbe Ġstaying Ġhere Ġwhen Ġwe Ġgo Ġback Ġin ĠJuly Ġor Ġfor ĠThanksgiving ĠWe Ġeven Ġhad Ġto Ġpay Ġfor Ġinternet ĠMind Ġyou Ġour Ġbill Ġfor Ġnights Ġwas Ġno Ġroom Ġservice Ġno Ġrestaurant Ġbar Ġcharges ĠHighway Ġrobbery Ġfor Ġwhat Ġyou Ġget Ġow Ġat Ġthe ĠAmbassador ĠEast ĠSad Ġ </s>\n",
       "y: CategoryList\n",
       "1,1,1,0,1\n",
       "Path: .;\n",
       "\n",
       "Test: None"
      ]
     },
     "execution_count": 57,
     "metadata": {},
     "output_type": "execute_result"
    }
   ],
   "source": [
    "data"
   ]
  },
  {
   "cell_type": "markdown",
   "metadata": {
    "id": "NbW8so22Ws5C"
   },
   "source": [
    "#### Model Building"
   ]
  },
  {
   "cell_type": "markdown",
   "metadata": {
    "id": "hm6fzxwScBAI"
   },
   "source": [
    "we will define the model architecture to pass to our Fastai learner. Essentially, we add a new final layer to the output of the RobertaModel. This layer will be trained specifically for the deceptive dataset sentiment classification."
   ]
  },
  {
   "cell_type": "code",
   "execution_count": 58,
   "metadata": {
    "id": "MdfWJcsnRDoV"
   },
   "outputs": [],
   "source": [
    "import torch.nn as nn\n",
    "from transformers import RobertaModel\n",
    "\n",
    "# defining our model architecture \n",
    "class CustomRobertaModel(nn.Module):\n",
    "    def __init__(self,num_labels=2):\n",
    "        super(CustomRobertaModel,self).__init__()\n",
    "        self.num_labels = num_labels\n",
    "        self.roberta = RobertaModel.from_pretrained(config.roberta_model_name)\n",
    "        self.dropout = nn.Dropout(config.hidden_dropout_prob)\n",
    "        self.classifier = nn.Linear(config.hidden_size, num_labels) # defining final output layer\n",
    "        \n",
    "    def forward(self, input_ids, token_type_ids=None, attention_mask=None, labels=None):\n",
    "        _ , pooled_output = self.roberta(input_ids, token_type_ids, attention_mask, return_dict=False) # \n",
    "        logits = self.classifier(pooled_output)        \n",
    "        return logits"
   ]
  },
  {
   "cell_type": "code",
   "execution_count": 59,
   "metadata": {
    "colab": {
     "base_uri": "https://localhost:8080/",
     "height": 124,
     "referenced_widgets": [
      "810c6b39590b49faaafbefd60d8621bc",
      "9ba6da06efe14a23a6fa9684e1519f3e",
      "94f4bc94a89e431d836303e75f3639cc",
      "1787411c6f964d889643bd44a619bf8d",
      "f2753ed5a2274e9cb99e3643d19bb716",
      "748ef41ff48e436d911080eca11f04a7",
      "00b386826508498ab9c73df352ea8e6e",
      "f6a0a6b9c5be47f483fadb2311f05b26",
      "3374c7243f644af5a2908074d950d43d",
      "4bee884a45a14454a950cc88b8a30564",
      "bb2cd4aa5ded4e0c95b0e8f03390b9c9"
     ]
    },
    "id": "NKcfou-HRDsc",
    "outputId": "2146cee6-7d69-479f-b429-75bd38f17172"
   },
   "outputs": [
    {
     "data": {
      "application/vnd.jupyter.widget-view+json": {
       "model_id": "810c6b39590b49faaafbefd60d8621bc",
       "version_major": 2,
       "version_minor": 0
      },
      "text/plain": [
       "Downloading:   0%|          | 0.00/501M [00:00<?, ?B/s]"
      ]
     },
     "metadata": {},
     "output_type": "display_data"
    },
    {
     "name": "stderr",
     "output_type": "stream",
     "text": [
      "Some weights of the model checkpoint at roberta-base were not used when initializing RobertaModel: ['lm_head.decoder.weight', 'lm_head.layer_norm.bias', 'lm_head.dense.bias', 'lm_head.bias', 'lm_head.dense.weight', 'lm_head.layer_norm.weight']\n",
      "- This IS expected if you are initializing RobertaModel from the checkpoint of a model trained on another task or with another architecture (e.g. initializing a BertForSequenceClassification model from a BertForPreTraining model).\n",
      "- This IS NOT expected if you are initializing RobertaModel from the checkpoint of a model that you expect to be exactly identical (initializing a BertForSequenceClassification model from a BertForSequenceClassification model).\n"
     ]
    }
   ],
   "source": [
    "#Initialize the model\n",
    "roberta_model = CustomRobertaModel(num_labels=config.num_labels)\n",
    "\n",
    "learn = Learner(data, roberta_model, metrics=[accuracy])"
   ]
  },
  {
   "cell_type": "code",
   "execution_count": 60,
   "metadata": {
    "colab": {
     "base_uri": "https://localhost:8080/",
     "height": 238
    },
    "id": "Wt5f1QlKRDwW",
    "outputId": "152ccd27-1b2f-454d-9d20-da7fa7f5c383"
   },
   "outputs": [
    {
     "data": {
      "text/html": [
       "<table border=\"1\" class=\"dataframe\">\n",
       "  <thead>\n",
       "    <tr style=\"text-align: left;\">\n",
       "      <th>epoch</th>\n",
       "      <th>train_loss</th>\n",
       "      <th>valid_loss</th>\n",
       "      <th>accuracy</th>\n",
       "      <th>time</th>\n",
       "    </tr>\n",
       "  </thead>\n",
       "  <tbody>\n",
       "    <tr>\n",
       "      <td>0</td>\n",
       "      <td>0.334418</td>\n",
       "      <td>0.473277</td>\n",
       "      <td>0.787500</td>\n",
       "      <td>06:32</td>\n",
       "    </tr>\n",
       "    <tr>\n",
       "      <td>1</td>\n",
       "      <td>0.097433</td>\n",
       "      <td>0.370803</td>\n",
       "      <td>0.871875</td>\n",
       "      <td>06:31</td>\n",
       "    </tr>\n",
       "    <tr>\n",
       "      <td>2</td>\n",
       "      <td>0.013895</td>\n",
       "      <td>0.594551</td>\n",
       "      <td>0.856250</td>\n",
       "      <td>06:32</td>\n",
       "    </tr>\n",
       "    <tr>\n",
       "      <td>3</td>\n",
       "      <td>0.002534</td>\n",
       "      <td>0.552378</td>\n",
       "      <td>0.893750</td>\n",
       "      <td>06:32</td>\n",
       "    </tr>\n",
       "    <tr>\n",
       "      <td>4</td>\n",
       "      <td>0.000340</td>\n",
       "      <td>0.663255</td>\n",
       "      <td>0.890625</td>\n",
       "      <td>06:32</td>\n",
       "    </tr>\n",
       "    <tr>\n",
       "      <td>5</td>\n",
       "      <td>0.000099</td>\n",
       "      <td>0.552632</td>\n",
       "      <td>0.909375</td>\n",
       "      <td>06:32</td>\n",
       "    </tr>\n",
       "  </tbody>\n",
       "</table>"
      ],
      "text/plain": [
       "<IPython.core.display.HTML object>"
      ]
     },
     "metadata": {},
     "output_type": "display_data"
    }
   ],
   "source": [
    "learn.model.roberta.train() # setting roberta to train as it is in eval mode by default\n",
    "learn.fit_one_cycle(config.epochs, max_lr=config.max_lr)"
   ]
  },
  {
   "cell_type": "code",
   "execution_count": 61,
   "metadata": {
    "colab": {
     "base_uri": "https://localhost:8080/"
    },
    "id": "JIQrYOZzRD3O",
    "outputId": "33474f08-f585-4fac-9579-d51cd36a1907"
   },
   "outputs": [
    {
     "data": {
      "text/plain": [
       "RobertaModel(\n",
       "  (embeddings): RobertaEmbeddings(\n",
       "    (word_embeddings): Embedding(50265, 768, padding_idx=1)\n",
       "    (position_embeddings): Embedding(514, 768, padding_idx=1)\n",
       "    (token_type_embeddings): Embedding(1, 768)\n",
       "    (LayerNorm): LayerNorm((768,), eps=1e-05, elementwise_affine=True)\n",
       "    (dropout): Dropout(p=0.1, inplace=False)\n",
       "  )\n",
       "  (encoder): RobertaEncoder(\n",
       "    (layer): ModuleList(\n",
       "      (0): RobertaLayer(\n",
       "        (attention): RobertaAttention(\n",
       "          (self): RobertaSelfAttention(\n",
       "            (query): Linear(in_features=768, out_features=768, bias=True)\n",
       "            (key): Linear(in_features=768, out_features=768, bias=True)\n",
       "            (value): Linear(in_features=768, out_features=768, bias=True)\n",
       "            (dropout): Dropout(p=0.1, inplace=False)\n",
       "          )\n",
       "          (output): RobertaSelfOutput(\n",
       "            (dense): Linear(in_features=768, out_features=768, bias=True)\n",
       "            (LayerNorm): LayerNorm((768,), eps=1e-05, elementwise_affine=True)\n",
       "            (dropout): Dropout(p=0.1, inplace=False)\n",
       "          )\n",
       "        )\n",
       "        (intermediate): RobertaIntermediate(\n",
       "          (dense): Linear(in_features=768, out_features=3072, bias=True)\n",
       "        )\n",
       "        (output): RobertaOutput(\n",
       "          (dense): Linear(in_features=3072, out_features=768, bias=True)\n",
       "          (LayerNorm): LayerNorm((768,), eps=1e-05, elementwise_affine=True)\n",
       "          (dropout): Dropout(p=0.1, inplace=False)\n",
       "        )\n",
       "      )\n",
       "      (1): RobertaLayer(\n",
       "        (attention): RobertaAttention(\n",
       "          (self): RobertaSelfAttention(\n",
       "            (query): Linear(in_features=768, out_features=768, bias=True)\n",
       "            (key): Linear(in_features=768, out_features=768, bias=True)\n",
       "            (value): Linear(in_features=768, out_features=768, bias=True)\n",
       "            (dropout): Dropout(p=0.1, inplace=False)\n",
       "          )\n",
       "          (output): RobertaSelfOutput(\n",
       "            (dense): Linear(in_features=768, out_features=768, bias=True)\n",
       "            (LayerNorm): LayerNorm((768,), eps=1e-05, elementwise_affine=True)\n",
       "            (dropout): Dropout(p=0.1, inplace=False)\n",
       "          )\n",
       "        )\n",
       "        (intermediate): RobertaIntermediate(\n",
       "          (dense): Linear(in_features=768, out_features=3072, bias=True)\n",
       "        )\n",
       "        (output): RobertaOutput(\n",
       "          (dense): Linear(in_features=3072, out_features=768, bias=True)\n",
       "          (LayerNorm): LayerNorm((768,), eps=1e-05, elementwise_affine=True)\n",
       "          (dropout): Dropout(p=0.1, inplace=False)\n",
       "        )\n",
       "      )\n",
       "      (2): RobertaLayer(\n",
       "        (attention): RobertaAttention(\n",
       "          (self): RobertaSelfAttention(\n",
       "            (query): Linear(in_features=768, out_features=768, bias=True)\n",
       "            (key): Linear(in_features=768, out_features=768, bias=True)\n",
       "            (value): Linear(in_features=768, out_features=768, bias=True)\n",
       "            (dropout): Dropout(p=0.1, inplace=False)\n",
       "          )\n",
       "          (output): RobertaSelfOutput(\n",
       "            (dense): Linear(in_features=768, out_features=768, bias=True)\n",
       "            (LayerNorm): LayerNorm((768,), eps=1e-05, elementwise_affine=True)\n",
       "            (dropout): Dropout(p=0.1, inplace=False)\n",
       "          )\n",
       "        )\n",
       "        (intermediate): RobertaIntermediate(\n",
       "          (dense): Linear(in_features=768, out_features=3072, bias=True)\n",
       "        )\n",
       "        (output): RobertaOutput(\n",
       "          (dense): Linear(in_features=3072, out_features=768, bias=True)\n",
       "          (LayerNorm): LayerNorm((768,), eps=1e-05, elementwise_affine=True)\n",
       "          (dropout): Dropout(p=0.1, inplace=False)\n",
       "        )\n",
       "      )\n",
       "      (3): RobertaLayer(\n",
       "        (attention): RobertaAttention(\n",
       "          (self): RobertaSelfAttention(\n",
       "            (query): Linear(in_features=768, out_features=768, bias=True)\n",
       "            (key): Linear(in_features=768, out_features=768, bias=True)\n",
       "            (value): Linear(in_features=768, out_features=768, bias=True)\n",
       "            (dropout): Dropout(p=0.1, inplace=False)\n",
       "          )\n",
       "          (output): RobertaSelfOutput(\n",
       "            (dense): Linear(in_features=768, out_features=768, bias=True)\n",
       "            (LayerNorm): LayerNorm((768,), eps=1e-05, elementwise_affine=True)\n",
       "            (dropout): Dropout(p=0.1, inplace=False)\n",
       "          )\n",
       "        )\n",
       "        (intermediate): RobertaIntermediate(\n",
       "          (dense): Linear(in_features=768, out_features=3072, bias=True)\n",
       "        )\n",
       "        (output): RobertaOutput(\n",
       "          (dense): Linear(in_features=3072, out_features=768, bias=True)\n",
       "          (LayerNorm): LayerNorm((768,), eps=1e-05, elementwise_affine=True)\n",
       "          (dropout): Dropout(p=0.1, inplace=False)\n",
       "        )\n",
       "      )\n",
       "      (4): RobertaLayer(\n",
       "        (attention): RobertaAttention(\n",
       "          (self): RobertaSelfAttention(\n",
       "            (query): Linear(in_features=768, out_features=768, bias=True)\n",
       "            (key): Linear(in_features=768, out_features=768, bias=True)\n",
       "            (value): Linear(in_features=768, out_features=768, bias=True)\n",
       "            (dropout): Dropout(p=0.1, inplace=False)\n",
       "          )\n",
       "          (output): RobertaSelfOutput(\n",
       "            (dense): Linear(in_features=768, out_features=768, bias=True)\n",
       "            (LayerNorm): LayerNorm((768,), eps=1e-05, elementwise_affine=True)\n",
       "            (dropout): Dropout(p=0.1, inplace=False)\n",
       "          )\n",
       "        )\n",
       "        (intermediate): RobertaIntermediate(\n",
       "          (dense): Linear(in_features=768, out_features=3072, bias=True)\n",
       "        )\n",
       "        (output): RobertaOutput(\n",
       "          (dense): Linear(in_features=3072, out_features=768, bias=True)\n",
       "          (LayerNorm): LayerNorm((768,), eps=1e-05, elementwise_affine=True)\n",
       "          (dropout): Dropout(p=0.1, inplace=False)\n",
       "        )\n",
       "      )\n",
       "      (5): RobertaLayer(\n",
       "        (attention): RobertaAttention(\n",
       "          (self): RobertaSelfAttention(\n",
       "            (query): Linear(in_features=768, out_features=768, bias=True)\n",
       "            (key): Linear(in_features=768, out_features=768, bias=True)\n",
       "            (value): Linear(in_features=768, out_features=768, bias=True)\n",
       "            (dropout): Dropout(p=0.1, inplace=False)\n",
       "          )\n",
       "          (output): RobertaSelfOutput(\n",
       "            (dense): Linear(in_features=768, out_features=768, bias=True)\n",
       "            (LayerNorm): LayerNorm((768,), eps=1e-05, elementwise_affine=True)\n",
       "            (dropout): Dropout(p=0.1, inplace=False)\n",
       "          )\n",
       "        )\n",
       "        (intermediate): RobertaIntermediate(\n",
       "          (dense): Linear(in_features=768, out_features=3072, bias=True)\n",
       "        )\n",
       "        (output): RobertaOutput(\n",
       "          (dense): Linear(in_features=3072, out_features=768, bias=True)\n",
       "          (LayerNorm): LayerNorm((768,), eps=1e-05, elementwise_affine=True)\n",
       "          (dropout): Dropout(p=0.1, inplace=False)\n",
       "        )\n",
       "      )\n",
       "      (6): RobertaLayer(\n",
       "        (attention): RobertaAttention(\n",
       "          (self): RobertaSelfAttention(\n",
       "            (query): Linear(in_features=768, out_features=768, bias=True)\n",
       "            (key): Linear(in_features=768, out_features=768, bias=True)\n",
       "            (value): Linear(in_features=768, out_features=768, bias=True)\n",
       "            (dropout): Dropout(p=0.1, inplace=False)\n",
       "          )\n",
       "          (output): RobertaSelfOutput(\n",
       "            (dense): Linear(in_features=768, out_features=768, bias=True)\n",
       "            (LayerNorm): LayerNorm((768,), eps=1e-05, elementwise_affine=True)\n",
       "            (dropout): Dropout(p=0.1, inplace=False)\n",
       "          )\n",
       "        )\n",
       "        (intermediate): RobertaIntermediate(\n",
       "          (dense): Linear(in_features=768, out_features=3072, bias=True)\n",
       "        )\n",
       "        (output): RobertaOutput(\n",
       "          (dense): Linear(in_features=3072, out_features=768, bias=True)\n",
       "          (LayerNorm): LayerNorm((768,), eps=1e-05, elementwise_affine=True)\n",
       "          (dropout): Dropout(p=0.1, inplace=False)\n",
       "        )\n",
       "      )\n",
       "      (7): RobertaLayer(\n",
       "        (attention): RobertaAttention(\n",
       "          (self): RobertaSelfAttention(\n",
       "            (query): Linear(in_features=768, out_features=768, bias=True)\n",
       "            (key): Linear(in_features=768, out_features=768, bias=True)\n",
       "            (value): Linear(in_features=768, out_features=768, bias=True)\n",
       "            (dropout): Dropout(p=0.1, inplace=False)\n",
       "          )\n",
       "          (output): RobertaSelfOutput(\n",
       "            (dense): Linear(in_features=768, out_features=768, bias=True)\n",
       "            (LayerNorm): LayerNorm((768,), eps=1e-05, elementwise_affine=True)\n",
       "            (dropout): Dropout(p=0.1, inplace=False)\n",
       "          )\n",
       "        )\n",
       "        (intermediate): RobertaIntermediate(\n",
       "          (dense): Linear(in_features=768, out_features=3072, bias=True)\n",
       "        )\n",
       "        (output): RobertaOutput(\n",
       "          (dense): Linear(in_features=3072, out_features=768, bias=True)\n",
       "          (LayerNorm): LayerNorm((768,), eps=1e-05, elementwise_affine=True)\n",
       "          (dropout): Dropout(p=0.1, inplace=False)\n",
       "        )\n",
       "      )\n",
       "      (8): RobertaLayer(\n",
       "        (attention): RobertaAttention(\n",
       "          (self): RobertaSelfAttention(\n",
       "            (query): Linear(in_features=768, out_features=768, bias=True)\n",
       "            (key): Linear(in_features=768, out_features=768, bias=True)\n",
       "            (value): Linear(in_features=768, out_features=768, bias=True)\n",
       "            (dropout): Dropout(p=0.1, inplace=False)\n",
       "          )\n",
       "          (output): RobertaSelfOutput(\n",
       "            (dense): Linear(in_features=768, out_features=768, bias=True)\n",
       "            (LayerNorm): LayerNorm((768,), eps=1e-05, elementwise_affine=True)\n",
       "            (dropout): Dropout(p=0.1, inplace=False)\n",
       "          )\n",
       "        )\n",
       "        (intermediate): RobertaIntermediate(\n",
       "          (dense): Linear(in_features=768, out_features=3072, bias=True)\n",
       "        )\n",
       "        (output): RobertaOutput(\n",
       "          (dense): Linear(in_features=3072, out_features=768, bias=True)\n",
       "          (LayerNorm): LayerNorm((768,), eps=1e-05, elementwise_affine=True)\n",
       "          (dropout): Dropout(p=0.1, inplace=False)\n",
       "        )\n",
       "      )\n",
       "      (9): RobertaLayer(\n",
       "        (attention): RobertaAttention(\n",
       "          (self): RobertaSelfAttention(\n",
       "            (query): Linear(in_features=768, out_features=768, bias=True)\n",
       "            (key): Linear(in_features=768, out_features=768, bias=True)\n",
       "            (value): Linear(in_features=768, out_features=768, bias=True)\n",
       "            (dropout): Dropout(p=0.1, inplace=False)\n",
       "          )\n",
       "          (output): RobertaSelfOutput(\n",
       "            (dense): Linear(in_features=768, out_features=768, bias=True)\n",
       "            (LayerNorm): LayerNorm((768,), eps=1e-05, elementwise_affine=True)\n",
       "            (dropout): Dropout(p=0.1, inplace=False)\n",
       "          )\n",
       "        )\n",
       "        (intermediate): RobertaIntermediate(\n",
       "          (dense): Linear(in_features=768, out_features=3072, bias=True)\n",
       "        )\n",
       "        (output): RobertaOutput(\n",
       "          (dense): Linear(in_features=3072, out_features=768, bias=True)\n",
       "          (LayerNorm): LayerNorm((768,), eps=1e-05, elementwise_affine=True)\n",
       "          (dropout): Dropout(p=0.1, inplace=False)\n",
       "        )\n",
       "      )\n",
       "      (10): RobertaLayer(\n",
       "        (attention): RobertaAttention(\n",
       "          (self): RobertaSelfAttention(\n",
       "            (query): Linear(in_features=768, out_features=768, bias=True)\n",
       "            (key): Linear(in_features=768, out_features=768, bias=True)\n",
       "            (value): Linear(in_features=768, out_features=768, bias=True)\n",
       "            (dropout): Dropout(p=0.1, inplace=False)\n",
       "          )\n",
       "          (output): RobertaSelfOutput(\n",
       "            (dense): Linear(in_features=768, out_features=768, bias=True)\n",
       "            (LayerNorm): LayerNorm((768,), eps=1e-05, elementwise_affine=True)\n",
       "            (dropout): Dropout(p=0.1, inplace=False)\n",
       "          )\n",
       "        )\n",
       "        (intermediate): RobertaIntermediate(\n",
       "          (dense): Linear(in_features=768, out_features=3072, bias=True)\n",
       "        )\n",
       "        (output): RobertaOutput(\n",
       "          (dense): Linear(in_features=3072, out_features=768, bias=True)\n",
       "          (LayerNorm): LayerNorm((768,), eps=1e-05, elementwise_affine=True)\n",
       "          (dropout): Dropout(p=0.1, inplace=False)\n",
       "        )\n",
       "      )\n",
       "      (11): RobertaLayer(\n",
       "        (attention): RobertaAttention(\n",
       "          (self): RobertaSelfAttention(\n",
       "            (query): Linear(in_features=768, out_features=768, bias=True)\n",
       "            (key): Linear(in_features=768, out_features=768, bias=True)\n",
       "            (value): Linear(in_features=768, out_features=768, bias=True)\n",
       "            (dropout): Dropout(p=0.1, inplace=False)\n",
       "          )\n",
       "          (output): RobertaSelfOutput(\n",
       "            (dense): Linear(in_features=768, out_features=768, bias=True)\n",
       "            (LayerNorm): LayerNorm((768,), eps=1e-05, elementwise_affine=True)\n",
       "            (dropout): Dropout(p=0.1, inplace=False)\n",
       "          )\n",
       "        )\n",
       "        (intermediate): RobertaIntermediate(\n",
       "          (dense): Linear(in_features=768, out_features=3072, bias=True)\n",
       "        )\n",
       "        (output): RobertaOutput(\n",
       "          (dense): Linear(in_features=3072, out_features=768, bias=True)\n",
       "          (LayerNorm): LayerNorm((768,), eps=1e-05, elementwise_affine=True)\n",
       "          (dropout): Dropout(p=0.1, inplace=False)\n",
       "        )\n",
       "      )\n",
       "    )\n",
       "  )\n",
       "  (pooler): RobertaPooler(\n",
       "    (dense): Linear(in_features=768, out_features=768, bias=True)\n",
       "    (activation): Tanh()\n",
       "  )\n",
       ")"
      ]
     },
     "execution_count": 61,
     "metadata": {},
     "output_type": "execute_result"
    }
   ],
   "source": [
    "learn.model.roberta.eval()"
   ]
  },
  {
   "cell_type": "code",
   "execution_count": 62,
   "metadata": {
    "colab": {
     "base_uri": "https://localhost:8080/",
     "height": 467
    },
    "id": "0Q4iMrslRD6c",
    "outputId": "292b7be4-aa7d-40f9-f100-8c64ac22c289"
   },
   "outputs": [
    {
     "data": {
      "text/html": [
       "<table border=\"1\" class=\"dataframe\">\n",
       "  <thead>\n",
       "    <tr style=\"text-align: right;\">\n",
       "      <th>text</th>\n",
       "      <th>target</th>\n",
       "      <th>prediction</th>\n",
       "    </tr>\n",
       "  </thead>\n",
       "  <tbody>\n",
       "    <tr>\n",
       "      <td>&lt;s&gt; THE ĠRO OM ĠI Ġbooked Ġa Ġroom Ġhere Ġand Ġwas Ġtold ĠI Ġd Ġbe Ġgetting Ġa Ġking Ġbed ĠWhen ĠI Ġcheck Ġin Ġthey Ġsay Ġthey Ġonly Ġhave Ġa Ġqueen Ġbed Ġroom Ġavailable ĠI Ġprotested Ġto Ġno Ġavail ĠWhen ĠI Ġgot Ġto Ġthe Ġroom Ġit Ġwas Ġreally Ġonly Ġa Ġfull Ġsize Ġbed ĠSo ĠI Ġwent Ġfrom Ġfrom Ġa Ġking Ġbed Ġat Ġhome Ġto Ġa Ġfull Ġsize Ġbed Ġin Ġa Ġtiny</td>\n",
       "      <td>1</td>\n",
       "      <td>1</td>\n",
       "    </tr>\n",
       "    <tr>\n",
       "      <td>&lt;s&gt; My Ġwife Ġand ĠI Ġs Ġstay Ġat Ġthe ĠSher aton ĠChicago ĠHotel Ġand ĠTowers Ġproved Ġto Ġbe Ġthe Ġperfect Ġcomplement Ġto Ġour Ġtime Ġspent Ġvisiting Ġand Ġexploring Ġthe ĠWind y ĠCity ĠUpon Ġour Ġarrival Ġwe Ġwere Ġimmediately Ġwelcomed Ġby Ġthe Ġbeautiful Ġdesign Ġof Ġthe Ġfirst Ġfloor Ġlobby Ġand Ġthe Ġfriendly Ġdemeanor Ġof Ġthe Ġdesk Ġand Ġbell Ġservice Ġstaff ĠIn Ġseemingly Ġno Ġtime Ġat Ġall Ġwe Ġwere Ġin Ġour Ġclean</td>\n",
       "      <td>0</td>\n",
       "      <td>0</td>\n",
       "    </tr>\n",
       "    <tr>\n",
       "      <td>&lt;s&gt; I Ġll Ġkeep Ġit Ġshort ĠMy Ġwife Ġdaughter Ġand ĠI Ġstayed Ġat Ġthis Ġhotel Ġfor Ġnights ĠWe Ġgo Ġon Ġseveral Ġvacations Ġa Ġyear Ġand Ġthis Ġwas Ġa Ġgreat Ġhotel ĠLocation ĠIt Ġis Ġlocated Ġin Ġthe Ġcenter Ġof Ġthe ĠMagn ificent ĠMile Ġso Ġit Ġis Ġnear Ġor Ġeasily Ġaccessible Ġto Ġeverything Ġyou Ġmight Ġwant Ġto Ġdo ĠHotel ĠThe Ġhotel Ġitself Ġis Ġvery Ġclean Ġas Ġwere Ġthe Ġrooms ĠMaid Ġservice Ġwas</td>\n",
       "      <td>1</td>\n",
       "      <td>1</td>\n",
       "    </tr>\n",
       "    <tr>\n",
       "      <td>&lt;s&gt; I Ġwas Ġvery Ġdisappointed Ġwith Ġthis Ġhotel ĠThe Ġfront Ġdesk Ġclerk Ġwas Ġrude Ġshe Ġwas Ġon Ġa Ġpersonal Ġcall Ġand Ġtook Ġmins Ġto Ġget Ġoff Ġthe Ġphone ĠWhen ĠI Ġarrived Ġin Ġthe Ġroom Ġthe Ġbed Ġwasn Ġt Ġmade Ġfrom Ġthe Ġlast Ġguest Ġand Ġall Ġthe Ġtowels Ġwere Ġdirty ĠI Ġcalled Ġdown Ġto Ġthe Ġfront Ġdesk Ġand Ġshe Ġmade Ġme Ġcome Ġback Ġdown Ġfrom Ġthe Ġtwelve th Ġfloor Ġfor Ġa</td>\n",
       "      <td>0</td>\n",
       "      <td>0</td>\n",
       "    </tr>\n",
       "    <tr>\n",
       "      <td>&lt;s&gt; I Ġgot Ġa ĠSunday Ġnight Ġstay Ġfor Ġonly Ġoff Ġof ĠPric eline Ġcom Ġso Ġit Ġwould Ġbe Ġhard Ġto Ġcomplain Ġbut Ġthis Ġwas Ġtruly Ġa Ġgreat Ġhotel Ġeven Ġif ĠI Ġpaid Ġdouble ĠThe Ġfirst Ġimpression Ġyou Ġget Ġwhen Ġyou Ġwalk Ġthrough Ġthe Ġsliding Ġdoors Ġof Ġthe ĠHy att ĠReg ency ĠChicago Ġis ĠW OW ĠThe Ġlobby Ġis Ġbeautiful Ġwith Ġa Ġupscale Ġmall Ġtype Ġof Ġlook Ġto Ġit Ġwith Ġan</td>\n",
       "      <td>1</td>\n",
       "      <td>1</td>\n",
       "    </tr>\n",
       "  </tbody>\n",
       "</table>"
      ],
      "text/plain": [
       "<IPython.core.display.HTML object>"
      ]
     },
     "metadata": {},
     "output_type": "display_data"
    }
   ],
   "source": [
    "learn.show_results()"
   ]
  },
  {
   "cell_type": "code",
   "execution_count": 63,
   "metadata": {
    "colab": {
     "base_uri": "https://localhost:8080/",
     "height": 17
    },
    "id": "CWiSj0KZRD-Q",
    "outputId": "93014f41-1c00-47e0-85f3-a9d8c9c37426"
   },
   "outputs": [
    {
     "data": {
      "text/html": [],
      "text/plain": [
       "<IPython.core.display.HTML object>"
      ]
     },
     "metadata": {},
     "output_type": "display_data"
    }
   ],
   "source": [
    "preds, target = learn.get_preds()"
   ]
  },
  {
   "cell_type": "code",
   "execution_count": 64,
   "metadata": {
    "colab": {
     "base_uri": "https://localhost:8080/"
    },
    "id": "KZfdspSYRECV",
    "outputId": "fe96f069-f932-4f10-8d15-c413cde9be13"
   },
   "outputs": [
    {
     "data": {
      "text/plain": [
       "tensor([[8.5790e-03, 9.9142e-01],\n",
       "        [9.9998e-01, 2.4702e-05],\n",
       "        [4.6376e-05, 9.9995e-01],\n",
       "        [9.9994e-01, 6.3608e-05],\n",
       "        [5.9313e-05, 9.9994e-01],\n",
       "        [6.1938e-01, 3.8062e-01],\n",
       "        [9.9997e-01, 3.1887e-05],\n",
       "        [3.5865e-05, 9.9996e-01],\n",
       "        [4.9961e-04, 9.9950e-01],\n",
       "        [3.6611e-01, 6.3389e-01],\n",
       "        [9.9997e-01, 3.3215e-05],\n",
       "        [2.9569e-05, 9.9997e-01],\n",
       "        [9.9996e-01, 4.0847e-05],\n",
       "        [9.9997e-01, 2.9679e-05],\n",
       "        [9.9997e-01, 3.2484e-05],\n",
       "        [9.9996e-01, 3.6232e-05],\n",
       "        [2.8218e-05, 9.9997e-01],\n",
       "        [9.9997e-01, 2.8545e-05],\n",
       "        [6.9183e-05, 9.9993e-01],\n",
       "        [9.9984e-01, 1.6052e-04],\n",
       "        [9.9997e-01, 2.8134e-05],\n",
       "        [9.9995e-01, 4.6553e-05],\n",
       "        [2.5080e-05, 9.9997e-01],\n",
       "        [9.9998e-01, 2.4231e-05],\n",
       "        [6.4300e-05, 9.9994e-01],\n",
       "        [9.9997e-01, 3.1738e-05],\n",
       "        [9.9997e-01, 2.5711e-05],\n",
       "        [9.9997e-01, 2.6883e-05],\n",
       "        [9.9996e-01, 3.7355e-05],\n",
       "        [9.9995e-01, 5.3010e-05],\n",
       "        [9.9998e-01, 2.4553e-05],\n",
       "        [9.9997e-01, 2.6252e-05],\n",
       "        [6.0397e-05, 9.9994e-01],\n",
       "        [4.0604e-05, 9.9996e-01],\n",
       "        [1.3707e-04, 9.9986e-01],\n",
       "        [9.9997e-01, 2.6658e-05],\n",
       "        [9.9997e-01, 3.0615e-05],\n",
       "        [9.9984e-01, 1.5783e-04],\n",
       "        [9.9997e-01, 2.8379e-05],\n",
       "        [6.6387e-05, 9.9993e-01],\n",
       "        [9.9997e-01, 2.8043e-05],\n",
       "        [3.9981e-05, 9.9996e-01],\n",
       "        [5.1791e-03, 9.9482e-01],\n",
       "        [9.9996e-01, 3.8999e-05],\n",
       "        [2.8582e-05, 9.9997e-01],\n",
       "        [9.9997e-01, 3.4945e-05],\n",
       "        [9.9997e-01, 2.6078e-05],\n",
       "        [3.7484e-05, 9.9996e-01],\n",
       "        [9.9991e-01, 9.3689e-05],\n",
       "        [4.2276e-05, 9.9996e-01],\n",
       "        [3.0066e-05, 9.9997e-01],\n",
       "        [9.9997e-01, 2.6697e-05],\n",
       "        [9.9997e-01, 2.5921e-05],\n",
       "        [3.8571e-05, 9.9996e-01],\n",
       "        [2.5129e-05, 9.9997e-01],\n",
       "        [4.0069e-05, 9.9996e-01],\n",
       "        [2.7064e-05, 9.9997e-01],\n",
       "        [9.9997e-01, 2.9551e-05],\n",
       "        [9.9997e-01, 2.6378e-05],\n",
       "        [9.9997e-01, 2.9376e-05],\n",
       "        [3.0245e-04, 9.9970e-01],\n",
       "        [9.9997e-01, 2.7501e-05],\n",
       "        [6.0243e-05, 9.9994e-01],\n",
       "        [9.9995e-01, 4.8863e-05],\n",
       "        [9.9997e-01, 3.4364e-05],\n",
       "        [9.9997e-01, 3.2561e-05],\n",
       "        [2.2145e-02, 9.7786e-01],\n",
       "        [9.9997e-01, 2.8624e-05],\n",
       "        [1.5179e-04, 9.9985e-01],\n",
       "        [9.9996e-01, 4.2363e-05],\n",
       "        [2.9109e-05, 9.9997e-01],\n",
       "        [9.9997e-01, 3.3030e-05],\n",
       "        [9.9997e-01, 2.9085e-05],\n",
       "        [5.2798e-05, 9.9995e-01],\n",
       "        [3.9092e-05, 9.9996e-01],\n",
       "        [3.4017e-05, 9.9997e-01],\n",
       "        [2.8568e-05, 9.9997e-01],\n",
       "        [2.9471e-05, 9.9997e-01],\n",
       "        [9.9997e-01, 2.9979e-05],\n",
       "        [9.9988e-01, 1.2187e-04],\n",
       "        [3.1760e-05, 9.9997e-01],\n",
       "        [9.9997e-01, 2.9835e-05],\n",
       "        [6.2831e-05, 9.9994e-01],\n",
       "        [9.9997e-01, 3.1378e-05],\n",
       "        [9.9997e-01, 2.5151e-05],\n",
       "        [4.1666e-05, 9.9996e-01],\n",
       "        [6.1996e-05, 9.9994e-01],\n",
       "        [9.9997e-01, 3.1465e-05],\n",
       "        [9.9931e-01, 6.8701e-04],\n",
       "        [9.9995e-01, 5.4894e-05],\n",
       "        [9.9748e-01, 2.5235e-03],\n",
       "        [1.4094e-04, 9.9986e-01],\n",
       "        [9.9997e-01, 2.8741e-05],\n",
       "        [9.9854e-01, 1.4556e-03],\n",
       "        [2.6215e-05, 9.9997e-01],\n",
       "        [2.7078e-05, 9.9997e-01],\n",
       "        [9.9997e-01, 2.6639e-05],\n",
       "        [3.8373e-05, 9.9996e-01],\n",
       "        [9.9345e-01, 6.5544e-03],\n",
       "        [2.5158e-05, 9.9997e-01],\n",
       "        [3.7444e-05, 9.9996e-01],\n",
       "        [3.6639e-05, 9.9996e-01],\n",
       "        [9.9997e-01, 2.7273e-05],\n",
       "        [3.8673e-05, 9.9996e-01],\n",
       "        [4.0852e-01, 5.9148e-01],\n",
       "        [6.5121e-04, 9.9935e-01],\n",
       "        [3.0364e-02, 9.6964e-01],\n",
       "        [9.9997e-01, 3.0548e-05],\n",
       "        [3.8914e-05, 9.9996e-01],\n",
       "        [9.6287e-05, 9.9990e-01],\n",
       "        [9.9926e-01, 7.3818e-04],\n",
       "        [2.5006e-05, 9.9997e-01],\n",
       "        [9.9997e-01, 3.1183e-05],\n",
       "        [3.6056e-04, 9.9964e-01],\n",
       "        [9.9989e-01, 1.0759e-04],\n",
       "        [2.6114e-05, 9.9997e-01],\n",
       "        [9.9995e-01, 4.6835e-05],\n",
       "        [9.9995e-01, 5.1211e-05],\n",
       "        [9.9997e-01, 2.6580e-05],\n",
       "        [5.6209e-05, 9.9994e-01],\n",
       "        [2.7888e-05, 9.9997e-01],\n",
       "        [2.1824e-04, 9.9978e-01],\n",
       "        [9.9996e-01, 3.6177e-05],\n",
       "        [2.9202e-04, 9.9971e-01],\n",
       "        [7.1071e-05, 9.9993e-01],\n",
       "        [9.9997e-01, 2.9141e-05],\n",
       "        [4.1117e-04, 9.9959e-01],\n",
       "        [9.9997e-01, 2.8825e-05],\n",
       "        [3.1205e-05, 9.9997e-01],\n",
       "        [9.9997e-01, 2.7368e-05],\n",
       "        [9.9996e-01, 3.6277e-05],\n",
       "        [3.2950e-05, 9.9997e-01],\n",
       "        [2.7191e-05, 9.9997e-01],\n",
       "        [9.9619e-01, 3.8144e-03],\n",
       "        [9.9997e-01, 2.8333e-05],\n",
       "        [1.4285e-03, 9.9857e-01],\n",
       "        [9.9997e-01, 2.9622e-05],\n",
       "        [9.9997e-01, 2.5175e-05],\n",
       "        [7.0211e-04, 9.9930e-01],\n",
       "        [9.9998e-01, 2.4536e-05],\n",
       "        [4.5359e-05, 9.9995e-01],\n",
       "        [3.2913e-05, 9.9997e-01],\n",
       "        [9.9997e-01, 3.1482e-05],\n",
       "        [1.0163e-04, 9.9990e-01],\n",
       "        [9.9997e-01, 2.9482e-05],\n",
       "        [9.9997e-01, 2.9177e-05],\n",
       "        [9.9997e-01, 2.9913e-05],\n",
       "        [9.9997e-01, 2.9482e-05],\n",
       "        [2.9708e-05, 9.9997e-01],\n",
       "        [9.9996e-01, 4.4462e-05],\n",
       "        [9.9997e-01, 2.9676e-05],\n",
       "        [9.1448e-05, 9.9991e-01],\n",
       "        [3.1743e-05, 9.9997e-01],\n",
       "        [3.0221e-02, 9.6978e-01],\n",
       "        [9.9997e-01, 2.8152e-05],\n",
       "        [3.2243e-05, 9.9997e-01],\n",
       "        [2.6701e-05, 9.9997e-01],\n",
       "        [9.9997e-01, 2.7062e-05],\n",
       "        [9.9997e-01, 2.7977e-05],\n",
       "        [9.9997e-01, 2.9394e-05],\n",
       "        [2.8391e-05, 9.9997e-01],\n",
       "        [9.9997e-01, 3.1948e-05],\n",
       "        [3.2419e-05, 9.9997e-01],\n",
       "        [9.8453e-01, 1.5474e-02],\n",
       "        [9.9994e-01, 6.3086e-05],\n",
       "        [9.9995e-01, 5.1764e-05],\n",
       "        [9.9996e-01, 3.7292e-05],\n",
       "        [9.9997e-01, 2.6421e-05],\n",
       "        [9.9997e-01, 3.2718e-05],\n",
       "        [9.9997e-01, 3.0767e-05],\n",
       "        [9.9997e-01, 2.5408e-05],\n",
       "        [6.6220e-05, 9.9993e-01],\n",
       "        [2.9133e-05, 9.9997e-01],\n",
       "        [7.1618e-03, 9.9284e-01],\n",
       "        [3.2715e-05, 9.9997e-01],\n",
       "        [9.9985e-01, 1.5217e-04],\n",
       "        [3.1291e-05, 9.9997e-01],\n",
       "        [9.9997e-01, 2.8720e-05],\n",
       "        [3.6229e-05, 9.9996e-01],\n",
       "        [9.9996e-01, 3.5220e-05],\n",
       "        [2.7810e-05, 9.9997e-01],\n",
       "        [2.6131e-05, 9.9997e-01],\n",
       "        [9.9997e-01, 2.7282e-05],\n",
       "        [9.2036e-01, 7.9639e-02],\n",
       "        [4.0784e-05, 9.9996e-01],\n",
       "        [2.4626e-01, 7.5374e-01],\n",
       "        [9.9994e-01, 5.9215e-05],\n",
       "        [9.9997e-01, 2.9140e-05],\n",
       "        [9.9780e-01, 2.1979e-03],\n",
       "        [9.9997e-01, 2.6656e-05],\n",
       "        [9.9989e-01, 1.0784e-04],\n",
       "        [9.9997e-01, 2.8789e-05],\n",
       "        [8.9826e-04, 9.9910e-01],\n",
       "        [2.7073e-05, 9.9997e-01],\n",
       "        [9.9997e-01, 2.6523e-05],\n",
       "        [2.4502e-05, 9.9998e-01],\n",
       "        [9.9996e-01, 3.6058e-05],\n",
       "        [6.4099e-05, 9.9994e-01],\n",
       "        [2.6780e-05, 9.9997e-01],\n",
       "        [9.9997e-01, 2.5080e-05],\n",
       "        [1.0192e-04, 9.9990e-01],\n",
       "        [3.2027e-05, 9.9997e-01],\n",
       "        [4.8419e-05, 9.9995e-01],\n",
       "        [2.7505e-05, 9.9997e-01],\n",
       "        [5.9205e-05, 9.9994e-01],\n",
       "        [9.9978e-01, 2.2358e-04],\n",
       "        [1.1979e-02, 9.8802e-01],\n",
       "        [1.5285e-04, 9.9985e-01],\n",
       "        [9.9997e-01, 2.8404e-05],\n",
       "        [9.9994e-01, 5.6851e-05],\n",
       "        [5.6390e-01, 4.3610e-01],\n",
       "        [9.9997e-01, 2.8749e-05],\n",
       "        [9.9996e-01, 3.7595e-05],\n",
       "        [2.6530e-05, 9.9997e-01],\n",
       "        [1.7584e-04, 9.9982e-01],\n",
       "        [8.2311e-02, 9.1769e-01],\n",
       "        [9.9997e-01, 2.7514e-05],\n",
       "        [6.0026e-01, 3.9974e-01],\n",
       "        [9.9994e-01, 5.8431e-05],\n",
       "        [1.0544e-04, 9.9989e-01],\n",
       "        [9.0079e-01, 9.9211e-02],\n",
       "        [1.2214e-02, 9.8779e-01],\n",
       "        [9.9995e-01, 4.9073e-05],\n",
       "        [5.8202e-04, 9.9942e-01],\n",
       "        [9.9997e-01, 3.3269e-05],\n",
       "        [9.9997e-01, 2.7595e-05],\n",
       "        [9.9997e-01, 3.4981e-05],\n",
       "        [9.9997e-01, 2.8962e-05],\n",
       "        [9.9996e-01, 3.7922e-05],\n",
       "        [3.8441e-05, 9.9996e-01],\n",
       "        [7.0133e-05, 9.9993e-01],\n",
       "        [2.7271e-05, 9.9997e-01],\n",
       "        [1.7522e-04, 9.9982e-01],\n",
       "        [9.9993e-01, 7.0569e-05],\n",
       "        [3.7270e-05, 9.9996e-01],\n",
       "        [5.3932e-05, 9.9995e-01],\n",
       "        [9.9996e-01, 4.0657e-05],\n",
       "        [4.9674e-04, 9.9950e-01],\n",
       "        [9.9997e-01, 3.3419e-05],\n",
       "        [6.3290e-04, 9.9937e-01],\n",
       "        [9.9988e-01, 1.1976e-04],\n",
       "        [9.9976e-01, 2.4444e-04],\n",
       "        [3.8104e-05, 9.9996e-01],\n",
       "        [9.9996e-01, 3.8184e-05],\n",
       "        [9.9995e-01, 5.2175e-05],\n",
       "        [9.9997e-01, 2.6368e-05],\n",
       "        [7.0546e-05, 9.9993e-01],\n",
       "        [9.2154e-01, 7.8461e-02],\n",
       "        [9.9997e-01, 2.6457e-05],\n",
       "        [3.9050e-05, 9.9996e-01],\n",
       "        [9.9963e-01, 3.7004e-04],\n",
       "        [9.9993e-01, 7.4661e-05],\n",
       "        [9.9997e-01, 2.8957e-05],\n",
       "        [3.6769e-05, 9.9996e-01],\n",
       "        [9.9782e-01, 2.1841e-03],\n",
       "        [3.9871e-05, 9.9996e-01],\n",
       "        [9.9995e-01, 4.7202e-05],\n",
       "        [3.4831e-01, 6.5169e-01],\n",
       "        [4.7134e-05, 9.9995e-01],\n",
       "        [1.2029e-04, 9.9988e-01],\n",
       "        [1.4790e-03, 9.9852e-01],\n",
       "        [5.9346e-01, 4.0654e-01],\n",
       "        [9.9996e-01, 3.5293e-05],\n",
       "        [9.9997e-01, 3.4854e-05],\n",
       "        [5.2532e-05, 9.9995e-01],\n",
       "        [5.9362e-04, 9.9941e-01],\n",
       "        [5.3914e-04, 9.9946e-01],\n",
       "        [9.9997e-01, 2.9890e-05],\n",
       "        [9.9997e-01, 3.1272e-05],\n",
       "        [1.3312e-03, 9.9867e-01],\n",
       "        [9.9997e-01, 3.3912e-05],\n",
       "        [9.9996e-01, 4.0624e-05],\n",
       "        [9.9978e-01, 2.2142e-04],\n",
       "        [9.9996e-01, 4.3753e-05],\n",
       "        [4.2682e-03, 9.9573e-01],\n",
       "        [9.9996e-01, 3.8220e-05],\n",
       "        [9.9997e-01, 3.0157e-05],\n",
       "        [9.9997e-01, 2.5382e-05],\n",
       "        [3.2019e-04, 9.9968e-01],\n",
       "        [4.9933e-05, 9.9995e-01],\n",
       "        [9.4717e-01, 5.2830e-02],\n",
       "        [9.4720e-05, 9.9991e-01],\n",
       "        [9.5468e-01, 4.5323e-02],\n",
       "        [2.9004e-05, 9.9997e-01],\n",
       "        [9.9996e-01, 3.7325e-05],\n",
       "        [3.1678e-05, 9.9997e-01],\n",
       "        [9.0307e-01, 9.6933e-02],\n",
       "        [1.3517e-02, 9.8648e-01],\n",
       "        [9.9994e-01, 6.4018e-05],\n",
       "        [3.3010e-05, 9.9997e-01],\n",
       "        [9.9994e-01, 6.4681e-05],\n",
       "        [9.9997e-01, 3.0103e-05],\n",
       "        [1.1611e-04, 9.9988e-01],\n",
       "        [9.8973e-01, 1.0268e-02],\n",
       "        [3.1429e-05, 9.9997e-01],\n",
       "        [6.2365e-05, 9.9994e-01],\n",
       "        [9.9996e-01, 3.7297e-05],\n",
       "        [1.7132e-04, 9.9983e-01],\n",
       "        [9.9997e-01, 3.0684e-05],\n",
       "        [9.9942e-01, 5.8299e-04],\n",
       "        [2.9790e-05, 9.9997e-01],\n",
       "        [4.5391e-01, 5.4609e-01],\n",
       "        [9.9967e-01, 3.3043e-04],\n",
       "        [9.9983e-01, 1.6755e-04],\n",
       "        [2.9987e-05, 9.9997e-01],\n",
       "        [3.9236e-05, 9.9996e-01],\n",
       "        [9.9987e-01, 1.3126e-04],\n",
       "        [6.3695e-05, 9.9994e-01],\n",
       "        [9.9997e-01, 3.2563e-05],\n",
       "        [9.9996e-01, 4.4434e-05],\n",
       "        [4.6821e-03, 9.9532e-01],\n",
       "        [9.9996e-01, 4.4634e-05],\n",
       "        [9.9996e-01, 4.2755e-05],\n",
       "        [9.9996e-01, 3.7974e-05],\n",
       "        [9.9996e-01, 3.8141e-05],\n",
       "        [9.9992e-01, 8.3867e-05],\n",
       "        [9.9996e-01, 4.3651e-05],\n",
       "        [3.1480e-05, 9.9997e-01],\n",
       "        [9.9990e-01, 1.0318e-04],\n",
       "        [9.9635e-01, 3.6494e-03]])"
      ]
     },
     "execution_count": 64,
     "metadata": {},
     "output_type": "execute_result"
    }
   ],
   "source": [
    "preds"
   ]
  },
  {
   "cell_type": "code",
   "execution_count": 65,
   "metadata": {
    "colab": {
     "base_uri": "https://localhost:8080/"
    },
    "id": "9sb5_-LvREGF",
    "outputId": "2eae5f23-d7ff-4491-bbbf-6a8abea1c444"
   },
   "outputs": [
    {
     "data": {
      "text/plain": [
       "tensor([1, 0, 1, 0, 1, 1, 0, 1, 1, 1, 0, 1, 1, 0, 0, 0, 1, 0, 1, 0, 0, 0, 1, 0,\n",
       "        1, 0, 0, 0, 1, 1, 0, 0, 1, 1, 1, 0, 0, 0, 0, 1, 0, 1, 0, 0, 1, 0, 0, 1,\n",
       "        0, 1, 1, 0, 0, 1, 1, 1, 1, 0, 0, 0, 1, 0, 1, 0, 0, 0, 1, 0, 1, 0, 1, 0,\n",
       "        0, 1, 1, 1, 1, 1, 0, 0, 1, 0, 1, 0, 0, 1, 1, 0, 0, 1, 0, 1, 0, 1, 1, 1,\n",
       "        0, 1, 1, 1, 1, 1, 0, 1, 1, 1, 1, 0, 0, 1, 0, 1, 0, 1, 1, 1, 0, 0, 0, 1,\n",
       "        1, 1, 0, 1, 1, 0, 1, 0, 1, 0, 0, 1, 1, 0, 0, 1, 0, 0, 1, 0, 1, 1, 0, 1,\n",
       "        0, 0, 0, 0, 1, 0, 0, 1, 1, 1, 0, 1, 1, 0, 0, 0, 1, 0, 1, 1, 0, 0, 0, 0,\n",
       "        1, 0, 0, 1, 1, 1, 1, 0, 1, 0, 1, 0, 1, 1, 0, 1, 1, 0, 0, 0, 0, 0, 0, 0,\n",
       "        0, 1, 0, 1, 0, 1, 1, 0, 1, 1, 1, 1, 1, 0, 1, 1, 0, 1, 1, 0, 0, 1, 1, 1,\n",
       "        0, 1, 1, 1, 0, 1, 0, 1, 0, 0, 0, 0, 0, 1, 1, 1, 1, 0, 1, 1, 0, 1, 0, 1,\n",
       "        0, 0, 1, 0, 0, 0, 1, 1, 0, 1, 0, 1, 0, 1, 0, 1, 0, 1, 1, 1, 1, 0, 0, 0,\n",
       "        1, 0, 1, 0, 0, 1, 0, 0, 0, 0, 0, 0, 0, 0, 1, 1, 1, 1, 1, 1, 0, 1, 1, 0,\n",
       "        0, 1, 0, 0, 1, 1, 1, 1, 0, 1, 0, 0, 1, 1, 1, 0, 1, 1, 0, 1, 0, 0, 1, 0,\n",
       "        0, 0, 0, 0, 0, 1, 0, 0])"
      ]
     },
     "execution_count": 65,
     "metadata": {},
     "output_type": "execute_result"
    }
   ],
   "source": [
    "target"
   ]
  },
  {
   "cell_type": "code",
   "execution_count": 66,
   "metadata": {
    "colab": {
     "base_uri": "https://localhost:8080/",
     "height": 17
    },
    "id": "YrBW9YKmREJH",
    "outputId": "388ee26b-46ab-4b1a-958c-742bb8fccab2"
   },
   "outputs": [
    {
     "data": {
      "text/html": [],
      "text/plain": [
       "<IPython.core.display.HTML object>"
      ]
     },
     "metadata": {},
     "output_type": "display_data"
    }
   ],
   "source": [
    "interpretations = ClassificationInterpretation.from_learner(learn)"
   ]
  },
  {
   "cell_type": "code",
   "execution_count": 67,
   "metadata": {
    "colab": {
     "base_uri": "https://localhost:8080/",
     "height": 311
    },
    "id": "4h-K53GCREMO",
    "outputId": "a3067477-ebb2-4d09-c9d7-9d361f7e10af"
   },
   "outputs": [
    {
     "data": {
      "image/png": "[encoded data removed]",
      "text/plain": [
       "<Figure size 432x288 with 1 Axes>"
      ]
     },
     "metadata": {
      "needs_background": "light"
     },
     "output_type": "display_data"
    }
   ],
   "source": [
    "interpretations.plot_confusion_matrix()"
   ]
  },
  {
   "cell_type": "markdown",
   "metadata": {
    "id": "bv94pJyGcdsP"
   },
   "source": [
    "### Conclusion: Roberta model gives us 91% accuracy"
   ]
  },
  {
   "cell_type": "code",
   "execution_count": 68,
   "metadata": {
    "id": "sVvMMPrYREPl"
   },
   "outputs": [],
   "source": [
    "y_test = list(target.numpy())\n",
    "y_pred = preds.numpy()[:,1]"
   ]
  },
  {
   "cell_type": "code",
   "execution_count": 69,
   "metadata": {
    "colab": {
     "base_uri": "https://localhost:8080/"
    },
    "id": "RnUaD1XxRETj",
    "outputId": "87014391-f578-4d99-c20f-390268275ca0"
   },
   "outputs": [
    {
     "data": {
      "text/plain": [
       "0.973203125"
      ]
     },
     "execution_count": 69,
     "metadata": {},
     "output_type": "execute_result"
    }
   ],
   "source": [
    "import matplotlib.pyplot as plt \n",
    "from sklearn.metrics import roc_curve, auc\n",
    "fpr, tpr, thresholds = roc_curve(y_test, y_pred)\n",
    "auc_score = auc(fpr, tpr)\n",
    "auc_score"
   ]
  },
  {
   "cell_type": "code",
   "execution_count": 70,
   "metadata": {
    "colab": {
     "base_uri": "https://localhost:8080/",
     "height": 313
    },
    "id": "JBh9NpbgR0N-",
    "outputId": "76607d3d-06df-4427-9bab-af8d8bf448d9"
   },
   "outputs": [
    {
     "data": {
      "image/png": "[encoded data removed]",
      "text/plain": [
       "<Figure size 432x288 with 1 Axes>"
      ]
     },
     "metadata": {
      "needs_background": "light"
     },
     "output_type": "display_data"
    },
    {
     "data": {
      "text/plain": [
       "<Figure size 432x288 with 0 Axes>"
      ]
     },
     "metadata": {},
     "output_type": "display_data"
    }
   ],
   "source": [
    "plt.plot([0,1], [0, 1], 'k--')\n",
    "plt.plot(fpr, tpr, label = 'Area = {:.3f}'.format(auc_score))\n",
    "plt.xlabel('False positive rate')\n",
    "plt.ylabel('True positive rate')\n",
    "plt.title('ROC curve of RoBERTa')\n",
    "plt.legend(loc='best')\n",
    "plt.show()\n",
    "plt.savefig('binary.png')"
   ]
  },
  {
   "cell_type": "markdown",
   "metadata": {
    "id": "CDn2ito8TT_L"
   },
   "source": [
    "### MODEL EVALUATION"
   ]
  },
  {
   "cell_type": "markdown",
   "metadata": {
    "id": "d4kYC1AGTJk7"
   },
   "source": [
    "tensor(0) is deceptive and \n",
    "tensor(1) is truthful"
   ]
  },
  {
   "cell_type": "code",
   "execution_count": 71,
   "metadata": {
    "colab": {
     "base_uri": "https://localhost:8080/"
    },
    "id": "T7GgB_MNR0c_",
    "outputId": "a3d42f19-03b3-45a3-cfb9-cc0c7e18ae57"
   },
   "outputs": [
    {
     "data": {
      "text/plain": [
       "(Category tensor(0), tensor(0), tensor([9.9981e-01, 1.9156e-04]))"
      ]
     },
     "execution_count": 71,
     "metadata": {},
     "output_type": "execute_result"
    }
   ],
   "source": [
    "#  tensor(0) is deceptive\n",
    "text = \"this hotel staff is good towards me!!!\"\n",
    "learn.predict(text)"
   ]
  },
  {
   "cell_type": "code",
   "execution_count": 72,
   "metadata": {
    "colab": {
     "base_uri": "https://localhost:8080/"
    },
    "id": "8YDwvyPrSiFY",
    "outputId": "66d316dd-0fd0-4b43-f628-62c7c1f45781"
   },
   "outputs": [
    {
     "data": {
      "text/plain": [
       "(Category tensor(1), tensor(1), tensor([1.8390e-04, 9.9982e-01]))"
      ]
     },
     "execution_count": 72,
     "metadata": {},
     "output_type": "execute_result"
    }
   ],
   "source": [
    "text = \"My wife and I came to spend the weekend in downtown Chicago for shopping and we found this Conrad hotel well located close to everything downtown and of a size that doesn't make you feel lost in the Convention world. We have had this feeling when staying at larger hotels in the past. Our Suite has view on Michigan avenue with a bit of the Lake at the end. Staff was very professional, pleasant and friendly making us feel very comfortable. Internet is free n the rooms and I am making my review from there. \"\n",
    "learn.predict(text)"
   ]
  },
  {
   "cell_type": "code",
   "execution_count": 73,
   "metadata": {
    "colab": {
     "base_uri": "https://localhost:8080/"
    },
    "id": "I7U4fkKHTgXp",
    "outputId": "5cb59ea8-b23e-43db-dea6-c59aebf67eae"
   },
   "outputs": [
    {
     "data": {
      "text/plain": [
       "(Category tensor(0), tensor(0), tensor([9.9997e-01, 3.4134e-05]))"
      ]
     },
     "execution_count": 73,
     "metadata": {},
     "output_type": "execute_result"
    }
   ],
   "source": [
    "text = \"The atmosphere at the Talbott Hotel is very welcoming when you first walk in. The employees are friendly and will greet you when you first arrive. The hotel seems to be luxurious, even from the lobby, and right away, I was very excited for my stay! I stayed in a double queen room with my friend. The room is spacious enough, and beds are very comfortable. I didn't try the room service, but they do have a fitness club close by with a spa, which is very convenient. I also love how the room has individual climate controls! Very neat! Also handy that there is an iHome in the room. I'm usually stuck using just a regular alarm clock radio at other hotels. I will most likely stay in this hotel another time. It was a wonderful experience!\"\n",
    "learn.predict(text)"
   ]
  },
  {
   "cell_type": "code",
   "execution_count": 74,
   "metadata": {
    "colab": {
     "base_uri": "https://localhost:8080/"
    },
    "id": "hJ7wcTdx831k",
    "outputId": "afce78c9-dad7-4a71-afd8-548ea6a5265e"
   },
   "outputs": [
    {
     "data": {
      "text/plain": [
       "(Category tensor(1), tensor(1), tensor([7.3783e-05, 9.9993e-01]))"
      ]
     },
     "execution_count": 74,
     "metadata": {},
     "output_type": "execute_result"
    }
   ],
   "source": [
    "text = \"We stayed at the Conrad for 2 nights for a friends reunion. The room was clean and new feeling, nice city view, free bottled water in room upon arrival. Check in was a breeze, and our room was ready even though we were several hours early. All staff was friendly and helpful, excellent breakfast.\"\n",
    "learn.predict(text)"
   ]
  },
  {
   "cell_type": "code",
   "execution_count": 75,
   "metadata": {
    "colab": {
     "base_uri": "https://localhost:8080/"
    },
    "id": "W9kBzupW84K3",
    "outputId": "788f4629-8515-496d-f526-f4439511be52"
   },
   "outputs": [
    {
     "data": {
      "text/plain": [
       "(Category tensor(0), tensor(0), tensor([9.9996e-01, 3.6832e-05]))"
      ]
     },
     "execution_count": 75,
     "metadata": {},
     "output_type": "execute_result"
    }
   ],
   "source": [
    "text = \"For 250 dollars, cheapest room available at the Hard Rock Hotel Chicago, you would assume you would have access to wifi. Yet, that was not the case. I was told I 'could have had' internet if I had booked through the site, which I didnt. The lady in the reception had no idea what she was talking about and had to ask around about internet access in general.\"\n",
    "learn.predict(text)"
   ]
  },
  {
   "cell_type": "code",
   "execution_count": 76,
   "metadata": {
    "colab": {
     "base_uri": "https://localhost:8080/"
    },
    "id": "zFVjy--k9Rqv",
    "outputId": "0113b8b6-02de-44bd-9b2e-db8e5c829421"
   },
   "outputs": [
    {
     "data": {
      "text/plain": [
       "(Category tensor(0), tensor(0), tensor([9.9967e-01, 3.2957e-04]))"
      ]
     },
     "execution_count": 76,
     "metadata": {},
     "output_type": "execute_result"
    }
   ],
   "source": [
    "text = \"The staff was very polite and helpfull and the rooms were very comfortable and felt like home.\"\n",
    "learn.predict(text)"
   ]
  },
  {
   "cell_type": "code",
   "execution_count": 77,
   "metadata": {
    "colab": {
     "base_uri": "https://localhost:8080/"
    },
    "id": "4CbfwLsS9Ryp",
    "outputId": "598f88d6-8657-46c9-9547-9cc5f6895511"
   },
   "outputs": [
    {
     "data": {
      "text/plain": [
       "(Category tensor(1), tensor(1), tensor([0.0298, 0.9702]))"
      ]
     },
     "execution_count": 77,
     "metadata": {},
     "output_type": "execute_result"
    }
   ],
   "source": [
    "text = \"I totally LOVED IT here!! When you called either the Front Desk or Room Service, the phone was answered with nice manner\"\n",
    "learn.predict(text)"
   ]
  },
  {
   "cell_type": "code",
   "execution_count": 78,
   "metadata": {
    "colab": {
     "base_uri": "https://localhost:8080/"
    },
    "id": "lFwAhV5m9R45",
    "outputId": "582f769e-d75a-407b-a10c-e967e4a27768"
   },
   "outputs": [
    {
     "data": {
      "text/plain": [
       "(Category tensor(1), tensor(1), tensor([4.4840e-05, 9.9996e-01]))"
      ]
     },
     "execution_count": 78,
     "metadata": {},
     "output_type": "execute_result"
    }
   ],
   "source": [
    "text =\"Great Hotel, we always love breakfast in morning,and drinks in even when applicable. Around the corner from magnificent Mile,and close to lots of restaurants. Staff was great, we even checked in early before noon,and other room available less than hour later.\"\n",
    "learn.predict(text)"
   ]
  },
  {
   "cell_type": "code",
   "execution_count": 79,
   "metadata": {
    "colab": {
     "base_uri": "https://localhost:8080/"
    },
    "id": "NlH1hdlO9Tw4",
    "outputId": "83a4b020-b403-4a59-cde4-500b01b05f72"
   },
   "outputs": [
    {
     "data": {
      "text/plain": [
       "(Category tensor(0), tensor(0), tensor([0.9987, 0.0013]))"
      ]
     },
     "execution_count": 79,
     "metadata": {},
     "output_type": "execute_result"
    }
   ],
   "source": [
    "text =\"bad hotel and aggressive staff\"\n",
    "learn.predict(text)"
   ]
  }
 ],
 "metadata": {
  "accelerator": "GPU",
  "colab": {
   "name": "tripadvisor_review_using_roberta_with_fastai (90% accuracy).ipynb",
   "provenance": []
  },
  "kernelspec": {
   "display_name": "Python 3",
   "language": "python",
   "name": "python3"
  },
  "language_info": {
   "codemirror_mode": {
    "name": "ipython",
    "version": 3
   },
   "file_extension": ".py",
   "mimetype": "text/x-python",
   "name": "python",
   "nbconvert_exporter": "python",
   "pygments_lexer": "ipython3",
   "version": "3.8.10"
  },
  "widgets": {
   "application/vnd.jupyter.widget-state+json": {
    "00b386826508498ab9c73df352ea8e6e": {
     "model_module": "@jupyter-widgets/base",
     "model_module_version": "1.2.0",
     "model_name": "LayoutModel",
     "state": {
      "_model_module": "@jupyter-widgets/base",
      "_model_module_version": "1.2.0",
      "_model_name": "LayoutModel",
      "_view_count": null,
      "_view_module": "@jupyter-widgets/base",
      "_view_module_version": "1.2.0",
      "_view_name": "LayoutView",
      "align_content": null,
      "align_items": null,
      "align_self": null,
      "border": null,
      "bottom": null,
      "display": null,
      "flex": null,
      "flex_flow": null,
      "grid_area": null,
      "grid_auto_columns": null,
      "grid_auto_flow": null,
      "grid_auto_rows": null,
      "grid_column": null,
      "grid_gap": null,
      "grid_row": null,
      "grid_template_areas": null,
      "grid_template_columns": null,
      "grid_template_rows": null,
      "height": null,
      "justify_content": null,
      "justify_items": null,
      "left": null,
      "margin": null,
      "max_height": null,
      "max_width": null,
      "min_height": null,
      "min_width": null,
      "object_fit": null,
      "object_position": null,
      "order": null,
      "overflow": null,
      "overflow_x": null,
      "overflow_y": null,
      "padding": null,
      "right": null,
      "top": null,
      "visibility": null,
      "width": null
     }
    },
    "066670b77f974d0294d08a934dad6a03": {
     "model_module": "@jupyter-widgets/controls",
     "model_module_version": "1.5.0",
     "model_name": "HTMLModel",
     "state": {
      "_dom_classes": [],
      "_model_module": "@jupyter-widgets/controls",
      "_model_module_version": "1.5.0",
      "_model_name": "HTMLModel",
      "_view_count": null,
      "_view_module": "@jupyter-widgets/controls",
      "_view_module_version": "1.5.0",
      "_view_name": "HTMLView",
      "description": "",
      "description_tooltip": null,
      "layout": "IPY_MODEL_a2ee265a07a8409e9a8ca4985ca56405",
      "placeholder": "​",
      "style": "IPY_MODEL_1a53e92813484c1cb4828ec327884d1e",
      "value": "Downloading: 100%"
     }
    },
    "0de49ff81a984fe0a279598706193201": {
     "model_module": "@jupyter-widgets/controls",
     "model_module_version": "1.5.0",
     "model_name": "ProgressStyleModel",
     "state": {
      "_model_module": "@jupyter-widgets/controls",
      "_model_module_version": "1.5.0",
      "_model_name": "ProgressStyleModel",
      "_view_count": null,
      "_view_module": "@jupyter-widgets/base",
      "_view_module_version": "1.2.0",
      "_view_name": "StyleView",
      "bar_color": null,
      "description_width": ""
     }
    },
    "0fa19a6e8ee94e0497e504a77cae5d33": {
     "model_module": "@jupyter-widgets/base",
     "model_module_version": "1.2.0",
     "model_name": "LayoutModel",
     "state": {
      "_model_module": "@jupyter-widgets/base",
      "_model_module_version": "1.2.0",
      "_model_name": "LayoutModel",
      "_view_count": null,
      "_view_module": "@jupyter-widgets/base",
      "_view_module_version": "1.2.0",
      "_view_name": "LayoutView",
      "align_content": null,
      "align_items": null,
      "align_self": null,
      "border": null,
      "bottom": null,
      "display": null,
      "flex": null,
      "flex_flow": null,
      "grid_area": null,
      "grid_auto_columns": null,
      "grid_auto_flow": null,
      "grid_auto_rows": null,
      "grid_column": null,
      "grid_gap": null,
      "grid_row": null,
      "grid_template_areas": null,
      "grid_template_columns": null,
      "grid_template_rows": null,
      "height": null,
      "justify_content": null,
      "justify_items": null,
      "left": null,
      "margin": null,
      "max_height": null,
      "max_width": null,
      "min_height": null,
      "min_width": null,
      "object_fit": null,
      "object_position": null,
      "order": null,
      "overflow": null,
      "overflow_x": null,
      "overflow_y": null,
      "padding": null,
      "right": null,
      "top": null,
      "visibility": null,
      "width": null
     }
    },
    "111e33227c844a3a8664581b73da950f": {
     "model_module": "@jupyter-widgets/controls",
     "model_module_version": "1.5.0",
     "model_name": "DescriptionStyleModel",
     "state": {
      "_model_module": "@jupyter-widgets/controls",
      "_model_module_version": "1.5.0",
      "_model_name": "DescriptionStyleModel",
      "_view_count": null,
      "_view_module": "@jupyter-widgets/base",
      "_view_module_version": "1.2.0",
      "_view_name": "StyleView",
      "description_width": ""
     }
    },
    "1787411c6f964d889643bd44a619bf8d": {
     "model_module": "@jupyter-widgets/controls",
     "model_module_version": "1.5.0",
     "model_name": "FloatProgressModel",
     "state": {
      "_dom_classes": [],
      "_model_module": "@jupyter-widgets/controls",
      "_model_module_version": "1.5.0",
      "_model_name": "FloatProgressModel",
      "_view_count": null,
      "_view_module": "@jupyter-widgets/controls",
      "_view_module_version": "1.5.0",
      "_view_name": "ProgressView",
      "bar_style": "success",
      "description": "",
      "description_tooltip": null,
      "layout": "IPY_MODEL_3374c7243f644af5a2908074d950d43d",
      "max": 501200538,
      "min": 0,
      "orientation": "horizontal",
      "style": "IPY_MODEL_f6a0a6b9c5be47f483fadb2311f05b26",
      "value": 501200538
     }
    },
    "1a53e92813484c1cb4828ec327884d1e": {
     "model_module": "@jupyter-widgets/controls",
     "model_module_version": "1.5.0",
     "model_name": "DescriptionStyleModel",
     "state": {
      "_model_module": "@jupyter-widgets/controls",
      "_model_module_version": "1.5.0",
      "_model_name": "DescriptionStyleModel",
      "_view_count": null,
      "_view_module": "@jupyter-widgets/base",
      "_view_module_version": "1.2.0",
      "_view_name": "StyleView",
      "description_width": ""
     }
    },
    "2f7ec436c8404703bfaf7160a406a4ff": {
     "model_module": "@jupyter-widgets/controls",
     "model_module_version": "1.5.0",
     "model_name": "HTMLModel",
     "state": {
      "_dom_classes": [],
      "_model_module": "@jupyter-widgets/controls",
      "_model_module_version": "1.5.0",
      "_model_name": "HTMLModel",
      "_view_count": null,
      "_view_module": "@jupyter-widgets/controls",
      "_view_module_version": "1.5.0",
      "_view_name": "HTMLView",
      "description": "",
      "description_tooltip": null,
      "layout": "IPY_MODEL_76ec2b32be7f49748c61286401c9faaa",
      "placeholder": "​",
      "style": "IPY_MODEL_4dc1f6cbfb784ff1a9271116a4c21773",
      "value": "Downloading: 100%"
     }
    },
    "305bd7dfc3094b0b8378e77d896e256a": {
     "model_module": "@jupyter-widgets/base",
     "model_module_version": "1.2.0",
     "model_name": "LayoutModel",
     "state": {
      "_model_module": "@jupyter-widgets/base",
      "_model_module_version": "1.2.0",
      "_model_name": "LayoutModel",
      "_view_count": null,
      "_view_module": "@jupyter-widgets/base",
      "_view_module_version": "1.2.0",
      "_view_name": "LayoutView",
      "align_content": null,
      "align_items": null,
      "align_self": null,
      "border": null,
      "bottom": null,
      "display": null,
      "flex": null,
      "flex_flow": null,
      "grid_area": null,
      "grid_auto_columns": null,
      "grid_auto_flow": null,
      "grid_auto_rows": null,
      "grid_column": null,
      "grid_gap": null,
      "grid_row": null,
      "grid_template_areas": null,
      "grid_template_columns": null,
      "grid_template_rows": null,
      "height": null,
      "justify_content": null,
      "justify_items": null,
      "left": null,
      "margin": null,
      "max_height": null,
      "max_width": null,
      "min_height": null,
      "min_width": null,
      "object_fit": null,
      "object_position": null,
      "order": null,
      "overflow": null,
      "overflow_x": null,
      "overflow_y": null,
      "padding": null,
      "right": null,
      "top": null,
      "visibility": null,
      "width": null
     }
    },
    "3374c7243f644af5a2908074d950d43d": {
     "model_module": "@jupyter-widgets/base",
     "model_module_version": "1.2.0",
     "model_name": "LayoutModel",
     "state": {
      "_model_module": "@jupyter-widgets/base",
      "_model_module_version": "1.2.0",
      "_model_name": "LayoutModel",
      "_view_count": null,
      "_view_module": "@jupyter-widgets/base",
      "_view_module_version": "1.2.0",
      "_view_name": "LayoutView",
      "align_content": null,
      "align_items": null,
      "align_self": null,
      "border": null,
      "bottom": null,
      "display": null,
      "flex": null,
      "flex_flow": null,
      "grid_area": null,
      "grid_auto_columns": null,
      "grid_auto_flow": null,
      "grid_auto_rows": null,
      "grid_column": null,
      "grid_gap": null,
      "grid_row": null,
      "grid_template_areas": null,
      "grid_template_columns": null,
      "grid_template_rows": null,
      "height": null,
      "justify_content": null,
      "justify_items": null,
      "left": null,
      "margin": null,
      "max_height": null,
      "max_width": null,
      "min_height": null,
      "min_width": null,
      "object_fit": null,
      "object_position": null,
      "order": null,
      "overflow": null,
      "overflow_x": null,
      "overflow_y": null,
      "padding": null,
      "right": null,
      "top": null,
      "visibility": null,
      "width": null
     }
    },
    "3b8a9c0587ca452496ed95072884fbe7": {
     "model_module": "@jupyter-widgets/controls",
     "model_module_version": "1.5.0",
     "model_name": "HTMLModel",
     "state": {
      "_dom_classes": [],
      "_model_module": "@jupyter-widgets/controls",
      "_model_module_version": "1.5.0",
      "_model_name": "HTMLModel",
      "_view_count": null,
      "_view_module": "@jupyter-widgets/controls",
      "_view_module_version": "1.5.0",
      "_view_name": "HTMLView",
      "description": "",
      "description_tooltip": null,
      "layout": "IPY_MODEL_d61cefe606074358b15ffcb92106d7d5",
      "placeholder": "​",
      "style": "IPY_MODEL_b34ef571c7e74788b0f8f5c8c7a76734",
      "value": " 456k/456k [00:00&lt;00:00, 742kB/s]"
     }
    },
    "47f16f7b9a8b41fd830923118ad05cd7": {
     "model_module": "@jupyter-widgets/controls",
     "model_module_version": "1.5.0",
     "model_name": "DescriptionStyleModel",
     "state": {
      "_model_module": "@jupyter-widgets/controls",
      "_model_module_version": "1.5.0",
      "_model_name": "DescriptionStyleModel",
      "_view_count": null,
      "_view_module": "@jupyter-widgets/base",
      "_view_module_version": "1.2.0",
      "_view_name": "StyleView",
      "description_width": ""
     }
    },
    "4bee884a45a14454a950cc88b8a30564": {
     "model_module": "@jupyter-widgets/controls",
     "model_module_version": "1.5.0",
     "model_name": "DescriptionStyleModel",
     "state": {
      "_model_module": "@jupyter-widgets/controls",
      "_model_module_version": "1.5.0",
      "_model_name": "DescriptionStyleModel",
      "_view_count": null,
      "_view_module": "@jupyter-widgets/base",
      "_view_module_version": "1.2.0",
      "_view_name": "StyleView",
      "description_width": ""
     }
    },
    "4dc1f6cbfb784ff1a9271116a4c21773": {
     "model_module": "@jupyter-widgets/controls",
     "model_module_version": "1.5.0",
     "model_name": "DescriptionStyleModel",
     "state": {
      "_model_module": "@jupyter-widgets/controls",
      "_model_module_version": "1.5.0",
      "_model_name": "DescriptionStyleModel",
      "_view_count": null,
      "_view_module": "@jupyter-widgets/base",
      "_view_module_version": "1.2.0",
      "_view_name": "StyleView",
      "description_width": ""
     }
    },
    "4f34285fe7fd4327b5507e1a40c4093a": {
     "model_module": "@jupyter-widgets/controls",
     "model_module_version": "1.5.0",
     "model_name": "HTMLModel",
     "state": {
      "_dom_classes": [],
      "_model_module": "@jupyter-widgets/controls",
      "_model_module_version": "1.5.0",
      "_model_name": "HTMLModel",
      "_view_count": null,
      "_view_module": "@jupyter-widgets/controls",
      "_view_module_version": "1.5.0",
      "_view_name": "HTMLView",
      "description": "",
      "description_tooltip": null,
      "layout": "IPY_MODEL_6025bb12e4d14df6968b4845f25b5128",
      "placeholder": "​",
      "style": "IPY_MODEL_dfc531220dd94e0d9f7a1ee4d75f2c06",
      "value": "Downloading: 100%"
     }
    },
    "5e1387d6e1d142e99113b6da528b9a11": {
     "model_module": "@jupyter-widgets/controls",
     "model_module_version": "1.5.0",
     "model_name": "HTMLModel",
     "state": {
      "_dom_classes": [],
      "_model_module": "@jupyter-widgets/controls",
      "_model_module_version": "1.5.0",
      "_model_name": "HTMLModel",
      "_view_count": null,
      "_view_module": "@jupyter-widgets/controls",
      "_view_module_version": "1.5.0",
      "_view_name": "HTMLView",
      "description": "",
      "description_tooltip": null,
      "layout": "IPY_MODEL_86611d1125644521bbf8442bb802d600",
      "placeholder": "​",
      "style": "IPY_MODEL_111e33227c844a3a8664581b73da950f",
      "value": "Downloading: 100%"
     }
    },
    "6025bb12e4d14df6968b4845f25b5128": {
     "model_module": "@jupyter-widgets/base",
     "model_module_version": "1.2.0",
     "model_name": "LayoutModel",
     "state": {
      "_model_module": "@jupyter-widgets/base",
      "_model_module_version": "1.2.0",
      "_model_name": "LayoutModel",
      "_view_count": null,
      "_view_module": "@jupyter-widgets/base",
      "_view_module_version": "1.2.0",
      "_view_name": "LayoutView",
      "align_content": null,
      "align_items": null,
      "align_self": null,
      "border": null,
      "bottom": null,
      "display": null,
      "flex": null,
      "flex_flow": null,
      "grid_area": null,
      "grid_auto_columns": null,
      "grid_auto_flow": null,
      "grid_auto_rows": null,
      "grid_column": null,
      "grid_gap": null,
      "grid_row": null,
      "grid_template_areas": null,
      "grid_template_columns": null,
      "grid_template_rows": null,
      "height": null,
      "justify_content": null,
      "justify_items": null,
      "left": null,
      "margin": null,
      "max_height": null,
      "max_width": null,
      "min_height": null,
      "min_width": null,
      "object_fit": null,
      "object_position": null,
      "order": null,
      "overflow": null,
      "overflow_x": null,
      "overflow_y": null,
      "padding": null,
      "right": null,
      "top": null,
      "visibility": null,
      "width": null
     }
    },
    "628ef0b6706a4a929a946e61756c1f0b": {
     "model_module": "@jupyter-widgets/base",
     "model_module_version": "1.2.0",
     "model_name": "LayoutModel",
     "state": {
      "_model_module": "@jupyter-widgets/base",
      "_model_module_version": "1.2.0",
      "_model_name": "LayoutModel",
      "_view_count": null,
      "_view_module": "@jupyter-widgets/base",
      "_view_module_version": "1.2.0",
      "_view_name": "LayoutView",
      "align_content": null,
      "align_items": null,
      "align_self": null,
      "border": null,
      "bottom": null,
      "display": null,
      "flex": null,
      "flex_flow": null,
      "grid_area": null,
      "grid_auto_columns": null,
      "grid_auto_flow": null,
      "grid_auto_rows": null,
      "grid_column": null,
      "grid_gap": null,
      "grid_row": null,
      "grid_template_areas": null,
      "grid_template_columns": null,
      "grid_template_rows": null,
      "height": null,
      "justify_content": null,
      "justify_items": null,
      "left": null,
      "margin": null,
      "max_height": null,
      "max_width": null,
      "min_height": null,
      "min_width": null,
      "object_fit": null,
      "object_position": null,
      "order": null,
      "overflow": null,
      "overflow_x": null,
      "overflow_y": null,
      "padding": null,
      "right": null,
      "top": null,
      "visibility": null,
      "width": null
     }
    },
    "648d5b2d1ad1451897c9aeb337fa32f7": {
     "model_module": "@jupyter-widgets/controls",
     "model_module_version": "1.5.0",
     "model_name": "FloatProgressModel",
     "state": {
      "_dom_classes": [],
      "_model_module": "@jupyter-widgets/controls",
      "_model_module_version": "1.5.0",
      "_model_name": "FloatProgressModel",
      "_view_count": null,
      "_view_module": "@jupyter-widgets/controls",
      "_view_module_version": "1.5.0",
      "_view_name": "ProgressView",
      "bar_style": "success",
      "description": "",
      "description_tooltip": null,
      "layout": "IPY_MODEL_7d67345b8bca47cbb7920a5fb0020fc6",
      "max": 481,
      "min": 0,
      "orientation": "horizontal",
      "style": "IPY_MODEL_c23c8b258b9f480e990129077fe809b4",
      "value": 481
     }
    },
    "717b8987a56343b5893f3cb693a87c33": {
     "model_module": "@jupyter-widgets/controls",
     "model_module_version": "1.5.0",
     "model_name": "HBoxModel",
     "state": {
      "_dom_classes": [],
      "_model_module": "@jupyter-widgets/controls",
      "_model_module_version": "1.5.0",
      "_model_name": "HBoxModel",
      "_view_count": null,
      "_view_module": "@jupyter-widgets/controls",
      "_view_module_version": "1.5.0",
      "_view_name": "HBoxView",
      "box_style": "",
      "children": [
       "IPY_MODEL_4f34285fe7fd4327b5507e1a40c4093a",
       "IPY_MODEL_648d5b2d1ad1451897c9aeb337fa32f7",
       "IPY_MODEL_f3843638fc294899b2f7e061336b97f5"
      ],
      "layout": "IPY_MODEL_ea72efd5518f4d0c9f0e42ee005b1781"
     }
    },
    "748ef41ff48e436d911080eca11f04a7": {
     "model_module": "@jupyter-widgets/controls",
     "model_module_version": "1.5.0",
     "model_name": "DescriptionStyleModel",
     "state": {
      "_model_module": "@jupyter-widgets/controls",
      "_model_module_version": "1.5.0",
      "_model_name": "DescriptionStyleModel",
      "_view_count": null,
      "_view_module": "@jupyter-widgets/base",
      "_view_module_version": "1.2.0",
      "_view_name": "StyleView",
      "description_width": ""
     }
    },
    "76ec2b32be7f49748c61286401c9faaa": {
     "model_module": "@jupyter-widgets/base",
     "model_module_version": "1.2.0",
     "model_name": "LayoutModel",
     "state": {
      "_model_module": "@jupyter-widgets/base",
      "_model_module_version": "1.2.0",
      "_model_name": "LayoutModel",
      "_view_count": null,
      "_view_module": "@jupyter-widgets/base",
      "_view_module_version": "1.2.0",
      "_view_name": "LayoutView",
      "align_content": null,
      "align_items": null,
      "align_self": null,
      "border": null,
      "bottom": null,
      "display": null,
      "flex": null,
      "flex_flow": null,
      "grid_area": null,
      "grid_auto_columns": null,
      "grid_auto_flow": null,
      "grid_auto_rows": null,
      "grid_column": null,
      "grid_gap": null,
      "grid_row": null,
      "grid_template_areas": null,
      "grid_template_columns": null,
      "grid_template_rows": null,
      "height": null,
      "justify_content": null,
      "justify_items": null,
      "left": null,
      "margin": null,
      "max_height": null,
      "max_width": null,
      "min_height": null,
      "min_width": null,
      "object_fit": null,
      "object_position": null,
      "order": null,
      "overflow": null,
      "overflow_x": null,
      "overflow_y": null,
      "padding": null,
      "right": null,
      "top": null,
      "visibility": null,
      "width": null
     }
    },
    "7ad8bd6a0041497ab6cae65e8bb84571": {
     "model_module": "@jupyter-widgets/controls",
     "model_module_version": "1.5.0",
     "model_name": "HTMLModel",
     "state": {
      "_dom_classes": [],
      "_model_module": "@jupyter-widgets/controls",
      "_model_module_version": "1.5.0",
      "_model_name": "HTMLModel",
      "_view_count": null,
      "_view_module": "@jupyter-widgets/controls",
      "_view_module_version": "1.5.0",
      "_view_name": "HTMLView",
      "description": "",
      "description_tooltip": null,
      "layout": "IPY_MODEL_d1d8591b42314d0da43a9250a5421f36",
      "placeholder": "​",
      "style": "IPY_MODEL_47f16f7b9a8b41fd830923118ad05cd7",
      "value": " 1.36M/1.36M [00:00&lt;00:00, 2.83MB/s]"
     }
    },
    "7d67345b8bca47cbb7920a5fb0020fc6": {
     "model_module": "@jupyter-widgets/base",
     "model_module_version": "1.2.0",
     "model_name": "LayoutModel",
     "state": {
      "_model_module": "@jupyter-widgets/base",
      "_model_module_version": "1.2.0",
      "_model_name": "LayoutModel",
      "_view_count": null,
      "_view_module": "@jupyter-widgets/base",
      "_view_module_version": "1.2.0",
      "_view_name": "LayoutView",
      "align_content": null,
      "align_items": null,
      "align_self": null,
      "border": null,
      "bottom": null,
      "display": null,
      "flex": null,
      "flex_flow": null,
      "grid_area": null,
      "grid_auto_columns": null,
      "grid_auto_flow": null,
      "grid_auto_rows": null,
      "grid_column": null,
      "grid_gap": null,
      "grid_row": null,
      "grid_template_areas": null,
      "grid_template_columns": null,
      "grid_template_rows": null,
      "height": null,
      "justify_content": null,
      "justify_items": null,
      "left": null,
      "margin": null,
      "max_height": null,
      "max_width": null,
      "min_height": null,
      "min_width": null,
      "object_fit": null,
      "object_position": null,
      "order": null,
      "overflow": null,
      "overflow_x": null,
      "overflow_y": null,
      "padding": null,
      "right": null,
      "top": null,
      "visibility": null,
      "width": null
     }
    },
    "80175acea5f84a558a89bc3309ac43fa": {
     "model_module": "@jupyter-widgets/base",
     "model_module_version": "1.2.0",
     "model_name": "LayoutModel",
     "state": {
      "_model_module": "@jupyter-widgets/base",
      "_model_module_version": "1.2.0",
      "_model_name": "LayoutModel",
      "_view_count": null,
      "_view_module": "@jupyter-widgets/base",
      "_view_module_version": "1.2.0",
      "_view_name": "LayoutView",
      "align_content": null,
      "align_items": null,
      "align_self": null,
      "border": null,
      "bottom": null,
      "display": null,
      "flex": null,
      "flex_flow": null,
      "grid_area": null,
      "grid_auto_columns": null,
      "grid_auto_flow": null,
      "grid_auto_rows": null,
      "grid_column": null,
      "grid_gap": null,
      "grid_row": null,
      "grid_template_areas": null,
      "grid_template_columns": null,
      "grid_template_rows": null,
      "height": null,
      "justify_content": null,
      "justify_items": null,
      "left": null,
      "margin": null,
      "max_height": null,
      "max_width": null,
      "min_height": null,
      "min_width": null,
      "object_fit": null,
      "object_position": null,
      "order": null,
      "overflow": null,
      "overflow_x": null,
      "overflow_y": null,
      "padding": null,
      "right": null,
      "top": null,
      "visibility": null,
      "width": null
     }
    },
    "810c6b39590b49faaafbefd60d8621bc": {
     "model_module": "@jupyter-widgets/controls",
     "model_module_version": "1.5.0",
     "model_name": "HBoxModel",
     "state": {
      "_dom_classes": [],
      "_model_module": "@jupyter-widgets/controls",
      "_model_module_version": "1.5.0",
      "_model_name": "HBoxModel",
      "_view_count": null,
      "_view_module": "@jupyter-widgets/controls",
      "_view_module_version": "1.5.0",
      "_view_name": "HBoxView",
      "box_style": "",
      "children": [
       "IPY_MODEL_94f4bc94a89e431d836303e75f3639cc",
       "IPY_MODEL_1787411c6f964d889643bd44a619bf8d",
       "IPY_MODEL_f2753ed5a2274e9cb99e3643d19bb716"
      ],
      "layout": "IPY_MODEL_9ba6da06efe14a23a6fa9684e1519f3e"
     }
    },
    "81ed78f1e83c463eb778a37d14bdc208": {
     "model_module": "@jupyter-widgets/controls",
     "model_module_version": "1.5.0",
     "model_name": "FloatProgressModel",
     "state": {
      "_dom_classes": [],
      "_model_module": "@jupyter-widgets/controls",
      "_model_module_version": "1.5.0",
      "_model_name": "FloatProgressModel",
      "_view_count": null,
      "_view_module": "@jupyter-widgets/controls",
      "_view_module_version": "1.5.0",
      "_view_name": "ProgressView",
      "bar_style": "success",
      "description": "",
      "description_tooltip": null,
      "layout": "IPY_MODEL_0fa19a6e8ee94e0497e504a77cae5d33",
      "max": 898823,
      "min": 0,
      "orientation": "horizontal",
      "style": "IPY_MODEL_b844ccac4d814e64980c6ad252145468",
      "value": 898823
     }
    },
    "86611d1125644521bbf8442bb802d600": {
     "model_module": "@jupyter-widgets/base",
     "model_module_version": "1.2.0",
     "model_name": "LayoutModel",
     "state": {
      "_model_module": "@jupyter-widgets/base",
      "_model_module_version": "1.2.0",
      "_model_name": "LayoutModel",
      "_view_count": null,
      "_view_module": "@jupyter-widgets/base",
      "_view_module_version": "1.2.0",
      "_view_name": "LayoutView",
      "align_content": null,
      "align_items": null,
      "align_self": null,
      "border": null,
      "bottom": null,
      "display": null,
      "flex": null,
      "flex_flow": null,
      "grid_area": null,
      "grid_auto_columns": null,
      "grid_auto_flow": null,
      "grid_auto_rows": null,
      "grid_column": null,
      "grid_gap": null,
      "grid_row": null,
      "grid_template_areas": null,
      "grid_template_columns": null,
      "grid_template_rows": null,
      "height": null,
      "justify_content": null,
      "justify_items": null,
      "left": null,
      "margin": null,
      "max_height": null,
      "max_width": null,
      "min_height": null,
      "min_width": null,
      "object_fit": null,
      "object_position": null,
      "order": null,
      "overflow": null,
      "overflow_x": null,
      "overflow_y": null,
      "padding": null,
      "right": null,
      "top": null,
      "visibility": null,
      "width": null
     }
    },
    "88431661aa204a6ba46852cce442b776": {
     "model_module": "@jupyter-widgets/controls",
     "model_module_version": "1.5.0",
     "model_name": "FloatProgressModel",
     "state": {
      "_dom_classes": [],
      "_model_module": "@jupyter-widgets/controls",
      "_model_module_version": "1.5.0",
      "_model_name": "FloatProgressModel",
      "_view_count": null,
      "_view_module": "@jupyter-widgets/controls",
      "_view_module_version": "1.5.0",
      "_view_name": "ProgressView",
      "bar_style": "success",
      "description": "",
      "description_tooltip": null,
      "layout": "IPY_MODEL_bb99793003aa44aaa9cab6e6014b3671",
      "max": 456318,
      "min": 0,
      "orientation": "horizontal",
      "style": "IPY_MODEL_9f8b004c6fa7463a9fb7695ae860395f",
      "value": 456318
     }
    },
    "94f4bc94a89e431d836303e75f3639cc": {
     "model_module": "@jupyter-widgets/controls",
     "model_module_version": "1.5.0",
     "model_name": "HTMLModel",
     "state": {
      "_dom_classes": [],
      "_model_module": "@jupyter-widgets/controls",
      "_model_module_version": "1.5.0",
      "_model_name": "HTMLModel",
      "_view_count": null,
      "_view_module": "@jupyter-widgets/controls",
      "_view_module_version": "1.5.0",
      "_view_name": "HTMLView",
      "description": "",
      "description_tooltip": null,
      "layout": "IPY_MODEL_00b386826508498ab9c73df352ea8e6e",
      "placeholder": "​",
      "style": "IPY_MODEL_748ef41ff48e436d911080eca11f04a7",
      "value": "Downloading: 100%"
     }
    },
    "9ba6da06efe14a23a6fa9684e1519f3e": {
     "model_module": "@jupyter-widgets/base",
     "model_module_version": "1.2.0",
     "model_name": "LayoutModel",
     "state": {
      "_model_module": "@jupyter-widgets/base",
      "_model_module_version": "1.2.0",
      "_model_name": "LayoutModel",
      "_view_count": null,
      "_view_module": "@jupyter-widgets/base",
      "_view_module_version": "1.2.0",
      "_view_name": "LayoutView",
      "align_content": null,
      "align_items": null,
      "align_self": null,
      "border": null,
      "bottom": null,
      "display": null,
      "flex": null,
      "flex_flow": null,
      "grid_area": null,
      "grid_auto_columns": null,
      "grid_auto_flow": null,
      "grid_auto_rows": null,
      "grid_column": null,
      "grid_gap": null,
      "grid_row": null,
      "grid_template_areas": null,
      "grid_template_columns": null,
      "grid_template_rows": null,
      "height": null,
      "justify_content": null,
      "justify_items": null,
      "left": null,
      "margin": null,
      "max_height": null,
      "max_width": null,
      "min_height": null,
      "min_width": null,
      "object_fit": null,
      "object_position": null,
      "order": null,
      "overflow": null,
      "overflow_x": null,
      "overflow_y": null,
      "padding": null,
      "right": null,
      "top": null,
      "visibility": null,
      "width": null
     }
    },
    "9f8b004c6fa7463a9fb7695ae860395f": {
     "model_module": "@jupyter-widgets/controls",
     "model_module_version": "1.5.0",
     "model_name": "ProgressStyleModel",
     "state": {
      "_model_module": "@jupyter-widgets/controls",
      "_model_module_version": "1.5.0",
      "_model_name": "ProgressStyleModel",
      "_view_count": null,
      "_view_module": "@jupyter-widgets/base",
      "_view_module_version": "1.2.0",
      "_view_name": "StyleView",
      "bar_color": null,
      "description_width": ""
     }
    },
    "a2ee265a07a8409e9a8ca4985ca56405": {
     "model_module": "@jupyter-widgets/base",
     "model_module_version": "1.2.0",
     "model_name": "LayoutModel",
     "state": {
      "_model_module": "@jupyter-widgets/base",
      "_model_module_version": "1.2.0",
      "_model_name": "LayoutModel",
      "_view_count": null,
      "_view_module": "@jupyter-widgets/base",
      "_view_module_version": "1.2.0",
      "_view_name": "LayoutView",
      "align_content": null,
      "align_items": null,
      "align_self": null,
      "border": null,
      "bottom": null,
      "display": null,
      "flex": null,
      "flex_flow": null,
      "grid_area": null,
      "grid_auto_columns": null,
      "grid_auto_flow": null,
      "grid_auto_rows": null,
      "grid_column": null,
      "grid_gap": null,
      "grid_row": null,
      "grid_template_areas": null,
      "grid_template_columns": null,
      "grid_template_rows": null,
      "height": null,
      "justify_content": null,
      "justify_items": null,
      "left": null,
      "margin": null,
      "max_height": null,
      "max_width": null,
      "min_height": null,
      "min_width": null,
      "object_fit": null,
      "object_position": null,
      "order": null,
      "overflow": null,
      "overflow_x": null,
      "overflow_y": null,
      "padding": null,
      "right": null,
      "top": null,
      "visibility": null,
      "width": null
     }
    },
    "ac695488509348dfa42dcbbd0e83c153": {
     "model_module": "@jupyter-widgets/controls",
     "model_module_version": "1.5.0",
     "model_name": "FloatProgressModel",
     "state": {
      "_dom_classes": [],
      "_model_module": "@jupyter-widgets/controls",
      "_model_module_version": "1.5.0",
      "_model_name": "FloatProgressModel",
      "_view_count": null,
      "_view_module": "@jupyter-widgets/controls",
      "_view_module_version": "1.5.0",
      "_view_name": "ProgressView",
      "bar_style": "success",
      "description": "",
      "description_tooltip": null,
      "layout": "IPY_MODEL_80175acea5f84a558a89bc3309ac43fa",
      "max": 1355863,
      "min": 0,
      "orientation": "horizontal",
      "style": "IPY_MODEL_0de49ff81a984fe0a279598706193201",
      "value": 1355863
     }
    },
    "ae87296f434f44318b4268cd3664d1bd": {
     "model_module": "@jupyter-widgets/base",
     "model_module_version": "1.2.0",
     "model_name": "LayoutModel",
     "state": {
      "_model_module": "@jupyter-widgets/base",
      "_model_module_version": "1.2.0",
      "_model_name": "LayoutModel",
      "_view_count": null,
      "_view_module": "@jupyter-widgets/base",
      "_view_module_version": "1.2.0",
      "_view_name": "LayoutView",
      "align_content": null,
      "align_items": null,
      "align_self": null,
      "border": null,
      "bottom": null,
      "display": null,
      "flex": null,
      "flex_flow": null,
      "grid_area": null,
      "grid_auto_columns": null,
      "grid_auto_flow": null,
      "grid_auto_rows": null,
      "grid_column": null,
      "grid_gap": null,
      "grid_row": null,
      "grid_template_areas": null,
      "grid_template_columns": null,
      "grid_template_rows": null,
      "height": null,
      "justify_content": null,
      "justify_items": null,
      "left": null,
      "margin": null,
      "max_height": null,
      "max_width": null,
      "min_height": null,
      "min_width": null,
      "object_fit": null,
      "object_position": null,
      "order": null,
      "overflow": null,
      "overflow_x": null,
      "overflow_y": null,
      "padding": null,
      "right": null,
      "top": null,
      "visibility": null,
      "width": null
     }
    },
    "b34ef571c7e74788b0f8f5c8c7a76734": {
     "model_module": "@jupyter-widgets/controls",
     "model_module_version": "1.5.0",
     "model_name": "DescriptionStyleModel",
     "state": {
      "_model_module": "@jupyter-widgets/controls",
      "_model_module_version": "1.5.0",
      "_model_name": "DescriptionStyleModel",
      "_view_count": null,
      "_view_module": "@jupyter-widgets/base",
      "_view_module_version": "1.2.0",
      "_view_name": "StyleView",
      "description_width": ""
     }
    },
    "b844ccac4d814e64980c6ad252145468": {
     "model_module": "@jupyter-widgets/controls",
     "model_module_version": "1.5.0",
     "model_name": "ProgressStyleModel",
     "state": {
      "_model_module": "@jupyter-widgets/controls",
      "_model_module_version": "1.5.0",
      "_model_name": "ProgressStyleModel",
      "_view_count": null,
      "_view_module": "@jupyter-widgets/base",
      "_view_module_version": "1.2.0",
      "_view_name": "StyleView",
      "bar_color": null,
      "description_width": ""
     }
    },
    "b9999b3b39724bd48c7f13279586e204": {
     "model_module": "@jupyter-widgets/base",
     "model_module_version": "1.2.0",
     "model_name": "LayoutModel",
     "state": {
      "_model_module": "@jupyter-widgets/base",
      "_model_module_version": "1.2.0",
      "_model_name": "LayoutModel",
      "_view_count": null,
      "_view_module": "@jupyter-widgets/base",
      "_view_module_version": "1.2.0",
      "_view_name": "LayoutView",
      "align_content": null,
      "align_items": null,
      "align_self": null,
      "border": null,
      "bottom": null,
      "display": null,
      "flex": null,
      "flex_flow": null,
      "grid_area": null,
      "grid_auto_columns": null,
      "grid_auto_flow": null,
      "grid_auto_rows": null,
      "grid_column": null,
      "grid_gap": null,
      "grid_row": null,
      "grid_template_areas": null,
      "grid_template_columns": null,
      "grid_template_rows": null,
      "height": null,
      "justify_content": null,
      "justify_items": null,
      "left": null,
      "margin": null,
      "max_height": null,
      "max_width": null,
      "min_height": null,
      "min_width": null,
      "object_fit": null,
      "object_position": null,
      "order": null,
      "overflow": null,
      "overflow_x": null,
      "overflow_y": null,
      "padding": null,
      "right": null,
      "top": null,
      "visibility": null,
      "width": null
     }
    },
    "bb2cd4aa5ded4e0c95b0e8f03390b9c9": {
     "model_module": "@jupyter-widgets/base",
     "model_module_version": "1.2.0",
     "model_name": "LayoutModel",
     "state": {
      "_model_module": "@jupyter-widgets/base",
      "_model_module_version": "1.2.0",
      "_model_name": "LayoutModel",
      "_view_count": null,
      "_view_module": "@jupyter-widgets/base",
      "_view_module_version": "1.2.0",
      "_view_name": "LayoutView",
      "align_content": null,
      "align_items": null,
      "align_self": null,
      "border": null,
      "bottom": null,
      "display": null,
      "flex": null,
      "flex_flow": null,
      "grid_area": null,
      "grid_auto_columns": null,
      "grid_auto_flow": null,
      "grid_auto_rows": null,
      "grid_column": null,
      "grid_gap": null,
      "grid_row": null,
      "grid_template_areas": null,
      "grid_template_columns": null,
      "grid_template_rows": null,
      "height": null,
      "justify_content": null,
      "justify_items": null,
      "left": null,
      "margin": null,
      "max_height": null,
      "max_width": null,
      "min_height": null,
      "min_width": null,
      "object_fit": null,
      "object_position": null,
      "order": null,
      "overflow": null,
      "overflow_x": null,
      "overflow_y": null,
      "padding": null,
      "right": null,
      "top": null,
      "visibility": null,
      "width": null
     }
    },
    "bb99793003aa44aaa9cab6e6014b3671": {
     "model_module": "@jupyter-widgets/base",
     "model_module_version": "1.2.0",
     "model_name": "LayoutModel",
     "state": {
      "_model_module": "@jupyter-widgets/base",
      "_model_module_version": "1.2.0",
      "_model_name": "LayoutModel",
      "_view_count": null,
      "_view_module": "@jupyter-widgets/base",
      "_view_module_version": "1.2.0",
      "_view_name": "LayoutView",
      "align_content": null,
      "align_items": null,
      "align_self": null,
      "border": null,
      "bottom": null,
      "display": null,
      "flex": null,
      "flex_flow": null,
      "grid_area": null,
      "grid_auto_columns": null,
      "grid_auto_flow": null,
      "grid_auto_rows": null,
      "grid_column": null,
      "grid_gap": null,
      "grid_row": null,
      "grid_template_areas": null,
      "grid_template_columns": null,
      "grid_template_rows": null,
      "height": null,
      "justify_content": null,
      "justify_items": null,
      "left": null,
      "margin": null,
      "max_height": null,
      "max_width": null,
      "min_height": null,
      "min_width": null,
      "object_fit": null,
      "object_position": null,
      "order": null,
      "overflow": null,
      "overflow_x": null,
      "overflow_y": null,
      "padding": null,
      "right": null,
      "top": null,
      "visibility": null,
      "width": null
     }
    },
    "c23c8b258b9f480e990129077fe809b4": {
     "model_module": "@jupyter-widgets/controls",
     "model_module_version": "1.5.0",
     "model_name": "ProgressStyleModel",
     "state": {
      "_model_module": "@jupyter-widgets/controls",
      "_model_module_version": "1.5.0",
      "_model_name": "ProgressStyleModel",
      "_view_count": null,
      "_view_module": "@jupyter-widgets/base",
      "_view_module_version": "1.2.0",
      "_view_name": "StyleView",
      "bar_color": null,
      "description_width": ""
     }
    },
    "c87c5730e72148d79ea99f604c667e86": {
     "model_module": "@jupyter-widgets/controls",
     "model_module_version": "1.5.0",
     "model_name": "HBoxModel",
     "state": {
      "_dom_classes": [],
      "_model_module": "@jupyter-widgets/controls",
      "_model_module_version": "1.5.0",
      "_model_name": "HBoxModel",
      "_view_count": null,
      "_view_module": "@jupyter-widgets/controls",
      "_view_module_version": "1.5.0",
      "_view_name": "HBoxView",
      "box_style": "",
      "children": [
       "IPY_MODEL_5e1387d6e1d142e99113b6da528b9a11",
       "IPY_MODEL_81ed78f1e83c463eb778a37d14bdc208",
       "IPY_MODEL_ea2dd27f412c4730837e287954dd64b6"
      ],
      "layout": "IPY_MODEL_b9999b3b39724bd48c7f13279586e204"
     }
    },
    "c97cce24145d43a9a3ab3eb232b5ce9d": {
     "model_module": "@jupyter-widgets/controls",
     "model_module_version": "1.5.0",
     "model_name": "DescriptionStyleModel",
     "state": {
      "_model_module": "@jupyter-widgets/controls",
      "_model_module_version": "1.5.0",
      "_model_name": "DescriptionStyleModel",
      "_view_count": null,
      "_view_module": "@jupyter-widgets/base",
      "_view_module_version": "1.2.0",
      "_view_name": "StyleView",
      "description_width": ""
     }
    },
    "cfd211ffe83147e8a1d70fb05fcc8264": {
     "model_module": "@jupyter-widgets/controls",
     "model_module_version": "1.5.0",
     "model_name": "DescriptionStyleModel",
     "state": {
      "_model_module": "@jupyter-widgets/controls",
      "_model_module_version": "1.5.0",
      "_model_name": "DescriptionStyleModel",
      "_view_count": null,
      "_view_module": "@jupyter-widgets/base",
      "_view_module_version": "1.2.0",
      "_view_name": "StyleView",
      "description_width": ""
     }
    },
    "d1d8591b42314d0da43a9250a5421f36": {
     "model_module": "@jupyter-widgets/base",
     "model_module_version": "1.2.0",
     "model_name": "LayoutModel",
     "state": {
      "_model_module": "@jupyter-widgets/base",
      "_model_module_version": "1.2.0",
      "_model_name": "LayoutModel",
      "_view_count": null,
      "_view_module": "@jupyter-widgets/base",
      "_view_module_version": "1.2.0",
      "_view_name": "LayoutView",
      "align_content": null,
      "align_items": null,
      "align_self": null,
      "border": null,
      "bottom": null,
      "display": null,
      "flex": null,
      "flex_flow": null,
      "grid_area": null,
      "grid_auto_columns": null,
      "grid_auto_flow": null,
      "grid_auto_rows": null,
      "grid_column": null,
      "grid_gap": null,
      "grid_row": null,
      "grid_template_areas": null,
      "grid_template_columns": null,
      "grid_template_rows": null,
      "height": null,
      "justify_content": null,
      "justify_items": null,
      "left": null,
      "margin": null,
      "max_height": null,
      "max_width": null,
      "min_height": null,
      "min_width": null,
      "object_fit": null,
      "object_position": null,
      "order": null,
      "overflow": null,
      "overflow_x": null,
      "overflow_y": null,
      "padding": null,
      "right": null,
      "top": null,
      "visibility": null,
      "width": null
     }
    },
    "d3efc0a12aa941c2a267cc8b98c85abf": {
     "model_module": "@jupyter-widgets/controls",
     "model_module_version": "1.5.0",
     "model_name": "HBoxModel",
     "state": {
      "_dom_classes": [],
      "_model_module": "@jupyter-widgets/controls",
      "_model_module_version": "1.5.0",
      "_model_name": "HBoxModel",
      "_view_count": null,
      "_view_module": "@jupyter-widgets/controls",
      "_view_module_version": "1.5.0",
      "_view_name": "HBoxView",
      "box_style": "",
      "children": [
       "IPY_MODEL_066670b77f974d0294d08a934dad6a03",
       "IPY_MODEL_88431661aa204a6ba46852cce442b776",
       "IPY_MODEL_3b8a9c0587ca452496ed95072884fbe7"
      ],
      "layout": "IPY_MODEL_305bd7dfc3094b0b8378e77d896e256a"
     }
    },
    "d61cefe606074358b15ffcb92106d7d5": {
     "model_module": "@jupyter-widgets/base",
     "model_module_version": "1.2.0",
     "model_name": "LayoutModel",
     "state": {
      "_model_module": "@jupyter-widgets/base",
      "_model_module_version": "1.2.0",
      "_model_name": "LayoutModel",
      "_view_count": null,
      "_view_module": "@jupyter-widgets/base",
      "_view_module_version": "1.2.0",
      "_view_name": "LayoutView",
      "align_content": null,
      "align_items": null,
      "align_self": null,
      "border": null,
      "bottom": null,
      "display": null,
      "flex": null,
      "flex_flow": null,
      "grid_area": null,
      "grid_auto_columns": null,
      "grid_auto_flow": null,
      "grid_auto_rows": null,
      "grid_column": null,
      "grid_gap": null,
      "grid_row": null,
      "grid_template_areas": null,
      "grid_template_columns": null,
      "grid_template_rows": null,
      "height": null,
      "justify_content": null,
      "justify_items": null,
      "left": null,
      "margin": null,
      "max_height": null,
      "max_width": null,
      "min_height": null,
      "min_width": null,
      "object_fit": null,
      "object_position": null,
      "order": null,
      "overflow": null,
      "overflow_x": null,
      "overflow_y": null,
      "padding": null,
      "right": null,
      "top": null,
      "visibility": null,
      "width": null
     }
    },
    "d6d18cae86144f0fa2908b2347f3680f": {
     "model_module": "@jupyter-widgets/controls",
     "model_module_version": "1.5.0",
     "model_name": "HBoxModel",
     "state": {
      "_dom_classes": [],
      "_model_module": "@jupyter-widgets/controls",
      "_model_module_version": "1.5.0",
      "_model_name": "HBoxModel",
      "_view_count": null,
      "_view_module": "@jupyter-widgets/controls",
      "_view_module_version": "1.5.0",
      "_view_name": "HBoxView",
      "box_style": "",
      "children": [
       "IPY_MODEL_2f7ec436c8404703bfaf7160a406a4ff",
       "IPY_MODEL_ac695488509348dfa42dcbbd0e83c153",
       "IPY_MODEL_7ad8bd6a0041497ab6cae65e8bb84571"
      ],
      "layout": "IPY_MODEL_f12ef94a15cb4fb48e22a5e0d2ca0c01"
     }
    },
    "dfc531220dd94e0d9f7a1ee4d75f2c06": {
     "model_module": "@jupyter-widgets/controls",
     "model_module_version": "1.5.0",
     "model_name": "DescriptionStyleModel",
     "state": {
      "_model_module": "@jupyter-widgets/controls",
      "_model_module_version": "1.5.0",
      "_model_name": "DescriptionStyleModel",
      "_view_count": null,
      "_view_module": "@jupyter-widgets/base",
      "_view_module_version": "1.2.0",
      "_view_name": "StyleView",
      "description_width": ""
     }
    },
    "ea2dd27f412c4730837e287954dd64b6": {
     "model_module": "@jupyter-widgets/controls",
     "model_module_version": "1.5.0",
     "model_name": "HTMLModel",
     "state": {
      "_dom_classes": [],
      "_model_module": "@jupyter-widgets/controls",
      "_model_module_version": "1.5.0",
      "_model_name": "HTMLModel",
      "_view_count": null,
      "_view_module": "@jupyter-widgets/controls",
      "_view_module_version": "1.5.0",
      "_view_name": "HTMLView",
      "description": "",
      "description_tooltip": null,
      "layout": "IPY_MODEL_ae87296f434f44318b4268cd3664d1bd",
      "placeholder": "​",
      "style": "IPY_MODEL_c97cce24145d43a9a3ab3eb232b5ce9d",
      "value": " 899k/899k [00:00&lt;00:00, 1.84MB/s]"
     }
    },
    "ea72efd5518f4d0c9f0e42ee005b1781": {
     "model_module": "@jupyter-widgets/base",
     "model_module_version": "1.2.0",
     "model_name": "LayoutModel",
     "state": {
      "_model_module": "@jupyter-widgets/base",
      "_model_module_version": "1.2.0",
      "_model_name": "LayoutModel",
      "_view_count": null,
      "_view_module": "@jupyter-widgets/base",
      "_view_module_version": "1.2.0",
      "_view_name": "LayoutView",
      "align_content": null,
      "align_items": null,
      "align_self": null,
      "border": null,
      "bottom": null,
      "display": null,
      "flex": null,
      "flex_flow": null,
      "grid_area": null,
      "grid_auto_columns": null,
      "grid_auto_flow": null,
      "grid_auto_rows": null,
      "grid_column": null,
      "grid_gap": null,
      "grid_row": null,
      "grid_template_areas": null,
      "grid_template_columns": null,
      "grid_template_rows": null,
      "height": null,
      "justify_content": null,
      "justify_items": null,
      "left": null,
      "margin": null,
      "max_height": null,
      "max_width": null,
      "min_height": null,
      "min_width": null,
      "object_fit": null,
      "object_position": null,
      "order": null,
      "overflow": null,
      "overflow_x": null,
      "overflow_y": null,
      "padding": null,
      "right": null,
      "top": null,
      "visibility": null,
      "width": null
     }
    },
    "f12ef94a15cb4fb48e22a5e0d2ca0c01": {
     "model_module": "@jupyter-widgets/base",
     "model_module_version": "1.2.0",
     "model_name": "LayoutModel",
     "state": {
      "_model_module": "@jupyter-widgets/base",
      "_model_module_version": "1.2.0",
      "_model_name": "LayoutModel",
      "_view_count": null,
      "_view_module": "@jupyter-widgets/base",
      "_view_module_version": "1.2.0",
      "_view_name": "LayoutView",
      "align_content": null,
      "align_items": null,
      "align_self": null,
      "border": null,
      "bottom": null,
      "display": null,
      "flex": null,
      "flex_flow": null,
      "grid_area": null,
      "grid_auto_columns": null,
      "grid_auto_flow": null,
      "grid_auto_rows": null,
      "grid_column": null,
      "grid_gap": null,
      "grid_row": null,
      "grid_template_areas": null,
      "grid_template_columns": null,
      "grid_template_rows": null,
      "height": null,
      "justify_content": null,
      "justify_items": null,
      "left": null,
      "margin": null,
      "max_height": null,
      "max_width": null,
      "min_height": null,
      "min_width": null,
      "object_fit": null,
      "object_position": null,
      "order": null,
      "overflow": null,
      "overflow_x": null,
      "overflow_y": null,
      "padding": null,
      "right": null,
      "top": null,
      "visibility": null,
      "width": null
     }
    },
    "f2753ed5a2274e9cb99e3643d19bb716": {
     "model_module": "@jupyter-widgets/controls",
     "model_module_version": "1.5.0",
     "model_name": "HTMLModel",
     "state": {
      "_dom_classes": [],
      "_model_module": "@jupyter-widgets/controls",
      "_model_module_version": "1.5.0",
      "_model_name": "HTMLModel",
      "_view_count": null,
      "_view_module": "@jupyter-widgets/controls",
      "_view_module_version": "1.5.0",
      "_view_name": "HTMLView",
      "description": "",
      "description_tooltip": null,
      "layout": "IPY_MODEL_bb2cd4aa5ded4e0c95b0e8f03390b9c9",
      "placeholder": "​",
      "style": "IPY_MODEL_4bee884a45a14454a950cc88b8a30564",
      "value": " 501M/501M [00:15&lt;00:00, 32.6MB/s]"
     }
    },
    "f3843638fc294899b2f7e061336b97f5": {
     "model_module": "@jupyter-widgets/controls",
     "model_module_version": "1.5.0",
     "model_name": "HTMLModel",
     "state": {
      "_dom_classes": [],
      "_model_module": "@jupyter-widgets/controls",
      "_model_module_version": "1.5.0",
      "_model_name": "HTMLModel",
      "_view_count": null,
      "_view_module": "@jupyter-widgets/controls",
      "_view_module_version": "1.5.0",
      "_view_name": "HTMLView",
      "description": "",
      "description_tooltip": null,
      "layout": "IPY_MODEL_628ef0b6706a4a929a946e61756c1f0b",
      "placeholder": "​",
      "style": "IPY_MODEL_cfd211ffe83147e8a1d70fb05fcc8264",
      "value": " 481/481 [00:00&lt;00:00, 12.1kB/s]"
     }
    },
    "f6a0a6b9c5be47f483fadb2311f05b26": {
     "model_module": "@jupyter-widgets/controls",
     "model_module_version": "1.5.0",
     "model_name": "ProgressStyleModel",
     "state": {
      "_model_module": "@jupyter-widgets/controls",
      "_model_module_version": "1.5.0",
      "_model_name": "ProgressStyleModel",
      "_view_count": null,
      "_view_module": "@jupyter-widgets/base",
      "_view_module_version": "1.2.0",
      "_view_name": "StyleView",
      "bar_color": null,
      "description_width": ""
     }
    }
   }
  }
 },
 "nbformat": 4,
 "nbformat_minor": 1
}
