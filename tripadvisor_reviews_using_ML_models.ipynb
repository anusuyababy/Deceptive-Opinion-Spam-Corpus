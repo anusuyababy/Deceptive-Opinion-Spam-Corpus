{
  "nbformat": 4,
  "nbformat_minor": 0,
  "metadata": {
    "colab": {
      "name": "tripadvisor reviews using ML models",
      "provenance": []
    },
    "kernelspec": {
      "name": "python3",
      "display_name": "Python 3"
    },
    "language_info": {
      "name": "python"
    }
  },
  "cells": [
    {
      "cell_type": "markdown",
      "metadata": {
        "id": "NcdUj8k41myX"
      },
      "source": [
        "# DECEPTIVE REVIEW CLASSIFIER"
      ]
    },
    {
      "cell_type": "code",
      "metadata": {
        "colab": {
          "base_uri": "https://localhost:8080/"
        },
        "id": "BynF617iuLF7",
        "outputId": "111167d9-563c-4b6c-febb-8b039d18397c"
      },
      "source": [
        "!pip install transformers==2.5.0"
      ],
      "execution_count": 346,
      "outputs": [
        {
          "output_type": "stream",
          "name": "stdout",
          "text": [
            "Requirement already satisfied: transformers==2.5.0 in /usr/local/lib/python3.7/dist-packages (2.5.0)\n",
            "Requirement already satisfied: tqdm>=4.27 in /usr/local/lib/python3.7/dist-packages (from transformers==2.5.0) (4.62.0)\n",
            "Requirement already satisfied: filelock in /usr/local/lib/python3.7/dist-packages (from transformers==2.5.0) (3.0.12)\n",
            "Requirement already satisfied: boto3 in /usr/local/lib/python3.7/dist-packages (from transformers==2.5.0) (1.18.37)\n",
            "Requirement already satisfied: regex!=2019.12.17 in /usr/local/lib/python3.7/dist-packages (from transformers==2.5.0) (2019.12.20)\n",
            "Requirement already satisfied: sacremoses in /usr/local/lib/python3.7/dist-packages (from transformers==2.5.0) (0.0.45)\n",
            "Requirement already satisfied: tokenizers==0.5.0 in /usr/local/lib/python3.7/dist-packages (from transformers==2.5.0) (0.5.0)\n",
            "Requirement already satisfied: requests in /usr/local/lib/python3.7/dist-packages (from transformers==2.5.0) (2.23.0)\n",
            "Requirement already satisfied: numpy in /usr/local/lib/python3.7/dist-packages (from transformers==2.5.0) (1.19.5)\n",
            "Requirement already satisfied: sentencepiece in /usr/local/lib/python3.7/dist-packages (from transformers==2.5.0) (0.1.96)\n",
            "Requirement already satisfied: s3transfer<0.6.0,>=0.5.0 in /usr/local/lib/python3.7/dist-packages (from boto3->transformers==2.5.0) (0.5.0)\n",
            "Requirement already satisfied: jmespath<1.0.0,>=0.7.1 in /usr/local/lib/python3.7/dist-packages (from boto3->transformers==2.5.0) (0.10.0)\n",
            "Requirement already satisfied: botocore<1.22.0,>=1.21.37 in /usr/local/lib/python3.7/dist-packages (from boto3->transformers==2.5.0) (1.21.37)\n",
            "Requirement already satisfied: python-dateutil<3.0.0,>=2.1 in /usr/local/lib/python3.7/dist-packages (from botocore<1.22.0,>=1.21.37->boto3->transformers==2.5.0) (2.8.2)\n",
            "Requirement already satisfied: urllib3<1.27,>=1.25.4 in /usr/local/lib/python3.7/dist-packages (from botocore<1.22.0,>=1.21.37->boto3->transformers==2.5.0) (1.25.11)\n",
            "Requirement already satisfied: six>=1.5 in /usr/local/lib/python3.7/dist-packages (from python-dateutil<3.0.0,>=2.1->botocore<1.22.0,>=1.21.37->boto3->transformers==2.5.0) (1.15.0)\n",
            "Requirement already satisfied: certifi>=2017.4.17 in /usr/local/lib/python3.7/dist-packages (from requests->transformers==2.5.0) (2021.5.30)\n",
            "Requirement already satisfied: chardet<4,>=3.0.2 in /usr/local/lib/python3.7/dist-packages (from requests->transformers==2.5.0) (3.0.4)\n",
            "Requirement already satisfied: idna<3,>=2.5 in /usr/local/lib/python3.7/dist-packages (from requests->transformers==2.5.0) (2.10)\n",
            "Requirement already satisfied: joblib in /usr/local/lib/python3.7/dist-packages (from sacremoses->transformers==2.5.0) (1.0.1)\n",
            "Requirement already satisfied: click in /usr/local/lib/python3.7/dist-packages (from sacremoses->transformers==2.5.0) (7.1.2)\n"
          ]
        }
      ]
    },
    {
      "cell_type": "code",
      "metadata": {
        "id": "sU-On9I2zH02"
      },
      "source": [
        "from tensorflow.keras.preprocessing.text import Tokenizer\n",
        "from tensorflow.keras.preprocessing.sequence import pad_sequences\n",
        "from tensorflow.keras.models import Sequential\n",
        "from tensorflow.keras.layers import Dense, Embedding, LSTM, Conv1D, MaxPool1D\n",
        "from sklearn.model_selection import train_test_split\n",
        "from sklearn.metrics import classification_report, accuracy_score"
      ],
      "execution_count": 347,
      "outputs": []
    },
    {
      "cell_type": "code",
      "metadata": {
        "id": "x5M5AtxGzNDz"
      },
      "source": [
        "#learning word embeddings on training data using Gensim library\n",
        "from gensim.models import Word2Vec, KeyedVectors\n",
        "# gensim modules\n",
        "from gensim import utils\n",
        "from gensim.models.doc2vec import LabeledSentence\n",
        "from gensim.models import Doc2Vec"
      ],
      "execution_count": 348,
      "outputs": []
    },
    {
      "cell_type": "code",
      "metadata": {
        "colab": {
          "base_uri": "https://localhost:8080/"
        },
        "id": "p0FBtCv5PxVc",
        "outputId": "34f5ea48-f1bb-485b-96a9-9a428f399d9a"
      },
      "source": [
        "#importing libraries\n",
        "import numpy as np\n",
        "import pandas as pd\n",
        "import nltk\n",
        "import matplotlib.pyplot as plt\n",
        "import statistics\n",
        "import math\n",
        "import os\n",
        "nltk.download('stopwords')\n",
        "nltk.download('punkt')\n",
        "nltk.download('wordnet')\n",
        "import re\n",
        "pd.set_option('max_colwidth', 800)"
      ],
      "execution_count": 349,
      "outputs": [
        {
          "output_type": "stream",
          "name": "stdout",
          "text": [
            "[nltk_data] Downloading package stopwords to /root/nltk_data...\n",
            "[nltk_data]   Package stopwords is already up-to-date!\n",
            "[nltk_data] Downloading package punkt to /root/nltk_data...\n",
            "[nltk_data]   Package punkt is already up-to-date!\n",
            "[nltk_data] Downloading package wordnet to /root/nltk_data...\n",
            "[nltk_data]   Package wordnet is already up-to-date!\n"
          ]
        }
      ]
    },
    {
      "cell_type": "code",
      "metadata": {
        "colab": {
          "base_uri": "https://localhost:8080/",
          "height": 692
        },
        "id": "5ND0MVSoyIzC",
        "outputId": "432f11bb-f4cb-4c3f-d96c-0bd8d54c79b3"
      },
      "source": [
        "#loading dataset\n",
        "df=pd.read_csv('/content/deceptive.csv')\n",
        "df.head()"
      ],
      "execution_count": 350,
      "outputs": [
        {
          "output_type": "execute_result",
          "data": {
            "text/html": [
              "<div>\n",
              "<style scoped>\n",
              "    .dataframe tbody tr th:only-of-type {\n",
              "        vertical-align: middle;\n",
              "    }\n",
              "\n",
              "    .dataframe tbody tr th {\n",
              "        vertical-align: top;\n",
              "    }\n",
              "\n",
              "    .dataframe thead th {\n",
              "        text-align: right;\n",
              "    }\n",
              "</style>\n",
              "<table border=\"1\" class=\"dataframe\">\n",
              "  <thead>\n",
              "    <tr style=\"text-align: right;\">\n",
              "      <th></th>\n",
              "      <th>deceptive</th>\n",
              "      <th>hotel</th>\n",
              "      <th>polarity</th>\n",
              "      <th>source</th>\n",
              "      <th>text</th>\n",
              "    </tr>\n",
              "  </thead>\n",
              "  <tbody>\n",
              "    <tr>\n",
              "      <th>0</th>\n",
              "      <td>truthful</td>\n",
              "      <td>conrad</td>\n",
              "      <td>positive</td>\n",
              "      <td>TripAdvisor</td>\n",
              "      <td>We stayed for a one night getaway with family on a thursday. Triple AAA rate of 173 was a steal. 7th floor room complete with 44in plasma TV bose stereo, voss and evian water, and gorgeous bathroom(no tub but was fine for us) Concierge was very helpful. You cannot beat this location... Only flaw was breakfast was pricey and service was very very slow(2hours for four kids and four adults on a friday morning) even though there were only two other tables in the restaurant. Food was very good so it was worth the wait. I would return in a heartbeat. A gem in chicago... \\n</td>\n",
              "    </tr>\n",
              "    <tr>\n",
              "      <th>1</th>\n",
              "      <td>truthful</td>\n",
              "      <td>hyatt</td>\n",
              "      <td>positive</td>\n",
              "      <td>TripAdvisor</td>\n",
              "      <td>Triple A rate with upgrade to view room was less than $200 which also included breakfast vouchers. Had a great view of river, lake, Wrigley Bldg. &amp; Tribune Bldg. Most major restaurants, Shopping, Sightseeing attractions within walking distance. Large room with a very comfortable bed. \\n</td>\n",
              "    </tr>\n",
              "    <tr>\n",
              "      <th>2</th>\n",
              "      <td>truthful</td>\n",
              "      <td>hyatt</td>\n",
              "      <td>positive</td>\n",
              "      <td>TripAdvisor</td>\n",
              "      <td>This comes a little late as I'm finally catching up on my reviews from the past several months:) A dear friend and I stayed at the Hyatt Regency in late October 2007 for one night while visiting a friend and her husband from out of town. This hotel is perfect, IMO. Easy check in and check out. Lovely, clean, comfortable rooms with great views of the city. I know this area pretty well and it's very convenient to many downtown Chicago attractions. We had dinner and went clubing with our friends around Division St.. We had no problems getting cabs back and forth to the Hyatt and there's even public transportation right near by but we didn't bother since we only needed cabs from and to the hotel. Parking, as is usual for Chicago, was expensive but we were able to get our car out quickly (h...</td>\n",
              "    </tr>\n",
              "    <tr>\n",
              "      <th>3</th>\n",
              "      <td>truthful</td>\n",
              "      <td>omni</td>\n",
              "      <td>positive</td>\n",
              "      <td>TripAdvisor</td>\n",
              "      <td>The Omni Chicago really delivers on all fronts, from the spaciousness of the rooms to the helpful staff to the prized location on Michigan Avenue. While this address in Chicago requires a high level of quality, the Omni delivers. Check in for myself and a whole group of people with me was under 3 minutes, the staff had plentiful recommendations for dining and events, and the rooms are some of the largest you'll find at this price range in Chicago. Even the 'standard' room has a separate living area and work desk. The fitness center has free weights, weight machines, and two rows of cardio equipment. I shared the room with 7 others and did not feel cramped in any way! All in all, a great property! \\n</td>\n",
              "    </tr>\n",
              "    <tr>\n",
              "      <th>4</th>\n",
              "      <td>truthful</td>\n",
              "      <td>hyatt</td>\n",
              "      <td>positive</td>\n",
              "      <td>TripAdvisor</td>\n",
              "      <td>I asked for a high floor away from the elevator and that is what I got. The room was pleasantly decorated, functional and very clean. I didn't need a whole lot of service but when I did they were pleasant and prompt. I used the fitness center which was well equipped and everything was in working order. It is in a great location at one end of the Michigan Avenue shopping district. \\n</td>\n",
              "    </tr>\n",
              "  </tbody>\n",
              "</table>\n",
              "</div>"
            ],
            "text/plain": [
              "  deceptive  ...                                                                                                                                                                                                                                                                                                                                                                                                                                                                                                                                                                                                                                                                                                                                                                                                                             text\n",
              "0  truthful  ...                                                                                                                                                                                                                                    We stayed for a one night getaway with family on a thursday. Triple AAA rate of 173 was a steal. 7th floor room complete with 44in plasma TV bose stereo, voss and evian water, and gorgeous bathroom(no tub but was fine for us) Concierge was very helpful. You cannot beat this location... Only flaw was breakfast was pricey and service was very very slow(2hours for four kids and four adults on a friday morning) even though there were only two other tables in the restaurant. Food was very good so it was worth the wait. I would return in a heartbeat. A gem in chicago... \\n\n",
              "1  truthful  ...                                                                                                                                                                                                                                                                                                                                                                                                                                                                                                                                  Triple A rate with upgrade to view room was less than $200 which also included breakfast vouchers. Had a great view of river, lake, Wrigley Bldg. & Tribune Bldg. Most major restaurants, Shopping, Sightseeing attractions within walking distance. Large room with a very comfortable bed. \\n\n",
              "2  truthful  ...  This comes a little late as I'm finally catching up on my reviews from the past several months:) A dear friend and I stayed at the Hyatt Regency in late October 2007 for one night while visiting a friend and her husband from out of town. This hotel is perfect, IMO. Easy check in and check out. Lovely, clean, comfortable rooms with great views of the city. I know this area pretty well and it's very convenient to many downtown Chicago attractions. We had dinner and went clubing with our friends around Division St.. We had no problems getting cabs back and forth to the Hyatt and there's even public transportation right near by but we didn't bother since we only needed cabs from and to the hotel. Parking, as is usual for Chicago, was expensive but we were able to get our car out quickly (h...\n",
              "3  truthful  ...                                                                                             The Omni Chicago really delivers on all fronts, from the spaciousness of the rooms to the helpful staff to the prized location on Michigan Avenue. While this address in Chicago requires a high level of quality, the Omni delivers. Check in for myself and a whole group of people with me was under 3 minutes, the staff had plentiful recommendations for dining and events, and the rooms are some of the largest you'll find at this price range in Chicago. Even the 'standard' room has a separate living area and work desk. The fitness center has free weights, weight machines, and two rows of cardio equipment. I shared the room with 7 others and did not feel cramped in any way! All in all, a great property! \\n\n",
              "4  truthful  ...                                                                                                                                                                                                                                                                                                                                                                                                                                I asked for a high floor away from the elevator and that is what I got. The room was pleasantly decorated, functional and very clean. I didn't need a whole lot of service but when I did they were pleasant and prompt. I used the fitness center which was well equipped and everything was in working order. It is in a great location at one end of the Michigan Avenue shopping district. \\n\n",
              "\n",
              "[5 rows x 5 columns]"
            ]
          },
          "metadata": {},
          "execution_count": 350
        }
      ]
    },
    {
      "cell_type": "code",
      "metadata": {
        "colab": {
          "base_uri": "https://localhost:8080/"
        },
        "id": "iQtMqQOayI3H",
        "outputId": "17e5d140-85b3-4f15-9b25-9fb17194d733"
      },
      "source": [
        "df.shape"
      ],
      "execution_count": 351,
      "outputs": [
        {
          "output_type": "execute_result",
          "data": {
            "text/plain": [
              "(1600, 5)"
            ]
          },
          "metadata": {},
          "execution_count": 351
        }
      ]
    },
    {
      "cell_type": "code",
      "metadata": {
        "colab": {
          "base_uri": "https://localhost:8080/"
        },
        "id": "mvJBu0hRyI6N",
        "outputId": "2a381864-8f43-4202-844b-078401c2c386"
      },
      "source": [
        "df['deceptive'].value_counts()"
      ],
      "execution_count": 352,
      "outputs": [
        {
          "output_type": "execute_result",
          "data": {
            "text/plain": [
              "truthful     800\n",
              "deceptive    800\n",
              "Name: deceptive, dtype: int64"
            ]
          },
          "metadata": {},
          "execution_count": 352
        }
      ]
    },
    {
      "cell_type": "code",
      "metadata": {
        "colab": {
          "base_uri": "https://localhost:8080/"
        },
        "id": "THLN8v0IyI9M",
        "outputId": "69ebfa45-6d2b-4167-bc66-6de2d2bea96a"
      },
      "source": [
        "df['polarity'].value_counts()"
      ],
      "execution_count": 353,
      "outputs": [
        {
          "output_type": "execute_result",
          "data": {
            "text/plain": [
              "negative    800\n",
              "positive    800\n",
              "Name: polarity, dtype: int64"
            ]
          },
          "metadata": {},
          "execution_count": 353
        }
      ]
    },
    {
      "cell_type": "markdown",
      "metadata": {
        "id": "Bb2SpDri0EQ9"
      },
      "source": [
        "This is perfectly balanced dataset. Our target variable is 'deceptive'."
      ]
    },
    {
      "cell_type": "code",
      "metadata": {
        "colab": {
          "base_uri": "https://localhost:8080/"
        },
        "id": "yu8kwTeVz7Qd",
        "outputId": "e74037ea-4a62-4377-eb60-825844ebbafd"
      },
      "source": [
        "df['hotel'].value_counts()"
      ],
      "execution_count": 354,
      "outputs": [
        {
          "output_type": "execute_result",
          "data": {
            "text/plain": [
              "intercontinental    80\n",
              "conrad              80\n",
              "james               80\n",
              "affinia             80\n",
              "hilton              80\n",
              "amalfi              80\n",
              "palmer              80\n",
              "sheraton            80\n",
              "monaco              80\n",
              "allegro             80\n",
              "talbott             80\n",
              "omni                80\n",
              "ambassador          80\n",
              "hyatt               80\n",
              "homewood            80\n",
              "swissotel           80\n",
              "fairmont            80\n",
              "sofitel             80\n",
              "hardrock            80\n",
              "knickerbocker       80\n",
              "Name: hotel, dtype: int64"
            ]
          },
          "metadata": {},
          "execution_count": 354
        }
      ]
    },
    {
      "cell_type": "code",
      "metadata": {
        "colab": {
          "base_uri": "https://localhost:8080/"
        },
        "id": "Wphr2Fa13mp3",
        "outputId": "5257fd5c-1f8d-4f8e-b343-556dd6a3e515"
      },
      "source": [
        "df['source'].value_counts()"
      ],
      "execution_count": 355,
      "outputs": [
        {
          "output_type": "execute_result",
          "data": {
            "text/plain": [
              "MTurk          800\n",
              "Web            400\n",
              "TripAdvisor    400\n",
              "Name: source, dtype: int64"
            ]
          },
          "metadata": {},
          "execution_count": 355
        }
      ]
    },
    {
      "cell_type": "markdown",
      "metadata": {
        "id": "BN716IOK3TrK"
      },
      "source": [
        "### DATA PREPROCESSING AND EDA"
      ]
    },
    {
      "cell_type": "code",
      "metadata": {
        "colab": {
          "base_uri": "https://localhost:8080/",
          "height": 297
        },
        "id": "5uFkuJhWz7UZ",
        "outputId": "0fecc0ec-14c3-4ada-bfc1-bc29ecc2528f"
      },
      "source": [
        "import seaborn as sns\n",
        "sns.countplot(x=df['deceptive'],hue='polarity',data=df)"
      ],
      "execution_count": 356,
      "outputs": [
        {
          "output_type": "execute_result",
          "data": {
            "text/plain": [
              "<matplotlib.axes._subplots.AxesSubplot at 0x7fa12fe9ba50>"
            ]
          },
          "metadata": {},
          "execution_count": 356
        },
        {
          "output_type": "display_data",
          "data": {
            "image/png": "[encoded data removed]",
            "text/plain": [
              "<Figure size 432x288 with 1 Axes>"
            ]
          },
          "metadata": {
            "needs_background": "light"
          }
        }
      ]
    },
    {
      "cell_type": "code",
      "metadata": {
        "colab": {
          "base_uri": "https://localhost:8080/",
          "height": 297
        },
        "id": "90xUlMklz7Yr",
        "outputId": "70aee777-fc33-476a-a896-7d0fe7bd81b1"
      },
      "source": [
        "sns.countplot(x=df['source'],hue='deceptive',data=df)"
      ],
      "execution_count": 357,
      "outputs": [
        {
          "output_type": "execute_result",
          "data": {
            "text/plain": [
              "<matplotlib.axes._subplots.AxesSubplot at 0x7fa120c13cd0>"
            ]
          },
          "metadata": {},
          "execution_count": 357
        },
        {
          "output_type": "display_data",
          "data": {
            "image/png": "[encoded data removed]",
            "text/plain": [
              "<Figure size 432x288 with 1 Axes>"
            ]
          },
          "metadata": {
            "needs_background": "light"
          }
        }
      ]
    },
    {
      "cell_type": "code",
      "metadata": {
        "colab": {
          "base_uri": "https://localhost:8080/"
        },
        "id": "FO1iHYpP5Fpe",
        "outputId": "9f0ba5fe-4474-43c4-ede8-0d8a1c094f51"
      },
      "source": [
        "df.columns"
      ],
      "execution_count": 358,
      "outputs": [
        {
          "output_type": "execute_result",
          "data": {
            "text/plain": [
              "Index(['deceptive', 'hotel', 'polarity', 'source', 'text'], dtype='object')"
            ]
          },
          "metadata": {},
          "execution_count": 358
        }
      ]
    },
    {
      "cell_type": "code",
      "metadata": {
        "id": "xnUdH8nrozA4"
      },
      "source": [
        "# so combining three text columns --- hotel, source, text\n",
        "#df['text'] = df['hotel']+' '+df['source']+' '+df['text']\n",
        "#df.head()"
      ],
      "execution_count": 359,
      "outputs": []
    },
    {
      "cell_type": "code",
      "metadata": {
        "colab": {
          "base_uri": "https://localhost:8080/",
          "height": 536
        },
        "id": "waroBGNWz7fm",
        "outputId": "56d70ace-6aae-4d9a-b4b4-639a908ed48c"
      },
      "source": [
        "# dropping unnecessary columns. \n",
        "# dropping hotel names\n",
        "# dropping the source of the data\n",
        "# dropping the polarity of the dataset\n",
        "df.drop(['hotel', 'polarity', 'source'], axis = 1, inplace=True)\n",
        "df.head()"
      ],
      "execution_count": 360,
      "outputs": [
        {
          "output_type": "execute_result",
          "data": {
            "text/html": [
              "<div>\n",
              "<style scoped>\n",
              "    .dataframe tbody tr th:only-of-type {\n",
              "        vertical-align: middle;\n",
              "    }\n",
              "\n",
              "    .dataframe tbody tr th {\n",
              "        vertical-align: top;\n",
              "    }\n",
              "\n",
              "    .dataframe thead th {\n",
              "        text-align: right;\n",
              "    }\n",
              "</style>\n",
              "<table border=\"1\" class=\"dataframe\">\n",
              "  <thead>\n",
              "    <tr style=\"text-align: right;\">\n",
              "      <th></th>\n",
              "      <th>deceptive</th>\n",
              "      <th>text</th>\n",
              "    </tr>\n",
              "  </thead>\n",
              "  <tbody>\n",
              "    <tr>\n",
              "      <th>0</th>\n",
              "      <td>truthful</td>\n",
              "      <td>We stayed for a one night getaway with family on a thursday. Triple AAA rate of 173 was a steal. 7th floor room complete with 44in plasma TV bose stereo, voss and evian water, and gorgeous bathroom(no tub but was fine for us) Concierge was very helpful. You cannot beat this location... Only flaw was breakfast was pricey and service was very very slow(2hours for four kids and four adults on a friday morning) even though there were only two other tables in the restaurant. Food was very good so it was worth the wait. I would return in a heartbeat. A gem in chicago... \\n</td>\n",
              "    </tr>\n",
              "    <tr>\n",
              "      <th>1</th>\n",
              "      <td>truthful</td>\n",
              "      <td>Triple A rate with upgrade to view room was less than $200 which also included breakfast vouchers. Had a great view of river, lake, Wrigley Bldg. &amp; Tribune Bldg. Most major restaurants, Shopping, Sightseeing attractions within walking distance. Large room with a very comfortable bed. \\n</td>\n",
              "    </tr>\n",
              "    <tr>\n",
              "      <th>2</th>\n",
              "      <td>truthful</td>\n",
              "      <td>This comes a little late as I'm finally catching up on my reviews from the past several months:) A dear friend and I stayed at the Hyatt Regency in late October 2007 for one night while visiting a friend and her husband from out of town. This hotel is perfect, IMO. Easy check in and check out. Lovely, clean, comfortable rooms with great views of the city. I know this area pretty well and it's very convenient to many downtown Chicago attractions. We had dinner and went clubing with our friends around Division St.. We had no problems getting cabs back and forth to the Hyatt and there's even public transportation right near by but we didn't bother since we only needed cabs from and to the hotel. Parking, as is usual for Chicago, was expensive but we were able to get our car out quickly (h...</td>\n",
              "    </tr>\n",
              "    <tr>\n",
              "      <th>3</th>\n",
              "      <td>truthful</td>\n",
              "      <td>The Omni Chicago really delivers on all fronts, from the spaciousness of the rooms to the helpful staff to the prized location on Michigan Avenue. While this address in Chicago requires a high level of quality, the Omni delivers. Check in for myself and a whole group of people with me was under 3 minutes, the staff had plentiful recommendations for dining and events, and the rooms are some of the largest you'll find at this price range in Chicago. Even the 'standard' room has a separate living area and work desk. The fitness center has free weights, weight machines, and two rows of cardio equipment. I shared the room with 7 others and did not feel cramped in any way! All in all, a great property! \\n</td>\n",
              "    </tr>\n",
              "    <tr>\n",
              "      <th>4</th>\n",
              "      <td>truthful</td>\n",
              "      <td>I asked for a high floor away from the elevator and that is what I got. The room was pleasantly decorated, functional and very clean. I didn't need a whole lot of service but when I did they were pleasant and prompt. I used the fitness center which was well equipped and everything was in working order. It is in a great location at one end of the Michigan Avenue shopping district. \\n</td>\n",
              "    </tr>\n",
              "  </tbody>\n",
              "</table>\n",
              "</div>"
            ],
            "text/plain": [
              "  deceptive                                                                                                                                                                                                                                                                                                                                                                                                                                                                                                                                                                                                                                                                                                                                                                                                                             text\n",
              "0  truthful                                                                                                                                                                                                                                    We stayed for a one night getaway with family on a thursday. Triple AAA rate of 173 was a steal. 7th floor room complete with 44in plasma TV bose stereo, voss and evian water, and gorgeous bathroom(no tub but was fine for us) Concierge was very helpful. You cannot beat this location... Only flaw was breakfast was pricey and service was very very slow(2hours for four kids and four adults on a friday morning) even though there were only two other tables in the restaurant. Food was very good so it was worth the wait. I would return in a heartbeat. A gem in chicago... \\n\n",
              "1  truthful                                                                                                                                                                                                                                                                                                                                                                                                                                                                                                                                  Triple A rate with upgrade to view room was less than $200 which also included breakfast vouchers. Had a great view of river, lake, Wrigley Bldg. & Tribune Bldg. Most major restaurants, Shopping, Sightseeing attractions within walking distance. Large room with a very comfortable bed. \\n\n",
              "2  truthful  This comes a little late as I'm finally catching up on my reviews from the past several months:) A dear friend and I stayed at the Hyatt Regency in late October 2007 for one night while visiting a friend and her husband from out of town. This hotel is perfect, IMO. Easy check in and check out. Lovely, clean, comfortable rooms with great views of the city. I know this area pretty well and it's very convenient to many downtown Chicago attractions. We had dinner and went clubing with our friends around Division St.. We had no problems getting cabs back and forth to the Hyatt and there's even public transportation right near by but we didn't bother since we only needed cabs from and to the hotel. Parking, as is usual for Chicago, was expensive but we were able to get our car out quickly (h...\n",
              "3  truthful                                                                                             The Omni Chicago really delivers on all fronts, from the spaciousness of the rooms to the helpful staff to the prized location on Michigan Avenue. While this address in Chicago requires a high level of quality, the Omni delivers. Check in for myself and a whole group of people with me was under 3 minutes, the staff had plentiful recommendations for dining and events, and the rooms are some of the largest you'll find at this price range in Chicago. Even the 'standard' room has a separate living area and work desk. The fitness center has free weights, weight machines, and two rows of cardio equipment. I shared the room with 7 others and did not feel cramped in any way! All in all, a great property! \\n\n",
              "4  truthful                                                                                                                                                                                                                                                                                                                                                                                                                                I asked for a high floor away from the elevator and that is what I got. The room was pleasantly decorated, functional and very clean. I didn't need a whole lot of service but when I did they were pleasant and prompt. I used the fitness center which was well equipped and everything was in working order. It is in a great location at one end of the Michigan Avenue shopping district. \\n"
            ]
          },
          "metadata": {},
          "execution_count": 360
        }
      ]
    },
    {
      "cell_type": "code",
      "metadata": {
        "id": "GqpULgn0z7ix"
      },
      "source": [
        "z = {'truthful' : 1, 'deceptive' : 0}  # 1 for truthful reviews and 0 for deceptive reviews\n",
        "df['deceptive'] = df['deceptive'].map(z)"
      ],
      "execution_count": 361,
      "outputs": []
    },
    {
      "cell_type": "code",
      "metadata": {
        "colab": {
          "base_uri": "https://localhost:8080/",
          "height": 536
        },
        "id": "Jps0pDmWz7mR",
        "outputId": "12462c70-c4ad-46b1-9f81-f6ca3a2ec37c"
      },
      "source": [
        "df.head()"
      ],
      "execution_count": 362,
      "outputs": [
        {
          "output_type": "execute_result",
          "data": {
            "text/html": [
              "<div>\n",
              "<style scoped>\n",
              "    .dataframe tbody tr th:only-of-type {\n",
              "        vertical-align: middle;\n",
              "    }\n",
              "\n",
              "    .dataframe tbody tr th {\n",
              "        vertical-align: top;\n",
              "    }\n",
              "\n",
              "    .dataframe thead th {\n",
              "        text-align: right;\n",
              "    }\n",
              "</style>\n",
              "<table border=\"1\" class=\"dataframe\">\n",
              "  <thead>\n",
              "    <tr style=\"text-align: right;\">\n",
              "      <th></th>\n",
              "      <th>deceptive</th>\n",
              "      <th>text</th>\n",
              "    </tr>\n",
              "  </thead>\n",
              "  <tbody>\n",
              "    <tr>\n",
              "      <th>0</th>\n",
              "      <td>1</td>\n",
              "      <td>We stayed for a one night getaway with family on a thursday. Triple AAA rate of 173 was a steal. 7th floor room complete with 44in plasma TV bose stereo, voss and evian water, and gorgeous bathroom(no tub but was fine for us) Concierge was very helpful. You cannot beat this location... Only flaw was breakfast was pricey and service was very very slow(2hours for four kids and four adults on a friday morning) even though there were only two other tables in the restaurant. Food was very good so it was worth the wait. I would return in a heartbeat. A gem in chicago... \\n</td>\n",
              "    </tr>\n",
              "    <tr>\n",
              "      <th>1</th>\n",
              "      <td>1</td>\n",
              "      <td>Triple A rate with upgrade to view room was less than $200 which also included breakfast vouchers. Had a great view of river, lake, Wrigley Bldg. &amp; Tribune Bldg. Most major restaurants, Shopping, Sightseeing attractions within walking distance. Large room with a very comfortable bed. \\n</td>\n",
              "    </tr>\n",
              "    <tr>\n",
              "      <th>2</th>\n",
              "      <td>1</td>\n",
              "      <td>This comes a little late as I'm finally catching up on my reviews from the past several months:) A dear friend and I stayed at the Hyatt Regency in late October 2007 for one night while visiting a friend and her husband from out of town. This hotel is perfect, IMO. Easy check in and check out. Lovely, clean, comfortable rooms with great views of the city. I know this area pretty well and it's very convenient to many downtown Chicago attractions. We had dinner and went clubing with our friends around Division St.. We had no problems getting cabs back and forth to the Hyatt and there's even public transportation right near by but we didn't bother since we only needed cabs from and to the hotel. Parking, as is usual for Chicago, was expensive but we were able to get our car out quickly (h...</td>\n",
              "    </tr>\n",
              "    <tr>\n",
              "      <th>3</th>\n",
              "      <td>1</td>\n",
              "      <td>The Omni Chicago really delivers on all fronts, from the spaciousness of the rooms to the helpful staff to the prized location on Michigan Avenue. While this address in Chicago requires a high level of quality, the Omni delivers. Check in for myself and a whole group of people with me was under 3 minutes, the staff had plentiful recommendations for dining and events, and the rooms are some of the largest you'll find at this price range in Chicago. Even the 'standard' room has a separate living area and work desk. The fitness center has free weights, weight machines, and two rows of cardio equipment. I shared the room with 7 others and did not feel cramped in any way! All in all, a great property! \\n</td>\n",
              "    </tr>\n",
              "    <tr>\n",
              "      <th>4</th>\n",
              "      <td>1</td>\n",
              "      <td>I asked for a high floor away from the elevator and that is what I got. The room was pleasantly decorated, functional and very clean. I didn't need a whole lot of service but when I did they were pleasant and prompt. I used the fitness center which was well equipped and everything was in working order. It is in a great location at one end of the Michigan Avenue shopping district. \\n</td>\n",
              "    </tr>\n",
              "  </tbody>\n",
              "</table>\n",
              "</div>"
            ],
            "text/plain": [
              "   deceptive                                                                                                                                                                                                                                                                                                                                                                                                                                                                                                                                                                                                                                                                                                                                                                                                                             text\n",
              "0          1                                                                                                                                                                                                                                    We stayed for a one night getaway with family on a thursday. Triple AAA rate of 173 was a steal. 7th floor room complete with 44in plasma TV bose stereo, voss and evian water, and gorgeous bathroom(no tub but was fine for us) Concierge was very helpful. You cannot beat this location... Only flaw was breakfast was pricey and service was very very slow(2hours for four kids and four adults on a friday morning) even though there were only two other tables in the restaurant. Food was very good so it was worth the wait. I would return in a heartbeat. A gem in chicago... \\n\n",
              "1          1                                                                                                                                                                                                                                                                                                                                                                                                                                                                                                                                  Triple A rate with upgrade to view room was less than $200 which also included breakfast vouchers. Had a great view of river, lake, Wrigley Bldg. & Tribune Bldg. Most major restaurants, Shopping, Sightseeing attractions within walking distance. Large room with a very comfortable bed. \\n\n",
              "2          1  This comes a little late as I'm finally catching up on my reviews from the past several months:) A dear friend and I stayed at the Hyatt Regency in late October 2007 for one night while visiting a friend and her husband from out of town. This hotel is perfect, IMO. Easy check in and check out. Lovely, clean, comfortable rooms with great views of the city. I know this area pretty well and it's very convenient to many downtown Chicago attractions. We had dinner and went clubing with our friends around Division St.. We had no problems getting cabs back and forth to the Hyatt and there's even public transportation right near by but we didn't bother since we only needed cabs from and to the hotel. Parking, as is usual for Chicago, was expensive but we were able to get our car out quickly (h...\n",
              "3          1                                                                                             The Omni Chicago really delivers on all fronts, from the spaciousness of the rooms to the helpful staff to the prized location on Michigan Avenue. While this address in Chicago requires a high level of quality, the Omni delivers. Check in for myself and a whole group of people with me was under 3 minutes, the staff had plentiful recommendations for dining and events, and the rooms are some of the largest you'll find at this price range in Chicago. Even the 'standard' room has a separate living area and work desk. The fitness center has free weights, weight machines, and two rows of cardio equipment. I shared the room with 7 others and did not feel cramped in any way! All in all, a great property! \\n\n",
              "4          1                                                                                                                                                                                                                                                                                                                                                                                                                                I asked for a high floor away from the elevator and that is what I got. The room was pleasantly decorated, functional and very clean. I didn't need a whole lot of service but when I did they were pleasant and prompt. I used the fitness center which was well equipped and everything was in working order. It is in a great location at one end of the Michigan Avenue shopping district. \\n"
            ]
          },
          "metadata": {},
          "execution_count": 362
        }
      ]
    },
    {
      "cell_type": "code",
      "metadata": {
        "id": "5n9gz6FMz7pQ"
      },
      "source": [
        "# Cleaning Raw tweets\n",
        "def clean_text(text):\n",
        "    \n",
        "    #remove emails\n",
        "    text = ' '.join([i for i in text.split() if '@' not in i])\n",
        "    \n",
        "    #remove web address\n",
        "    text = re.sub('http[s]?://\\S+', '', text)\n",
        "\n",
        "    #remove brackets and parantheses (and removing the text inside the brackets and parantheses)\n",
        "    text = re.sub(\"[\\(\\[].*?[\\)\\]]\", \"\", text)\n",
        "\n",
        "    #remove punctuations\n",
        "    text = re.sub(r'[^\\w\\s]', ' ', text)\n",
        "    \n",
        "    #Filter to allow only alphabets and numbers\n",
        "    text = re.sub(r'[^a-zA-Z\\']', ' ', text)\n",
        "    \n",
        "    #Remove Unicode characters\n",
        "    text = re.sub(r'[^\\x00-\\x7F]+', '', text)\n",
        "\n",
        "    #remove double spaces \n",
        "    text = re.sub('\\s+', ' ', text)\n",
        "    \n",
        "    return text"
      ],
      "execution_count": 363,
      "outputs": []
    },
    {
      "cell_type": "code",
      "metadata": {
        "colab": {
          "base_uri": "https://localhost:8080/",
          "height": 1000
        },
        "id": "MpwEfvotz7sZ",
        "outputId": "ec6df3ad-933a-48d5-cdd3-589b5e0e0e76"
      },
      "source": [
        "# applying that into function.\n",
        "df[\"clean_text\"] = df['text'].apply(lambda x: clean_text(x))\n",
        "df.head(10)"
      ],
      "execution_count": 364,
      "outputs": [
        {
          "output_type": "execute_result",
          "data": {
            "text/html": [
              "<div>\n",
              "<style scoped>\n",
              "    .dataframe tbody tr th:only-of-type {\n",
              "        vertical-align: middle;\n",
              "    }\n",
              "\n",
              "    .dataframe tbody tr th {\n",
              "        vertical-align: top;\n",
              "    }\n",
              "\n",
              "    .dataframe thead th {\n",
              "        text-align: right;\n",
              "    }\n",
              "</style>\n",
              "<table border=\"1\" class=\"dataframe\">\n",
              "  <thead>\n",
              "    <tr style=\"text-align: right;\">\n",
              "      <th></th>\n",
              "      <th>deceptive</th>\n",
              "      <th>text</th>\n",
              "      <th>clean_text</th>\n",
              "    </tr>\n",
              "  </thead>\n",
              "  <tbody>\n",
              "    <tr>\n",
              "      <th>0</th>\n",
              "      <td>1</td>\n",
              "      <td>We stayed for a one night getaway with family on a thursday. Triple AAA rate of 173 was a steal. 7th floor room complete with 44in plasma TV bose stereo, voss and evian water, and gorgeous bathroom(no tub but was fine for us) Concierge was very helpful. You cannot beat this location... Only flaw was breakfast was pricey and service was very very slow(2hours for four kids and four adults on a friday morning) even though there were only two other tables in the restaurant. Food was very good so it was worth the wait. I would return in a heartbeat. A gem in chicago... \\n</td>\n",
              "      <td>We stayed for a one night getaway with family on a thursday Triple AAA rate of was a steal th floor room complete with in plasma TV bose stereo voss and evian water and gorgeous bathroom Concierge was very helpful You cannot beat this location Only flaw was breakfast was pricey and service was very very slow even though there were only two other tables in the restaurant Food was very good so it was worth the wait I would return in a heartbeat A gem in chicago</td>\n",
              "    </tr>\n",
              "    <tr>\n",
              "      <th>1</th>\n",
              "      <td>1</td>\n",
              "      <td>Triple A rate with upgrade to view room was less than $200 which also included breakfast vouchers. Had a great view of river, lake, Wrigley Bldg. &amp; Tribune Bldg. Most major restaurants, Shopping, Sightseeing attractions within walking distance. Large room with a very comfortable bed. \\n</td>\n",
              "      <td>Triple A rate with upgrade to view room was less than which also included breakfast vouchers Had a great view of river lake Wrigley Bldg Tribune Bldg Most major restaurants Shopping Sightseeing attractions within walking distance Large room with a very comfortable bed</td>\n",
              "    </tr>\n",
              "    <tr>\n",
              "      <th>2</th>\n",
              "      <td>1</td>\n",
              "      <td>This comes a little late as I'm finally catching up on my reviews from the past several months:) A dear friend and I stayed at the Hyatt Regency in late October 2007 for one night while visiting a friend and her husband from out of town. This hotel is perfect, IMO. Easy check in and check out. Lovely, clean, comfortable rooms with great views of the city. I know this area pretty well and it's very convenient to many downtown Chicago attractions. We had dinner and went clubing with our friends around Division St.. We had no problems getting cabs back and forth to the Hyatt and there's even public transportation right near by but we didn't bother since we only needed cabs from and to the hotel. Parking, as is usual for Chicago, was expensive but we were able to get our car out quickly (h...</td>\n",
              "      <td>This comes a little late as I m finally catching up on my reviews from the past several months A dear friend and I stayed at the Hyatt Regency in late October for one night while visiting a friend and her husband from out of town This hotel is perfect IMO Easy check in and check out Lovely clean comfortable rooms with great views of the city I know this area pretty well and it s very convenient to many downtown Chicago attractions We had dinner and went clubing with our friends around Division St We had no problems getting cabs back and forth to the Hyatt and there s even public transportation right near by but we didn t bother since we only needed cabs from and to the hotel Parking as is usual for Chicago was expensive but we were able to get our car out quickly No problems at all and...</td>\n",
              "    </tr>\n",
              "    <tr>\n",
              "      <th>3</th>\n",
              "      <td>1</td>\n",
              "      <td>The Omni Chicago really delivers on all fronts, from the spaciousness of the rooms to the helpful staff to the prized location on Michigan Avenue. While this address in Chicago requires a high level of quality, the Omni delivers. Check in for myself and a whole group of people with me was under 3 minutes, the staff had plentiful recommendations for dining and events, and the rooms are some of the largest you'll find at this price range in Chicago. Even the 'standard' room has a separate living area and work desk. The fitness center has free weights, weight machines, and two rows of cardio equipment. I shared the room with 7 others and did not feel cramped in any way! All in all, a great property! \\n</td>\n",
              "      <td>The Omni Chicago really delivers on all fronts from the spaciousness of the rooms to the helpful staff to the prized location on Michigan Avenue While this address in Chicago requires a high level of quality the Omni delivers Check in for myself and a whole group of people with me was under minutes the staff had plentiful recommendations for dining and events and the rooms are some of the largest you ll find at this price range in Chicago Even the standard room has a separate living area and work desk The fitness center has free weights weight machines and two rows of cardio equipment I shared the room with others and did not feel cramped in any way All in all a great property</td>\n",
              "    </tr>\n",
              "    <tr>\n",
              "      <th>4</th>\n",
              "      <td>1</td>\n",
              "      <td>I asked for a high floor away from the elevator and that is what I got. The room was pleasantly decorated, functional and very clean. I didn't need a whole lot of service but when I did they were pleasant and prompt. I used the fitness center which was well equipped and everything was in working order. It is in a great location at one end of the Michigan Avenue shopping district. \\n</td>\n",
              "      <td>I asked for a high floor away from the elevator and that is what I got The room was pleasantly decorated functional and very clean I didn t need a whole lot of service but when I did they were pleasant and prompt I used the fitness center which was well equipped and everything was in working order It is in a great location at one end of the Michigan Avenue shopping district</td>\n",
              "    </tr>\n",
              "    <tr>\n",
              "      <th>5</th>\n",
              "      <td>1</td>\n",
              "      <td>I stayed at the Omni for one night following a business meeting at another downtown Chicago hotel. I was completely impressed by the service; all personnel during my stay were absolutely outstanding. I checked in quite early (no problem) and was efficiently checked in. My room had a somewhat heavy scent of air freshener (the ONLY negative from the entire stay), which was managed reasonably well by opening the windows. I don't generally require much during my hotel stays, but suffice to say the doorman, housekeeping, the night manager and bartender at 676, the day waiter at 676, and the concierge were amazing - I never waited more than about 30 seconds for anything. The room was very comfy and the amenities were superior. One very tiny complaint - there was no wastebasket near the sink ...</td>\n",
              "      <td>I stayed at the Omni for one night following a business meeting at another downtown Chicago hotel I was completely impressed by the service all personnel during my stay were absolutely outstanding I checked in quite early and was efficiently checked in My room had a somewhat heavy scent of air freshener which was managed reasonably well by opening the windows I don t generally require much during my hotel stays but suffice to say the doorman housekeeping the night manager and bartender at the day waiter at and the concierge were amazing I never waited more than about seconds for anything The room was very comfy and the amenities were superior One very tiny complaint there was no wastebasket near the sink or near the wet bar had to walk to the other end of the bathroom or sitting room t...</td>\n",
              "    </tr>\n",
              "    <tr>\n",
              "      <th>6</th>\n",
              "      <td>1</td>\n",
              "      <td>We stayed in the Conrad for 4 nights just before Thanksgiving. We had a corner room overlooking N Michigan Av and the Tribune Building. To say this is a 5 star hotel is to damn this place with faint praise - it is wonderful. The staff were unbelievably helpful. The standard of the room was superb - HD plasma screens, luxury bedlinens, iPod radio, huge bathroom. Location is unbeatable - right in the heart of everything - watched the whole Light Festival parade from the window. Breakfasts were excellent - no help yourself buffet here - with full and attentive table service. Would have no hesitation recommending or staying again in this hotel - 5 out of 5. \\n</td>\n",
              "      <td>We stayed in the Conrad for nights just before Thanksgiving We had a corner room overlooking N Michigan Av and the Tribune Building To say this is a star hotel is to damn this place with faint praise it is wonderful The staff were unbelievably helpful The standard of the room was superb HD plasma screens luxury bedlinens iPod radio huge bathroom Location is unbeatable right in the heart of everything watched the whole Light Festival parade from the window Breakfasts were excellent no help yourself buffet here with full and attentive table service Would have no hesitation recommending or staying again in this hotel out of</td>\n",
              "    </tr>\n",
              "    <tr>\n",
              "      <th>7</th>\n",
              "      <td>1</td>\n",
              "      <td>Just got back from 2 days up in Chicago shopping with girlfriends. First time I have stayed at the Omni. I did so because I saw a $129.00 rate that included $25.00 of free food on Travelzoo. The three of us (55 year olds) all stayed in one suite with 2 double beds and a VERY comfortable pull out sofa. We had plenty of room. Food in the restaurant was great, service was outstanding from everone we came into contact with, early morning delivery of free coffee, juice and hot chocolate was fabulous and recommendations from the staff on where to eat, time of movies, shopping areas, etc was really helpful. Need I mention the outstanding location? Simply the best! We all decided that the Omni is our new favorite hotel. \\n</td>\n",
              "      <td>Just got back from days up in Chicago shopping with girlfriends First time I have stayed at the Omni I did so because I saw a rate that included of free food on Travelzoo The three of us all stayed in one suite with double beds and a VERY comfortable pull out sofa We had plenty of room Food in the restaurant was great service was outstanding from everone we came into contact with early morning delivery of free coffee juice and hot chocolate was fabulous and recommendations from the staff on where to eat time of movies shopping areas etc was really helpful Need I mention the outstanding location Simply the best We all decided that the Omni is our new favorite hotel</td>\n",
              "    </tr>\n",
              "    <tr>\n",
              "      <th>8</th>\n",
              "      <td>1</td>\n",
              "      <td>We arrived at the Omni on 2nd September for a 6 day stay. I took ill when I left the plane after travelling from Manchester so I saw more of the room than I anticipated. I couldn't go out for 4 days. The room was spacious and clean. The bed was extremely comfortable. The bathroom was large and very clean. What more could you ask. We had coffee and juice left outside our door every morning at the time we requested. I managed to go to the 5th floor to see the sun terrace (outside the gym) Having a sun terrace in a city hotel is a great idea but the terrace was a bit grim. A few sunbeds on a concrete floor. There was also noise from an air conditioning unit. It could do with a bit of cheering up. What I saw of Chicago was very pleasing, it has something for everyone. Would I go back to th...</td>\n",
              "      <td>We arrived at the Omni on nd September for a day stay I took ill when I left the plane after travelling from Manchester so I saw more of the room than I anticipated I couldn t go out for days The room was spacious and clean The bed was extremely comfortable The bathroom was large and very clean What more could you ask We had coffee and juice left outside our door every morning at the time we requested I managed to go to the th floor to see the sun terrace Having a sun terrace in a city hotel is a great idea but the terrace was a bit grim A few sunbeds on a concrete floor There was also noise from an air conditioning unit It could do with a bit of cheering up What I saw of Chicago was very pleasing it has something for everyone Would I go back to the Omni yes I would</td>\n",
              "    </tr>\n",
              "    <tr>\n",
              "      <th>9</th>\n",
              "      <td>1</td>\n",
              "      <td>On our visit to Chicago, we chose the Hyatt due to its location in downtown, within walking distance to most major attractions, such as Sears Tower, Magnificent Mile, Grant/Millenium Parks, etc. Subway &amp; bus stops very close by to travel to other locations in the city . Overall the hotel was very nice, clean, and at a great location. Was in a safe area. Went to beautiful Wrigley Field and Soldier Field and saw both teams play. I love Chicago and would defenitely stay here again! \\n</td>\n",
              "      <td>On our visit to Chicago we chose the Hyatt due to its location in downtown within walking distance to most major attractions such as Sears Tower Magnificent Mile Grant Millenium Parks etc Subway bus stops very close by to travel to other locations in the city Overall the hotel was very nice clean and at a great location Was in a safe area Went to beautiful Wrigley Field and Soldier Field and saw both teams play I love Chicago and would defenitely stay here again</td>\n",
              "    </tr>\n",
              "  </tbody>\n",
              "</table>\n",
              "</div>"
            ],
            "text/plain": [
              "   deceptive  ...                                                                                                                                                                                                                                                                                                                                                                                                                                                                                                                                                                                                                                                                                                                                                                                                                       clean_text\n",
              "0          1  ...                                                                                                                                                                                                                                                                                                                                                 We stayed for a one night getaway with family on a thursday Triple AAA rate of was a steal th floor room complete with in plasma TV bose stereo voss and evian water and gorgeous bathroom Concierge was very helpful You cannot beat this location Only flaw was breakfast was pricey and service was very very slow even though there were only two other tables in the restaurant Food was very good so it was worth the wait I would return in a heartbeat A gem in chicago \n",
              "1          1  ...                                                                                                                                                                                                                                                                                                                                                                                                                                                                                                                                                    Triple A rate with upgrade to view room was less than which also included breakfast vouchers Had a great view of river lake Wrigley Bldg Tribune Bldg Most major restaurants Shopping Sightseeing attractions within walking distance Large room with a very comfortable bed \n",
              "2          1  ...  This comes a little late as I m finally catching up on my reviews from the past several months A dear friend and I stayed at the Hyatt Regency in late October for one night while visiting a friend and her husband from out of town This hotel is perfect IMO Easy check in and check out Lovely clean comfortable rooms with great views of the city I know this area pretty well and it s very convenient to many downtown Chicago attractions We had dinner and went clubing with our friends around Division St We had no problems getting cabs back and forth to the Hyatt and there s even public transportation right near by but we didn t bother since we only needed cabs from and to the hotel Parking as is usual for Chicago was expensive but we were able to get our car out quickly No problems at all and...\n",
              "3          1  ...                                                                                                                   The Omni Chicago really delivers on all fronts from the spaciousness of the rooms to the helpful staff to the prized location on Michigan Avenue While this address in Chicago requires a high level of quality the Omni delivers Check in for myself and a whole group of people with me was under minutes the staff had plentiful recommendations for dining and events and the rooms are some of the largest you ll find at this price range in Chicago Even the standard room has a separate living area and work desk The fitness center has free weights weight machines and two rows of cardio equipment I shared the room with others and did not feel cramped in any way All in all a great property \n",
              "4          1  ...                                                                                                                                                                                                                                                                                                                                                                                                                                        I asked for a high floor away from the elevator and that is what I got The room was pleasantly decorated functional and very clean I didn t need a whole lot of service but when I did they were pleasant and prompt I used the fitness center which was well equipped and everything was in working order It is in a great location at one end of the Michigan Avenue shopping district \n",
              "5          1  ...  I stayed at the Omni for one night following a business meeting at another downtown Chicago hotel I was completely impressed by the service all personnel during my stay were absolutely outstanding I checked in quite early and was efficiently checked in My room had a somewhat heavy scent of air freshener which was managed reasonably well by opening the windows I don t generally require much during my hotel stays but suffice to say the doorman housekeeping the night manager and bartender at the day waiter at and the concierge were amazing I never waited more than about seconds for anything The room was very comfy and the amenities were superior One very tiny complaint there was no wastebasket near the sink or near the wet bar had to walk to the other end of the bathroom or sitting room t...\n",
              "6          1  ...                                                                                                                                                                            We stayed in the Conrad for nights just before Thanksgiving We had a corner room overlooking N Michigan Av and the Tribune Building To say this is a star hotel is to damn this place with faint praise it is wonderful The staff were unbelievably helpful The standard of the room was superb HD plasma screens luxury bedlinens iPod radio huge bathroom Location is unbeatable right in the heart of everything watched the whole Light Festival parade from the window Breakfasts were excellent no help yourself buffet here with full and attentive table service Would have no hesitation recommending or staying again in this hotel out of \n",
              "7          1  ...                                                                                                                                Just got back from days up in Chicago shopping with girlfriends First time I have stayed at the Omni I did so because I saw a rate that included of free food on Travelzoo The three of us all stayed in one suite with double beds and a VERY comfortable pull out sofa We had plenty of room Food in the restaurant was great service was outstanding from everone we came into contact with early morning delivery of free coffee juice and hot chocolate was fabulous and recommendations from the staff on where to eat time of movies shopping areas etc was really helpful Need I mention the outstanding location Simply the best We all decided that the Omni is our new favorite hotel \n",
              "8          1  ...                        We arrived at the Omni on nd September for a day stay I took ill when I left the plane after travelling from Manchester so I saw more of the room than I anticipated I couldn t go out for days The room was spacious and clean The bed was extremely comfortable The bathroom was large and very clean What more could you ask We had coffee and juice left outside our door every morning at the time we requested I managed to go to the th floor to see the sun terrace Having a sun terrace in a city hotel is a great idea but the terrace was a bit grim A few sunbeds on a concrete floor There was also noise from an air conditioning unit It could do with a bit of cheering up What I saw of Chicago was very pleasing it has something for everyone Would I go back to the Omni yes I would \n",
              "9          1  ...                                                                                                                                                                                                                                                                                                                                              On our visit to Chicago we chose the Hyatt due to its location in downtown within walking distance to most major attractions such as Sears Tower Magnificent Mile Grant Millenium Parks etc Subway bus stops very close by to travel to other locations in the city Overall the hotel was very nice clean and at a great location Was in a safe area Went to beautiful Wrigley Field and Soldier Field and saw both teams play I love Chicago and would defenitely stay here again \n",
              "\n",
              "[10 rows x 3 columns]"
            ]
          },
          "metadata": {},
          "execution_count": 364
        }
      ]
    },
    {
      "cell_type": "code",
      "metadata": {
        "id": "rUUuX-sfz7vM"
      },
      "source": [
        "# dropping the uncleaned text column \"text\"\n",
        "df = df.drop(['text'], axis=1)"
      ],
      "execution_count": 365,
      "outputs": []
    },
    {
      "cell_type": "code",
      "metadata": {
        "colab": {
          "base_uri": "https://localhost:8080/",
          "height": 501
        },
        "id": "z1ztjGdL8Cap",
        "outputId": "c53fe96a-1b2e-4ce2-a1df-3cbbd28e5988"
      },
      "source": [
        "# renaming the column\n",
        "df.rename(columns = {'clean_text':'text', 'deceptive' : 'label'}, inplace = True)\n",
        "df.head()"
      ],
      "execution_count": 366,
      "outputs": [
        {
          "output_type": "execute_result",
          "data": {
            "text/html": [
              "<div>\n",
              "<style scoped>\n",
              "    .dataframe tbody tr th:only-of-type {\n",
              "        vertical-align: middle;\n",
              "    }\n",
              "\n",
              "    .dataframe tbody tr th {\n",
              "        vertical-align: top;\n",
              "    }\n",
              "\n",
              "    .dataframe thead th {\n",
              "        text-align: right;\n",
              "    }\n",
              "</style>\n",
              "<table border=\"1\" class=\"dataframe\">\n",
              "  <thead>\n",
              "    <tr style=\"text-align: right;\">\n",
              "      <th></th>\n",
              "      <th>label</th>\n",
              "      <th>text</th>\n",
              "    </tr>\n",
              "  </thead>\n",
              "  <tbody>\n",
              "    <tr>\n",
              "      <th>0</th>\n",
              "      <td>1</td>\n",
              "      <td>We stayed for a one night getaway with family on a thursday Triple AAA rate of was a steal th floor room complete with in plasma TV bose stereo voss and evian water and gorgeous bathroom Concierge was very helpful You cannot beat this location Only flaw was breakfast was pricey and service was very very slow even though there were only two other tables in the restaurant Food was very good so it was worth the wait I would return in a heartbeat A gem in chicago</td>\n",
              "    </tr>\n",
              "    <tr>\n",
              "      <th>1</th>\n",
              "      <td>1</td>\n",
              "      <td>Triple A rate with upgrade to view room was less than which also included breakfast vouchers Had a great view of river lake Wrigley Bldg Tribune Bldg Most major restaurants Shopping Sightseeing attractions within walking distance Large room with a very comfortable bed</td>\n",
              "    </tr>\n",
              "    <tr>\n",
              "      <th>2</th>\n",
              "      <td>1</td>\n",
              "      <td>This comes a little late as I m finally catching up on my reviews from the past several months A dear friend and I stayed at the Hyatt Regency in late October for one night while visiting a friend and her husband from out of town This hotel is perfect IMO Easy check in and check out Lovely clean comfortable rooms with great views of the city I know this area pretty well and it s very convenient to many downtown Chicago attractions We had dinner and went clubing with our friends around Division St We had no problems getting cabs back and forth to the Hyatt and there s even public transportation right near by but we didn t bother since we only needed cabs from and to the hotel Parking as is usual for Chicago was expensive but we were able to get our car out quickly No problems at all and...</td>\n",
              "    </tr>\n",
              "    <tr>\n",
              "      <th>3</th>\n",
              "      <td>1</td>\n",
              "      <td>The Omni Chicago really delivers on all fronts from the spaciousness of the rooms to the helpful staff to the prized location on Michigan Avenue While this address in Chicago requires a high level of quality the Omni delivers Check in for myself and a whole group of people with me was under minutes the staff had plentiful recommendations for dining and events and the rooms are some of the largest you ll find at this price range in Chicago Even the standard room has a separate living area and work desk The fitness center has free weights weight machines and two rows of cardio equipment I shared the room with others and did not feel cramped in any way All in all a great property</td>\n",
              "    </tr>\n",
              "    <tr>\n",
              "      <th>4</th>\n",
              "      <td>1</td>\n",
              "      <td>I asked for a high floor away from the elevator and that is what I got The room was pleasantly decorated functional and very clean I didn t need a whole lot of service but when I did they were pleasant and prompt I used the fitness center which was well equipped and everything was in working order It is in a great location at one end of the Michigan Avenue shopping district</td>\n",
              "    </tr>\n",
              "  </tbody>\n",
              "</table>\n",
              "</div>"
            ],
            "text/plain": [
              "   label                                                                                                                                                                                                                                                                                                                                                                                                                                                                                                                                                                                                                                                                                                                                                                                                                             text\n",
              "0      1                                                                                                                                                                                                                                                                                                                                                 We stayed for a one night getaway with family on a thursday Triple AAA rate of was a steal th floor room complete with in plasma TV bose stereo voss and evian water and gorgeous bathroom Concierge was very helpful You cannot beat this location Only flaw was breakfast was pricey and service was very very slow even though there were only two other tables in the restaurant Food was very good so it was worth the wait I would return in a heartbeat A gem in chicago \n",
              "1      1                                                                                                                                                                                                                                                                                                                                                                                                                                                                                                                                                    Triple A rate with upgrade to view room was less than which also included breakfast vouchers Had a great view of river lake Wrigley Bldg Tribune Bldg Most major restaurants Shopping Sightseeing attractions within walking distance Large room with a very comfortable bed \n",
              "2      1  This comes a little late as I m finally catching up on my reviews from the past several months A dear friend and I stayed at the Hyatt Regency in late October for one night while visiting a friend and her husband from out of town This hotel is perfect IMO Easy check in and check out Lovely clean comfortable rooms with great views of the city I know this area pretty well and it s very convenient to many downtown Chicago attractions We had dinner and went clubing with our friends around Division St We had no problems getting cabs back and forth to the Hyatt and there s even public transportation right near by but we didn t bother since we only needed cabs from and to the hotel Parking as is usual for Chicago was expensive but we were able to get our car out quickly No problems at all and...\n",
              "3      1                                                                                                                   The Omni Chicago really delivers on all fronts from the spaciousness of the rooms to the helpful staff to the prized location on Michigan Avenue While this address in Chicago requires a high level of quality the Omni delivers Check in for myself and a whole group of people with me was under minutes the staff had plentiful recommendations for dining and events and the rooms are some of the largest you ll find at this price range in Chicago Even the standard room has a separate living area and work desk The fitness center has free weights weight machines and two rows of cardio equipment I shared the room with others and did not feel cramped in any way All in all a great property \n",
              "4      1                                                                                                                                                                                                                                                                                                                                                                                                                                        I asked for a high floor away from the elevator and that is what I got The room was pleasantly decorated functional and very clean I didn t need a whole lot of service but when I did they were pleasant and prompt I used the fitness center which was well equipped and everything was in working order It is in a great location at one end of the Michigan Avenue shopping district "
            ]
          },
          "metadata": {},
          "execution_count": 366
        }
      ]
    },
    {
      "cell_type": "code",
      "metadata": {
        "id": "toXokgvVtCRs"
      },
      "source": [
        "# preprocessing the data (removing stopwords, convert the sentence to lower case, and also applying lemmatization to get meaningful words )\n",
        "from nltk.corpus import stopwords\n",
        "from nltk.stem import WordNetLemmatizer\n",
        "wnl=WordNetLemmatizer()\n",
        "corpus=[]\n",
        "def clean_text(review):\n",
        "  review = review.lower()\n",
        "  review = review.split()\n",
        "  review = [wnl.lemmatize(word) for word in review if word not in set(stopwords.words('english'))]\n",
        "  review = ' '.join(review)\n",
        "  return review"
      ],
      "execution_count": 367,
      "outputs": []
    },
    {
      "cell_type": "code",
      "metadata": {
        "colab": {
          "base_uri": "https://localhost:8080/",
          "height": 397
        },
        "id": "nuNUbBoCtCXQ",
        "outputId": "4a33f306-ef39-408d-89ef-98217fc35a1c"
      },
      "source": [
        "df['text']=df['text'].apply(clean_text)\n",
        "df.head()"
      ],
      "execution_count": 368,
      "outputs": [
        {
          "output_type": "execute_result",
          "data": {
            "text/html": [
              "<div>\n",
              "<style scoped>\n",
              "    .dataframe tbody tr th:only-of-type {\n",
              "        vertical-align: middle;\n",
              "    }\n",
              "\n",
              "    .dataframe tbody tr th {\n",
              "        vertical-align: top;\n",
              "    }\n",
              "\n",
              "    .dataframe thead th {\n",
              "        text-align: right;\n",
              "    }\n",
              "</style>\n",
              "<table border=\"1\" class=\"dataframe\">\n",
              "  <thead>\n",
              "    <tr style=\"text-align: right;\">\n",
              "      <th></th>\n",
              "      <th>label</th>\n",
              "      <th>text</th>\n",
              "    </tr>\n",
              "  </thead>\n",
              "  <tbody>\n",
              "    <tr>\n",
              "      <th>0</th>\n",
              "      <td>1</td>\n",
              "      <td>stayed one night getaway family thursday triple aaa rate steal th floor room complete plasma tv bose stereo voss evian water gorgeous bathroom concierge helpful cannot beat location flaw breakfast pricey service slow even though two table restaurant food good worth wait would return heartbeat gem chicago</td>\n",
              "    </tr>\n",
              "    <tr>\n",
              "      <th>1</th>\n",
              "      <td>1</td>\n",
              "      <td>triple rate upgrade view room le also included breakfast voucher great view river lake wrigley bldg tribune bldg major restaurant shopping sightseeing attraction within walking distance large room comfortable bed</td>\n",
              "    </tr>\n",
              "    <tr>\n",
              "      <th>2</th>\n",
              "      <td>1</td>\n",
              "      <td>come little late finally catching review past several month dear friend stayed hyatt regency late october one night visiting friend husband town hotel perfect imo easy check check lovely clean comfortable room great view city know area pretty well convenient many downtown chicago attraction dinner went clubing friend around division st problem getting cab back forth hyatt even public transportation right near bother since needed cab hotel parking usual chicago expensive able get car quickly problem best part got rate hotwire downright steal area chicago quality hotel</td>\n",
              "    </tr>\n",
              "    <tr>\n",
              "      <th>3</th>\n",
              "      <td>1</td>\n",
              "      <td>omni chicago really delivers front spaciousness room helpful staff prized location michigan avenue address chicago requires high level quality omni delivers check whole group people minute staff plentiful recommendation dining event room largest find price range chicago even standard room separate living area work desk fitness center free weight weight machine two row cardio equipment shared room others feel cramped way great property</td>\n",
              "    </tr>\n",
              "    <tr>\n",
              "      <th>4</th>\n",
              "      <td>1</td>\n",
              "      <td>asked high floor away elevator got room pleasantly decorated functional clean need whole lot service pleasant prompt used fitness center well equipped everything working order great location one end michigan avenue shopping district</td>\n",
              "    </tr>\n",
              "  </tbody>\n",
              "</table>\n",
              "</div>"
            ],
            "text/plain": [
              "   label                                                                                                                                                                                                                                                                                                                                                                                                                                                                                                                                                                                           text\n",
              "0      1                                                                                                                                                                                                                                                                              stayed one night getaway family thursday triple aaa rate steal th floor room complete plasma tv bose stereo voss evian water gorgeous bathroom concierge helpful cannot beat location flaw breakfast pricey service slow even though two table restaurant food good worth wait would return heartbeat gem chicago\n",
              "1      1                                                                                                                                                                                                                                                                                                                                                                           triple rate upgrade view room le also included breakfast voucher great view river lake wrigley bldg tribune bldg major restaurant shopping sightseeing attraction within walking distance large room comfortable bed\n",
              "2      1  come little late finally catching review past several month dear friend stayed hyatt regency late october one night visiting friend husband town hotel perfect imo easy check check lovely clean comfortable room great view city know area pretty well convenient many downtown chicago attraction dinner went clubing friend around division st problem getting cab back forth hyatt even public transportation right near bother since needed cab hotel parking usual chicago expensive able get car quickly problem best part got rate hotwire downright steal area chicago quality hotel\n",
              "3      1                                                                                                                                         omni chicago really delivers front spaciousness room helpful staff prized location michigan avenue address chicago requires high level quality omni delivers check whole group people minute staff plentiful recommendation dining event room largest find price range chicago even standard room separate living area work desk fitness center free weight weight machine two row cardio equipment shared room others feel cramped way great property\n",
              "4      1                                                                                                                                                                                                                                                                                                                                                       asked high floor away elevator got room pleasantly decorated functional clean need whole lot service pleasant prompt used fitness center well equipped everything working order great location one end michigan avenue shopping district"
            ]
          },
          "metadata": {},
          "execution_count": 368
        }
      ]
    },
    {
      "cell_type": "markdown",
      "metadata": {
        "id": "4b8Tt5FJ1-5S"
      },
      "source": [
        "### WORD VISUALIZATION"
      ]
    },
    {
      "cell_type": "code",
      "metadata": {
        "id": "N13YQldl8Ci5"
      },
      "source": [
        "from wordcloud import WordCloud, STOPWORDS\n",
        "import matplotlib.pyplot as plt"
      ],
      "execution_count": 369,
      "outputs": []
    },
    {
      "cell_type": "code",
      "metadata": {
        "colab": {
          "base_uri": "https://localhost:8080/"
        },
        "id": "T32RVBX38Coq",
        "outputId": "5bb0bd5a-d96e-4165-904b-28cf76f90c88"
      },
      "source": [
        "#making worldcloud\n",
        "from wordcloud import WordCloud, STOPWORDS\n",
        "from nltk.corpus import stopwords\n",
        "stop_words=set(stopwords.words(\"english\"))\n",
        "print(stop_words)"
      ],
      "execution_count": 370,
      "outputs": [
        {
          "output_type": "stream",
          "name": "stdout",
          "text": [
            "{'from', 'that', 'some', 'ma', 't', \"don't\", 'after', 'shouldn', 'so', \"mightn't\", 'm', 'these', 'own', 'aren', 'most', 'your', 'the', 'isn', 'both', 'at', 'don', 'shan', 'being', \"hadn't\", 'until', \"you'd\", 'this', 'should', 'ain', 'him', \"needn't\", 'can', 'an', 'here', \"couldn't\", 'mightn', \"should've\", 'needn', 'but', 'how', 'weren', 'with', 'where', 'haven', 'down', 'has', \"aren't\", 'did', 'won', 'she', 'does', 'me', 'other', 'mustn', 'more', 'a', 'just', 'in', \"doesn't\", 'when', 'they', \"mustn't\", 'is', 'ourselves', 'now', 'yourselves', 'y', 'doing', 'of', 'their', 'which', 'against', 'yourself', 'her', 'no', 'd', 'itself', 'out', 'each', 'do', 'was', 're', 'hadn', 'such', 'were', 'then', 'hers', \"it's\", 'it', 've', 'what', \"weren't\", 'whom', 'yours', 'why', 'i', 'himself', 'and', 'there', 'any', 'been', 'few', 'be', 'once', 'those', 'couldn', 'he', \"she's\", 'am', 'by', 'ours', 'having', 'or', \"wouldn't\", 'who', 'wasn', 'while', 'over', 'through', 'hasn', \"haven't\", 'on', 'you', 'same', 'before', 'his', 'about', 'herself', 'because', 'too', 'up', 'again', 'll', \"wasn't\", 'my', 'if', 'o', 'our', 'into', 'all', 'theirs', 'are', 'to', 'off', \"you've\", 'above', 'didn', \"you're\", 'below', \"shan't\", 'than', 'doesn', 'as', 'further', 'will', 'had', \"isn't\", 'its', 'for', 'themselves', \"hasn't\", 'during', 'nor', 'wouldn', \"shouldn't\", 'myself', \"won't\", 'have', \"you'll\", 's', 'between', 'not', 'them', 'we', \"that'll\", 'very', 'under', 'only', \"didn't\"}\n"
          ]
        }
      ]
    },
    {
      "cell_type": "code",
      "metadata": {
        "colab": {
          "base_uri": "https://localhost:8080/",
          "height": 0
        },
        "id": "ARcopxzKyJB8",
        "outputId": "634464ac-1407-41fc-a3f5-283621958dce"
      },
      "source": [
        "# visualizing the most frequent words using matplot library\n",
        "comment_words = ' '\n",
        "for words in df['text']: \n",
        "    comment_words = comment_words + words + ' '\n",
        "    \n",
        "wordcloud = WordCloud(width = 600, height = 600, \n",
        "                background_color='white' , \n",
        "                stopwords = stop_words, \n",
        "                min_font_size = 10).generate(comment_words) \n",
        "  \n",
        "# plot the WordCloud image                        \n",
        "plt.figure(figsize = (5, 5), facecolor = None) \n",
        "plt.imshow(wordcloud) \n",
        "plt.axis(\"off\") \n",
        "plt.tight_layout(pad = 0)"
      ],
      "execution_count": 371,
      "outputs": [
        {
          "output_type": "display_data",
          "data": {
            "image/png": "[encoded data removed]",
            "text/plain": [
              "<Figure size 360x360 with 1 Axes>"
            ]
          },
          "metadata": {
            "needs_background": "light"
          }
        }
      ]
    },
    {
      "cell_type": "markdown",
      "metadata": {
        "id": "isFlerQ1ICGg"
      },
      "source": [
        "### FEATURE EXTRACTION USING TF-IDF VECTORIZER"
      ]
    },
    {
      "cell_type": "code",
      "metadata": {
        "id": "-hymR731xZ30"
      },
      "source": [
        "from sklearn.feature_extraction.text import TfidfVectorizer, CountVectorizer \n",
        "import gensim"
      ],
      "execution_count": 372,
      "outputs": []
    },
    {
      "cell_type": "code",
      "metadata": {
        "colab": {
          "base_uri": "https://localhost:8080/"
        },
        "id": "Hh2OwR2KxaEG",
        "outputId": "1f204055-e07f-4a8e-eb6e-e17948b89fa8"
      },
      "source": [
        "tfidf_vectorizer = TfidfVectorizer(max_df=0.90, min_df=2, max_features=3000, ngram_range=(1,3), stop_words='english')\n",
        "tfidf = tfidf_vectorizer.fit_transform(df['text'])\n",
        "tfidf.shape"
      ],
      "execution_count": 373,
      "outputs": [
        {
          "output_type": "execute_result",
          "data": {
            "text/plain": [
              "(1600, 3000)"
            ]
          },
          "metadata": {},
          "execution_count": 373
        }
      ]
    },
    {
      "cell_type": "markdown",
      "metadata": {
        "id": "OBHw57Wrz4Gd"
      },
      "source": [
        "### FEATURE EXTRACTION USING WORD2VEC"
      ]
    },
    {
      "cell_type": "code",
      "metadata": {
        "id": "PY2zp9Blvjyt"
      },
      "source": [
        "y= df['label']"
      ],
      "execution_count": 374,
      "outputs": []
    },
    {
      "cell_type": "code",
      "metadata": {
        "id": "jOhPWHVTzUMO",
        "colab": {
          "base_uri": "https://localhost:8080/"
        },
        "outputId": "3354219a-be2d-4288-aa58-41a47c75228e"
      },
      "source": [
        "tokenizer = nltk.tokenize.RegexpTokenizer(r'\\w+')\n",
        "tokenizer"
      ],
      "execution_count": 375,
      "outputs": [
        {
          "output_type": "execute_result",
          "data": {
            "text/plain": [
              "RegexpTokenizer(pattern='\\\\w+', gaps=False, discard_empty=True, flags=<RegexFlag.UNICODE|DOTALL|MULTILINE: 56>)"
            ]
          },
          "metadata": {},
          "execution_count": 375
        }
      ]
    },
    {
      "cell_type": "code",
      "metadata": {
        "colab": {
          "base_uri": "https://localhost:8080/"
        },
        "id": "D99foyyM6FlQ",
        "outputId": "47e95e30-ace1-40d3-85ff-b710907b1c14"
      },
      "source": [
        "tokenized_tweet = df['text'].apply(lambda x: x.split()) # tokenizing \n",
        "tokenized_tweet"
      ],
      "execution_count": 376,
      "outputs": [
        {
          "output_type": "execute_result",
          "data": {
            "text/plain": [
              "0                                                                                                                                                                                                                                                                                                                                                                                                                                                               [stayed, one, night, getaway, family, thursday, triple, aaa, rate, steal, th, floor, room, complete, plasma, tv, bose, stereo, voss, evian, water, gorgeous, bathroom, concierge, helpful, cannot, beat, location, flaw, breakfast, pricey, service, slow, even, though, two, table, restaurant, food, good, worth, wait, would, return, heartbeat, gem, chicago]\n",
              "1                                                                                                                                                                                                                                                                                                                                                                                                                                                                                                                                                                             [triple, rate, upgrade, view, room, le, also, included, breakfast, voucher, great, view, river, lake, wrigley, bldg, tribune, bldg, major, restaurant, shopping, sightseeing, attraction, within, walking, distance, large, room, comfortable, bed]\n",
              "2                                                                                                                                           [come, little, late, finally, catching, review, past, several, month, dear, friend, stayed, hyatt, regency, late, october, one, night, visiting, friend, husband, town, hotel, perfect, imo, easy, check, check, lovely, clean, comfortable, room, great, view, city, know, area, pretty, well, convenient, many, downtown, chicago, attraction, dinner, went, clubing, friend, around, division, st, problem, getting, cab, back, forth, hyatt, even, public, transportation, right, near, bother, since, needed, cab, hotel, parking, usual, chicago, expensive, able, get, car, quickly, problem, best, part, got, rate, hotwire, downright, steal, area, chicago, quality, hotel]\n",
              "3                                                                                                                                                                                                                                                                                                          [omni, chicago, really, delivers, front, spaciousness, room, helpful, staff, prized, location, michigan, avenue, address, chicago, requires, high, level, quality, omni, delivers, check, whole, group, people, minute, staff, plentiful, recommendation, dining, event, room, largest, find, price, range, chicago, even, standard, room, separate, living, area, work, desk, fitness, center, free, weight, weight, machine, two, row, cardio, equipment, shared, room, others, feel, cramped, way, great, property]\n",
              "4                                                                                                                                                                                                                                                                                                                                                                                                                                                                                                                                                      [asked, high, floor, away, elevator, got, room, pleasantly, decorated, functional, clean, need, whole, lot, service, pleasant, prompt, used, fitness, center, well, equipped, everything, working, order, great, location, one, end, michigan, avenue, shopping, district]\n",
              "                                                                                                                                                                                                                                                                                                                                                                                                                  ...                                                                                                                                                                                                                                                                                                                                                                                                            \n",
              "1595                                                                                                                                                                                                                                            [problem, started, booked, intercontinental, chicago, online, hotel, site, got, server, error, somehow, managed, get, reservation, wish, looked, elsewhere, great, chicago, street, filled, plenty, option, server, error, continued, check, let, holiday, weekend, far, many, others, must, pushy, conventioneer, trouble, getting, served, hotel, enormous, give, sense, comfort, health, facility, also, big, noisy, crowded, internet, access, day, kind, surprising, go, around, corner, starbucks, next, time, pick, intimate, place, nearby, without, many, server, error]\n",
              "1596                                                                                                                                                                                                                                                                                                                                                                          [amalfi, hotel, beautiful, website, interior, decorating, wife, got, given, key, room, even, cleaned, internet, access, promised, hotel, website, catch, business, intended, wife, thought, dark, design, detail, room, made, feel, claustrophobic, like, sleeping, inside, salvador, dali, painting, hotel, worth, money, especially, since, spent, time, enjoying, city, something, casual, comfortable, would, better, would, probably, cleaner]\n",
              "1597                                                                                                                                                                                                                                                    [intercontinental, chicago, magnificent, mile, outside, hotel, name, say, pretty, magnificent, despite, set, filthiest, section, city, cost, room, starting, night, would, think, would, competent, parking, attendant, delayed, important, client, due, latency, issue, reserved, room, enough, top, room, service, nerve, bring, room, temperature, pasta, bottle, champagne, seal, previously, broken, free, cork, needle, say, last, time, hotel, ever, grace, much, another, dollar, bill, account, would, highly, recommend, another, hotel, better, accommodation]\n",
              "1598                                                                                                                                                                                                                                                                                                                                                                                                                                                                                                                                                  [palmer, house, hilton, look, good, picture, outside, actually, disaster, hotel, went, lobby, dirty, room, cleaned, smelled, thoroughly, smoke, requested, pillow, lady, phone, scoffed, said, send, took, hour, pillow, hotel, good, example, pay, always, get, returning]\n",
              "1599    [former, chicagoan, appalled, amalfi, hotel, chicago, first, expecting, luxury, hospitality, neither, received, experience, designer, supposed, like, personal, concierge, experience, ed, terrible, felt, like, trying, pressure, staying, day, wanted, understand, saying, time, talking, fast, finally, got, room, disappointed, quality, furniture, room, cleanliness, ask, maid, come, give, clean, towel, towel, bathroom, damp, top, bed, messily, done, could, done, better, job, bed, home, angry, point, paying, lot, money, every, night, staying, amalfi, expect, greeted, wet, towel, needed, use, wi, fi, download, important, document, internet, surprisingly, slow, even, basic, hotel, motel, could, offered, better, maybe, even, faster, internet, access, finally, checked, amalfi, made, sure, ...]\n",
              "Name: text, Length: 1600, dtype: object"
            ]
          },
          "metadata": {},
          "execution_count": 376
        }
      ]
    },
    {
      "cell_type": "code",
      "metadata": {
        "id": "9pJ5M-Rm6aiE"
      },
      "source": [
        "import gensim"
      ],
      "execution_count": 377,
      "outputs": []
    },
    {
      "cell_type": "code",
      "metadata": {
        "id": "bMxktj7H6amg"
      },
      "source": [
        "model_w2v = gensim.models.Word2Vec(\n",
        "            tokenized_tweet,\n",
        "            size=200, # desired no. of features/independent variables\n",
        "            window=5, # context window size\n",
        "            min_count=3, # Ignores all words with total frequency lower than 2.                                  \n",
        "            sg = 1, # 1 for skip-gram model\n",
        "            hs = 0,\n",
        "            negative = 10, # for negative sampling\n",
        "            workers= 32, # no.of cores\n",
        "            seed = 34\n",
        ")"
      ],
      "execution_count": 378,
      "outputs": []
    },
    {
      "cell_type": "code",
      "metadata": {
        "colab": {
          "base_uri": "https://localhost:8080/"
        },
        "id": "ih6XCBRP6aqP",
        "outputId": "edd0505c-551f-495b-c824-38a8472c7bd9"
      },
      "source": [
        "model_w2v.train(tokenized_tweet, total_examples= len(df['text']), epochs=20)"
      ],
      "execution_count": 379,
      "outputs": [
        {
          "output_type": "execute_result",
          "data": {
            "text/plain": [
              "(1884141, 2269440)"
            ]
          },
          "metadata": {},
          "execution_count": 379
        }
      ]
    },
    {
      "cell_type": "code",
      "metadata": {
        "colab": {
          "base_uri": "https://localhost:8080/"
        },
        "id": "46KBLeej6aut",
        "outputId": "178989e3-b90d-4514-e8e3-7cbfa065d448"
      },
      "source": [
        "model_w2v.wv.most_similar(positive=\"room\")"
      ],
      "execution_count": 380,
      "outputs": [
        {
          "output_type": "execute_result",
          "data": {
            "text/plain": [
              "[('wonderfully', 0.5485422611236572),\n",
              " ('suited', 0.5463186502456665),\n",
              " ('partial', 0.5430978536605835),\n",
              " ('spotlessly', 0.540601372718811),\n",
              " ('rested', 0.5371255278587341),\n",
              " ('soothing', 0.5338535904884338),\n",
              " ('cot', 0.5326371192932129),\n",
              " ('sterile', 0.5308870673179626),\n",
              " ('redone', 0.5275386571884155),\n",
              " ('sits', 0.5231911540031433)]"
            ]
          },
          "metadata": {},
          "execution_count": 380
        }
      ]
    },
    {
      "cell_type": "code",
      "metadata": {
        "colab": {
          "base_uri": "https://localhost:8080/"
        },
        "id": "QL9Y897S64sa",
        "outputId": "417fafb1-e24f-4780-ea57-8edeaaefba4e"
      },
      "source": [
        "model_w2v['hotel']"
      ],
      "execution_count": 381,
      "outputs": [
        {
          "output_type": "stream",
          "name": "stderr",
          "text": [
            "/usr/local/lib/python3.7/dist-packages/ipykernel_launcher.py:1: DeprecationWarning: Call to deprecated `__getitem__` (Method will be removed in 4.0.0, use self.wv.__getitem__() instead).\n",
            "  \"\"\"Entry point for launching an IPython kernel.\n"
          ]
        },
        {
          "output_type": "execute_result",
          "data": {
            "text/plain": [
              "array([-0.21454911,  0.04836474, -0.15786552, -0.30548552, -0.18292688,\n",
              "        0.07591403,  0.04653281,  0.2728852 , -0.09105045, -0.13697557,\n",
              "        0.02855591,  0.22002365,  0.18431988,  0.12755717, -0.10885011,\n",
              "       -0.05306207,  0.17947532,  0.07241791,  0.04651321, -0.16527446,\n",
              "       -0.10404295,  0.18531132,  0.2083694 ,  0.05654248,  0.15032248,\n",
              "        0.24084663,  0.13384429,  0.17329742,  0.04245631, -0.11517716,\n",
              "       -0.06167611,  0.04870661, -0.02312933,  0.05968051,  0.09941373,\n",
              "        0.15338835, -0.00077965, -0.16606581,  0.10678963, -0.30075094,\n",
              "        0.37643823, -0.0397913 ,  0.03284304,  0.15086862, -0.10252205,\n",
              "        0.3734427 , -0.27888924,  0.06988347, -0.16214928,  0.02351351,\n",
              "        0.0384809 , -0.13519807, -0.29975873,  0.01954816,  0.01730939,\n",
              "       -0.06766509,  0.18159805, -0.03901619,  0.2126128 ,  0.15351431,\n",
              "       -0.26332346, -0.04324862, -0.00623772, -0.06385279,  0.07226125,\n",
              "        0.25862965, -0.05624213,  0.04630119, -0.0900876 ,  0.16739193,\n",
              "       -0.19456641,  0.0239498 ,  0.42594743, -0.06486172, -0.21569653,\n",
              "        0.12579848, -0.12354212,  0.22491466, -0.02999906, -0.04941542,\n",
              "       -0.1222214 , -0.08557239,  0.245141  ,  0.10593328, -0.17799078,\n",
              "       -0.0456656 ,  0.20079958,  0.23635392,  0.0090533 , -0.17780378,\n",
              "        0.1256501 ,  0.14005029, -0.02720095,  0.05909997, -0.12224652,\n",
              "        0.07456977,  0.00287019, -0.15972708, -0.04908857,  0.1424719 ,\n",
              "       -0.12563674, -0.054138  ,  0.23748672, -0.26430497, -0.16500959,\n",
              "        0.09507535, -0.10464222, -0.0444746 , -0.02903436, -0.06516008,\n",
              "       -0.18751878, -0.06200615,  0.15885982, -0.23095082, -0.32113326,\n",
              "       -0.00790934,  0.09932921,  0.1461132 ,  0.01890611,  0.03220182,\n",
              "       -0.11159859,  0.2288142 , -0.0449811 ,  0.24954094,  0.02489305,\n",
              "        0.10046519, -0.01042407, -0.11152384, -0.4828654 , -0.15083802,\n",
              "        0.18355262, -0.16383918,  0.14065018,  0.0720062 , -0.18083923,\n",
              "       -0.00874984, -0.02473544, -0.11558849,  0.17077112, -0.13232435,\n",
              "       -0.24906155, -0.03922846,  0.06695961, -0.16960992, -0.11233401,\n",
              "       -0.13034575,  0.19806531, -0.12115948, -0.2405169 , -0.22625987,\n",
              "       -0.0185502 , -0.06571313, -0.01898099,  0.00367828, -0.15055203,\n",
              "        0.2368758 , -0.0760099 , -0.08376666,  0.04748382,  0.01067002,\n",
              "       -0.10923453, -0.03476177, -0.04030208,  0.3710408 , -0.12088274,\n",
              "       -0.12772086,  0.18826504, -0.19633655, -0.33432013,  0.22586446,\n",
              "        0.32864434,  0.01334825,  0.35712242,  0.1138488 , -0.05029891,\n",
              "        0.19805782, -0.24846287, -0.3499698 , -0.05130673, -0.08910125,\n",
              "        0.2772057 , -0.31479815, -0.16264689, -0.02245481,  0.25649792,\n",
              "       -0.09165208,  0.02892388, -0.22464967, -0.0576353 , -0.02947975,\n",
              "       -0.3764546 , -0.01968353,  0.01996944, -0.14880924, -0.07749365,\n",
              "        0.06679519,  0.10281864, -0.03747541, -0.07741619,  0.10468577],\n",
              "      dtype=float32)"
            ]
          },
          "metadata": {},
          "execution_count": 381
        }
      ]
    },
    {
      "cell_type": "code",
      "metadata": {
        "colab": {
          "base_uri": "https://localhost:8080/"
        },
        "id": "x8nNP6fh6azc",
        "outputId": "53ba464b-e81f-421a-f6c7-9400d54bae7c"
      },
      "source": [
        "len(model_w2v['hotel']) \n",
        "#The length of the vector is 100"
      ],
      "execution_count": 382,
      "outputs": [
        {
          "output_type": "stream",
          "name": "stderr",
          "text": [
            "/usr/local/lib/python3.7/dist-packages/ipykernel_launcher.py:1: DeprecationWarning: Call to deprecated `__getitem__` (Method will be removed in 4.0.0, use self.wv.__getitem__() instead).\n",
            "  \"\"\"Entry point for launching an IPython kernel.\n"
          ]
        },
        {
          "output_type": "execute_result",
          "data": {
            "text/plain": [
              "200"
            ]
          },
          "metadata": {},
          "execution_count": 382
        }
      ]
    },
    {
      "cell_type": "code",
      "metadata": {
        "id": "70EhNabD62jv"
      },
      "source": [
        "def word_vector(tokens, size):\n",
        "    vec = np.zeros(size).reshape((1, size))\n",
        "    count = 0\n",
        "    for word in tokens:\n",
        "        try:\n",
        "            vec += model_w2v[word].reshape((1, size))\n",
        "            count += 1.\n",
        "        except KeyError:  # handling the case where the token is not in vocabulary\n",
        "            continue\n",
        "    if count != 0:\n",
        "        vec /= count\n",
        "    return vec"
      ],
      "execution_count": 383,
      "outputs": []
    },
    {
      "cell_type": "code",
      "metadata": {
        "colab": {
          "base_uri": "https://localhost:8080/"
        },
        "id": "wOQZCsA862n7",
        "outputId": "61749fef-6bce-46cf-e39f-cf5a254d9d84"
      },
      "source": [
        "wordvec_arrays = np.zeros((len(tokenized_tweet), 200)) \n",
        "for i in range(len(tokenized_tweet)):\n",
        "    wordvec_arrays[i,:] = word_vector(tokenized_tweet[i], 200)\n",
        "wordvec_df = pd.DataFrame(wordvec_arrays)\n",
        "wordvec_df.shape"
      ],
      "execution_count": 384,
      "outputs": [
        {
          "output_type": "stream",
          "name": "stderr",
          "text": [
            "/usr/local/lib/python3.7/dist-packages/ipykernel_launcher.py:6: DeprecationWarning: Call to deprecated `__getitem__` (Method will be removed in 4.0.0, use self.wv.__getitem__() instead).\n",
            "  \n"
          ]
        },
        {
          "output_type": "execute_result",
          "data": {
            "text/plain": [
              "(1600, 200)"
            ]
          },
          "metadata": {},
          "execution_count": 384
        }
      ]
    },
    {
      "cell_type": "code",
      "metadata": {
        "colab": {
          "base_uri": "https://localhost:8080/",
          "height": 256
        },
        "id": "JTnHrUcU62tE",
        "outputId": "82ffdc0f-c07f-42ca-dca2-ceb7d98bf153"
      },
      "source": [
        "wordvec_df.head()"
      ],
      "execution_count": 385,
      "outputs": [
        {
          "output_type": "execute_result",
          "data": {
            "text/html": [
              "<div>\n",
              "<style scoped>\n",
              "    .dataframe tbody tr th:only-of-type {\n",
              "        vertical-align: middle;\n",
              "    }\n",
              "\n",
              "    .dataframe tbody tr th {\n",
              "        vertical-align: top;\n",
              "    }\n",
              "\n",
              "    .dataframe thead th {\n",
              "        text-align: right;\n",
              "    }\n",
              "</style>\n",
              "<table border=\"1\" class=\"dataframe\">\n",
              "  <thead>\n",
              "    <tr style=\"text-align: right;\">\n",
              "      <th></th>\n",
              "      <th>0</th>\n",
              "      <th>1</th>\n",
              "      <th>2</th>\n",
              "      <th>3</th>\n",
              "      <th>4</th>\n",
              "      <th>5</th>\n",
              "      <th>6</th>\n",
              "      <th>7</th>\n",
              "      <th>8</th>\n",
              "      <th>9</th>\n",
              "      <th>10</th>\n",
              "      <th>11</th>\n",
              "      <th>12</th>\n",
              "      <th>13</th>\n",
              "      <th>14</th>\n",
              "      <th>15</th>\n",
              "      <th>16</th>\n",
              "      <th>17</th>\n",
              "      <th>18</th>\n",
              "      <th>19</th>\n",
              "      <th>20</th>\n",
              "      <th>21</th>\n",
              "      <th>22</th>\n",
              "      <th>23</th>\n",
              "      <th>24</th>\n",
              "      <th>25</th>\n",
              "      <th>26</th>\n",
              "      <th>27</th>\n",
              "      <th>28</th>\n",
              "      <th>29</th>\n",
              "      <th>30</th>\n",
              "      <th>31</th>\n",
              "      <th>32</th>\n",
              "      <th>33</th>\n",
              "      <th>34</th>\n",
              "      <th>35</th>\n",
              "      <th>36</th>\n",
              "      <th>37</th>\n",
              "      <th>38</th>\n",
              "      <th>39</th>\n",
              "      <th>...</th>\n",
              "      <th>160</th>\n",
              "      <th>161</th>\n",
              "      <th>162</th>\n",
              "      <th>163</th>\n",
              "      <th>164</th>\n",
              "      <th>165</th>\n",
              "      <th>166</th>\n",
              "      <th>167</th>\n",
              "      <th>168</th>\n",
              "      <th>169</th>\n",
              "      <th>170</th>\n",
              "      <th>171</th>\n",
              "      <th>172</th>\n",
              "      <th>173</th>\n",
              "      <th>174</th>\n",
              "      <th>175</th>\n",
              "      <th>176</th>\n",
              "      <th>177</th>\n",
              "      <th>178</th>\n",
              "      <th>179</th>\n",
              "      <th>180</th>\n",
              "      <th>181</th>\n",
              "      <th>182</th>\n",
              "      <th>183</th>\n",
              "      <th>184</th>\n",
              "      <th>185</th>\n",
              "      <th>186</th>\n",
              "      <th>187</th>\n",
              "      <th>188</th>\n",
              "      <th>189</th>\n",
              "      <th>190</th>\n",
              "      <th>191</th>\n",
              "      <th>192</th>\n",
              "      <th>193</th>\n",
              "      <th>194</th>\n",
              "      <th>195</th>\n",
              "      <th>196</th>\n",
              "      <th>197</th>\n",
              "      <th>198</th>\n",
              "      <th>199</th>\n",
              "    </tr>\n",
              "  </thead>\n",
              "  <tbody>\n",
              "    <tr>\n",
              "      <th>0</th>\n",
              "      <td>-0.098775</td>\n",
              "      <td>0.160670</td>\n",
              "      <td>-0.027588</td>\n",
              "      <td>-0.049272</td>\n",
              "      <td>0.007778</td>\n",
              "      <td>-0.056314</td>\n",
              "      <td>0.092797</td>\n",
              "      <td>0.052445</td>\n",
              "      <td>0.181595</td>\n",
              "      <td>-0.122526</td>\n",
              "      <td>0.058841</td>\n",
              "      <td>0.059817</td>\n",
              "      <td>-0.095840</td>\n",
              "      <td>-0.009301</td>\n",
              "      <td>0.043256</td>\n",
              "      <td>-0.111565</td>\n",
              "      <td>-0.059233</td>\n",
              "      <td>-0.013347</td>\n",
              "      <td>0.118641</td>\n",
              "      <td>-0.144146</td>\n",
              "      <td>-0.146365</td>\n",
              "      <td>0.079916</td>\n",
              "      <td>0.099442</td>\n",
              "      <td>0.045268</td>\n",
              "      <td>-0.049920</td>\n",
              "      <td>0.119860</td>\n",
              "      <td>-0.008276</td>\n",
              "      <td>-0.086009</td>\n",
              "      <td>0.065918</td>\n",
              "      <td>-0.114779</td>\n",
              "      <td>-0.156368</td>\n",
              "      <td>0.066811</td>\n",
              "      <td>0.235861</td>\n",
              "      <td>0.002904</td>\n",
              "      <td>0.019167</td>\n",
              "      <td>0.101866</td>\n",
              "      <td>0.058548</td>\n",
              "      <td>-0.123960</td>\n",
              "      <td>-0.131483</td>\n",
              "      <td>-0.197898</td>\n",
              "      <td>...</td>\n",
              "      <td>-0.167144</td>\n",
              "      <td>-0.006283</td>\n",
              "      <td>-0.043641</td>\n",
              "      <td>0.274732</td>\n",
              "      <td>-0.148182</td>\n",
              "      <td>-0.000386</td>\n",
              "      <td>0.006067</td>\n",
              "      <td>-0.001211</td>\n",
              "      <td>-0.078200</td>\n",
              "      <td>0.242945</td>\n",
              "      <td>0.230419</td>\n",
              "      <td>0.039529</td>\n",
              "      <td>0.274109</td>\n",
              "      <td>-0.046473</td>\n",
              "      <td>-0.070220</td>\n",
              "      <td>0.067931</td>\n",
              "      <td>-0.000107</td>\n",
              "      <td>-0.083791</td>\n",
              "      <td>-0.050253</td>\n",
              "      <td>-0.149203</td>\n",
              "      <td>0.152240</td>\n",
              "      <td>-0.289848</td>\n",
              "      <td>-0.151273</td>\n",
              "      <td>-0.171892</td>\n",
              "      <td>0.077052</td>\n",
              "      <td>-0.076483</td>\n",
              "      <td>0.064939</td>\n",
              "      <td>-0.224054</td>\n",
              "      <td>-0.005325</td>\n",
              "      <td>-0.091473</td>\n",
              "      <td>-0.163237</td>\n",
              "      <td>0.008375</td>\n",
              "      <td>-0.000157</td>\n",
              "      <td>-0.144993</td>\n",
              "      <td>0.236241</td>\n",
              "      <td>0.012842</td>\n",
              "      <td>0.183077</td>\n",
              "      <td>-0.067961</td>\n",
              "      <td>-0.056366</td>\n",
              "      <td>-0.146491</td>\n",
              "    </tr>\n",
              "    <tr>\n",
              "      <th>1</th>\n",
              "      <td>-0.205915</td>\n",
              "      <td>0.097371</td>\n",
              "      <td>-0.086801</td>\n",
              "      <td>0.080995</td>\n",
              "      <td>0.028745</td>\n",
              "      <td>-0.159325</td>\n",
              "      <td>0.073734</td>\n",
              "      <td>0.043222</td>\n",
              "      <td>0.039666</td>\n",
              "      <td>-0.123486</td>\n",
              "      <td>0.125443</td>\n",
              "      <td>-0.033151</td>\n",
              "      <td>-0.153735</td>\n",
              "      <td>0.022640</td>\n",
              "      <td>-0.000514</td>\n",
              "      <td>-0.217274</td>\n",
              "      <td>-0.043839</td>\n",
              "      <td>0.042576</td>\n",
              "      <td>0.182730</td>\n",
              "      <td>-0.060874</td>\n",
              "      <td>-0.160785</td>\n",
              "      <td>-0.010145</td>\n",
              "      <td>0.094871</td>\n",
              "      <td>0.101006</td>\n",
              "      <td>0.019594</td>\n",
              "      <td>0.000040</td>\n",
              "      <td>0.054771</td>\n",
              "      <td>-0.086888</td>\n",
              "      <td>-0.045020</td>\n",
              "      <td>-0.169498</td>\n",
              "      <td>-0.128269</td>\n",
              "      <td>0.021372</td>\n",
              "      <td>0.290149</td>\n",
              "      <td>0.017036</td>\n",
              "      <td>-0.159145</td>\n",
              "      <td>0.118678</td>\n",
              "      <td>0.156553</td>\n",
              "      <td>-0.097038</td>\n",
              "      <td>-0.185989</td>\n",
              "      <td>-0.243585</td>\n",
              "      <td>...</td>\n",
              "      <td>-0.181015</td>\n",
              "      <td>-0.069351</td>\n",
              "      <td>-0.054738</td>\n",
              "      <td>0.176407</td>\n",
              "      <td>-0.185881</td>\n",
              "      <td>-0.121563</td>\n",
              "      <td>-0.015646</td>\n",
              "      <td>-0.103561</td>\n",
              "      <td>0.021986</td>\n",
              "      <td>0.250727</td>\n",
              "      <td>0.254482</td>\n",
              "      <td>-0.059285</td>\n",
              "      <td>0.270767</td>\n",
              "      <td>-0.070277</td>\n",
              "      <td>-0.137633</td>\n",
              "      <td>0.100722</td>\n",
              "      <td>-0.075116</td>\n",
              "      <td>-0.017671</td>\n",
              "      <td>-0.092201</td>\n",
              "      <td>-0.160223</td>\n",
              "      <td>0.224575</td>\n",
              "      <td>-0.334510</td>\n",
              "      <td>-0.263836</td>\n",
              "      <td>-0.194923</td>\n",
              "      <td>-0.009823</td>\n",
              "      <td>-0.188365</td>\n",
              "      <td>0.015837</td>\n",
              "      <td>-0.232102</td>\n",
              "      <td>-0.029716</td>\n",
              "      <td>-0.123716</td>\n",
              "      <td>-0.118904</td>\n",
              "      <td>0.013130</td>\n",
              "      <td>-0.092502</td>\n",
              "      <td>-0.359892</td>\n",
              "      <td>0.143409</td>\n",
              "      <td>-0.058795</td>\n",
              "      <td>0.207010</td>\n",
              "      <td>-0.068490</td>\n",
              "      <td>-0.158538</td>\n",
              "      <td>-0.220946</td>\n",
              "    </tr>\n",
              "    <tr>\n",
              "      <th>2</th>\n",
              "      <td>-0.120882</td>\n",
              "      <td>0.093822</td>\n",
              "      <td>-0.019855</td>\n",
              "      <td>-0.018428</td>\n",
              "      <td>0.029951</td>\n",
              "      <td>-0.023627</td>\n",
              "      <td>0.034638</td>\n",
              "      <td>0.077212</td>\n",
              "      <td>0.126618</td>\n",
              "      <td>-0.107611</td>\n",
              "      <td>-0.023790</td>\n",
              "      <td>0.070976</td>\n",
              "      <td>-0.051983</td>\n",
              "      <td>-0.017535</td>\n",
              "      <td>-0.041887</td>\n",
              "      <td>-0.084833</td>\n",
              "      <td>0.000649</td>\n",
              "      <td>-0.056347</td>\n",
              "      <td>0.176909</td>\n",
              "      <td>-0.076853</td>\n",
              "      <td>-0.170307</td>\n",
              "      <td>0.122374</td>\n",
              "      <td>0.173838</td>\n",
              "      <td>0.091138</td>\n",
              "      <td>0.003490</td>\n",
              "      <td>0.073808</td>\n",
              "      <td>0.120490</td>\n",
              "      <td>0.042678</td>\n",
              "      <td>-0.002210</td>\n",
              "      <td>-0.100215</td>\n",
              "      <td>-0.152090</td>\n",
              "      <td>0.023809</td>\n",
              "      <td>0.161630</td>\n",
              "      <td>0.085853</td>\n",
              "      <td>-0.085356</td>\n",
              "      <td>0.136012</td>\n",
              "      <td>0.183889</td>\n",
              "      <td>-0.143409</td>\n",
              "      <td>-0.091604</td>\n",
              "      <td>-0.342906</td>\n",
              "      <td>...</td>\n",
              "      <td>-0.163193</td>\n",
              "      <td>-0.008784</td>\n",
              "      <td>-0.037781</td>\n",
              "      <td>0.197963</td>\n",
              "      <td>-0.165164</td>\n",
              "      <td>-0.008723</td>\n",
              "      <td>0.083792</td>\n",
              "      <td>-0.075404</td>\n",
              "      <td>-0.059471</td>\n",
              "      <td>0.268825</td>\n",
              "      <td>0.250684</td>\n",
              "      <td>0.081787</td>\n",
              "      <td>0.162413</td>\n",
              "      <td>-0.095694</td>\n",
              "      <td>-0.103911</td>\n",
              "      <td>0.140913</td>\n",
              "      <td>-0.100421</td>\n",
              "      <td>-0.124496</td>\n",
              "      <td>0.023471</td>\n",
              "      <td>-0.120446</td>\n",
              "      <td>0.173557</td>\n",
              "      <td>-0.244590</td>\n",
              "      <td>-0.140147</td>\n",
              "      <td>-0.165348</td>\n",
              "      <td>0.109239</td>\n",
              "      <td>-0.041096</td>\n",
              "      <td>-0.001513</td>\n",
              "      <td>-0.192507</td>\n",
              "      <td>0.015055</td>\n",
              "      <td>-0.070272</td>\n",
              "      <td>-0.190247</td>\n",
              "      <td>0.004243</td>\n",
              "      <td>-0.108509</td>\n",
              "      <td>-0.092702</td>\n",
              "      <td>0.060090</td>\n",
              "      <td>0.042901</td>\n",
              "      <td>0.193230</td>\n",
              "      <td>0.009840</td>\n",
              "      <td>-0.114562</td>\n",
              "      <td>-0.103182</td>\n",
              "    </tr>\n",
              "    <tr>\n",
              "      <th>3</th>\n",
              "      <td>-0.128958</td>\n",
              "      <td>0.164102</td>\n",
              "      <td>-0.043766</td>\n",
              "      <td>0.000047</td>\n",
              "      <td>0.043643</td>\n",
              "      <td>-0.033885</td>\n",
              "      <td>0.100034</td>\n",
              "      <td>0.015187</td>\n",
              "      <td>0.139802</td>\n",
              "      <td>-0.100560</td>\n",
              "      <td>-0.004031</td>\n",
              "      <td>-0.002872</td>\n",
              "      <td>-0.102705</td>\n",
              "      <td>-0.029568</td>\n",
              "      <td>-0.045170</td>\n",
              "      <td>-0.126602</td>\n",
              "      <td>-0.060176</td>\n",
              "      <td>-0.008204</td>\n",
              "      <td>0.096388</td>\n",
              "      <td>-0.122709</td>\n",
              "      <td>-0.175118</td>\n",
              "      <td>0.079451</td>\n",
              "      <td>0.074103</td>\n",
              "      <td>0.109174</td>\n",
              "      <td>0.002116</td>\n",
              "      <td>0.061990</td>\n",
              "      <td>0.063782</td>\n",
              "      <td>-0.067618</td>\n",
              "      <td>0.101653</td>\n",
              "      <td>-0.047507</td>\n",
              "      <td>-0.180573</td>\n",
              "      <td>0.052154</td>\n",
              "      <td>0.156002</td>\n",
              "      <td>0.071467</td>\n",
              "      <td>-0.000378</td>\n",
              "      <td>0.126224</td>\n",
              "      <td>0.103266</td>\n",
              "      <td>-0.069340</td>\n",
              "      <td>-0.115600</td>\n",
              "      <td>-0.302869</td>\n",
              "      <td>...</td>\n",
              "      <td>-0.111701</td>\n",
              "      <td>-0.016943</td>\n",
              "      <td>-0.021965</td>\n",
              "      <td>0.192884</td>\n",
              "      <td>-0.144149</td>\n",
              "      <td>-0.029048</td>\n",
              "      <td>0.003978</td>\n",
              "      <td>-0.001275</td>\n",
              "      <td>-0.003874</td>\n",
              "      <td>0.243129</td>\n",
              "      <td>0.206465</td>\n",
              "      <td>0.047371</td>\n",
              "      <td>0.200340</td>\n",
              "      <td>-0.099794</td>\n",
              "      <td>-0.071969</td>\n",
              "      <td>0.066960</td>\n",
              "      <td>-0.131427</td>\n",
              "      <td>-0.073236</td>\n",
              "      <td>0.012778</td>\n",
              "      <td>-0.108648</td>\n",
              "      <td>0.133238</td>\n",
              "      <td>-0.217284</td>\n",
              "      <td>-0.105446</td>\n",
              "      <td>-0.209503</td>\n",
              "      <td>0.116401</td>\n",
              "      <td>-0.080698</td>\n",
              "      <td>0.005717</td>\n",
              "      <td>-0.235781</td>\n",
              "      <td>0.006554</td>\n",
              "      <td>-0.080607</td>\n",
              "      <td>-0.132210</td>\n",
              "      <td>-0.030489</td>\n",
              "      <td>0.021236</td>\n",
              "      <td>-0.108358</td>\n",
              "      <td>0.143128</td>\n",
              "      <td>0.050791</td>\n",
              "      <td>0.173977</td>\n",
              "      <td>-0.101969</td>\n",
              "      <td>-0.126701</td>\n",
              "      <td>-0.121131</td>\n",
              "    </tr>\n",
              "    <tr>\n",
              "      <th>4</th>\n",
              "      <td>-0.148320</td>\n",
              "      <td>0.141945</td>\n",
              "      <td>-0.025045</td>\n",
              "      <td>0.027570</td>\n",
              "      <td>0.063261</td>\n",
              "      <td>-0.092612</td>\n",
              "      <td>0.032338</td>\n",
              "      <td>0.107649</td>\n",
              "      <td>0.136002</td>\n",
              "      <td>-0.097177</td>\n",
              "      <td>0.064171</td>\n",
              "      <td>0.097780</td>\n",
              "      <td>-0.116755</td>\n",
              "      <td>-0.076376</td>\n",
              "      <td>0.097472</td>\n",
              "      <td>-0.082238</td>\n",
              "      <td>-0.126663</td>\n",
              "      <td>-0.075025</td>\n",
              "      <td>0.107237</td>\n",
              "      <td>-0.060408</td>\n",
              "      <td>-0.198067</td>\n",
              "      <td>0.109247</td>\n",
              "      <td>0.059741</td>\n",
              "      <td>0.057104</td>\n",
              "      <td>-0.043751</td>\n",
              "      <td>0.069158</td>\n",
              "      <td>0.085709</td>\n",
              "      <td>0.013089</td>\n",
              "      <td>0.044936</td>\n",
              "      <td>-0.092339</td>\n",
              "      <td>-0.278335</td>\n",
              "      <td>0.076597</td>\n",
              "      <td>0.236636</td>\n",
              "      <td>0.000373</td>\n",
              "      <td>-0.070918</td>\n",
              "      <td>0.164671</td>\n",
              "      <td>0.176897</td>\n",
              "      <td>-0.103732</td>\n",
              "      <td>-0.039523</td>\n",
              "      <td>-0.301223</td>\n",
              "      <td>...</td>\n",
              "      <td>-0.179888</td>\n",
              "      <td>0.042606</td>\n",
              "      <td>0.001828</td>\n",
              "      <td>0.166094</td>\n",
              "      <td>-0.096418</td>\n",
              "      <td>-0.054485</td>\n",
              "      <td>0.013143</td>\n",
              "      <td>-0.072452</td>\n",
              "      <td>0.020172</td>\n",
              "      <td>0.159600</td>\n",
              "      <td>0.200308</td>\n",
              "      <td>0.078243</td>\n",
              "      <td>0.241008</td>\n",
              "      <td>-0.035159</td>\n",
              "      <td>-0.071975</td>\n",
              "      <td>0.109264</td>\n",
              "      <td>-0.206644</td>\n",
              "      <td>-0.045530</td>\n",
              "      <td>-0.032704</td>\n",
              "      <td>-0.094375</td>\n",
              "      <td>0.109890</td>\n",
              "      <td>-0.251633</td>\n",
              "      <td>-0.195446</td>\n",
              "      <td>-0.195290</td>\n",
              "      <td>0.114880</td>\n",
              "      <td>-0.196555</td>\n",
              "      <td>-0.057827</td>\n",
              "      <td>-0.277205</td>\n",
              "      <td>0.064222</td>\n",
              "      <td>0.003203</td>\n",
              "      <td>-0.118736</td>\n",
              "      <td>-0.011929</td>\n",
              "      <td>-0.039652</td>\n",
              "      <td>-0.189255</td>\n",
              "      <td>0.183083</td>\n",
              "      <td>0.033497</td>\n",
              "      <td>0.169678</td>\n",
              "      <td>-0.051970</td>\n",
              "      <td>-0.099360</td>\n",
              "      <td>-0.130004</td>\n",
              "    </tr>\n",
              "  </tbody>\n",
              "</table>\n",
              "<p>5 rows × 200 columns</p>\n",
              "</div>"
            ],
            "text/plain": [
              "        0         1         2    ...       197       198       199\n",
              "0 -0.098775  0.160670 -0.027588  ... -0.067961 -0.056366 -0.146491\n",
              "1 -0.205915  0.097371 -0.086801  ... -0.068490 -0.158538 -0.220946\n",
              "2 -0.120882  0.093822 -0.019855  ...  0.009840 -0.114562 -0.103182\n",
              "3 -0.128958  0.164102 -0.043766  ... -0.101969 -0.126701 -0.121131\n",
              "4 -0.148320  0.141945 -0.025045  ... -0.051970 -0.099360 -0.130004\n",
              "\n",
              "[5 rows x 200 columns]"
            ]
          },
          "metadata": {},
          "execution_count": 385
        }
      ]
    },
    {
      "cell_type": "markdown",
      "metadata": {
        "id": "TLTrme0lH4B6"
      },
      "source": [
        "### FEATURE EXTRACTION USING DOC2VEC"
      ]
    },
    {
      "cell_type": "code",
      "metadata": {
        "id": "4XIyzBJlynA3"
      },
      "source": [
        "from tqdm import tqdm \n",
        "tqdm.pandas(desc=\"progress-bar\") \n",
        "from gensim.models.doc2vec import LabeledSentence"
      ],
      "execution_count": 386,
      "outputs": []
    },
    {
      "cell_type": "code",
      "metadata": {
        "colab": {
          "base_uri": "https://localhost:8080/"
        },
        "id": "7_TT0dryynIH",
        "outputId": "e2033291-9390-4f6a-8d5c-02c19db63812"
      },
      "source": [
        "def add_label(twt):\n",
        "    output = []\n",
        "    for i, s in zip(twt.index, twt):\n",
        "        output.append(LabeledSentence(s, [\"tweet_\" + str(i)]))\n",
        "    return output\n",
        "\n",
        "labeled_tweets = add_label(tokenized_tweet) # label all the tweets"
      ],
      "execution_count": 387,
      "outputs": [
        {
          "output_type": "stream",
          "name": "stderr",
          "text": [
            "/usr/local/lib/python3.7/dist-packages/ipykernel_launcher.py:4: DeprecationWarning: Call to deprecated `LabeledSentence` (Class will be removed in 4.0.0, use TaggedDocument instead).\n",
            "  after removing the cwd from sys.path.\n"
          ]
        }
      ]
    },
    {
      "cell_type": "code",
      "metadata": {
        "colab": {
          "base_uri": "https://localhost:8080/"
        },
        "id": "p1fL7WAMynPE",
        "outputId": "a64e4abb-a665-4292-f0f8-be934d59a2d4"
      },
      "source": [
        "labeled_tweets[:4]"
      ],
      "execution_count": 388,
      "outputs": [
        {
          "output_type": "execute_result",
          "data": {
            "text/plain": [
              "[LabeledSentence(words=['stayed', 'one', 'night', 'getaway', 'family', 'thursday', 'triple', 'aaa', 'rate', 'steal', 'th', 'floor', 'room', 'complete', 'plasma', 'tv', 'bose', 'stereo', 'voss', 'evian', 'water', 'gorgeous', 'bathroom', 'concierge', 'helpful', 'cannot', 'beat', 'location', 'flaw', 'breakfast', 'pricey', 'service', 'slow', 'even', 'though', 'two', 'table', 'restaurant', 'food', 'good', 'worth', 'wait', 'would', 'return', 'heartbeat', 'gem', 'chicago'], tags=['tweet_0']),\n",
              " LabeledSentence(words=['triple', 'rate', 'upgrade', 'view', 'room', 'le', 'also', 'included', 'breakfast', 'voucher', 'great', 'view', 'river', 'lake', 'wrigley', 'bldg', 'tribune', 'bldg', 'major', 'restaurant', 'shopping', 'sightseeing', 'attraction', 'within', 'walking', 'distance', 'large', 'room', 'comfortable', 'bed'], tags=['tweet_1']),\n",
              " LabeledSentence(words=['come', 'little', 'late', 'finally', 'catching', 'review', 'past', 'several', 'month', 'dear', 'friend', 'stayed', 'hyatt', 'regency', 'late', 'october', 'one', 'night', 'visiting', 'friend', 'husband', 'town', 'hotel', 'perfect', 'imo', 'easy', 'check', 'check', 'lovely', 'clean', 'comfortable', 'room', 'great', 'view', 'city', 'know', 'area', 'pretty', 'well', 'convenient', 'many', 'downtown', 'chicago', 'attraction', 'dinner', 'went', 'clubing', 'friend', 'around', 'division', 'st', 'problem', 'getting', 'cab', 'back', 'forth', 'hyatt', 'even', 'public', 'transportation', 'right', 'near', 'bother', 'since', 'needed', 'cab', 'hotel', 'parking', 'usual', 'chicago', 'expensive', 'able', 'get', 'car', 'quickly', 'problem', 'best', 'part', 'got', 'rate', 'hotwire', 'downright', 'steal', 'area', 'chicago', 'quality', 'hotel'], tags=['tweet_2']),\n",
              " LabeledSentence(words=['omni', 'chicago', 'really', 'delivers', 'front', 'spaciousness', 'room', 'helpful', 'staff', 'prized', 'location', 'michigan', 'avenue', 'address', 'chicago', 'requires', 'high', 'level', 'quality', 'omni', 'delivers', 'check', 'whole', 'group', 'people', 'minute', 'staff', 'plentiful', 'recommendation', 'dining', 'event', 'room', 'largest', 'find', 'price', 'range', 'chicago', 'even', 'standard', 'room', 'separate', 'living', 'area', 'work', 'desk', 'fitness', 'center', 'free', 'weight', 'weight', 'machine', 'two', 'row', 'cardio', 'equipment', 'shared', 'room', 'others', 'feel', 'cramped', 'way', 'great', 'property'], tags=['tweet_3'])]"
            ]
          },
          "metadata": {},
          "execution_count": 388
        }
      ]
    },
    {
      "cell_type": "code",
      "metadata": {
        "colab": {
          "base_uri": "https://localhost:8080/"
        },
        "id": "UGdRdT1_ynSm",
        "outputId": "2afc9a0b-7fe6-4147-e49a-685ebebdfae4"
      },
      "source": [
        "%%time \n",
        "model_d2v = gensim.models.Doc2Vec(dm=1, # dm = 1 for ‘distributed memory’ model\n",
        "                                  dm_mean=1, # dm_mean = 1 for using mean of the context word vectors\n",
        "                                  vector_size=200, # no. of desired features\n",
        "                                  window=5, # width of the context window                                  \n",
        "                                  negative=7, # if > 0 then negative sampling will be used\n",
        "                                  min_count=5, # Ignores all words with total frequency lower than 5.                                  \n",
        "                                  workers=32, # no. of cores                                  \n",
        "                                  alpha=0.1, # learning rate                                  \n",
        "                                  seed = 23, # for reproducibility\n",
        "                                 ) \n",
        "\n",
        "model_d2v.build_vocab([i for i in tqdm(labeled_tweets)])\n",
        "\n",
        "model_d2v.train(labeled_tweets, total_examples= len(df['text']), epochs=15)"
      ],
      "execution_count": 389,
      "outputs": [
        {
          "output_type": "stream",
          "name": "stderr",
          "text": [
            "100%|██████████| 1600/1600 [00:00<00:00, 810199.98it/s]\n"
          ]
        },
        {
          "output_type": "stream",
          "name": "stdout",
          "text": [
            "CPU times: user 10.3 s, sys: 1.02 s, total: 11.3 s\n",
            "Wall time: 7.48 s\n"
          ]
        }
      ]
    },
    {
      "cell_type": "code",
      "metadata": {
        "colab": {
          "base_uri": "https://localhost:8080/"
        },
        "id": "DRdFhLFTynYv",
        "outputId": "a588a56e-c5f1-4710-db49-fa153f4b7e14"
      },
      "source": [
        "docvec_arrays = np.zeros((len(tokenized_tweet), 200)) \n",
        "for i in range(len(tokenized_tweet)):\n",
        "    docvec_arrays[i,:] = model_d2v.docvecs[i].reshape((1,200))    \n",
        "\n",
        "docvec_df = pd.DataFrame(docvec_arrays) \n",
        "docvec_df.shape"
      ],
      "execution_count": 390,
      "outputs": [
        {
          "output_type": "execute_result",
          "data": {
            "text/plain": [
              "(1600, 200)"
            ]
          },
          "metadata": {},
          "execution_count": 390
        }
      ]
    },
    {
      "cell_type": "code",
      "metadata": {
        "colab": {
          "base_uri": "https://localhost:8080/",
          "height": 256
        },
        "id": "FdQKwPlXynfV",
        "outputId": "497d69f2-04ed-4d02-9bbf-54b1079d5c01"
      },
      "source": [
        "docvec_df.head()"
      ],
      "execution_count": 391,
      "outputs": [
        {
          "output_type": "execute_result",
          "data": {
            "text/html": [
              "<div>\n",
              "<style scoped>\n",
              "    .dataframe tbody tr th:only-of-type {\n",
              "        vertical-align: middle;\n",
              "    }\n",
              "\n",
              "    .dataframe tbody tr th {\n",
              "        vertical-align: top;\n",
              "    }\n",
              "\n",
              "    .dataframe thead th {\n",
              "        text-align: right;\n",
              "    }\n",
              "</style>\n",
              "<table border=\"1\" class=\"dataframe\">\n",
              "  <thead>\n",
              "    <tr style=\"text-align: right;\">\n",
              "      <th></th>\n",
              "      <th>0</th>\n",
              "      <th>1</th>\n",
              "      <th>2</th>\n",
              "      <th>3</th>\n",
              "      <th>4</th>\n",
              "      <th>5</th>\n",
              "      <th>6</th>\n",
              "      <th>7</th>\n",
              "      <th>8</th>\n",
              "      <th>9</th>\n",
              "      <th>10</th>\n",
              "      <th>11</th>\n",
              "      <th>12</th>\n",
              "      <th>13</th>\n",
              "      <th>14</th>\n",
              "      <th>15</th>\n",
              "      <th>16</th>\n",
              "      <th>17</th>\n",
              "      <th>18</th>\n",
              "      <th>19</th>\n",
              "      <th>20</th>\n",
              "      <th>21</th>\n",
              "      <th>22</th>\n",
              "      <th>23</th>\n",
              "      <th>24</th>\n",
              "      <th>25</th>\n",
              "      <th>26</th>\n",
              "      <th>27</th>\n",
              "      <th>28</th>\n",
              "      <th>29</th>\n",
              "      <th>30</th>\n",
              "      <th>31</th>\n",
              "      <th>32</th>\n",
              "      <th>33</th>\n",
              "      <th>34</th>\n",
              "      <th>35</th>\n",
              "      <th>36</th>\n",
              "      <th>37</th>\n",
              "      <th>38</th>\n",
              "      <th>39</th>\n",
              "      <th>...</th>\n",
              "      <th>160</th>\n",
              "      <th>161</th>\n",
              "      <th>162</th>\n",
              "      <th>163</th>\n",
              "      <th>164</th>\n",
              "      <th>165</th>\n",
              "      <th>166</th>\n",
              "      <th>167</th>\n",
              "      <th>168</th>\n",
              "      <th>169</th>\n",
              "      <th>170</th>\n",
              "      <th>171</th>\n",
              "      <th>172</th>\n",
              "      <th>173</th>\n",
              "      <th>174</th>\n",
              "      <th>175</th>\n",
              "      <th>176</th>\n",
              "      <th>177</th>\n",
              "      <th>178</th>\n",
              "      <th>179</th>\n",
              "      <th>180</th>\n",
              "      <th>181</th>\n",
              "      <th>182</th>\n",
              "      <th>183</th>\n",
              "      <th>184</th>\n",
              "      <th>185</th>\n",
              "      <th>186</th>\n",
              "      <th>187</th>\n",
              "      <th>188</th>\n",
              "      <th>189</th>\n",
              "      <th>190</th>\n",
              "      <th>191</th>\n",
              "      <th>192</th>\n",
              "      <th>193</th>\n",
              "      <th>194</th>\n",
              "      <th>195</th>\n",
              "      <th>196</th>\n",
              "      <th>197</th>\n",
              "      <th>198</th>\n",
              "      <th>199</th>\n",
              "    </tr>\n",
              "  </thead>\n",
              "  <tbody>\n",
              "    <tr>\n",
              "      <th>0</th>\n",
              "      <td>-0.346927</td>\n",
              "      <td>0.036473</td>\n",
              "      <td>0.184363</td>\n",
              "      <td>0.326397</td>\n",
              "      <td>-0.053586</td>\n",
              "      <td>0.181988</td>\n",
              "      <td>-0.445449</td>\n",
              "      <td>0.322990</td>\n",
              "      <td>0.530889</td>\n",
              "      <td>-0.082966</td>\n",
              "      <td>0.548662</td>\n",
              "      <td>-0.330891</td>\n",
              "      <td>0.001461</td>\n",
              "      <td>-0.124871</td>\n",
              "      <td>0.159176</td>\n",
              "      <td>-0.227282</td>\n",
              "      <td>0.071479</td>\n",
              "      <td>0.527399</td>\n",
              "      <td>0.063648</td>\n",
              "      <td>-0.153122</td>\n",
              "      <td>-0.205726</td>\n",
              "      <td>-0.034227</td>\n",
              "      <td>0.419937</td>\n",
              "      <td>-0.074191</td>\n",
              "      <td>-0.118013</td>\n",
              "      <td>-0.592384</td>\n",
              "      <td>0.189006</td>\n",
              "      <td>0.275093</td>\n",
              "      <td>0.323100</td>\n",
              "      <td>-0.263790</td>\n",
              "      <td>-0.177927</td>\n",
              "      <td>0.170936</td>\n",
              "      <td>0.331972</td>\n",
              "      <td>-0.336828</td>\n",
              "      <td>0.338347</td>\n",
              "      <td>-0.299776</td>\n",
              "      <td>0.585610</td>\n",
              "      <td>0.706437</td>\n",
              "      <td>-0.012733</td>\n",
              "      <td>-0.401483</td>\n",
              "      <td>...</td>\n",
              "      <td>-0.187319</td>\n",
              "      <td>-0.414177</td>\n",
              "      <td>-0.180912</td>\n",
              "      <td>0.406856</td>\n",
              "      <td>0.453460</td>\n",
              "      <td>-0.168772</td>\n",
              "      <td>0.196405</td>\n",
              "      <td>0.828325</td>\n",
              "      <td>0.400261</td>\n",
              "      <td>-0.584158</td>\n",
              "      <td>-0.277121</td>\n",
              "      <td>-0.500930</td>\n",
              "      <td>0.768299</td>\n",
              "      <td>-0.243057</td>\n",
              "      <td>-0.209405</td>\n",
              "      <td>-0.299148</td>\n",
              "      <td>0.341154</td>\n",
              "      <td>0.355069</td>\n",
              "      <td>-0.184914</td>\n",
              "      <td>0.675723</td>\n",
              "      <td>0.170674</td>\n",
              "      <td>-0.279304</td>\n",
              "      <td>-0.082593</td>\n",
              "      <td>-0.149291</td>\n",
              "      <td>0.177768</td>\n",
              "      <td>0.819135</td>\n",
              "      <td>-0.301608</td>\n",
              "      <td>0.255026</td>\n",
              "      <td>0.424798</td>\n",
              "      <td>0.145057</td>\n",
              "      <td>-0.164312</td>\n",
              "      <td>0.314373</td>\n",
              "      <td>0.012379</td>\n",
              "      <td>0.021522</td>\n",
              "      <td>0.433716</td>\n",
              "      <td>-0.511619</td>\n",
              "      <td>-0.129431</td>\n",
              "      <td>-0.093506</td>\n",
              "      <td>-0.243418</td>\n",
              "      <td>0.357844</td>\n",
              "    </tr>\n",
              "    <tr>\n",
              "      <th>1</th>\n",
              "      <td>-0.011463</td>\n",
              "      <td>-0.275910</td>\n",
              "      <td>0.025871</td>\n",
              "      <td>-0.283490</td>\n",
              "      <td>0.210246</td>\n",
              "      <td>0.125342</td>\n",
              "      <td>-0.303807</td>\n",
              "      <td>0.311988</td>\n",
              "      <td>0.322584</td>\n",
              "      <td>-0.371593</td>\n",
              "      <td>0.531414</td>\n",
              "      <td>-0.029624</td>\n",
              "      <td>0.030936</td>\n",
              "      <td>-0.191085</td>\n",
              "      <td>0.112029</td>\n",
              "      <td>-0.174089</td>\n",
              "      <td>-0.055330</td>\n",
              "      <td>0.210052</td>\n",
              "      <td>0.048846</td>\n",
              "      <td>-0.240814</td>\n",
              "      <td>-0.036288</td>\n",
              "      <td>-0.142461</td>\n",
              "      <td>0.308963</td>\n",
              "      <td>0.151045</td>\n",
              "      <td>-0.078323</td>\n",
              "      <td>-0.256487</td>\n",
              "      <td>0.514690</td>\n",
              "      <td>0.093361</td>\n",
              "      <td>0.203210</td>\n",
              "      <td>0.041938</td>\n",
              "      <td>-0.391383</td>\n",
              "      <td>0.196975</td>\n",
              "      <td>0.556607</td>\n",
              "      <td>0.207312</td>\n",
              "      <td>0.100449</td>\n",
              "      <td>-0.092805</td>\n",
              "      <td>0.399218</td>\n",
              "      <td>0.110207</td>\n",
              "      <td>0.100073</td>\n",
              "      <td>-0.139970</td>\n",
              "      <td>...</td>\n",
              "      <td>0.008551</td>\n",
              "      <td>-0.444377</td>\n",
              "      <td>0.112544</td>\n",
              "      <td>0.096951</td>\n",
              "      <td>0.089749</td>\n",
              "      <td>-0.108836</td>\n",
              "      <td>-0.289645</td>\n",
              "      <td>0.694611</td>\n",
              "      <td>0.052199</td>\n",
              "      <td>-0.146690</td>\n",
              "      <td>0.329102</td>\n",
              "      <td>-0.012694</td>\n",
              "      <td>0.525714</td>\n",
              "      <td>-0.236521</td>\n",
              "      <td>-0.188901</td>\n",
              "      <td>0.046449</td>\n",
              "      <td>-0.058935</td>\n",
              "      <td>0.382759</td>\n",
              "      <td>-0.447201</td>\n",
              "      <td>0.601005</td>\n",
              "      <td>-0.423231</td>\n",
              "      <td>0.124740</td>\n",
              "      <td>0.075111</td>\n",
              "      <td>-0.232471</td>\n",
              "      <td>0.204183</td>\n",
              "      <td>0.296279</td>\n",
              "      <td>-0.387358</td>\n",
              "      <td>0.015724</td>\n",
              "      <td>0.239824</td>\n",
              "      <td>-0.002663</td>\n",
              "      <td>-0.092590</td>\n",
              "      <td>0.254663</td>\n",
              "      <td>0.081632</td>\n",
              "      <td>-0.048027</td>\n",
              "      <td>-0.163587</td>\n",
              "      <td>-0.416833</td>\n",
              "      <td>-0.220689</td>\n",
              "      <td>0.172481</td>\n",
              "      <td>-0.181917</td>\n",
              "      <td>0.287694</td>\n",
              "    </tr>\n",
              "    <tr>\n",
              "      <th>2</th>\n",
              "      <td>-0.305075</td>\n",
              "      <td>-1.201396</td>\n",
              "      <td>0.022667</td>\n",
              "      <td>-0.280987</td>\n",
              "      <td>-0.888365</td>\n",
              "      <td>0.531579</td>\n",
              "      <td>-0.465662</td>\n",
              "      <td>0.062636</td>\n",
              "      <td>0.106157</td>\n",
              "      <td>-0.673069</td>\n",
              "      <td>0.415147</td>\n",
              "      <td>0.362028</td>\n",
              "      <td>0.618045</td>\n",
              "      <td>0.013047</td>\n",
              "      <td>0.075725</td>\n",
              "      <td>-0.025004</td>\n",
              "      <td>0.059204</td>\n",
              "      <td>-0.568791</td>\n",
              "      <td>-0.224983</td>\n",
              "      <td>-0.604425</td>\n",
              "      <td>-0.496915</td>\n",
              "      <td>0.328565</td>\n",
              "      <td>-0.373402</td>\n",
              "      <td>0.248068</td>\n",
              "      <td>-0.748113</td>\n",
              "      <td>0.518910</td>\n",
              "      <td>1.212072</td>\n",
              "      <td>0.825754</td>\n",
              "      <td>0.169050</td>\n",
              "      <td>0.289523</td>\n",
              "      <td>0.008348</td>\n",
              "      <td>0.318899</td>\n",
              "      <td>0.416971</td>\n",
              "      <td>0.319945</td>\n",
              "      <td>-0.008529</td>\n",
              "      <td>0.057202</td>\n",
              "      <td>-0.087627</td>\n",
              "      <td>0.469954</td>\n",
              "      <td>-0.341763</td>\n",
              "      <td>-0.456786</td>\n",
              "      <td>...</td>\n",
              "      <td>-0.024451</td>\n",
              "      <td>-0.533946</td>\n",
              "      <td>-0.178120</td>\n",
              "      <td>-0.733674</td>\n",
              "      <td>0.531948</td>\n",
              "      <td>-0.216748</td>\n",
              "      <td>-0.222382</td>\n",
              "      <td>-0.139394</td>\n",
              "      <td>0.184069</td>\n",
              "      <td>0.075442</td>\n",
              "      <td>0.593933</td>\n",
              "      <td>-0.279524</td>\n",
              "      <td>0.532821</td>\n",
              "      <td>-0.729081</td>\n",
              "      <td>-0.143143</td>\n",
              "      <td>0.432788</td>\n",
              "      <td>0.621710</td>\n",
              "      <td>-0.190957</td>\n",
              "      <td>-0.158445</td>\n",
              "      <td>0.179563</td>\n",
              "      <td>-0.046039</td>\n",
              "      <td>0.489291</td>\n",
              "      <td>0.552155</td>\n",
              "      <td>0.023599</td>\n",
              "      <td>-1.394108</td>\n",
              "      <td>0.110032</td>\n",
              "      <td>0.599739</td>\n",
              "      <td>0.643122</td>\n",
              "      <td>0.242941</td>\n",
              "      <td>-0.582136</td>\n",
              "      <td>0.190998</td>\n",
              "      <td>0.890642</td>\n",
              "      <td>-0.146095</td>\n",
              "      <td>-0.252544</td>\n",
              "      <td>-0.491386</td>\n",
              "      <td>0.175765</td>\n",
              "      <td>0.151077</td>\n",
              "      <td>0.804410</td>\n",
              "      <td>-0.975702</td>\n",
              "      <td>-0.526974</td>\n",
              "    </tr>\n",
              "    <tr>\n",
              "      <th>3</th>\n",
              "      <td>0.270371</td>\n",
              "      <td>-0.041357</td>\n",
              "      <td>0.266233</td>\n",
              "      <td>-0.358757</td>\n",
              "      <td>-0.160398</td>\n",
              "      <td>-0.289799</td>\n",
              "      <td>-0.506390</td>\n",
              "      <td>-0.167181</td>\n",
              "      <td>0.020539</td>\n",
              "      <td>0.114280</td>\n",
              "      <td>0.112404</td>\n",
              "      <td>-0.552947</td>\n",
              "      <td>0.373791</td>\n",
              "      <td>0.312837</td>\n",
              "      <td>-0.144968</td>\n",
              "      <td>-0.004533</td>\n",
              "      <td>-0.161609</td>\n",
              "      <td>-0.143663</td>\n",
              "      <td>0.358256</td>\n",
              "      <td>0.177767</td>\n",
              "      <td>-0.392042</td>\n",
              "      <td>0.356453</td>\n",
              "      <td>0.032461</td>\n",
              "      <td>0.027718</td>\n",
              "      <td>0.125047</td>\n",
              "      <td>-0.257353</td>\n",
              "      <td>0.319914</td>\n",
              "      <td>0.422495</td>\n",
              "      <td>-0.345747</td>\n",
              "      <td>0.188325</td>\n",
              "      <td>-0.354826</td>\n",
              "      <td>0.044340</td>\n",
              "      <td>0.155196</td>\n",
              "      <td>-0.111611</td>\n",
              "      <td>-0.059887</td>\n",
              "      <td>0.299058</td>\n",
              "      <td>0.078662</td>\n",
              "      <td>0.160359</td>\n",
              "      <td>-0.332294</td>\n",
              "      <td>-0.260820</td>\n",
              "      <td>...</td>\n",
              "      <td>0.265561</td>\n",
              "      <td>0.388842</td>\n",
              "      <td>0.227193</td>\n",
              "      <td>0.517344</td>\n",
              "      <td>-0.118025</td>\n",
              "      <td>0.119344</td>\n",
              "      <td>-0.028949</td>\n",
              "      <td>0.828277</td>\n",
              "      <td>-0.048896</td>\n",
              "      <td>-0.617160</td>\n",
              "      <td>0.340690</td>\n",
              "      <td>-0.330096</td>\n",
              "      <td>0.153530</td>\n",
              "      <td>-0.178348</td>\n",
              "      <td>-0.369152</td>\n",
              "      <td>0.216962</td>\n",
              "      <td>0.357058</td>\n",
              "      <td>0.282205</td>\n",
              "      <td>-0.012488</td>\n",
              "      <td>0.010097</td>\n",
              "      <td>-0.746013</td>\n",
              "      <td>0.024223</td>\n",
              "      <td>0.396373</td>\n",
              "      <td>-0.106326</td>\n",
              "      <td>-0.080538</td>\n",
              "      <td>-0.037415</td>\n",
              "      <td>0.642087</td>\n",
              "      <td>0.825502</td>\n",
              "      <td>0.134298</td>\n",
              "      <td>-0.392874</td>\n",
              "      <td>0.084313</td>\n",
              "      <td>-0.368627</td>\n",
              "      <td>-0.527230</td>\n",
              "      <td>-0.053062</td>\n",
              "      <td>-0.196765</td>\n",
              "      <td>-0.238954</td>\n",
              "      <td>-0.772689</td>\n",
              "      <td>0.496603</td>\n",
              "      <td>0.239465</td>\n",
              "      <td>0.410861</td>\n",
              "    </tr>\n",
              "    <tr>\n",
              "      <th>4</th>\n",
              "      <td>-0.661322</td>\n",
              "      <td>0.150384</td>\n",
              "      <td>0.365792</td>\n",
              "      <td>-0.421812</td>\n",
              "      <td>-0.073363</td>\n",
              "      <td>0.692409</td>\n",
              "      <td>-0.276546</td>\n",
              "      <td>-0.584231</td>\n",
              "      <td>0.651742</td>\n",
              "      <td>0.098275</td>\n",
              "      <td>1.218678</td>\n",
              "      <td>-0.227784</td>\n",
              "      <td>0.327722</td>\n",
              "      <td>0.073255</td>\n",
              "      <td>0.422763</td>\n",
              "      <td>-0.099295</td>\n",
              "      <td>0.130857</td>\n",
              "      <td>-0.232485</td>\n",
              "      <td>0.232169</td>\n",
              "      <td>0.136426</td>\n",
              "      <td>0.114392</td>\n",
              "      <td>0.052442</td>\n",
              "      <td>0.197712</td>\n",
              "      <td>0.154827</td>\n",
              "      <td>-0.086540</td>\n",
              "      <td>0.346803</td>\n",
              "      <td>0.242777</td>\n",
              "      <td>-0.082125</td>\n",
              "      <td>-0.261445</td>\n",
              "      <td>0.088734</td>\n",
              "      <td>-0.387807</td>\n",
              "      <td>0.495010</td>\n",
              "      <td>0.382039</td>\n",
              "      <td>0.160383</td>\n",
              "      <td>0.052066</td>\n",
              "      <td>0.052139</td>\n",
              "      <td>0.171273</td>\n",
              "      <td>0.135356</td>\n",
              "      <td>-0.039751</td>\n",
              "      <td>-0.129136</td>\n",
              "      <td>...</td>\n",
              "      <td>-0.079197</td>\n",
              "      <td>-0.399922</td>\n",
              "      <td>-0.162569</td>\n",
              "      <td>0.384930</td>\n",
              "      <td>0.369570</td>\n",
              "      <td>-0.350108</td>\n",
              "      <td>0.007712</td>\n",
              "      <td>0.099629</td>\n",
              "      <td>0.466947</td>\n",
              "      <td>-0.458248</td>\n",
              "      <td>0.078793</td>\n",
              "      <td>-0.342719</td>\n",
              "      <td>0.400679</td>\n",
              "      <td>-0.200526</td>\n",
              "      <td>0.049179</td>\n",
              "      <td>0.373425</td>\n",
              "      <td>-0.073395</td>\n",
              "      <td>0.181746</td>\n",
              "      <td>-0.056409</td>\n",
              "      <td>0.676399</td>\n",
              "      <td>-0.187807</td>\n",
              "      <td>0.180891</td>\n",
              "      <td>0.267872</td>\n",
              "      <td>0.200083</td>\n",
              "      <td>-0.265842</td>\n",
              "      <td>-0.020940</td>\n",
              "      <td>0.459814</td>\n",
              "      <td>0.269712</td>\n",
              "      <td>-0.131554</td>\n",
              "      <td>-0.158717</td>\n",
              "      <td>-0.042883</td>\n",
              "      <td>0.293182</td>\n",
              "      <td>0.279353</td>\n",
              "      <td>0.239829</td>\n",
              "      <td>0.324445</td>\n",
              "      <td>-0.012374</td>\n",
              "      <td>-0.353646</td>\n",
              "      <td>-0.049950</td>\n",
              "      <td>-0.069291</td>\n",
              "      <td>0.123795</td>\n",
              "    </tr>\n",
              "  </tbody>\n",
              "</table>\n",
              "<p>5 rows × 200 columns</p>\n",
              "</div>"
            ],
            "text/plain": [
              "        0         1         2    ...       197       198       199\n",
              "0 -0.346927  0.036473  0.184363  ... -0.093506 -0.243418  0.357844\n",
              "1 -0.011463 -0.275910  0.025871  ...  0.172481 -0.181917  0.287694\n",
              "2 -0.305075 -1.201396  0.022667  ...  0.804410 -0.975702 -0.526974\n",
              "3  0.270371 -0.041357  0.266233  ...  0.496603  0.239465  0.410861\n",
              "4 -0.661322  0.150384  0.365792  ... -0.049950 -0.069291  0.123795\n",
              "\n",
              "[5 rows x 200 columns]"
            ]
          },
          "metadata": {},
          "execution_count": 391
        }
      ]
    },
    {
      "cell_type": "code",
      "metadata": {
        "colab": {
          "base_uri": "https://localhost:8080/"
        },
        "id": "iKwmFo6EA5VH",
        "outputId": "ec002805-9990-4da7-f365-43b0452b8068"
      },
      "source": [
        "tfidf"
      ],
      "execution_count": 392,
      "outputs": [
        {
          "output_type": "execute_result",
          "data": {
            "text/plain": [
              "<1600x3000 sparse matrix of type '<class 'numpy.float64'>'\n",
              "\twith 89376 stored elements in Compressed Sparse Row format>"
            ]
          },
          "metadata": {},
          "execution_count": 392
        }
      ]
    },
    {
      "cell_type": "markdown",
      "metadata": {
        "id": "ekn31e1jqP5_"
      },
      "source": [
        "### MODEL BUILDING"
      ]
    },
    {
      "cell_type": "markdown",
      "metadata": {
        "id": "khasu7ZcEeYu"
      },
      "source": [
        "#### LOGISTIC REGRESSION \n",
        "\n",
        "TFIDF"
      ]
    },
    {
      "cell_type": "code",
      "metadata": {
        "id": "lrlmM1hk0Tr_"
      },
      "source": [
        "from sklearn.model_selection import train_test_split\n",
        "x_train, x_test, y_train, y_test = train_test_split(tfidf, y, test_size=0.1, random_state=1234)"
      ],
      "execution_count": 393,
      "outputs": []
    },
    {
      "cell_type": "code",
      "metadata": {
        "id": "QObenIQcz0Kk"
      },
      "source": [
        "from sklearn.linear_model import LogisticRegression\n",
        "lr = LogisticRegression(max_iter=10000) \n",
        "lr.fit(x_train,y_train)\n",
        "y_pred=lr.predict(x_test)"
      ],
      "execution_count": 394,
      "outputs": []
    },
    {
      "cell_type": "code",
      "metadata": {
        "colab": {
          "base_uri": "https://localhost:8080/"
        },
        "id": "B99nG3ck0t4N",
        "outputId": "b6890d8d-85cf-4075-83b6-74ff44821fde"
      },
      "source": [
        "from sklearn.metrics import confusion_matrix, classification_report, accuracy_score\n",
        "print(confusion_matrix(y_test, y_pred))\n",
        "print(classification_report(y_test, y_pred))\n",
        "print('accuracy_score: ', accuracy_score(y_test, y_pred))"
      ],
      "execution_count": 395,
      "outputs": [
        {
          "output_type": "stream",
          "name": "stdout",
          "text": [
            "[[77 10]\n",
            " [ 7 66]]\n",
            "              precision    recall  f1-score   support\n",
            "\n",
            "           0       0.92      0.89      0.90        87\n",
            "           1       0.87      0.90      0.89        73\n",
            "\n",
            "    accuracy                           0.89       160\n",
            "   macro avg       0.89      0.89      0.89       160\n",
            "weighted avg       0.89      0.89      0.89       160\n",
            "\n",
            "accuracy_score:  0.89375\n"
          ]
        }
      ]
    },
    {
      "cell_type": "markdown",
      "metadata": {
        "id": "0_9qWX5OEmDQ"
      },
      "source": [
        "WORD2VEC"
      ]
    },
    {
      "cell_type": "code",
      "metadata": {
        "id": "H6pbRE-b05St"
      },
      "source": [
        "train_w2v = wordvec_df\n",
        "\n",
        "# splitting data into training and validation set \n",
        "x_train, x_test, y_train, y_test = train_test_split(wordvec_df, y, random_state=1212, test_size=0.1)\n",
        "\n",
        "lr = LogisticRegression(max_iter=10000) \n",
        "lr.fit(x_train,y_train)\n",
        "y_pred=lr.predict(x_test)"
      ],
      "execution_count": 396,
      "outputs": []
    },
    {
      "cell_type": "code",
      "metadata": {
        "colab": {
          "base_uri": "https://localhost:8080/"
        },
        "id": "bK66r2Ep3GMc",
        "outputId": "6d9fa251-fbee-4215-dcff-2ed342b45d01"
      },
      "source": [
        "from sklearn.metrics import confusion_matrix, classification_report, accuracy_score\n",
        "print(confusion_matrix(y_test, y_pred))\n",
        "print(classification_report(y_test, y_pred))\n",
        "print('accuracy_score: ', accuracy_score(y_test, y_pred))"
      ],
      "execution_count": 397,
      "outputs": [
        {
          "output_type": "stream",
          "name": "stdout",
          "text": [
            "[[66 12]\n",
            " [17 65]]\n",
            "              precision    recall  f1-score   support\n",
            "\n",
            "           0       0.80      0.85      0.82        78\n",
            "           1       0.84      0.79      0.82        82\n",
            "\n",
            "    accuracy                           0.82       160\n",
            "   macro avg       0.82      0.82      0.82       160\n",
            "weighted avg       0.82      0.82      0.82       160\n",
            "\n",
            "accuracy_score:  0.81875\n"
          ]
        }
      ]
    },
    {
      "cell_type": "markdown",
      "metadata": {
        "id": "41xE5KSuEsqv"
      },
      "source": [
        "DOC2VEC"
      ]
    },
    {
      "cell_type": "code",
      "metadata": {
        "id": "oIzrSWIS3MJa"
      },
      "source": [
        "# splitting data into training and validation set \n",
        "x_train, x_test, y_train, y_test = train_test_split(docvec_df, y, random_state=1212, test_size=0.1)\n",
        "lr = LogisticRegression(max_iter=10000) \n",
        "lr.fit(x_train,y_train)\n",
        "y_pred=lr.predict(x_test)"
      ],
      "execution_count": 398,
      "outputs": []
    },
    {
      "cell_type": "code",
      "metadata": {
        "colab": {
          "base_uri": "https://localhost:8080/"
        },
        "id": "ZRRbaDvr3MOG",
        "outputId": "3f8ea997-58ae-4a40-8d03-134a6cbadd11"
      },
      "source": [
        "from sklearn.metrics import confusion_matrix, classification_report, accuracy_score\n",
        "print(confusion_matrix(y_test, y_pred))\n",
        "print(classification_report(y_test, y_pred))\n",
        "print('accuracy_score: ', accuracy_score(y_test, y_pred))"
      ],
      "execution_count": 399,
      "outputs": [
        {
          "output_type": "stream",
          "name": "stdout",
          "text": [
            "[[58 20]\n",
            " [15 67]]\n",
            "              precision    recall  f1-score   support\n",
            "\n",
            "           0       0.79      0.74      0.77        78\n",
            "           1       0.77      0.82      0.79        82\n",
            "\n",
            "    accuracy                           0.78       160\n",
            "   macro avg       0.78      0.78      0.78       160\n",
            "weighted avg       0.78      0.78      0.78       160\n",
            "\n",
            "accuracy_score:  0.78125\n"
          ]
        }
      ]
    },
    {
      "cell_type": "markdown",
      "metadata": {
        "id": "sPQ2K4wEEx-j"
      },
      "source": [
        "#### SUPPORT VECTOR MACHINE (SVM)\n",
        "\n",
        "TFIDF"
      ]
    },
    {
      "cell_type": "code",
      "metadata": {
        "id": "ZEtfFPid62yM"
      },
      "source": [
        "x_train1, x_test1, y_train1, y_test1 = train_test_split(tfidf, y, test_size=0.1, random_state=1234)\n",
        "from sklearn.svm import SVC\n",
        "model1 = SVC()\n",
        "model1.fit(x_train1,y_train1)\n",
        "y_pred=model1.predict(x_test1)"
      ],
      "execution_count": 400,
      "outputs": []
    },
    {
      "cell_type": "code",
      "metadata": {
        "colab": {
          "base_uri": "https://localhost:8080/"
        },
        "id": "PF0puxuM5jIs",
        "outputId": "4e94bca3-0d5e-4a02-f4c8-b090c1b00db6"
      },
      "source": [
        "from sklearn.metrics import confusion_matrix, classification_report, accuracy_score\n",
        "print(confusion_matrix(y_test1, y_pred))\n",
        "print(classification_report(y_test1, y_pred))\n",
        "print('accuracy_score: ', accuracy_score(y_test1, y_pred))"
      ],
      "execution_count": 401,
      "outputs": [
        {
          "output_type": "stream",
          "name": "stdout",
          "text": [
            "[[77 10]\n",
            " [ 6 67]]\n",
            "              precision    recall  f1-score   support\n",
            "\n",
            "           0       0.93      0.89      0.91        87\n",
            "           1       0.87      0.92      0.89        73\n",
            "\n",
            "    accuracy                           0.90       160\n",
            "   macro avg       0.90      0.90      0.90       160\n",
            "weighted avg       0.90      0.90      0.90       160\n",
            "\n",
            "accuracy_score:  0.9\n"
          ]
        }
      ]
    },
    {
      "cell_type": "markdown",
      "metadata": {
        "id": "s5aXvR6MFFEO"
      },
      "source": [
        "WORD2VEC"
      ]
    },
    {
      "cell_type": "code",
      "metadata": {
        "id": "PUIQ3fj062oh"
      },
      "source": [
        "x_train1, x_test1, y_train1, y_test1 = train_test_split(wordvec_df, y, test_size=0.1, random_state=1234)\n",
        "from sklearn.svm import SVC\n",
        "model1 = SVC(C=1)\n",
        "model1.fit(x_train1,y_train1)\n",
        "y_pred=model1.predict(x_test1)"
      ],
      "execution_count": 402,
      "outputs": []
    },
    {
      "cell_type": "code",
      "metadata": {
        "colab": {
          "base_uri": "https://localhost:8080/"
        },
        "id": "EGJ2HY4e62tB",
        "outputId": "481c1678-dffb-480a-a509-99984ce18d7c"
      },
      "source": [
        "from sklearn.metrics import confusion_matrix, classification_report, accuracy_score\n",
        "print(confusion_matrix(y_test1, y_pred))\n",
        "print(classification_report(y_test1, y_pred))\n",
        "print('accuracy_score: ', accuracy_score(y_test1, y_pred))"
      ],
      "execution_count": 403,
      "outputs": [
        {
          "output_type": "stream",
          "name": "stdout",
          "text": [
            "[[72 15]\n",
            " [ 9 64]]\n",
            "              precision    recall  f1-score   support\n",
            "\n",
            "           0       0.89      0.83      0.86        87\n",
            "           1       0.81      0.88      0.84        73\n",
            "\n",
            "    accuracy                           0.85       160\n",
            "   macro avg       0.85      0.85      0.85       160\n",
            "weighted avg       0.85      0.85      0.85       160\n",
            "\n",
            "accuracy_score:  0.85\n"
          ]
        }
      ]
    },
    {
      "cell_type": "markdown",
      "metadata": {
        "id": "aKVUxfJIFHn-"
      },
      "source": [
        "DOC2VEC"
      ]
    },
    {
      "cell_type": "code",
      "metadata": {
        "id": "xuyMMOdD62xq"
      },
      "source": [
        "x_train1, x_test1, y_train1, y_test1 = train_test_split(docvec_df, y, test_size=0.1, random_state=1234)\n",
        "from sklearn.svm import SVC\n",
        "model1 = SVC(C=6)\n",
        "model1.fit(x_train1,y_train1)\n",
        "y_pred=model1.predict(x_test1)"
      ],
      "execution_count": 404,
      "outputs": []
    },
    {
      "cell_type": "code",
      "metadata": {
        "colab": {
          "base_uri": "https://localhost:8080/"
        },
        "id": "234cGNQJ7Iym",
        "outputId": "0b643c8c-16e2-4b7d-96cf-49551c020cea"
      },
      "source": [
        "from sklearn.metrics import confusion_matrix, classification_report, accuracy_score\n",
        "print(confusion_matrix(y_test1, y_pred))\n",
        "print(classification_report(y_test1, y_pred))\n",
        "print('accuracy_score: ', accuracy_score(y_test1, y_pred))"
      ],
      "execution_count": 405,
      "outputs": [
        {
          "output_type": "stream",
          "name": "stdout",
          "text": [
            "[[69 18]\n",
            " [10 63]]\n",
            "              precision    recall  f1-score   support\n",
            "\n",
            "           0       0.87      0.79      0.83        87\n",
            "           1       0.78      0.86      0.82        73\n",
            "\n",
            "    accuracy                           0.82       160\n",
            "   macro avg       0.83      0.83      0.82       160\n",
            "weighted avg       0.83      0.82      0.83       160\n",
            "\n",
            "accuracy_score:  0.825\n"
          ]
        }
      ]
    },
    {
      "cell_type": "markdown",
      "metadata": {
        "id": "bcbUN4-zFKNw"
      },
      "source": [
        "#### LINEAR SUPPORT VECTOR MACHINE (LSVM)\n",
        "\n",
        "TFIDF"
      ]
    },
    {
      "cell_type": "code",
      "metadata": {
        "id": "FVTHsiyz7I4b"
      },
      "source": [
        "x_train1, x_test1, y_train1, y_test1 = train_test_split(tfidf, y, test_size=0.1, random_state=1234)\n",
        "from sklearn.svm import LinearSVC\n",
        "models = LinearSVC()\n",
        "models.fit(x_train1,y_train1)\n",
        "y_pred=models.predict(x_test1)"
      ],
      "execution_count": 406,
      "outputs": []
    },
    {
      "cell_type": "code",
      "metadata": {
        "colab": {
          "base_uri": "https://localhost:8080/"
        },
        "id": "ScudPVXo8PC-",
        "outputId": "e6268c71-3d4f-45d6-c315-0820322cdc71"
      },
      "source": [
        "from sklearn.metrics import confusion_matrix, classification_report, accuracy_score\n",
        "print(confusion_matrix(y_test1, y_pred))\n",
        "print(classification_report(y_test1, y_pred))\n",
        "print('accuracy_score: ', accuracy_score(y_test1, y_pred))"
      ],
      "execution_count": 407,
      "outputs": [
        {
          "output_type": "stream",
          "name": "stdout",
          "text": [
            "[[78  9]\n",
            " [ 7 66]]\n",
            "              precision    recall  f1-score   support\n",
            "\n",
            "           0       0.92      0.90      0.91        87\n",
            "           1       0.88      0.90      0.89        73\n",
            "\n",
            "    accuracy                           0.90       160\n",
            "   macro avg       0.90      0.90      0.90       160\n",
            "weighted avg       0.90      0.90      0.90       160\n",
            "\n",
            "accuracy_score:  0.9\n"
          ]
        }
      ]
    },
    {
      "cell_type": "markdown",
      "metadata": {
        "id": "v6tYiKY0FQkz"
      },
      "source": [
        "WORD2VEC"
      ]
    },
    {
      "cell_type": "code",
      "metadata": {
        "id": "ipEdfxJz-t5e"
      },
      "source": [
        "x_train1, x_test1, y_train1, y_test1 = train_test_split(wordvec_df, y, test_size=0.1, random_state=1234)\n",
        "from sklearn.svm import LinearSVC\n",
        "model1 = LinearSVC()\n",
        "model1.fit(x_train1,y_train1)\n",
        "y_pred=model1.predict(x_test1)"
      ],
      "execution_count": 408,
      "outputs": []
    },
    {
      "cell_type": "code",
      "metadata": {
        "colab": {
          "base_uri": "https://localhost:8080/"
        },
        "id": "Za5U0MvF-t_q",
        "outputId": "12d50e04-919a-496d-d7df-c2b99790bf59"
      },
      "source": [
        "from sklearn.metrics import confusion_matrix, classification_report, accuracy_score\n",
        "print(confusion_matrix(y_test1, y_pred))\n",
        "print(classification_report(y_test1, y_pred))\n",
        "print('accuracy_score: ', accuracy_score(y_test1, y_pred))"
      ],
      "execution_count": 409,
      "outputs": [
        {
          "output_type": "stream",
          "name": "stdout",
          "text": [
            "[[73 14]\n",
            " [ 8 65]]\n",
            "              precision    recall  f1-score   support\n",
            "\n",
            "           0       0.90      0.84      0.87        87\n",
            "           1       0.82      0.89      0.86        73\n",
            "\n",
            "    accuracy                           0.86       160\n",
            "   macro avg       0.86      0.86      0.86       160\n",
            "weighted avg       0.87      0.86      0.86       160\n",
            "\n",
            "accuracy_score:  0.8625\n"
          ]
        }
      ]
    },
    {
      "cell_type": "markdown",
      "metadata": {
        "id": "idYEatMeFgsH"
      },
      "source": [
        "DOC2VEC"
      ]
    },
    {
      "cell_type": "code",
      "metadata": {
        "colab": {
          "base_uri": "https://localhost:8080/"
        },
        "id": "dfTy6lOmFUW-",
        "outputId": "80421a50-c7fc-4385-bc7e-831b1fc2980b"
      },
      "source": [
        "x_train1, x_test1, y_train1, y_test1 = train_test_split(docvec_df, y, test_size=0.1, random_state=1234)\n",
        "from sklearn.svm import LinearSVC\n",
        "model1 = LinearSVC()\n",
        "model1.fit(x_train1,y_train1)\n",
        "y_pred=model1.predict(x_test1)"
      ],
      "execution_count": 410,
      "outputs": [
        {
          "output_type": "stream",
          "name": "stderr",
          "text": [
            "/usr/local/lib/python3.7/dist-packages/sklearn/svm/_base.py:947: ConvergenceWarning: Liblinear failed to converge, increase the number of iterations.\n",
            "  \"the number of iterations.\", ConvergenceWarning)\n"
          ]
        }
      ]
    },
    {
      "cell_type": "code",
      "metadata": {
        "colab": {
          "base_uri": "https://localhost:8080/"
        },
        "id": "abtHv2r0FUdj",
        "outputId": "8601d5f0-709e-45ba-ab89-f3ee45704f68"
      },
      "source": [
        "from sklearn.metrics import confusion_matrix, classification_report, accuracy_score\n",
        "print(confusion_matrix(y_test1, y_pred))\n",
        "print(classification_report(y_test1, y_pred))\n",
        "print('accuracy_score: ', accuracy_score(y_test1, y_pred))"
      ],
      "execution_count": 411,
      "outputs": [
        {
          "output_type": "stream",
          "name": "stdout",
          "text": [
            "[[69 18]\n",
            " [12 61]]\n",
            "              precision    recall  f1-score   support\n",
            "\n",
            "           0       0.85      0.79      0.82        87\n",
            "           1       0.77      0.84      0.80        73\n",
            "\n",
            "    accuracy                           0.81       160\n",
            "   macro avg       0.81      0.81      0.81       160\n",
            "weighted avg       0.82      0.81      0.81       160\n",
            "\n",
            "accuracy_score:  0.8125\n"
          ]
        }
      ]
    },
    {
      "cell_type": "markdown",
      "metadata": {
        "id": "oF5s3GV0F8u8"
      },
      "source": [
        "#### MULTINOMIAL NAIVE BAYES\n",
        "\n",
        "TFIDF"
      ]
    },
    {
      "cell_type": "code",
      "metadata": {
        "id": "QHlHICXgGBDt"
      },
      "source": [
        "x_train1, x_test1, y_train1, y_test1 = train_test_split(tfidf, y, test_size=0.1, random_state=1234)\n",
        "from sklearn.naive_bayes import MultinomialNB\n",
        "clf=MultinomialNB(alpha=1.0)\n",
        "model1.fit(x_train1,y_train1)\n",
        "y_pred=model1.predict(x_test1)"
      ],
      "execution_count": 412,
      "outputs": []
    },
    {
      "cell_type": "code",
      "metadata": {
        "colab": {
          "base_uri": "https://localhost:8080/"
        },
        "id": "JnYEzqfhGBI5",
        "outputId": "4a66f34e-4db3-4484-e469-b19da182a6c9"
      },
      "source": [
        "from sklearn.metrics import confusion_matrix, classification_report, accuracy_score\n",
        "print(confusion_matrix(y_test1, y_pred))\n",
        "print(classification_report(y_test1, y_pred))\n",
        "print('accuracy_score: ', accuracy_score(y_test1, y_pred))"
      ],
      "execution_count": 413,
      "outputs": [
        {
          "output_type": "stream",
          "name": "stdout",
          "text": [
            "[[78  9]\n",
            " [ 7 66]]\n",
            "              precision    recall  f1-score   support\n",
            "\n",
            "           0       0.92      0.90      0.91        87\n",
            "           1       0.88      0.90      0.89        73\n",
            "\n",
            "    accuracy                           0.90       160\n",
            "   macro avg       0.90      0.90      0.90       160\n",
            "weighted avg       0.90      0.90      0.90       160\n",
            "\n",
            "accuracy_score:  0.9\n"
          ]
        }
      ]
    },
    {
      "cell_type": "markdown",
      "metadata": {
        "id": "JP5mndRkGnFj"
      },
      "source": [
        "WORD2VEC"
      ]
    },
    {
      "cell_type": "code",
      "metadata": {
        "id": "-q2t6y2DGEw3"
      },
      "source": [
        "x_train1, x_test1, y_train1, y_test1 = train_test_split(wordvec_df, y, test_size=0.1, random_state=1234)\n",
        "from sklearn.naive_bayes import MultinomialNB\n",
        "clf=MultinomialNB(alpha=1.0)\n",
        "model1.fit(x_train1,y_train1)\n",
        "y_pred=model1.predict(x_test1)"
      ],
      "execution_count": 414,
      "outputs": []
    },
    {
      "cell_type": "code",
      "metadata": {
        "colab": {
          "base_uri": "https://localhost:8080/"
        },
        "id": "3l1t8cHNGE2b",
        "outputId": "156817ee-aaa0-4faf-a534-8149b921ec3c"
      },
      "source": [
        "from sklearn.metrics import confusion_matrix, classification_report, accuracy_score\n",
        "print(confusion_matrix(y_test1, y_pred))\n",
        "print(classification_report(y_test1, y_pred))\n",
        "print('accuracy_score: ', accuracy_score(y_test1, y_pred))"
      ],
      "execution_count": 415,
      "outputs": [
        {
          "output_type": "stream",
          "name": "stdout",
          "text": [
            "[[73 14]\n",
            " [ 8 65]]\n",
            "              precision    recall  f1-score   support\n",
            "\n",
            "           0       0.90      0.84      0.87        87\n",
            "           1       0.82      0.89      0.86        73\n",
            "\n",
            "    accuracy                           0.86       160\n",
            "   macro avg       0.86      0.86      0.86       160\n",
            "weighted avg       0.87      0.86      0.86       160\n",
            "\n",
            "accuracy_score:  0.8625\n"
          ]
        }
      ]
    },
    {
      "cell_type": "markdown",
      "metadata": {
        "id": "xMWmH4sTGqIz"
      },
      "source": [
        "DOC2VEC"
      ]
    },
    {
      "cell_type": "code",
      "metadata": {
        "colab": {
          "base_uri": "https://localhost:8080/"
        },
        "id": "fCFMsPRXGE9e",
        "outputId": "5baaeb6f-365c-4f52-ea5b-ab0a02f32c97"
      },
      "source": [
        "x_train1, x_test1, y_train1, y_test1 = train_test_split(docvec_df, y, test_size=0.1, random_state=1234)\n",
        "from sklearn.naive_bayes import MultinomialNB\n",
        "clf=MultinomialNB(alpha=1.0)\n",
        "model1.fit(x_train1,y_train1)\n",
        "y_pred=model1.predict(x_test1)"
      ],
      "execution_count": 416,
      "outputs": [
        {
          "output_type": "stream",
          "name": "stderr",
          "text": [
            "/usr/local/lib/python3.7/dist-packages/sklearn/svm/_base.py:947: ConvergenceWarning: Liblinear failed to converge, increase the number of iterations.\n",
            "  \"the number of iterations.\", ConvergenceWarning)\n"
          ]
        }
      ]
    },
    {
      "cell_type": "code",
      "metadata": {
        "colab": {
          "base_uri": "https://localhost:8080/"
        },
        "id": "bzy_om-WGFBr",
        "outputId": "1e19e5b9-59d1-4b99-9641-271ec5838079"
      },
      "source": [
        "from sklearn.metrics import confusion_matrix, classification_report, accuracy_score\n",
        "print(confusion_matrix(y_test1, y_pred))\n",
        "print(classification_report(y_test1, y_pred))\n",
        "print('accuracy_score: ', accuracy_score(y_test1, y_pred))"
      ],
      "execution_count": 417,
      "outputs": [
        {
          "output_type": "stream",
          "name": "stdout",
          "text": [
            "[[69 18]\n",
            " [12 61]]\n",
            "              precision    recall  f1-score   support\n",
            "\n",
            "           0       0.85      0.79      0.82        87\n",
            "           1       0.77      0.84      0.80        73\n",
            "\n",
            "    accuracy                           0.81       160\n",
            "   macro avg       0.81      0.81      0.81       160\n",
            "weighted avg       0.82      0.81      0.81       160\n",
            "\n",
            "accuracy_score:  0.8125\n"
          ]
        }
      ]
    },
    {
      "cell_type": "markdown",
      "metadata": {
        "id": "rD0dYvp9FkPN"
      },
      "source": [
        "#### XGBOOST CLASSIFIER\n",
        "\n",
        "TFIDF"
      ]
    },
    {
      "cell_type": "code",
      "metadata": {
        "id": "tNRDzkXs-uQa"
      },
      "source": [
        "from xgboost import XGBClassifier"
      ],
      "execution_count": 418,
      "outputs": []
    },
    {
      "cell_type": "code",
      "metadata": {
        "id": "Fb9476oC_R-n"
      },
      "source": [
        "x_train1, x_test1, y_train1, y_test1 = train_test_split(tfidf, y, test_size=0.1, random_state=1234)\n",
        "model1 = XGBClassifier(max_depth=6, n_estimators=500)\n",
        "model1.fit(x_train1,y_train1)\n",
        "y_pred=model1.predict(x_test1)"
      ],
      "execution_count": 419,
      "outputs": []
    },
    {
      "cell_type": "code",
      "metadata": {
        "colab": {
          "base_uri": "https://localhost:8080/"
        },
        "id": "_pwC2xCd_SD7",
        "outputId": "aaafea24-e031-4b91-c72b-f7c9e57bd7c6"
      },
      "source": [
        "from sklearn.metrics import confusion_matrix, classification_report, accuracy_score\n",
        "print(confusion_matrix(y_test1, y_pred))\n",
        "print(classification_report(y_test1, y_pred))\n",
        "print('accuracy_score: ', accuracy_score(y_test1, y_pred))"
      ],
      "execution_count": 420,
      "outputs": [
        {
          "output_type": "stream",
          "name": "stdout",
          "text": [
            "[[78  9]\n",
            " [ 7 66]]\n",
            "              precision    recall  f1-score   support\n",
            "\n",
            "           0       0.92      0.90      0.91        87\n",
            "           1       0.88      0.90      0.89        73\n",
            "\n",
            "    accuracy                           0.90       160\n",
            "   macro avg       0.90      0.90      0.90       160\n",
            "weighted avg       0.90      0.90      0.90       160\n",
            "\n",
            "accuracy_score:  0.9\n"
          ]
        }
      ]
    },
    {
      "cell_type": "markdown",
      "metadata": {
        "id": "1n6fwXwUFrNt"
      },
      "source": [
        "WORD2VEC"
      ]
    },
    {
      "cell_type": "code",
      "metadata": {
        "id": "hLzuwW2C_SM0"
      },
      "source": [
        "x_train1, x_test1, y_train1, y_test1 = train_test_split(wordvec_df, y, test_size=0.1, random_state=1234)\n",
        "model1 = XGBClassifier(max_depth=6, n_estimators=500)\n",
        "model1.fit(x_train1,y_train1)\n",
        "y_pred=model1.predict(x_test1)"
      ],
      "execution_count": 421,
      "outputs": []
    },
    {
      "cell_type": "code",
      "metadata": {
        "colab": {
          "base_uri": "https://localhost:8080/"
        },
        "id": "JU_0ljyD_SQ5",
        "outputId": "ad05eac1-0b99-4bfc-af0d-016045a53f74"
      },
      "source": [
        "from sklearn.metrics import confusion_matrix, classification_report, accuracy_score\n",
        "print(confusion_matrix(y_test1, y_pred))\n",
        "print(classification_report(y_test1, y_pred))\n",
        "print('accuracy_score: ', accuracy_score(y_test1, y_pred))"
      ],
      "execution_count": 422,
      "outputs": [
        {
          "output_type": "stream",
          "name": "stdout",
          "text": [
            "[[72 15]\n",
            " [14 59]]\n",
            "              precision    recall  f1-score   support\n",
            "\n",
            "           0       0.84      0.83      0.83        87\n",
            "           1       0.80      0.81      0.80        73\n",
            "\n",
            "    accuracy                           0.82       160\n",
            "   macro avg       0.82      0.82      0.82       160\n",
            "weighted avg       0.82      0.82      0.82       160\n",
            "\n",
            "accuracy_score:  0.81875\n"
          ]
        }
      ]
    },
    {
      "cell_type": "markdown",
      "metadata": {
        "id": "IfB1vTK8FuJH"
      },
      "source": [
        "DOC2VEC"
      ]
    },
    {
      "cell_type": "code",
      "metadata": {
        "id": "qI7tRHv0Cp2i"
      },
      "source": [
        "x_train1, x_test1, y_train1, y_test1 = train_test_split(docvec_df, y, test_size=0.1, random_state=1234)\n",
        "model1 = XGBClassifier(max_depth=6, n_estimators=500)\n",
        "model1.fit(x_train1,y_train1)\n",
        "y_pred=model1.predict(x_test1)"
      ],
      "execution_count": 423,
      "outputs": []
    },
    {
      "cell_type": "code",
      "metadata": {
        "colab": {
          "base_uri": "https://localhost:8080/"
        },
        "id": "9XN-HawmCqI5",
        "outputId": "0609e107-b0f3-4dc1-d28a-306b190ec450"
      },
      "source": [
        "from sklearn.metrics import confusion_matrix, classification_report, accuracy_score\n",
        "print(confusion_matrix(y_test1, y_pred))\n",
        "print(classification_report(y_test1, y_pred))\n",
        "print('accuracy_score: ', accuracy_score(y_test1, y_pred))"
      ],
      "execution_count": 424,
      "outputs": [
        {
          "output_type": "stream",
          "name": "stdout",
          "text": [
            "[[70 17]\n",
            " [13 60]]\n",
            "              precision    recall  f1-score   support\n",
            "\n",
            "           0       0.84      0.80      0.82        87\n",
            "           1       0.78      0.82      0.80        73\n",
            "\n",
            "    accuracy                           0.81       160\n",
            "   macro avg       0.81      0.81      0.81       160\n",
            "weighted avg       0.81      0.81      0.81       160\n",
            "\n",
            "accuracy_score:  0.8125\n"
          ]
        }
      ]
    },
    {
      "cell_type": "markdown",
      "metadata": {
        "id": "8h6cJFQn_mSM"
      },
      "source": [
        "### HYPERPARAMETER TUNING IN XGBOOST"
      ]
    },
    {
      "cell_type": "code",
      "metadata": {
        "id": "Dvf9nKd7yrFx"
      },
      "source": [
        "# train test split\n",
        "x_train1, x_test1, y_train1, y_test1 = train_test_split(tfidf, y, test_size=0.1, random_state=1234)"
      ],
      "execution_count": 425,
      "outputs": []
    },
    {
      "cell_type": "code",
      "metadata": {
        "id": "vZ3gZw5EyI09"
      },
      "source": [
        "# initializing the parameter\n",
        "params={'learning_rate': [0.05, 0.10, 0.15, 0.20, 0.25, 0.30],\n",
        "        'max_depth' : [3, 4, 5, 6, 7, 8, 9, 10, 11, 12, 15, 20, 25, 30],\n",
        "         'min_child_weight' : [1, 3, 5, 7, 9, 11, 13, 15],\n",
        "        'gamma' : [0.0, 0.1, 0.2, 0.3, 0.4],\n",
        "        'n_estimators' : [100, 150, 200, 250, 300, 350, 400, 450, 500, 600, 700],\n",
        "        'eta' : [0.1, 0.2, 0.3, 0.4],\n",
        "        'colsample_bytree' : [0.1, 0.3, 0.4, 0.5, 0.7]}"
      ],
      "execution_count": 426,
      "outputs": []
    },
    {
      "cell_type": "code",
      "metadata": {
        "id": "WMK9zlJqyI4x"
      },
      "source": [
        "from sklearn.model_selection import RandomizedSearchCV, GridSearchCV"
      ],
      "execution_count": 427,
      "outputs": []
    },
    {
      "cell_type": "code",
      "metadata": {
        "id": "tdEJhzhWyI9L"
      },
      "source": [
        "xgbm=XGBClassifier()"
      ],
      "execution_count": 428,
      "outputs": []
    },
    {
      "cell_type": "code",
      "metadata": {
        "id": "rk5nfEDxyJAy"
      },
      "source": [
        "random_search=RandomizedSearchCV(xgbm, param_distributions=params, n_iter=5, scoring='roc_auc', n_jobs=-1, cv=5, verbose=3)"
      ],
      "execution_count": 429,
      "outputs": []
    },
    {
      "cell_type": "code",
      "metadata": {
        "colab": {
          "base_uri": "https://localhost:8080/"
        },
        "id": "GdShRxb0yf1o",
        "outputId": "937dacdc-8d00-4e79-dd7d-2fbb52c2821a"
      },
      "source": [
        "random_search.fit(x_train1, y_train1)"
      ],
      "execution_count": 430,
      "outputs": [
        {
          "output_type": "stream",
          "name": "stdout",
          "text": [
            "Fitting 5 folds for each of 5 candidates, totalling 25 fits\n"
          ]
        },
        {
          "output_type": "stream",
          "name": "stderr",
          "text": [
            "[Parallel(n_jobs=-1)]: Using backend LokyBackend with 2 concurrent workers.\n",
            "[Parallel(n_jobs=-1)]: Done  25 out of  25 | elapsed:  1.7min finished\n"
          ]
        },
        {
          "output_type": "execute_result",
          "data": {
            "text/plain": [
              "RandomizedSearchCV(cv=5, error_score=nan,\n",
              "                   estimator=XGBClassifier(base_score=0.5, booster='gbtree',\n",
              "                                           colsample_bylevel=1,\n",
              "                                           colsample_bynode=1,\n",
              "                                           colsample_bytree=1, gamma=0,\n",
              "                                           learning_rate=0.1, max_delta_step=0,\n",
              "                                           max_depth=3, min_child_weight=1,\n",
              "                                           missing=None, n_estimators=100,\n",
              "                                           n_jobs=1, nthread=None,\n",
              "                                           objective='binary:logistic',\n",
              "                                           random_state=0, reg_alpha=0,\n",
              "                                           reg_lambda=1, sc...\n",
              "                                        'eta': [0.1, 0.2, 0.3, 0.4],\n",
              "                                        'gamma': [0.0, 0.1, 0.2, 0.3, 0.4],\n",
              "                                        'learning_rate': [0.05, 0.1, 0.15, 0.2,\n",
              "                                                          0.25, 0.3],\n",
              "                                        'max_depth': [3, 4, 5, 6, 7, 8, 9, 10,\n",
              "                                                      11, 12, 15, 20, 25, 30],\n",
              "                                        'min_child_weight': [1, 3, 5, 7, 9, 11,\n",
              "                                                             13, 15],\n",
              "                                        'n_estimators': [100, 150, 200, 250,\n",
              "                                                         300, 350, 400, 450,\n",
              "                                                         500, 600, 700]},\n",
              "                   pre_dispatch='2*n_jobs', random_state=None, refit=True,\n",
              "                   return_train_score=False, scoring='roc_auc', verbose=3)"
            ]
          },
          "metadata": {},
          "execution_count": 430
        }
      ]
    },
    {
      "cell_type": "code",
      "metadata": {
        "colab": {
          "base_uri": "https://localhost:8080/"
        },
        "id": "9Gyidd15yf5x",
        "outputId": "2a20de3b-2c22-44da-bf9b-358f4a690f79"
      },
      "source": [
        "random_search.best_estimator_"
      ],
      "execution_count": 431,
      "outputs": [
        {
          "output_type": "execute_result",
          "data": {
            "text/plain": [
              "XGBClassifier(base_score=0.5, booster='gbtree', colsample_bylevel=1,\n",
              "              colsample_bynode=1, colsample_bytree=0.1, eta=0.1, gamma=0.1,\n",
              "              learning_rate=0.25, max_delta_step=0, max_depth=20,\n",
              "              min_child_weight=1, missing=None, n_estimators=350, n_jobs=1,\n",
              "              nthread=None, objective='binary:logistic', random_state=0,\n",
              "              reg_alpha=0, reg_lambda=1, scale_pos_weight=1, seed=None,\n",
              "              silent=None, subsample=1, verbosity=1)"
            ]
          },
          "metadata": {},
          "execution_count": 431
        }
      ]
    },
    {
      "cell_type": "code",
      "metadata": {
        "id": "_28ItmaAyf-E"
      },
      "source": [
        "xgbm = XGBClassifier(base_score=0.5, booster='gbtree', colsample_bylevel=1,\n",
        "              colsample_bynode=1, colsample_bytree=0.4, eta=0.3, gamma=0.4,\n",
        "              learning_rate=0.05, max_delta_step=0, max_depth=5,\n",
        "              min_child_weight=1, missing=None, n_estimators=600, n_jobs=1,\n",
        "              nthread=None, objective='binary:logistic', random_state=0,\n",
        "              reg_alpha=0, reg_lambda=1, scale_pos_weight=1, seed=None,\n",
        "              silent=None, subsample=1, verbosity=1)"
      ],
      "execution_count": 432,
      "outputs": []
    },
    {
      "cell_type": "code",
      "metadata": {
        "id": "_RcYQb_wygDz"
      },
      "source": [
        "from sklearn.model_selection import cross_val_score\n",
        "score=cross_val_score(xgbm, x_train1, y_train1, cv=10)"
      ],
      "execution_count": 433,
      "outputs": []
    },
    {
      "cell_type": "code",
      "metadata": {
        "colab": {
          "base_uri": "https://localhost:8080/"
        },
        "id": "r5mdu0gezk6W",
        "outputId": "5e5d6a3f-74f9-454e-885b-7ccb11c97344"
      },
      "source": [
        "score"
      ],
      "execution_count": 434,
      "outputs": [
        {
          "output_type": "execute_result",
          "data": {
            "text/plain": [
              "array([0.82638889, 0.85416667, 0.78472222, 0.77083333, 0.82638889,\n",
              "       0.84722222, 0.85416667, 0.88194444, 0.82638889, 0.80555556])"
            ]
          },
          "metadata": {},
          "execution_count": 434
        }
      ]
    },
    {
      "cell_type": "code",
      "metadata": {
        "colab": {
          "base_uri": "https://localhost:8080/"
        },
        "id": "Xdms8h-vzsu7",
        "outputId": "6bfc7ce6-fd2a-4bff-8b8c-a16f5d3145bf"
      },
      "source": [
        "score.mean()"
      ],
      "execution_count": 435,
      "outputs": [
        {
          "output_type": "execute_result",
          "data": {
            "text/plain": [
              "0.8277777777777777"
            ]
          },
          "metadata": {},
          "execution_count": 435
        }
      ]
    },
    {
      "cell_type": "code",
      "metadata": {
        "colab": {
          "base_uri": "https://localhost:8080/"
        },
        "id": "JTXGv0SwztBT",
        "outputId": "ec3a08eb-acc8-463c-c719-ceed97c712a0"
      },
      "source": [
        "xgbm.fit(x_train1, y_train1)\n",
        "y_pred=xgbm.predict(x_test1)\n",
        "from sklearn.metrics import confusion_matrix\n",
        "from sklearn.metrics import classification_report\n",
        "\n",
        "print(classification_report(y_test1, y_pred))\n",
        "print(confusion_matrix(y_test1, y_pred))\n",
        "\n",
        "from sklearn.metrics import accuracy_score\n",
        "print('accuracy is',accuracy_score(y_test1,y_pred))"
      ],
      "execution_count": 436,
      "outputs": [
        {
          "output_type": "stream",
          "name": "stdout",
          "text": [
            "              precision    recall  f1-score   support\n",
            "\n",
            "           0       0.93      0.91      0.92        87\n",
            "           1       0.89      0.92      0.91        73\n",
            "\n",
            "    accuracy                           0.91       160\n",
            "   macro avg       0.91      0.91      0.91       160\n",
            "weighted avg       0.91      0.91      0.91       160\n",
            "\n",
            "[[79  8]\n",
            " [ 6 67]]\n",
            "accuracy is 0.9125\n"
          ]
        }
      ]
    },
    {
      "cell_type": "markdown",
      "metadata": {
        "id": "V6qscGr5_1ws"
      },
      "source": [
        "Conclusion : I have tried TFIDF, WORD2VEC, DOC2VEC in the Machine learning algorithms [Logistic Regression, Support Vector Machine SVM, Linear Support Vector Machine LSVM, Multinomial Naive Bayes, XGBOOST]. All of them give above 80%. When i've used TFIDF vectorizer, all the ML models give 90% accuracy. Then i did little bit hyperparameter tuning in XGBOOST. Finally, XGBOOST MODEL gives us 91% accuracy with less FP and FN"
      ]
    },
    {
      "cell_type": "markdown",
      "metadata": {
        "id": "M5L2kHvzGzaD"
      },
      "source": [
        "### MODEL EVALUATION\n"
      ]
    },
    {
      "cell_type": "code",
      "metadata": {
        "colab": {
          "base_uri": "https://localhost:8080/"
        },
        "id": "JHA51o-7G5df",
        "outputId": "f3c095ce-7eb6-468e-9846-d6d0a8e3a9c8"
      },
      "source": [
        "text = \"For 250 dollars, cheapest room available at the Hard Rock Hotel Chicago, you would assume you would have access to wifi. Yet, that was not the case. I was told I 'could have had' internet if I had booked through the site, which I didnt. The lady in the reception had no idea what she was talking about and had to ask around about internet access in general.\"\n",
        "data = [text]\n",
        "fact = tfidf_vectorizer.transform(data)\n",
        "pred = xgbm.predict(fact)\n",
        "print(\"pred\", pred)\n",
        "if (int(pred)==1):\n",
        "    print(\"TRUTHFUL REVIEW\")\n",
        "else:\n",
        "    print(\"DECEPTIVE REVIEW\")"
      ],
      "execution_count": 438,
      "outputs": [
        {
          "output_type": "stream",
          "name": "stdout",
          "text": [
            "pred [0]\n",
            "DECEPTIVE REVIEW\n"
          ]
        }
      ]
    },
    {
      "cell_type": "code",
      "metadata": {
        "colab": {
          "base_uri": "https://localhost:8080/"
        },
        "id": "qV6V_9G2G5hj",
        "outputId": "92b59639-4af9-42d4-bc8b-1be8afcdea35"
      },
      "source": [
        "test = 'We stayed at the Conrad for 2 nights for a friends reunion. The room was clean and new feeling, nice city view, free bottled water in room upon arrival. Check in was a breeze, and our room was ready even though we were several hours early. All staff was friendly and helpful, excellent breakfast'\n",
        "data = [test]\n",
        "fact = tfidf_vectorizer.transform(data)\n",
        "pred = xgbm.predict(fact)\n",
        "print(\"pred\", pred)\n",
        "if (int(pred)==1):\n",
        "    print(\"TRUTHFUL REVIEW\")\n",
        "else:\n",
        "    print(\"DECEPTIVE REVIEW\")"
      ],
      "execution_count": 439,
      "outputs": [
        {
          "output_type": "stream",
          "name": "stdout",
          "text": [
            "pred [1]\n",
            "TRUTHFUL REVIEW\n"
          ]
        }
      ]
    },
    {
      "cell_type": "code",
      "metadata": {
        "colab": {
          "base_uri": "https://localhost:8080/"
        },
        "id": "81UwzID4EegB",
        "outputId": "66b19775-1609-4641-cc05-b7ea185af04e"
      },
      "source": [
        "test = \"The Hard Rock Hotel in Chicago has it all: location, comfort, and rockability! We stayed at the Hard Rock Hotel in Chicago recently and found it to be amazing! The location was perfect as it is walking distance to the Magnificent Mile, Navy Pier, and Lake Michigan. It was just a short ride by bus or cab to the sports stadiums, Shedd Aquarium or the Museum of Science and Industry! The food, although it was pricey, was great! There is a spa on site if you need a little time to relax and recoup after all that rockin', and if you have pets, they get the ROYAL treatment, complete with gifts! I would highly recommend the Hard Rock Hotel of Chicago!\"\n",
        "data = [test]\n",
        "fact = tfidf_vectorizer.transform(data)\n",
        "pred = xgbm.predict(fact)\n",
        "print(\"pred\", pred)\n",
        "if (int(pred)==1):\n",
        "    print(\"TRUTHFUL REVIEW\")\n",
        "else:\n",
        "    print(\"DECEPTIVE REVIEW\")"
      ],
      "execution_count": 440,
      "outputs": [
        {
          "output_type": "stream",
          "name": "stdout",
          "text": [
            "pred [0]\n",
            "DECEPTIVE REVIEW\n"
          ]
        }
      ]
    },
    {
      "cell_type": "code",
      "metadata": {
        "colab": {
          "base_uri": "https://localhost:8080/"
        },
        "id": "GqUKEwrPEer0",
        "outputId": "fd6ec872-b543-4cfe-f636-5462a982aa8a"
      },
      "source": [
        "test = \"' Barely Average Hotel at Premium Price' This hotel has a beautiful lobby but fails to fails to maintain its standards beyond the lobby. I have stayed in the Conrad in Dublin, Ireland and in HongKong both of which I loved. I was looking forward to staying at this hotel. I was extremely disappointed. I am very surprised that this hotel is allowed to carry the Conrad name. Pros: Elegant lobby nicely decorated with fresh flowers Location: Located in the Heart of Chicago Disappointments - Stained and worn out carpet in hallway - Room was small - Phone and lightbulb in room were broken - Breakfast was $60 for two people, service was slow and impolite - Hotel rationed soaps and shampoo, one bar of soap to share and one bottle of shampoo which was not replaced for two days, I felt like I was staying at a budget hotel. and to cap off my stay the hotel made a billing error which took three months and more effort than it was worth to correct. I would not stay at this hotel again, It just is not worth the premium price they charge.\"\n",
        "data = [test]\n",
        "fact = tfidf_vectorizer.transform(data)\n",
        "pred = xgbm.predict(fact)\n",
        "print(\"pred\", pred)\n",
        "if (int(pred)==1):\n",
        "    print(\"TRUTHFUL REVIEW\")\n",
        "else:\n",
        "    print(\"DECEPTIVE REVIEW\")"
      ],
      "execution_count": 441,
      "outputs": [
        {
          "output_type": "stream",
          "name": "stdout",
          "text": [
            "pred [1]\n",
            "TRUTHFUL REVIEW\n"
          ]
        }
      ]
    }
  ]
}