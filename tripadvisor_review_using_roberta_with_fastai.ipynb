{
  "nbformat": 4,
  "nbformat_minor": 0,
  "metadata": {
    "colab": {
      "name": "tripadvisor_review_using_roberta_with_fastai.ipynb",
      "provenance": []
    },
    "kernelspec": {
      "name": "python3",
      "display_name": "Python 3"
    },
    "language_info": {
      "name": "python"
    },
    "accelerator": "GPU"
  },
  "cells": [
    {
      "cell_type": "markdown",
      "metadata": {
        "id": "NcdUj8k41myX"
      },
      "source": [
        "# DECEPTIVE REVIEW CLASSIFIER"
      ]
    },
    {
      "cell_type": "code",
      "metadata": {
        "id": "MBffgz4A79gO"
      },
      "source": [
        "import os\n",
        "__print__ = print\n",
        "def print(string):\n",
        "    os.system(f'echo \\\"{string}\\\"')\n",
        "    __print__(string)"
      ],
      "execution_count": null,
      "outputs": []
    },
    {
      "cell_type": "code",
      "metadata": {
        "colab": {
          "base_uri": "https://localhost:8080/"
        },
        "id": "UGaaK4yZ8FWa",
        "outputId": "35442f66-1f69-4310-c80e-e120eb965848"
      },
      "source": [
        "! pip install pytorch-transformers"
      ],
      "execution_count": null,
      "outputs": [
        {
          "output_type": "stream",
          "name": "stdout",
          "text": [
            "Requirement already satisfied: pytorch-transformers in /usr/local/lib/python3.7/dist-packages (1.2.0)\n",
            "Requirement already satisfied: requests in /usr/local/lib/python3.7/dist-packages (from pytorch-transformers) (2.23.0)\n",
            "Requirement already satisfied: regex in /usr/local/lib/python3.7/dist-packages (from pytorch-transformers) (2019.12.20)\n",
            "Requirement already satisfied: boto3 in /usr/local/lib/python3.7/dist-packages (from pytorch-transformers) (1.18.38)\n",
            "Requirement already satisfied: sacremoses in /usr/local/lib/python3.7/dist-packages (from pytorch-transformers) (0.0.45)\n",
            "Requirement already satisfied: numpy in /usr/local/lib/python3.7/dist-packages (from pytorch-transformers) (1.19.5)\n",
            "Requirement already satisfied: sentencepiece in /usr/local/lib/python3.7/dist-packages (from pytorch-transformers) (0.1.96)\n",
            "Requirement already satisfied: tqdm in /usr/local/lib/python3.7/dist-packages (from pytorch-transformers) (4.62.0)\n",
            "Requirement already satisfied: torch>=1.0.0 in /usr/local/lib/python3.7/dist-packages (from pytorch-transformers) (1.9.0+cu102)\n",
            "Requirement already satisfied: typing-extensions in /usr/local/lib/python3.7/dist-packages (from torch>=1.0.0->pytorch-transformers) (3.7.4.3)\n",
            "Requirement already satisfied: botocore<1.22.0,>=1.21.38 in /usr/local/lib/python3.7/dist-packages (from boto3->pytorch-transformers) (1.21.38)\n",
            "Requirement already satisfied: s3transfer<0.6.0,>=0.5.0 in /usr/local/lib/python3.7/dist-packages (from boto3->pytorch-transformers) (0.5.0)\n",
            "Requirement already satisfied: jmespath<1.0.0,>=0.7.1 in /usr/local/lib/python3.7/dist-packages (from boto3->pytorch-transformers) (0.10.0)\n",
            "Requirement already satisfied: python-dateutil<3.0.0,>=2.1 in /usr/local/lib/python3.7/dist-packages (from botocore<1.22.0,>=1.21.38->boto3->pytorch-transformers) (2.8.2)\n",
            "Requirement already satisfied: urllib3<1.27,>=1.25.4 in /usr/local/lib/python3.7/dist-packages (from botocore<1.22.0,>=1.21.38->boto3->pytorch-transformers) (1.25.11)\n",
            "Requirement already satisfied: six>=1.5 in /usr/local/lib/python3.7/dist-packages (from python-dateutil<3.0.0,>=2.1->botocore<1.22.0,>=1.21.38->boto3->pytorch-transformers) (1.15.0)\n",
            "Requirement already satisfied: certifi>=2017.4.17 in /usr/local/lib/python3.7/dist-packages (from requests->pytorch-transformers) (2021.5.30)\n",
            "Requirement already satisfied: chardet<4,>=3.0.2 in /usr/local/lib/python3.7/dist-packages (from requests->pytorch-transformers) (3.0.4)\n",
            "Requirement already satisfied: idna<3,>=2.5 in /usr/local/lib/python3.7/dist-packages (from requests->pytorch-transformers) (2.10)\n",
            "Requirement already satisfied: joblib in /usr/local/lib/python3.7/dist-packages (from sacremoses->pytorch-transformers) (1.0.1)\n",
            "Requirement already satisfied: click in /usr/local/lib/python3.7/dist-packages (from sacremoses->pytorch-transformers) (7.1.2)\n"
          ]
        }
      ]
    },
    {
      "cell_type": "code",
      "metadata": {
        "colab": {
          "base_uri": "https://localhost:8080/"
        },
        "id": "Z37XjQVmH7vm",
        "outputId": "ea40c4a7-06d9-4c35-fea4-aa957976c724"
      },
      "source": [
        "!pip install fastcore==1.0.9"
      ],
      "execution_count": null,
      "outputs": [
        {
          "output_type": "stream",
          "name": "stdout",
          "text": [
            "Requirement already satisfied: fastcore==1.0.9 in /usr/local/lib/python3.7/dist-packages (1.0.9)\n",
            "Requirement already satisfied: pip in /usr/local/lib/python3.7/dist-packages (from fastcore==1.0.9) (21.1.3)\n",
            "Requirement already satisfied: packaging in /usr/local/lib/python3.7/dist-packages (from fastcore==1.0.9) (21.0)\n",
            "Requirement already satisfied: pyparsing>=2.0.2 in /usr/local/lib/python3.7/dist-packages (from packaging->fastcore==1.0.9) (2.4.7)\n"
          ]
        }
      ]
    },
    {
      "cell_type": "code",
      "metadata": {
        "id": "yKLZ1_SgOcIf",
        "colab": {
          "base_uri": "https://localhost:8080/"
        },
        "outputId": "54212d7d-1aef-4778-dd71-d60dde1cfe64"
      },
      "source": [
        "!pip install transformers"
      ],
      "execution_count": null,
      "outputs": [
        {
          "output_type": "stream",
          "name": "stdout",
          "text": [
            "Requirement already satisfied: transformers in /usr/local/lib/python3.7/dist-packages (4.10.0)\n",
            "Requirement already satisfied: filelock in /usr/local/lib/python3.7/dist-packages (from transformers) (3.0.12)\n",
            "Requirement already satisfied: pyyaml>=5.1 in /usr/local/lib/python3.7/dist-packages (from transformers) (5.4.1)\n",
            "Requirement already satisfied: requests in /usr/local/lib/python3.7/dist-packages (from transformers) (2.23.0)\n",
            "Requirement already satisfied: sacremoses in /usr/local/lib/python3.7/dist-packages (from transformers) (0.0.45)\n",
            "Requirement already satisfied: regex!=2019.12.17 in /usr/local/lib/python3.7/dist-packages (from transformers) (2019.12.20)\n",
            "Requirement already satisfied: packaging in /usr/local/lib/python3.7/dist-packages (from transformers) (21.0)\n",
            "Requirement already satisfied: tqdm>=4.27 in /usr/local/lib/python3.7/dist-packages (from transformers) (4.62.0)\n",
            "Requirement already satisfied: huggingface-hub>=0.0.12 in /usr/local/lib/python3.7/dist-packages (from transformers) (0.0.16)\n",
            "Requirement already satisfied: tokenizers<0.11,>=0.10.1 in /usr/local/lib/python3.7/dist-packages (from transformers) (0.10.3)\n",
            "Requirement already satisfied: importlib-metadata in /usr/local/lib/python3.7/dist-packages (from transformers) (4.6.4)\n",
            "Requirement already satisfied: numpy>=1.17 in /usr/local/lib/python3.7/dist-packages (from transformers) (1.19.5)\n",
            "Requirement already satisfied: typing-extensions in /usr/local/lib/python3.7/dist-packages (from huggingface-hub>=0.0.12->transformers) (3.7.4.3)\n",
            "Requirement already satisfied: pyparsing>=2.0.2 in /usr/local/lib/python3.7/dist-packages (from packaging->transformers) (2.4.7)\n",
            "Requirement already satisfied: zipp>=0.5 in /usr/local/lib/python3.7/dist-packages (from importlib-metadata->transformers) (3.5.0)\n",
            "Requirement already satisfied: idna<3,>=2.5 in /usr/local/lib/python3.7/dist-packages (from requests->transformers) (2.10)\n",
            "Requirement already satisfied: urllib3!=1.25.0,!=1.25.1,<1.26,>=1.21.1 in /usr/local/lib/python3.7/dist-packages (from requests->transformers) (1.25.11)\n",
            "Requirement already satisfied: chardet<4,>=3.0.2 in /usr/local/lib/python3.7/dist-packages (from requests->transformers) (3.0.4)\n",
            "Requirement already satisfied: certifi>=2017.4.17 in /usr/local/lib/python3.7/dist-packages (from requests->transformers) (2021.5.30)\n",
            "Requirement already satisfied: joblib in /usr/local/lib/python3.7/dist-packages (from sacremoses->transformers) (1.0.1)\n",
            "Requirement already satisfied: six in /usr/local/lib/python3.7/dist-packages (from sacremoses->transformers) (1.15.0)\n",
            "Requirement already satisfied: click in /usr/local/lib/python3.7/dist-packages (from sacremoses->transformers) (7.1.2)\n"
          ]
        }
      ]
    },
    {
      "cell_type": "code",
      "metadata": {
        "id": "uW_jgygmOj__"
      },
      "source": [
        "import tensorflow.compat.v1 as tf\n",
        "tf.disable_v2_behavior()"
      ],
      "execution_count": null,
      "outputs": []
    },
    {
      "cell_type": "code",
      "metadata": {
        "id": "EZoxXVa0OkER",
        "colab": {
          "base_uri": "https://localhost:8080/"
        },
        "outputId": "276da9a8-7e34-4bba-ec89-d57a9595ea89"
      },
      "source": [
        "!pip install chart_studio\n",
        "!pip install scikit-plot"
      ],
      "execution_count": null,
      "outputs": [
        {
          "output_type": "stream",
          "name": "stdout",
          "text": [
            "Requirement already satisfied: chart_studio in /usr/local/lib/python3.7/dist-packages (1.1.0)\n",
            "Requirement already satisfied: six in /usr/local/lib/python3.7/dist-packages (from chart_studio) (1.15.0)\n",
            "Requirement already satisfied: requests in /usr/local/lib/python3.7/dist-packages (from chart_studio) (2.23.0)\n",
            "Requirement already satisfied: plotly in /usr/local/lib/python3.7/dist-packages (from chart_studio) (4.4.1)\n",
            "Requirement already satisfied: retrying>=1.3.3 in /usr/local/lib/python3.7/dist-packages (from chart_studio) (1.3.3)\n",
            "Requirement already satisfied: idna<3,>=2.5 in /usr/local/lib/python3.7/dist-packages (from requests->chart_studio) (2.10)\n",
            "Requirement already satisfied: urllib3!=1.25.0,!=1.25.1,<1.26,>=1.21.1 in /usr/local/lib/python3.7/dist-packages (from requests->chart_studio) (1.25.11)\n",
            "Requirement already satisfied: chardet<4,>=3.0.2 in /usr/local/lib/python3.7/dist-packages (from requests->chart_studio) (3.0.4)\n",
            "Requirement already satisfied: certifi>=2017.4.17 in /usr/local/lib/python3.7/dist-packages (from requests->chart_studio) (2021.5.30)\n",
            "Requirement already satisfied: scikit-plot in /usr/local/lib/python3.7/dist-packages (0.3.7)\n",
            "Requirement already satisfied: joblib>=0.10 in /usr/local/lib/python3.7/dist-packages (from scikit-plot) (1.0.1)\n",
            "Requirement already satisfied: matplotlib>=1.4.0 in /usr/local/lib/python3.7/dist-packages (from scikit-plot) (3.2.2)\n",
            "Requirement already satisfied: scipy>=0.9 in /usr/local/lib/python3.7/dist-packages (from scikit-plot) (1.4.1)\n",
            "Requirement already satisfied: scikit-learn>=0.18 in /usr/local/lib/python3.7/dist-packages (from scikit-plot) (0.22.2.post1)\n",
            "Requirement already satisfied: python-dateutil>=2.1 in /usr/local/lib/python3.7/dist-packages (from matplotlib>=1.4.0->scikit-plot) (2.8.2)\n",
            "Requirement already satisfied: kiwisolver>=1.0.1 in /usr/local/lib/python3.7/dist-packages (from matplotlib>=1.4.0->scikit-plot) (1.3.1)\n",
            "Requirement already satisfied: numpy>=1.11 in /usr/local/lib/python3.7/dist-packages (from matplotlib>=1.4.0->scikit-plot) (1.19.5)\n",
            "Requirement already satisfied: cycler>=0.10 in /usr/local/lib/python3.7/dist-packages (from matplotlib>=1.4.0->scikit-plot) (0.10.0)\n",
            "Requirement already satisfied: pyparsing!=2.0.4,!=2.1.2,!=2.1.6,>=2.0.1 in /usr/local/lib/python3.7/dist-packages (from matplotlib>=1.4.0->scikit-plot) (2.4.7)\n",
            "Requirement already satisfied: six in /usr/local/lib/python3.7/dist-packages (from cycler>=0.10->matplotlib>=1.4.0->scikit-plot) (1.15.0)\n"
          ]
        }
      ]
    },
    {
      "cell_type": "code",
      "metadata": {
        "id": "dviyRLXGOuqk"
      },
      "source": [
        "from fastai.text import *\n",
        "from fastai.metrics import *\n",
        "from transformers import RobertaTokenizer"
      ],
      "execution_count": null,
      "outputs": []
    },
    {
      "cell_type": "code",
      "metadata": {
        "id": "Oe8bo4u3Ouw-"
      },
      "source": [
        "# Creating a config object to store task specific information\n",
        "class Config(dict):\n",
        "    def __init__(self, **kwargs):\n",
        "        super().__init__(**kwargs)\n",
        "        for k, v in kwargs.items():\n",
        "            setattr(self, k, v)\n",
        "    \n",
        "    def set(self, key, val):\n",
        "        self[key] = val\n",
        "        setattr(self, key, val)\n",
        "        \n",
        "config = Config(\n",
        "    testing=False,\n",
        "    seed = 2019,\n",
        "    roberta_model_name='roberta-base', # can also be exchnaged with roberta-large \n",
        "    max_lr=1e-5,\n",
        "    epochs=10,\n",
        "    use_fp16=False,\n",
        "    bs=16, \n",
        "    max_seq_len=256, \n",
        "    num_labels = 2,\n",
        "    hidden_dropout_prob=.05,\n",
        "    hidden_size=768, # 1024 for roberta-large\n",
        "    start_tok = \"<s>\",\n",
        "    end_tok = \"</s>\",\n",
        ")"
      ],
      "execution_count": null,
      "outputs": []
    },
    {
      "cell_type": "code",
      "metadata": {
        "id": "ZcAj793YOu17"
      },
      "source": [
        "import pandas as pd\n",
        "import io\n",
        "import os"
      ],
      "execution_count": null,
      "outputs": []
    },
    {
      "cell_type": "code",
      "metadata": {
        "colab": {
          "base_uri": "https://localhost:8080/"
        },
        "id": "p0FBtCv5PxVc",
        "outputId": "68ba1d19-2bab-4b16-a105-7530e284f131"
      },
      "source": [
        "#importing libraries\n",
        "import numpy as np\n",
        "import pandas as pd\n",
        "import nltk\n",
        "import matplotlib.pyplot as plt\n",
        "import statistics\n",
        "import math\n",
        "import os\n",
        "nltk.download('stopwords')\n",
        "nltk.download('punkt')\n",
        "nltk.download('wordnet')\n",
        "import re\n",
        "pd.set_option('max_colwidth', 800)"
      ],
      "execution_count": null,
      "outputs": [
        {
          "output_type": "stream",
          "name": "stdout",
          "text": [
            "[nltk_data] Downloading package stopwords to /root/nltk_data...\n",
            "[nltk_data]   Package stopwords is already up-to-date!\n",
            "[nltk_data] Downloading package punkt to /root/nltk_data...\n",
            "[nltk_data]   Package punkt is already up-to-date!\n",
            "[nltk_data] Downloading package wordnet to /root/nltk_data...\n",
            "[nltk_data]   Package wordnet is already up-to-date!\n"
          ]
        }
      ]
    },
    {
      "cell_type": "code",
      "metadata": {
        "id": "QM7bVgFRgNEI"
      },
      "source": [
        "# importing deep learning libraries\n",
        "import tqdm"
      ],
      "execution_count": null,
      "outputs": []
    },
    {
      "cell_type": "code",
      "metadata": {
        "colab": {
          "base_uri": "https://localhost:8080/",
          "height": 692
        },
        "id": "5ND0MVSoyIzC",
        "outputId": "e8394d8c-bcb4-4afd-bb1f-01e188ad8fd3"
      },
      "source": [
        "#loading dataset\n",
        "df=pd.read_csv('/content/deceptive.csv')\n",
        "df.head()"
      ],
      "execution_count": null,
      "outputs": [
        {
          "output_type": "execute_result",
          "data": {
            "text/html": [
              "<div>\n",
              "<style scoped>\n",
              "    .dataframe tbody tr th:only-of-type {\n",
              "        vertical-align: middle;\n",
              "    }\n",
              "\n",
              "    .dataframe tbody tr th {\n",
              "        vertical-align: top;\n",
              "    }\n",
              "\n",
              "    .dataframe thead th {\n",
              "        text-align: right;\n",
              "    }\n",
              "</style>\n",
              "<table border=\"1\" class=\"dataframe\">\n",
              "  <thead>\n",
              "    <tr style=\"text-align: right;\">\n",
              "      <th></th>\n",
              "      <th>deceptive</th>\n",
              "      <th>hotel</th>\n",
              "      <th>polarity</th>\n",
              "      <th>source</th>\n",
              "      <th>text</th>\n",
              "    </tr>\n",
              "  </thead>\n",
              "  <tbody>\n",
              "    <tr>\n",
              "      <th>0</th>\n",
              "      <td>truthful</td>\n",
              "      <td>conrad</td>\n",
              "      <td>positive</td>\n",
              "      <td>TripAdvisor</td>\n",
              "      <td>We stayed for a one night getaway with family on a thursday. Triple AAA rate of 173 was a steal. 7th floor room complete with 44in plasma TV bose stereo, voss and evian water, and gorgeous bathroom(no tub but was fine for us) Concierge was very helpful. You cannot beat this location... Only flaw was breakfast was pricey and service was very very slow(2hours for four kids and four adults on a friday morning) even though there were only two other tables in the restaurant. Food was very good so it was worth the wait. I would return in a heartbeat. A gem in chicago... \\n</td>\n",
              "    </tr>\n",
              "    <tr>\n",
              "      <th>1</th>\n",
              "      <td>truthful</td>\n",
              "      <td>hyatt</td>\n",
              "      <td>positive</td>\n",
              "      <td>TripAdvisor</td>\n",
              "      <td>Triple A rate with upgrade to view room was less than $200 which also included breakfast vouchers. Had a great view of river, lake, Wrigley Bldg. &amp; Tribune Bldg. Most major restaurants, Shopping, Sightseeing attractions within walking distance. Large room with a very comfortable bed. \\n</td>\n",
              "    </tr>\n",
              "    <tr>\n",
              "      <th>2</th>\n",
              "      <td>truthful</td>\n",
              "      <td>hyatt</td>\n",
              "      <td>positive</td>\n",
              "      <td>TripAdvisor</td>\n",
              "      <td>This comes a little late as I'm finally catching up on my reviews from the past several months:) A dear friend and I stayed at the Hyatt Regency in late October 2007 for one night while visiting a friend and her husband from out of town. This hotel is perfect, IMO. Easy check in and check out. Lovely, clean, comfortable rooms with great views of the city. I know this area pretty well and it's very convenient to many downtown Chicago attractions. We had dinner and went clubing with our friends around Division St.. We had no problems getting cabs back and forth to the Hyatt and there's even public transportation right near by but we didn't bother since we only needed cabs from and to the hotel. Parking, as is usual for Chicago, was expensive but we were able to get our car out quickly (h...</td>\n",
              "    </tr>\n",
              "    <tr>\n",
              "      <th>3</th>\n",
              "      <td>truthful</td>\n",
              "      <td>omni</td>\n",
              "      <td>positive</td>\n",
              "      <td>TripAdvisor</td>\n",
              "      <td>The Omni Chicago really delivers on all fronts, from the spaciousness of the rooms to the helpful staff to the prized location on Michigan Avenue. While this address in Chicago requires a high level of quality, the Omni delivers. Check in for myself and a whole group of people with me was under 3 minutes, the staff had plentiful recommendations for dining and events, and the rooms are some of the largest you'll find at this price range in Chicago. Even the 'standard' room has a separate living area and work desk. The fitness center has free weights, weight machines, and two rows of cardio equipment. I shared the room with 7 others and did not feel cramped in any way! All in all, a great property! \\n</td>\n",
              "    </tr>\n",
              "    <tr>\n",
              "      <th>4</th>\n",
              "      <td>truthful</td>\n",
              "      <td>hyatt</td>\n",
              "      <td>positive</td>\n",
              "      <td>TripAdvisor</td>\n",
              "      <td>I asked for a high floor away from the elevator and that is what I got. The room was pleasantly decorated, functional and very clean. I didn't need a whole lot of service but when I did they were pleasant and prompt. I used the fitness center which was well equipped and everything was in working order. It is in a great location at one end of the Michigan Avenue shopping district. \\n</td>\n",
              "    </tr>\n",
              "  </tbody>\n",
              "</table>\n",
              "</div>"
            ],
            "text/plain": [
              "  deceptive  ...                                                                                                                                                                                                                                                                                                                                                                                                                                                                                                                                                                                                                                                                                                                                                                                                                             text\n",
              "0  truthful  ...                                                                                                                                                                                                                                    We stayed for a one night getaway with family on a thursday. Triple AAA rate of 173 was a steal. 7th floor room complete with 44in plasma TV bose stereo, voss and evian water, and gorgeous bathroom(no tub but was fine for us) Concierge was very helpful. You cannot beat this location... Only flaw was breakfast was pricey and service was very very slow(2hours for four kids and four adults on a friday morning) even though there were only two other tables in the restaurant. Food was very good so it was worth the wait. I would return in a heartbeat. A gem in chicago... \\n\n",
              "1  truthful  ...                                                                                                                                                                                                                                                                                                                                                                                                                                                                                                                                  Triple A rate with upgrade to view room was less than $200 which also included breakfast vouchers. Had a great view of river, lake, Wrigley Bldg. & Tribune Bldg. Most major restaurants, Shopping, Sightseeing attractions within walking distance. Large room with a very comfortable bed. \\n\n",
              "2  truthful  ...  This comes a little late as I'm finally catching up on my reviews from the past several months:) A dear friend and I stayed at the Hyatt Regency in late October 2007 for one night while visiting a friend and her husband from out of town. This hotel is perfect, IMO. Easy check in and check out. Lovely, clean, comfortable rooms with great views of the city. I know this area pretty well and it's very convenient to many downtown Chicago attractions. We had dinner and went clubing with our friends around Division St.. We had no problems getting cabs back and forth to the Hyatt and there's even public transportation right near by but we didn't bother since we only needed cabs from and to the hotel. Parking, as is usual for Chicago, was expensive but we were able to get our car out quickly (h...\n",
              "3  truthful  ...                                                                                             The Omni Chicago really delivers on all fronts, from the spaciousness of the rooms to the helpful staff to the prized location on Michigan Avenue. While this address in Chicago requires a high level of quality, the Omni delivers. Check in for myself and a whole group of people with me was under 3 minutes, the staff had plentiful recommendations for dining and events, and the rooms are some of the largest you'll find at this price range in Chicago. Even the 'standard' room has a separate living area and work desk. The fitness center has free weights, weight machines, and two rows of cardio equipment. I shared the room with 7 others and did not feel cramped in any way! All in all, a great property! \\n\n",
              "4  truthful  ...                                                                                                                                                                                                                                                                                                                                                                                                                                I asked for a high floor away from the elevator and that is what I got. The room was pleasantly decorated, functional and very clean. I didn't need a whole lot of service but when I did they were pleasant and prompt. I used the fitness center which was well equipped and everything was in working order. It is in a great location at one end of the Michigan Avenue shopping district. \\n\n",
              "\n",
              "[5 rows x 5 columns]"
            ]
          },
          "metadata": {},
          "execution_count": 151
        }
      ]
    },
    {
      "cell_type": "code",
      "metadata": {
        "colab": {
          "base_uri": "https://localhost:8080/"
        },
        "id": "iQtMqQOayI3H",
        "outputId": "4817551e-25b8-431d-c70f-306687c66c1a"
      },
      "source": [
        "df.shape"
      ],
      "execution_count": null,
      "outputs": [
        {
          "output_type": "execute_result",
          "data": {
            "text/plain": [
              "(1600, 5)"
            ]
          },
          "metadata": {},
          "execution_count": 152
        }
      ]
    },
    {
      "cell_type": "code",
      "metadata": {
        "colab": {
          "base_uri": "https://localhost:8080/"
        },
        "id": "mvJBu0hRyI6N",
        "outputId": "32bf0105-f11c-4457-ffdf-8c4ba023578b"
      },
      "source": [
        "df['deceptive'].value_counts()"
      ],
      "execution_count": null,
      "outputs": [
        {
          "output_type": "execute_result",
          "data": {
            "text/plain": [
              "deceptive    800\n",
              "truthful     800\n",
              "Name: deceptive, dtype: int64"
            ]
          },
          "metadata": {},
          "execution_count": 153
        }
      ]
    },
    {
      "cell_type": "code",
      "metadata": {
        "colab": {
          "base_uri": "https://localhost:8080/"
        },
        "id": "THLN8v0IyI9M",
        "outputId": "e50cb2a7-2870-4721-ab9d-184242e01824"
      },
      "source": [
        "df['polarity'].value_counts()"
      ],
      "execution_count": null,
      "outputs": [
        {
          "output_type": "execute_result",
          "data": {
            "text/plain": [
              "positive    800\n",
              "negative    800\n",
              "Name: polarity, dtype: int64"
            ]
          },
          "metadata": {},
          "execution_count": 154
        }
      ]
    },
    {
      "cell_type": "markdown",
      "metadata": {
        "id": "Bb2SpDri0EQ9"
      },
      "source": [
        "This is perfectly balanced dataset. Our target variable is 'deceptive'."
      ]
    },
    {
      "cell_type": "code",
      "metadata": {
        "colab": {
          "base_uri": "https://localhost:8080/"
        },
        "id": "yu8kwTeVz7Qd",
        "outputId": "0d84e71c-ff08-4bf4-ad23-e54273938b53"
      },
      "source": [
        "df['hotel'].value_counts()"
      ],
      "execution_count": null,
      "outputs": [
        {
          "output_type": "execute_result",
          "data": {
            "text/plain": [
              "monaco              80\n",
              "omni                80\n",
              "intercontinental    80\n",
              "swissotel           80\n",
              "ambassador          80\n",
              "affinia             80\n",
              "palmer              80\n",
              "conrad              80\n",
              "talbott             80\n",
              "allegro             80\n",
              "fairmont            80\n",
              "hyatt               80\n",
              "homewood            80\n",
              "hardrock            80\n",
              "james               80\n",
              "amalfi              80\n",
              "knickerbocker       80\n",
              "hilton              80\n",
              "sofitel             80\n",
              "sheraton            80\n",
              "Name: hotel, dtype: int64"
            ]
          },
          "metadata": {},
          "execution_count": 155
        }
      ]
    },
    {
      "cell_type": "code",
      "metadata": {
        "colab": {
          "base_uri": "https://localhost:8080/"
        },
        "id": "Wphr2Fa13mp3",
        "outputId": "a623a96e-ba09-4537-c932-53d1ffaefe84"
      },
      "source": [
        "df['source'].value_counts()"
      ],
      "execution_count": null,
      "outputs": [
        {
          "output_type": "execute_result",
          "data": {
            "text/plain": [
              "MTurk          800\n",
              "Web            400\n",
              "TripAdvisor    400\n",
              "Name: source, dtype: int64"
            ]
          },
          "metadata": {},
          "execution_count": 156
        }
      ]
    },
    {
      "cell_type": "markdown",
      "metadata": {
        "id": "BN716IOK3TrK"
      },
      "source": [
        "### DATA PREPROCESSING AND EDA"
      ]
    },
    {
      "cell_type": "code",
      "metadata": {
        "colab": {
          "base_uri": "https://localhost:8080/",
          "height": 297
        },
        "id": "5uFkuJhWz7UZ",
        "outputId": "26b87062-e948-4f96-ae6a-fada54eeab29"
      },
      "source": [
        "import seaborn as sns\n",
        "sns.countplot(x=df['deceptive'],hue='polarity',data=df)"
      ],
      "execution_count": null,
      "outputs": [
        {
          "output_type": "execute_result",
          "data": {
            "text/plain": [
              "<matplotlib.axes._subplots.AxesSubplot at 0x7fc444e609d0>"
            ]
          },
          "metadata": {},
          "execution_count": 157
        },
        {
          "output_type": "display_data",
          "data": {
            "image/png": "[encoded data removed]",
            "text/plain": [
              "<Figure size 432x288 with 1 Axes>"
            ]
          },
          "metadata": {
            "needs_background": "light"
          }
        }
      ]
    },
    {
      "cell_type": "code",
      "metadata": {
        "colab": {
          "base_uri": "https://localhost:8080/",
          "height": 297
        },
        "id": "90xUlMklz7Yr",
        "outputId": "8f535e43-7669-4331-965c-e2b46b2f88cc"
      },
      "source": [
        "sns.countplot(x=df['source'],hue='deceptive',data=df)"
      ],
      "execution_count": null,
      "outputs": [
        {
          "output_type": "execute_result",
          "data": {
            "text/plain": [
              "<matplotlib.axes._subplots.AxesSubplot at 0x7fc444e3a550>"
            ]
          },
          "metadata": {},
          "execution_count": 158
        },
        {
          "output_type": "display_data",
          "data": {
            "image/png": "[encoded data removed]",
            "text/plain": [
              "<Figure size 432x288 with 1 Axes>"
            ]
          },
          "metadata": {
            "needs_background": "light"
          }
        }
      ]
    },
    {
      "cell_type": "code",
      "metadata": {
        "colab": {
          "base_uri": "https://localhost:8080/"
        },
        "id": "FO1iHYpP5Fpe",
        "outputId": "468c4568-524e-4900-ff76-a9b92a756bc7"
      },
      "source": [
        "df.columns"
      ],
      "execution_count": null,
      "outputs": [
        {
          "output_type": "execute_result",
          "data": {
            "text/plain": [
              "Index(['deceptive', 'hotel', 'polarity', 'source', 'text'], dtype='object')"
            ]
          },
          "metadata": {},
          "execution_count": 159
        }
      ]
    },
    {
      "cell_type": "code",
      "metadata": {
        "id": "xnUdH8nrozA4"
      },
      "source": [
        "# so combining three text columns --- hotel, source, text\n",
        "#df['text'] = df['hotel']+' '+df['source']+' '+df['text']\n",
        "#df.head()"
      ],
      "execution_count": null,
      "outputs": []
    },
    {
      "cell_type": "code",
      "metadata": {
        "colab": {
          "base_uri": "https://localhost:8080/",
          "height": 536
        },
        "id": "waroBGNWz7fm",
        "outputId": "f31f086d-8e4e-4216-c93e-dc6d923f9e84"
      },
      "source": [
        "# dropping unnecessary columns. \n",
        "# dropping hotel names\n",
        "# dropping the source of the data\n",
        "# dropping the polarity of the dataset\n",
        "df.drop(['hotel', 'polarity', 'source'], axis = 1, inplace=True)\n",
        "df.head()"
      ],
      "execution_count": null,
      "outputs": [
        {
          "output_type": "execute_result",
          "data": {
            "text/html": [
              "<div>\n",
              "<style scoped>\n",
              "    .dataframe tbody tr th:only-of-type {\n",
              "        vertical-align: middle;\n",
              "    }\n",
              "\n",
              "    .dataframe tbody tr th {\n",
              "        vertical-align: top;\n",
              "    }\n",
              "\n",
              "    .dataframe thead th {\n",
              "        text-align: right;\n",
              "    }\n",
              "</style>\n",
              "<table border=\"1\" class=\"dataframe\">\n",
              "  <thead>\n",
              "    <tr style=\"text-align: right;\">\n",
              "      <th></th>\n",
              "      <th>deceptive</th>\n",
              "      <th>text</th>\n",
              "    </tr>\n",
              "  </thead>\n",
              "  <tbody>\n",
              "    <tr>\n",
              "      <th>0</th>\n",
              "      <td>truthful</td>\n",
              "      <td>We stayed for a one night getaway with family on a thursday. Triple AAA rate of 173 was a steal. 7th floor room complete with 44in plasma TV bose stereo, voss and evian water, and gorgeous bathroom(no tub but was fine for us) Concierge was very helpful. You cannot beat this location... Only flaw was breakfast was pricey and service was very very slow(2hours for four kids and four adults on a friday morning) even though there were only two other tables in the restaurant. Food was very good so it was worth the wait. I would return in a heartbeat. A gem in chicago... \\n</td>\n",
              "    </tr>\n",
              "    <tr>\n",
              "      <th>1</th>\n",
              "      <td>truthful</td>\n",
              "      <td>Triple A rate with upgrade to view room was less than $200 which also included breakfast vouchers. Had a great view of river, lake, Wrigley Bldg. &amp; Tribune Bldg. Most major restaurants, Shopping, Sightseeing attractions within walking distance. Large room with a very comfortable bed. \\n</td>\n",
              "    </tr>\n",
              "    <tr>\n",
              "      <th>2</th>\n",
              "      <td>truthful</td>\n",
              "      <td>This comes a little late as I'm finally catching up on my reviews from the past several months:) A dear friend and I stayed at the Hyatt Regency in late October 2007 for one night while visiting a friend and her husband from out of town. This hotel is perfect, IMO. Easy check in and check out. Lovely, clean, comfortable rooms with great views of the city. I know this area pretty well and it's very convenient to many downtown Chicago attractions. We had dinner and went clubing with our friends around Division St.. We had no problems getting cabs back and forth to the Hyatt and there's even public transportation right near by but we didn't bother since we only needed cabs from and to the hotel. Parking, as is usual for Chicago, was expensive but we were able to get our car out quickly (h...</td>\n",
              "    </tr>\n",
              "    <tr>\n",
              "      <th>3</th>\n",
              "      <td>truthful</td>\n",
              "      <td>The Omni Chicago really delivers on all fronts, from the spaciousness of the rooms to the helpful staff to the prized location on Michigan Avenue. While this address in Chicago requires a high level of quality, the Omni delivers. Check in for myself and a whole group of people with me was under 3 minutes, the staff had plentiful recommendations for dining and events, and the rooms are some of the largest you'll find at this price range in Chicago. Even the 'standard' room has a separate living area and work desk. The fitness center has free weights, weight machines, and two rows of cardio equipment. I shared the room with 7 others and did not feel cramped in any way! All in all, a great property! \\n</td>\n",
              "    </tr>\n",
              "    <tr>\n",
              "      <th>4</th>\n",
              "      <td>truthful</td>\n",
              "      <td>I asked for a high floor away from the elevator and that is what I got. The room was pleasantly decorated, functional and very clean. I didn't need a whole lot of service but when I did they were pleasant and prompt. I used the fitness center which was well equipped and everything was in working order. It is in a great location at one end of the Michigan Avenue shopping district. \\n</td>\n",
              "    </tr>\n",
              "  </tbody>\n",
              "</table>\n",
              "</div>"
            ],
            "text/plain": [
              "  deceptive                                                                                                                                                                                                                                                                                                                                                                                                                                                                                                                                                                                                                                                                                                                                                                                                                             text\n",
              "0  truthful                                                                                                                                                                                                                                    We stayed for a one night getaway with family on a thursday. Triple AAA rate of 173 was a steal. 7th floor room complete with 44in plasma TV bose stereo, voss and evian water, and gorgeous bathroom(no tub but was fine for us) Concierge was very helpful. You cannot beat this location... Only flaw was breakfast was pricey and service was very very slow(2hours for four kids and four adults on a friday morning) even though there were only two other tables in the restaurant. Food was very good so it was worth the wait. I would return in a heartbeat. A gem in chicago... \\n\n",
              "1  truthful                                                                                                                                                                                                                                                                                                                                                                                                                                                                                                                                  Triple A rate with upgrade to view room was less than $200 which also included breakfast vouchers. Had a great view of river, lake, Wrigley Bldg. & Tribune Bldg. Most major restaurants, Shopping, Sightseeing attractions within walking distance. Large room with a very comfortable bed. \\n\n",
              "2  truthful  This comes a little late as I'm finally catching up on my reviews from the past several months:) A dear friend and I stayed at the Hyatt Regency in late October 2007 for one night while visiting a friend and her husband from out of town. This hotel is perfect, IMO. Easy check in and check out. Lovely, clean, comfortable rooms with great views of the city. I know this area pretty well and it's very convenient to many downtown Chicago attractions. We had dinner and went clubing with our friends around Division St.. We had no problems getting cabs back and forth to the Hyatt and there's even public transportation right near by but we didn't bother since we only needed cabs from and to the hotel. Parking, as is usual for Chicago, was expensive but we were able to get our car out quickly (h...\n",
              "3  truthful                                                                                             The Omni Chicago really delivers on all fronts, from the spaciousness of the rooms to the helpful staff to the prized location on Michigan Avenue. While this address in Chicago requires a high level of quality, the Omni delivers. Check in for myself and a whole group of people with me was under 3 minutes, the staff had plentiful recommendations for dining and events, and the rooms are some of the largest you'll find at this price range in Chicago. Even the 'standard' room has a separate living area and work desk. The fitness center has free weights, weight machines, and two rows of cardio equipment. I shared the room with 7 others and did not feel cramped in any way! All in all, a great property! \\n\n",
              "4  truthful                                                                                                                                                                                                                                                                                                                                                                                                                                I asked for a high floor away from the elevator and that is what I got. The room was pleasantly decorated, functional and very clean. I didn't need a whole lot of service but when I did they were pleasant and prompt. I used the fitness center which was well equipped and everything was in working order. It is in a great location at one end of the Michigan Avenue shopping district. \\n"
            ]
          },
          "metadata": {},
          "execution_count": 161
        }
      ]
    },
    {
      "cell_type": "code",
      "metadata": {
        "id": "GqpULgn0z7ix"
      },
      "source": [
        "#z = {'truthful' : 1, 'deceptive' : 0}  # 1 for truthful reviews and 0 for deceptive reviews\n",
        "#df['deceptive'] = df['deceptive'].map(z)"
      ],
      "execution_count": null,
      "outputs": []
    },
    {
      "cell_type": "code",
      "metadata": {
        "colab": {
          "base_uri": "https://localhost:8080/",
          "height": 536
        },
        "id": "Jps0pDmWz7mR",
        "outputId": "a479912d-befa-414b-e83f-5af364a3a6bb"
      },
      "source": [
        "df.head()"
      ],
      "execution_count": null,
      "outputs": [
        {
          "output_type": "execute_result",
          "data": {
            "text/html": [
              "<div>\n",
              "<style scoped>\n",
              "    .dataframe tbody tr th:only-of-type {\n",
              "        vertical-align: middle;\n",
              "    }\n",
              "\n",
              "    .dataframe tbody tr th {\n",
              "        vertical-align: top;\n",
              "    }\n",
              "\n",
              "    .dataframe thead th {\n",
              "        text-align: right;\n",
              "    }\n",
              "</style>\n",
              "<table border=\"1\" class=\"dataframe\">\n",
              "  <thead>\n",
              "    <tr style=\"text-align: right;\">\n",
              "      <th></th>\n",
              "      <th>deceptive</th>\n",
              "      <th>text</th>\n",
              "    </tr>\n",
              "  </thead>\n",
              "  <tbody>\n",
              "    <tr>\n",
              "      <th>0</th>\n",
              "      <td>truthful</td>\n",
              "      <td>We stayed for a one night getaway with family on a thursday. Triple AAA rate of 173 was a steal. 7th floor room complete with 44in plasma TV bose stereo, voss and evian water, and gorgeous bathroom(no tub but was fine for us) Concierge was very helpful. You cannot beat this location... Only flaw was breakfast was pricey and service was very very slow(2hours for four kids and four adults on a friday morning) even though there were only two other tables in the restaurant. Food was very good so it was worth the wait. I would return in a heartbeat. A gem in chicago... \\n</td>\n",
              "    </tr>\n",
              "    <tr>\n",
              "      <th>1</th>\n",
              "      <td>truthful</td>\n",
              "      <td>Triple A rate with upgrade to view room was less than $200 which also included breakfast vouchers. Had a great view of river, lake, Wrigley Bldg. &amp; Tribune Bldg. Most major restaurants, Shopping, Sightseeing attractions within walking distance. Large room with a very comfortable bed. \\n</td>\n",
              "    </tr>\n",
              "    <tr>\n",
              "      <th>2</th>\n",
              "      <td>truthful</td>\n",
              "      <td>This comes a little late as I'm finally catching up on my reviews from the past several months:) A dear friend and I stayed at the Hyatt Regency in late October 2007 for one night while visiting a friend and her husband from out of town. This hotel is perfect, IMO. Easy check in and check out. Lovely, clean, comfortable rooms with great views of the city. I know this area pretty well and it's very convenient to many downtown Chicago attractions. We had dinner and went clubing with our friends around Division St.. We had no problems getting cabs back and forth to the Hyatt and there's even public transportation right near by but we didn't bother since we only needed cabs from and to the hotel. Parking, as is usual for Chicago, was expensive but we were able to get our car out quickly (h...</td>\n",
              "    </tr>\n",
              "    <tr>\n",
              "      <th>3</th>\n",
              "      <td>truthful</td>\n",
              "      <td>The Omni Chicago really delivers on all fronts, from the spaciousness of the rooms to the helpful staff to the prized location on Michigan Avenue. While this address in Chicago requires a high level of quality, the Omni delivers. Check in for myself and a whole group of people with me was under 3 minutes, the staff had plentiful recommendations for dining and events, and the rooms are some of the largest you'll find at this price range in Chicago. Even the 'standard' room has a separate living area and work desk. The fitness center has free weights, weight machines, and two rows of cardio equipment. I shared the room with 7 others and did not feel cramped in any way! All in all, a great property! \\n</td>\n",
              "    </tr>\n",
              "    <tr>\n",
              "      <th>4</th>\n",
              "      <td>truthful</td>\n",
              "      <td>I asked for a high floor away from the elevator and that is what I got. The room was pleasantly decorated, functional and very clean. I didn't need a whole lot of service but when I did they were pleasant and prompt. I used the fitness center which was well equipped and everything was in working order. It is in a great location at one end of the Michigan Avenue shopping district. \\n</td>\n",
              "    </tr>\n",
              "  </tbody>\n",
              "</table>\n",
              "</div>"
            ],
            "text/plain": [
              "  deceptive                                                                                                                                                                                                                                                                                                                                                                                                                                                                                                                                                                                                                                                                                                                                                                                                                             text\n",
              "0  truthful                                                                                                                                                                                                                                    We stayed for a one night getaway with family on a thursday. Triple AAA rate of 173 was a steal. 7th floor room complete with 44in plasma TV bose stereo, voss and evian water, and gorgeous bathroom(no tub but was fine for us) Concierge was very helpful. You cannot beat this location... Only flaw was breakfast was pricey and service was very very slow(2hours for four kids and four adults on a friday morning) even though there were only two other tables in the restaurant. Food was very good so it was worth the wait. I would return in a heartbeat. A gem in chicago... \\n\n",
              "1  truthful                                                                                                                                                                                                                                                                                                                                                                                                                                                                                                                                  Triple A rate with upgrade to view room was less than $200 which also included breakfast vouchers. Had a great view of river, lake, Wrigley Bldg. & Tribune Bldg. Most major restaurants, Shopping, Sightseeing attractions within walking distance. Large room with a very comfortable bed. \\n\n",
              "2  truthful  This comes a little late as I'm finally catching up on my reviews from the past several months:) A dear friend and I stayed at the Hyatt Regency in late October 2007 for one night while visiting a friend and her husband from out of town. This hotel is perfect, IMO. Easy check in and check out. Lovely, clean, comfortable rooms with great views of the city. I know this area pretty well and it's very convenient to many downtown Chicago attractions. We had dinner and went clubing with our friends around Division St.. We had no problems getting cabs back and forth to the Hyatt and there's even public transportation right near by but we didn't bother since we only needed cabs from and to the hotel. Parking, as is usual for Chicago, was expensive but we were able to get our car out quickly (h...\n",
              "3  truthful                                                                                             The Omni Chicago really delivers on all fronts, from the spaciousness of the rooms to the helpful staff to the prized location on Michigan Avenue. While this address in Chicago requires a high level of quality, the Omni delivers. Check in for myself and a whole group of people with me was under 3 minutes, the staff had plentiful recommendations for dining and events, and the rooms are some of the largest you'll find at this price range in Chicago. Even the 'standard' room has a separate living area and work desk. The fitness center has free weights, weight machines, and two rows of cardio equipment. I shared the room with 7 others and did not feel cramped in any way! All in all, a great property! \\n\n",
              "4  truthful                                                                                                                                                                                                                                                                                                                                                                                                                                I asked for a high floor away from the elevator and that is what I got. The room was pleasantly decorated, functional and very clean. I didn't need a whole lot of service but when I did they were pleasant and prompt. I used the fitness center which was well equipped and everything was in working order. It is in a great location at one end of the Michigan Avenue shopping district. \\n"
            ]
          },
          "metadata": {},
          "execution_count": 163
        }
      ]
    },
    {
      "cell_type": "code",
      "metadata": {
        "id": "5n9gz6FMz7pQ"
      },
      "source": [
        "# Cleaning Raw tweets\n",
        "def clean_text(text):\n",
        "    \n",
        "    #remove emails\n",
        "    text = ' '.join([i for i in text.split() if '@' not in i])\n",
        "    \n",
        "    #remove web address\n",
        "    text = re.sub('http[s]?://\\S+', '', text)\n",
        "\n",
        "    #remove brackets and parantheses (and removing the text inside the brackets and parantheses)\n",
        "    text = re.sub(\"[\\(\\[].*?[\\)\\]]\", \"\", text)\n",
        "\n",
        "    #remove punctuations\n",
        "    text = re.sub(r'[^\\w\\s]', ' ', text)\n",
        "    \n",
        "    #Filter to allow only alphabets and numbers\n",
        "    text = re.sub(r'[^a-zA-Z\\']', ' ', text)\n",
        "    \n",
        "    #Remove Unicode characters\n",
        "    text = re.sub(r'[^\\x00-\\x7F]+', '', text)\n",
        "\n",
        "    #remove double spaces \n",
        "    text = re.sub('\\s+', ' ', text)\n",
        "    \n",
        "    return text"
      ],
      "execution_count": null,
      "outputs": []
    },
    {
      "cell_type": "code",
      "metadata": {
        "colab": {
          "base_uri": "https://localhost:8080/",
          "height": 1000
        },
        "id": "MpwEfvotz7sZ",
        "outputId": "b20b84e8-e3a7-417e-bb84-6fca0a960c7a"
      },
      "source": [
        "# applying that into function.\n",
        "df[\"clean_text\"] = df['text'].apply(lambda x: clean_text(x))\n",
        "df.head(10)"
      ],
      "execution_count": null,
      "outputs": [
        {
          "output_type": "execute_result",
          "data": {
            "text/html": [
              "<div>\n",
              "<style scoped>\n",
              "    .dataframe tbody tr th:only-of-type {\n",
              "        vertical-align: middle;\n",
              "    }\n",
              "\n",
              "    .dataframe tbody tr th {\n",
              "        vertical-align: top;\n",
              "    }\n",
              "\n",
              "    .dataframe thead th {\n",
              "        text-align: right;\n",
              "    }\n",
              "</style>\n",
              "<table border=\"1\" class=\"dataframe\">\n",
              "  <thead>\n",
              "    <tr style=\"text-align: right;\">\n",
              "      <th></th>\n",
              "      <th>deceptive</th>\n",
              "      <th>text</th>\n",
              "      <th>clean_text</th>\n",
              "    </tr>\n",
              "  </thead>\n",
              "  <tbody>\n",
              "    <tr>\n",
              "      <th>0</th>\n",
              "      <td>truthful</td>\n",
              "      <td>We stayed for a one night getaway with family on a thursday. Triple AAA rate of 173 was a steal. 7th floor room complete with 44in plasma TV bose stereo, voss and evian water, and gorgeous bathroom(no tub but was fine for us) Concierge was very helpful. You cannot beat this location... Only flaw was breakfast was pricey and service was very very slow(2hours for four kids and four adults on a friday morning) even though there were only two other tables in the restaurant. Food was very good so it was worth the wait. I would return in a heartbeat. A gem in chicago... \\n</td>\n",
              "      <td>We stayed for a one night getaway with family on a thursday Triple AAA rate of was a steal th floor room complete with in plasma TV bose stereo voss and evian water and gorgeous bathroom Concierge was very helpful You cannot beat this location Only flaw was breakfast was pricey and service was very very slow even though there were only two other tables in the restaurant Food was very good so it was worth the wait I would return in a heartbeat A gem in chicago</td>\n",
              "    </tr>\n",
              "    <tr>\n",
              "      <th>1</th>\n",
              "      <td>truthful</td>\n",
              "      <td>Triple A rate with upgrade to view room was less than $200 which also included breakfast vouchers. Had a great view of river, lake, Wrigley Bldg. &amp; Tribune Bldg. Most major restaurants, Shopping, Sightseeing attractions within walking distance. Large room with a very comfortable bed. \\n</td>\n",
              "      <td>Triple A rate with upgrade to view room was less than which also included breakfast vouchers Had a great view of river lake Wrigley Bldg Tribune Bldg Most major restaurants Shopping Sightseeing attractions within walking distance Large room with a very comfortable bed</td>\n",
              "    </tr>\n",
              "    <tr>\n",
              "      <th>2</th>\n",
              "      <td>truthful</td>\n",
              "      <td>This comes a little late as I'm finally catching up on my reviews from the past several months:) A dear friend and I stayed at the Hyatt Regency in late October 2007 for one night while visiting a friend and her husband from out of town. This hotel is perfect, IMO. Easy check in and check out. Lovely, clean, comfortable rooms with great views of the city. I know this area pretty well and it's very convenient to many downtown Chicago attractions. We had dinner and went clubing with our friends around Division St.. We had no problems getting cabs back and forth to the Hyatt and there's even public transportation right near by but we didn't bother since we only needed cabs from and to the hotel. Parking, as is usual for Chicago, was expensive but we were able to get our car out quickly (h...</td>\n",
              "      <td>This comes a little late as I m finally catching up on my reviews from the past several months A dear friend and I stayed at the Hyatt Regency in late October for one night while visiting a friend and her husband from out of town This hotel is perfect IMO Easy check in and check out Lovely clean comfortable rooms with great views of the city I know this area pretty well and it s very convenient to many downtown Chicago attractions We had dinner and went clubing with our friends around Division St We had no problems getting cabs back and forth to the Hyatt and there s even public transportation right near by but we didn t bother since we only needed cabs from and to the hotel Parking as is usual for Chicago was expensive but we were able to get our car out quickly No problems at all and...</td>\n",
              "    </tr>\n",
              "    <tr>\n",
              "      <th>3</th>\n",
              "      <td>truthful</td>\n",
              "      <td>The Omni Chicago really delivers on all fronts, from the spaciousness of the rooms to the helpful staff to the prized location on Michigan Avenue. While this address in Chicago requires a high level of quality, the Omni delivers. Check in for myself and a whole group of people with me was under 3 minutes, the staff had plentiful recommendations for dining and events, and the rooms are some of the largest you'll find at this price range in Chicago. Even the 'standard' room has a separate living area and work desk. The fitness center has free weights, weight machines, and two rows of cardio equipment. I shared the room with 7 others and did not feel cramped in any way! All in all, a great property! \\n</td>\n",
              "      <td>The Omni Chicago really delivers on all fronts from the spaciousness of the rooms to the helpful staff to the prized location on Michigan Avenue While this address in Chicago requires a high level of quality the Omni delivers Check in for myself and a whole group of people with me was under minutes the staff had plentiful recommendations for dining and events and the rooms are some of the largest you ll find at this price range in Chicago Even the standard room has a separate living area and work desk The fitness center has free weights weight machines and two rows of cardio equipment I shared the room with others and did not feel cramped in any way All in all a great property</td>\n",
              "    </tr>\n",
              "    <tr>\n",
              "      <th>4</th>\n",
              "      <td>truthful</td>\n",
              "      <td>I asked for a high floor away from the elevator and that is what I got. The room was pleasantly decorated, functional and very clean. I didn't need a whole lot of service but when I did they were pleasant and prompt. I used the fitness center which was well equipped and everything was in working order. It is in a great location at one end of the Michigan Avenue shopping district. \\n</td>\n",
              "      <td>I asked for a high floor away from the elevator and that is what I got The room was pleasantly decorated functional and very clean I didn t need a whole lot of service but when I did they were pleasant and prompt I used the fitness center which was well equipped and everything was in working order It is in a great location at one end of the Michigan Avenue shopping district</td>\n",
              "    </tr>\n",
              "    <tr>\n",
              "      <th>5</th>\n",
              "      <td>truthful</td>\n",
              "      <td>I stayed at the Omni for one night following a business meeting at another downtown Chicago hotel. I was completely impressed by the service; all personnel during my stay were absolutely outstanding. I checked in quite early (no problem) and was efficiently checked in. My room had a somewhat heavy scent of air freshener (the ONLY negative from the entire stay), which was managed reasonably well by opening the windows. I don't generally require much during my hotel stays, but suffice to say the doorman, housekeeping, the night manager and bartender at 676, the day waiter at 676, and the concierge were amazing - I never waited more than about 30 seconds for anything. The room was very comfy and the amenities were superior. One very tiny complaint - there was no wastebasket near the sink ...</td>\n",
              "      <td>I stayed at the Omni for one night following a business meeting at another downtown Chicago hotel I was completely impressed by the service all personnel during my stay were absolutely outstanding I checked in quite early and was efficiently checked in My room had a somewhat heavy scent of air freshener which was managed reasonably well by opening the windows I don t generally require much during my hotel stays but suffice to say the doorman housekeeping the night manager and bartender at the day waiter at and the concierge were amazing I never waited more than about seconds for anything The room was very comfy and the amenities were superior One very tiny complaint there was no wastebasket near the sink or near the wet bar had to walk to the other end of the bathroom or sitting room t...</td>\n",
              "    </tr>\n",
              "    <tr>\n",
              "      <th>6</th>\n",
              "      <td>truthful</td>\n",
              "      <td>We stayed in the Conrad for 4 nights just before Thanksgiving. We had a corner room overlooking N Michigan Av and the Tribune Building. To say this is a 5 star hotel is to damn this place with faint praise - it is wonderful. The staff were unbelievably helpful. The standard of the room was superb - HD plasma screens, luxury bedlinens, iPod radio, huge bathroom. Location is unbeatable - right in the heart of everything - watched the whole Light Festival parade from the window. Breakfasts were excellent - no help yourself buffet here - with full and attentive table service. Would have no hesitation recommending or staying again in this hotel - 5 out of 5. \\n</td>\n",
              "      <td>We stayed in the Conrad for nights just before Thanksgiving We had a corner room overlooking N Michigan Av and the Tribune Building To say this is a star hotel is to damn this place with faint praise it is wonderful The staff were unbelievably helpful The standard of the room was superb HD plasma screens luxury bedlinens iPod radio huge bathroom Location is unbeatable right in the heart of everything watched the whole Light Festival parade from the window Breakfasts were excellent no help yourself buffet here with full and attentive table service Would have no hesitation recommending or staying again in this hotel out of</td>\n",
              "    </tr>\n",
              "    <tr>\n",
              "      <th>7</th>\n",
              "      <td>truthful</td>\n",
              "      <td>Just got back from 2 days up in Chicago shopping with girlfriends. First time I have stayed at the Omni. I did so because I saw a $129.00 rate that included $25.00 of free food on Travelzoo. The three of us (55 year olds) all stayed in one suite with 2 double beds and a VERY comfortable pull out sofa. We had plenty of room. Food in the restaurant was great, service was outstanding from everone we came into contact with, early morning delivery of free coffee, juice and hot chocolate was fabulous and recommendations from the staff on where to eat, time of movies, shopping areas, etc was really helpful. Need I mention the outstanding location? Simply the best! We all decided that the Omni is our new favorite hotel. \\n</td>\n",
              "      <td>Just got back from days up in Chicago shopping with girlfriends First time I have stayed at the Omni I did so because I saw a rate that included of free food on Travelzoo The three of us all stayed in one suite with double beds and a VERY comfortable pull out sofa We had plenty of room Food in the restaurant was great service was outstanding from everone we came into contact with early morning delivery of free coffee juice and hot chocolate was fabulous and recommendations from the staff on where to eat time of movies shopping areas etc was really helpful Need I mention the outstanding location Simply the best We all decided that the Omni is our new favorite hotel</td>\n",
              "    </tr>\n",
              "    <tr>\n",
              "      <th>8</th>\n",
              "      <td>truthful</td>\n",
              "      <td>We arrived at the Omni on 2nd September for a 6 day stay. I took ill when I left the plane after travelling from Manchester so I saw more of the room than I anticipated. I couldn't go out for 4 days. The room was spacious and clean. The bed was extremely comfortable. The bathroom was large and very clean. What more could you ask. We had coffee and juice left outside our door every morning at the time we requested. I managed to go to the 5th floor to see the sun terrace (outside the gym) Having a sun terrace in a city hotel is a great idea but the terrace was a bit grim. A few sunbeds on a concrete floor. There was also noise from an air conditioning unit. It could do with a bit of cheering up. What I saw of Chicago was very pleasing, it has something for everyone. Would I go back to th...</td>\n",
              "      <td>We arrived at the Omni on nd September for a day stay I took ill when I left the plane after travelling from Manchester so I saw more of the room than I anticipated I couldn t go out for days The room was spacious and clean The bed was extremely comfortable The bathroom was large and very clean What more could you ask We had coffee and juice left outside our door every morning at the time we requested I managed to go to the th floor to see the sun terrace Having a sun terrace in a city hotel is a great idea but the terrace was a bit grim A few sunbeds on a concrete floor There was also noise from an air conditioning unit It could do with a bit of cheering up What I saw of Chicago was very pleasing it has something for everyone Would I go back to the Omni yes I would</td>\n",
              "    </tr>\n",
              "    <tr>\n",
              "      <th>9</th>\n",
              "      <td>truthful</td>\n",
              "      <td>On our visit to Chicago, we chose the Hyatt due to its location in downtown, within walking distance to most major attractions, such as Sears Tower, Magnificent Mile, Grant/Millenium Parks, etc. Subway &amp; bus stops very close by to travel to other locations in the city . Overall the hotel was very nice, clean, and at a great location. Was in a safe area. Went to beautiful Wrigley Field and Soldier Field and saw both teams play. I love Chicago and would defenitely stay here again! \\n</td>\n",
              "      <td>On our visit to Chicago we chose the Hyatt due to its location in downtown within walking distance to most major attractions such as Sears Tower Magnificent Mile Grant Millenium Parks etc Subway bus stops very close by to travel to other locations in the city Overall the hotel was very nice clean and at a great location Was in a safe area Went to beautiful Wrigley Field and Soldier Field and saw both teams play I love Chicago and would defenitely stay here again</td>\n",
              "    </tr>\n",
              "  </tbody>\n",
              "</table>\n",
              "</div>"
            ],
            "text/plain": [
              "  deceptive  ...                                                                                                                                                                                                                                                                                                                                                                                                                                                                                                                                                                                                                                                                                                                                                                                                                       clean_text\n",
              "0  truthful  ...                                                                                                                                                                                                                                                                                                                                                 We stayed for a one night getaway with family on a thursday Triple AAA rate of was a steal th floor room complete with in plasma TV bose stereo voss and evian water and gorgeous bathroom Concierge was very helpful You cannot beat this location Only flaw was breakfast was pricey and service was very very slow even though there were only two other tables in the restaurant Food was very good so it was worth the wait I would return in a heartbeat A gem in chicago \n",
              "1  truthful  ...                                                                                                                                                                                                                                                                                                                                                                                                                                                                                                                                                    Triple A rate with upgrade to view room was less than which also included breakfast vouchers Had a great view of river lake Wrigley Bldg Tribune Bldg Most major restaurants Shopping Sightseeing attractions within walking distance Large room with a very comfortable bed \n",
              "2  truthful  ...  This comes a little late as I m finally catching up on my reviews from the past several months A dear friend and I stayed at the Hyatt Regency in late October for one night while visiting a friend and her husband from out of town This hotel is perfect IMO Easy check in and check out Lovely clean comfortable rooms with great views of the city I know this area pretty well and it s very convenient to many downtown Chicago attractions We had dinner and went clubing with our friends around Division St We had no problems getting cabs back and forth to the Hyatt and there s even public transportation right near by but we didn t bother since we only needed cabs from and to the hotel Parking as is usual for Chicago was expensive but we were able to get our car out quickly No problems at all and...\n",
              "3  truthful  ...                                                                                                                   The Omni Chicago really delivers on all fronts from the spaciousness of the rooms to the helpful staff to the prized location on Michigan Avenue While this address in Chicago requires a high level of quality the Omni delivers Check in for myself and a whole group of people with me was under minutes the staff had plentiful recommendations for dining and events and the rooms are some of the largest you ll find at this price range in Chicago Even the standard room has a separate living area and work desk The fitness center has free weights weight machines and two rows of cardio equipment I shared the room with others and did not feel cramped in any way All in all a great property \n",
              "4  truthful  ...                                                                                                                                                                                                                                                                                                                                                                                                                                        I asked for a high floor away from the elevator and that is what I got The room was pleasantly decorated functional and very clean I didn t need a whole lot of service but when I did they were pleasant and prompt I used the fitness center which was well equipped and everything was in working order It is in a great location at one end of the Michigan Avenue shopping district \n",
              "5  truthful  ...  I stayed at the Omni for one night following a business meeting at another downtown Chicago hotel I was completely impressed by the service all personnel during my stay were absolutely outstanding I checked in quite early and was efficiently checked in My room had a somewhat heavy scent of air freshener which was managed reasonably well by opening the windows I don t generally require much during my hotel stays but suffice to say the doorman housekeeping the night manager and bartender at the day waiter at and the concierge were amazing I never waited more than about seconds for anything The room was very comfy and the amenities were superior One very tiny complaint there was no wastebasket near the sink or near the wet bar had to walk to the other end of the bathroom or sitting room t...\n",
              "6  truthful  ...                                                                                                                                                                            We stayed in the Conrad for nights just before Thanksgiving We had a corner room overlooking N Michigan Av and the Tribune Building To say this is a star hotel is to damn this place with faint praise it is wonderful The staff were unbelievably helpful The standard of the room was superb HD plasma screens luxury bedlinens iPod radio huge bathroom Location is unbeatable right in the heart of everything watched the whole Light Festival parade from the window Breakfasts were excellent no help yourself buffet here with full and attentive table service Would have no hesitation recommending or staying again in this hotel out of \n",
              "7  truthful  ...                                                                                                                                Just got back from days up in Chicago shopping with girlfriends First time I have stayed at the Omni I did so because I saw a rate that included of free food on Travelzoo The three of us all stayed in one suite with double beds and a VERY comfortable pull out sofa We had plenty of room Food in the restaurant was great service was outstanding from everone we came into contact with early morning delivery of free coffee juice and hot chocolate was fabulous and recommendations from the staff on where to eat time of movies shopping areas etc was really helpful Need I mention the outstanding location Simply the best We all decided that the Omni is our new favorite hotel \n",
              "8  truthful  ...                        We arrived at the Omni on nd September for a day stay I took ill when I left the plane after travelling from Manchester so I saw more of the room than I anticipated I couldn t go out for days The room was spacious and clean The bed was extremely comfortable The bathroom was large and very clean What more could you ask We had coffee and juice left outside our door every morning at the time we requested I managed to go to the th floor to see the sun terrace Having a sun terrace in a city hotel is a great idea but the terrace was a bit grim A few sunbeds on a concrete floor There was also noise from an air conditioning unit It could do with a bit of cheering up What I saw of Chicago was very pleasing it has something for everyone Would I go back to the Omni yes I would \n",
              "9  truthful  ...                                                                                                                                                                                                                                                                                                                                              On our visit to Chicago we chose the Hyatt due to its location in downtown within walking distance to most major attractions such as Sears Tower Magnificent Mile Grant Millenium Parks etc Subway bus stops very close by to travel to other locations in the city Overall the hotel was very nice clean and at a great location Was in a safe area Went to beautiful Wrigley Field and Soldier Field and saw both teams play I love Chicago and would defenitely stay here again \n",
              "\n",
              "[10 rows x 3 columns]"
            ]
          },
          "metadata": {},
          "execution_count": 165
        }
      ]
    },
    {
      "cell_type": "code",
      "metadata": {
        "id": "rUUuX-sfz7vM"
      },
      "source": [
        "# dropping the uncleaned text column \"text\"\n",
        "df = df.drop(['text'], axis=1)"
      ],
      "execution_count": null,
      "outputs": []
    },
    {
      "cell_type": "code",
      "metadata": {
        "colab": {
          "base_uri": "https://localhost:8080/",
          "height": 519
        },
        "id": "z1ztjGdL8Cap",
        "outputId": "01ec3159-3bca-4614-f8f2-5302caec8187"
      },
      "source": [
        "# renaming the column\n",
        "df.rename(columns = {'clean_text':'review', 'deceptive' : 'sentiment'}, inplace = True)\n",
        "df.head()"
      ],
      "execution_count": null,
      "outputs": [
        {
          "output_type": "execute_result",
          "data": {
            "text/html": [
              "<div>\n",
              "<style scoped>\n",
              "    .dataframe tbody tr th:only-of-type {\n",
              "        vertical-align: middle;\n",
              "    }\n",
              "\n",
              "    .dataframe tbody tr th {\n",
              "        vertical-align: top;\n",
              "    }\n",
              "\n",
              "    .dataframe thead th {\n",
              "        text-align: right;\n",
              "    }\n",
              "</style>\n",
              "<table border=\"1\" class=\"dataframe\">\n",
              "  <thead>\n",
              "    <tr style=\"text-align: right;\">\n",
              "      <th></th>\n",
              "      <th>sentiment</th>\n",
              "      <th>review</th>\n",
              "    </tr>\n",
              "  </thead>\n",
              "  <tbody>\n",
              "    <tr>\n",
              "      <th>0</th>\n",
              "      <td>truthful</td>\n",
              "      <td>We stayed for a one night getaway with family on a thursday Triple AAA rate of was a steal th floor room complete with in plasma TV bose stereo voss and evian water and gorgeous bathroom Concierge was very helpful You cannot beat this location Only flaw was breakfast was pricey and service was very very slow even though there were only two other tables in the restaurant Food was very good so it was worth the wait I would return in a heartbeat A gem in chicago</td>\n",
              "    </tr>\n",
              "    <tr>\n",
              "      <th>1</th>\n",
              "      <td>truthful</td>\n",
              "      <td>Triple A rate with upgrade to view room was less than which also included breakfast vouchers Had a great view of river lake Wrigley Bldg Tribune Bldg Most major restaurants Shopping Sightseeing attractions within walking distance Large room with a very comfortable bed</td>\n",
              "    </tr>\n",
              "    <tr>\n",
              "      <th>2</th>\n",
              "      <td>truthful</td>\n",
              "      <td>This comes a little late as I m finally catching up on my reviews from the past several months A dear friend and I stayed at the Hyatt Regency in late October for one night while visiting a friend and her husband from out of town This hotel is perfect IMO Easy check in and check out Lovely clean comfortable rooms with great views of the city I know this area pretty well and it s very convenient to many downtown Chicago attractions We had dinner and went clubing with our friends around Division St We had no problems getting cabs back and forth to the Hyatt and there s even public transportation right near by but we didn t bother since we only needed cabs from and to the hotel Parking as is usual for Chicago was expensive but we were able to get our car out quickly No problems at all and...</td>\n",
              "    </tr>\n",
              "    <tr>\n",
              "      <th>3</th>\n",
              "      <td>truthful</td>\n",
              "      <td>The Omni Chicago really delivers on all fronts from the spaciousness of the rooms to the helpful staff to the prized location on Michigan Avenue While this address in Chicago requires a high level of quality the Omni delivers Check in for myself and a whole group of people with me was under minutes the staff had plentiful recommendations for dining and events and the rooms are some of the largest you ll find at this price range in Chicago Even the standard room has a separate living area and work desk The fitness center has free weights weight machines and two rows of cardio equipment I shared the room with others and did not feel cramped in any way All in all a great property</td>\n",
              "    </tr>\n",
              "    <tr>\n",
              "      <th>4</th>\n",
              "      <td>truthful</td>\n",
              "      <td>I asked for a high floor away from the elevator and that is what I got The room was pleasantly decorated functional and very clean I didn t need a whole lot of service but when I did they were pleasant and prompt I used the fitness center which was well equipped and everything was in working order It is in a great location at one end of the Michigan Avenue shopping district</td>\n",
              "    </tr>\n",
              "  </tbody>\n",
              "</table>\n",
              "</div>"
            ],
            "text/plain": [
              "  sentiment                                                                                                                                                                                                                                                                                                                                                                                                                                                                                                                                                                                                                                                                                                                                                                                                                           review\n",
              "0  truthful                                                                                                                                                                                                                                                                                                                                                 We stayed for a one night getaway with family on a thursday Triple AAA rate of was a steal th floor room complete with in plasma TV bose stereo voss and evian water and gorgeous bathroom Concierge was very helpful You cannot beat this location Only flaw was breakfast was pricey and service was very very slow even though there were only two other tables in the restaurant Food was very good so it was worth the wait I would return in a heartbeat A gem in chicago \n",
              "1  truthful                                                                                                                                                                                                                                                                                                                                                                                                                                                                                                                                                    Triple A rate with upgrade to view room was less than which also included breakfast vouchers Had a great view of river lake Wrigley Bldg Tribune Bldg Most major restaurants Shopping Sightseeing attractions within walking distance Large room with a very comfortable bed \n",
              "2  truthful  This comes a little late as I m finally catching up on my reviews from the past several months A dear friend and I stayed at the Hyatt Regency in late October for one night while visiting a friend and her husband from out of town This hotel is perfect IMO Easy check in and check out Lovely clean comfortable rooms with great views of the city I know this area pretty well and it s very convenient to many downtown Chicago attractions We had dinner and went clubing with our friends around Division St We had no problems getting cabs back and forth to the Hyatt and there s even public transportation right near by but we didn t bother since we only needed cabs from and to the hotel Parking as is usual for Chicago was expensive but we were able to get our car out quickly No problems at all and...\n",
              "3  truthful                                                                                                                   The Omni Chicago really delivers on all fronts from the spaciousness of the rooms to the helpful staff to the prized location on Michigan Avenue While this address in Chicago requires a high level of quality the Omni delivers Check in for myself and a whole group of people with me was under minutes the staff had plentiful recommendations for dining and events and the rooms are some of the largest you ll find at this price range in Chicago Even the standard room has a separate living area and work desk The fitness center has free weights weight machines and two rows of cardio equipment I shared the room with others and did not feel cramped in any way All in all a great property \n",
              "4  truthful                                                                                                                                                                                                                                                                                                                                                                                                                                        I asked for a high floor away from the elevator and that is what I got The room was pleasantly decorated functional and very clean I didn t need a whole lot of service but when I did they were pleasant and prompt I used the fitness center which was well equipped and everything was in working order It is in a great location at one end of the Michigan Avenue shopping district "
            ]
          },
          "metadata": {},
          "execution_count": 167
        }
      ]
    },
    {
      "cell_type": "markdown",
      "metadata": {
        "id": "t5OYfKyxS2Au"
      },
      "source": [
        "## ROBERTA APPROACH USING FASTAI"
      ]
    },
    {
      "cell_type": "markdown",
      "metadata": {
        "id": "15-9K3gDYKyF"
      },
      "source": [
        "RoBERTa (A Robustly Optimized BERT Pretraining Approach) BERT(Bidirectional Encoder Representations from Transformers) builds upon BERT by pretraining longer with more data, bigger batch sizes while only pretraining on masked language modeling as opposed to pretraining on next sentence prediction as well. "
      ]
    },
    {
      "cell_type": "markdown",
      "metadata": {
        "id": "YmyitoHcV4QK"
      },
      "source": [
        "### Setting Up the Tokenizer"
      ]
    },
    {
      "cell_type": "code",
      "metadata": {
        "id": "mVueQseLPlXo"
      },
      "source": [
        "feat_cols = \"review\"\n",
        "label_cols = \"sentiment\""
      ],
      "execution_count": null,
      "outputs": []
    },
    {
      "cell_type": "markdown",
      "metadata": {
        "id": "RCdSZtqtaMZc"
      },
      "source": [
        "RoBERTa uses different default special tokens from BERT. For example, instead of [CLS] and [SEP] for starting and ending tokens, <s> and </s> are used respectively. For example, a tokenized movie review may look like:\n",
        "\n",
        "“the movie was great” → \n",
        " the, Ġmovie, Ġwas, Ġgreat\n",
        "\n",
        "We will now create a Fastai wrapper around RobertaTokenizer."
      ]
    },
    {
      "cell_type": "code",
      "metadata": {
        "id": "82hFOmWQ8jgQ"
      },
      "source": [
        "class FastAiRobertaTokenizer(BaseTokenizer):\n",
        "    \"\"\"Wrapper around RobertaTokenizer to be compatible with fastai\"\"\"\n",
        "    def __init__(self, tokenizer: RobertaTokenizer, max_seq_len: int=128, **kwargs): \n",
        "        self._pretrained_tokenizer = tokenizer\n",
        "        self.max_seq_len = max_seq_len \n",
        "    def __call__(self, *args, **kwargs): \n",
        "        return self \n",
        "    def tokenizer(self, t:str) -> List[str]: \n",
        "        \"\"\"Adds Roberta bos and eos tokens and limits the maximum sequence length\"\"\" \n",
        "        return [config.start_tok] + self._pretrained_tokenizer.tokenize(t)[:self.max_seq_len - 2] + [config.end_tok]"
      ],
      "execution_count": null,
      "outputs": []
    },
    {
      "cell_type": "markdown",
      "metadata": {
        "id": "RoWevoOoaoIa"
      },
      "source": [
        "Now, we can initialize our Fastai tokenizer. (Note: we have to wrap our Fastai wrapper within the Tokenizer class for Fastai compatibility)"
      ]
    },
    {
      "cell_type": "code",
      "metadata": {
        "id": "8WEm-SJVPlkD"
      },
      "source": [
        "# create fastai tokenizer for roberta\n",
        "from transformers import RobertaTokenizer\n",
        "roberta_tok = RobertaTokenizer.from_pretrained(\"roberta-base\")\n",
        "\n",
        "fastai_tokenizer = Tokenizer(tok_func=FastAiRobertaTokenizer(roberta_tok, max_seq_len=config.max_seq_len), \n",
        "                             pre_rules=[], post_rules=[])"
      ],
      "execution_count": null,
      "outputs": []
    },
    {
      "cell_type": "code",
      "metadata": {
        "id": "pTFW0q2pPlpA",
        "colab": {
          "base_uri": "https://localhost:8080/"
        },
        "outputId": "0bcffed4-2589-4e15-a680-f8eebff74d0e"
      },
      "source": [
        "roberta_tok"
      ],
      "execution_count": null,
      "outputs": [
        {
          "output_type": "execute_result",
          "data": {
            "text/plain": [
              "PreTrainedTokenizer(name_or_path='roberta-base', vocab_size=50265, model_max_len=512, is_fast=False, padding_side='right', special_tokens={'bos_token': AddedToken(\"<s>\", rstrip=False, lstrip=False, single_word=False, normalized=True), 'eos_token': AddedToken(\"</s>\", rstrip=False, lstrip=False, single_word=False, normalized=True), 'unk_token': AddedToken(\"<unk>\", rstrip=False, lstrip=False, single_word=False, normalized=True), 'sep_token': AddedToken(\"</s>\", rstrip=False, lstrip=False, single_word=False, normalized=True), 'pad_token': AddedToken(\"<pad>\", rstrip=False, lstrip=False, single_word=False, normalized=True), 'cls_token': AddedToken(\"<s>\", rstrip=False, lstrip=False, single_word=False, normalized=True), 'mask_token': AddedToken(\"<mask>\", rstrip=False, lstrip=True, single_word=False, normalized=True)})"
            ]
          },
          "metadata": {},
          "execution_count": 174
        }
      ]
    },
    {
      "cell_type": "code",
      "metadata": {
        "id": "MlGMpkS1Plsz"
      },
      "source": [
        "import json"
      ],
      "execution_count": null,
      "outputs": []
    },
    {
      "cell_type": "code",
      "metadata": {
        "id": "fCFlvKfsPlvy"
      },
      "source": [
        "path = F\"/content/roberta_models\""
      ],
      "execution_count": null,
      "outputs": []
    },
    {
      "cell_type": "code",
      "metadata": {
        "id": "pEIZ2KdqPlzV",
        "colab": {
          "base_uri": "https://localhost:8080/"
        },
        "outputId": "6b992507-1922-4d92-8037-58835383fe55"
      },
      "source": [
        "roberta_tok.save_vocabulary(path)"
      ],
      "execution_count": null,
      "outputs": [
        {
          "output_type": "execute_result",
          "data": {
            "text/plain": [
              "('/content/roberta_models/vocab.json', '/content/roberta_models/merges.txt')"
            ]
          },
          "metadata": {},
          "execution_count": 178
        }
      ]
    },
    {
      "cell_type": "code",
      "metadata": {
        "id": "OOTazQiNQfMo",
        "colab": {
          "base_uri": "https://localhost:8080/"
        },
        "outputId": "2b98290d-5822-47b2-9206-8c8e79388d4c"
      },
      "source": [
        "os.chdir(\"/content/roberta_models\")\n",
        "os.listdir()"
      ],
      "execution_count": null,
      "outputs": [
        {
          "output_type": "execute_result",
          "data": {
            "text/plain": [
              "['merges.txt', 'binary.png', 'vocab.json']"
            ]
          },
          "metadata": {},
          "execution_count": 180
        }
      ]
    },
    {
      "cell_type": "code",
      "metadata": {
        "id": "dpUpTzG-QgcM"
      },
      "source": [
        "# create fastai vocabulary for roberta\n",
        "\n",
        "with open('vocab.json', 'r', encoding='utf-8') as f:\n",
        "    roberta_vocab_dict = json.load(f)"
      ],
      "execution_count": null,
      "outputs": []
    },
    {
      "cell_type": "markdown",
      "metadata": {
        "id": "qKyyHf7la1YM"
      },
      "source": [
        "Next, we will load Roberta’s vocabulary."
      ]
    },
    {
      "cell_type": "code",
      "metadata": {
        "id": "Ad2HyKEaQgiq"
      },
      "source": [
        "fastai_roberta_vocab = Vocab(list(roberta_vocab_dict.keys()))"
      ],
      "execution_count": null,
      "outputs": []
    },
    {
      "cell_type": "code",
      "metadata": {
        "colab": {
          "base_uri": "https://localhost:8080/"
        },
        "id": "BMBljuEgWMtm",
        "outputId": "c004bce5-00ea-4dca-d487-46a7fbef0c9c"
      },
      "source": [
        "fastai_roberta_vocab"
      ],
      "execution_count": null,
      "outputs": [
        {
          "output_type": "execute_result",
          "data": {
            "text/plain": [
              "<fastai.text.transform.Vocab at 0x7fc444813590>"
            ]
          },
          "metadata": {},
          "execution_count": 206
        }
      ]
    },
    {
      "cell_type": "markdown",
      "metadata": {
        "id": "EHqDSHdWWfjp"
      },
      "source": [
        "### Setting up pre-processors"
      ]
    },
    {
      "cell_type": "markdown",
      "metadata": {
        "id": "pany8lERa_dH"
      },
      "source": [
        "Before we can build our Fastai DataBunch, we need to create appropriate pre-processors for the tokenizer and vocabulary."
      ]
    },
    {
      "cell_type": "code",
      "metadata": {
        "id": "31gWv1ORQgpB"
      },
      "source": [
        "# Setting up pre-processors\n",
        "class RobertaTokenizeProcessor(TokenizeProcessor):\n",
        "    def __init__(self, tokenizer):\n",
        "         super().__init__(tokenizer=tokenizer, include_bos=False, include_eos=False)\n",
        "\n",
        "class RobertaNumericalizeProcessor(NumericalizeProcessor):\n",
        "    def __init__(self, *args, **kwargs):\n",
        "        super().__init__(*args, vocab=fastai_roberta_vocab, **kwargs)\n",
        "\n",
        "\n",
        "def get_roberta_processor(tokenizer:Tokenizer=None, vocab:Vocab=None):\n",
        "    \"\"\"\n",
        "    Constructing preprocessors for Roberta\n",
        "    We remove sos and eos tokens since we add that ourselves (OUR OWN DATA) in the tokenizer.\n",
        "    We also use a custom vocabulary to match the numericalization with the original Roberta model.\n",
        "    \"\"\"\n",
        "    return [RobertaTokenizeProcessor(tokenizer=tokenizer), NumericalizeProcessor(vocab=vocab)]"
      ],
      "execution_count": null,
      "outputs": []
    },
    {
      "cell_type": "markdown",
      "metadata": {
        "id": "kkMSlYoGWcUr"
      },
      "source": [
        "#### Setting up the DataBunch"
      ]
    },
    {
      "cell_type": "markdown",
      "metadata": {
        "id": "-d-6CjJ4bGbJ"
      },
      "source": [
        "Now, we will create a DataBunch class specifically for Roberta."
      ]
    },
    {
      "cell_type": "code",
      "metadata": {
        "id": "xT9wTwWEQgsY"
      },
      "source": [
        "# Creating a Roberta specific DataBunch class\n",
        "class RobertaDataBunch(TextDataBunch):\n",
        "    \"Create a `TextDataBunch` suitable for training Roberta\"\n",
        "    @classmethod\n",
        "    def create(cls, train_ds, valid_ds, test_ds=None, path:PathOrStr='.', bs:int=64, val_bs:int=None, pad_idx=1,\n",
        "               pad_first=True, device:torch.device=None, no_check:bool=False, backwards:bool=False, \n",
        "               dl_tfms:Optional[Collection[Callable]]=None, **dl_kwargs) -> DataBunch:\n",
        "        \"Function that transform the `datasets` in a `DataBunch` for classification. Passes `**dl_kwargs` on to `DataLoader()`\"\n",
        "        datasets = cls._init_ds(train_ds, valid_ds, test_ds)\n",
        "        val_bs = ifnone(val_bs, bs)\n",
        "        collate_fn = partial(pad_collate, pad_idx=pad_idx, pad_first=pad_first, backwards=backwards)\n",
        "        train_sampler = SortishSampler(datasets[0].x, key=lambda t: len(datasets[0][t][0].data), bs=bs)\n",
        "        train_dl = DataLoader(datasets[0], batch_size=bs, sampler=train_sampler, drop_last=True, **dl_kwargs)\n",
        "        dataloaders = [train_dl]\n",
        "        for ds in datasets[1:]:\n",
        "            lengths = [len(t) for t in ds.x.items]\n",
        "            sampler = SortSampler(ds.x, key=lengths.__getitem__)\n",
        "            dataloaders.append(DataLoader(ds, batch_size=val_bs, sampler=sampler, **dl_kwargs))\n",
        "        return cls(*dataloaders, path=path, device=device, dl_tfms=dl_tfms, collate_fn=collate_fn, no_check=no_check)"
      ],
      "execution_count": null,
      "outputs": []
    },
    {
      "cell_type": "markdown",
      "metadata": {
        "id": "UPuF15CrbsDg"
      },
      "source": [
        "And lastly, we will also need a Roberta specific TextList class."
      ]
    },
    {
      "cell_type": "code",
      "metadata": {
        "id": "KJUu862WQgwA"
      },
      "source": [
        "class RobertaTextList(TextList):\n",
        "    _bunch = RobertaDataBunch\n",
        "    _label_cls = TextList"
      ],
      "execution_count": null,
      "outputs": []
    },
    {
      "cell_type": "code",
      "metadata": {
        "id": "FeHubf-2Qg0K"
      },
      "source": [
        "import concurrent.futures\n",
        "\n",
        "# loading the tokenizer and vocab processors\n",
        "processor = get_roberta_processor(tokenizer=fastai_tokenizer, vocab=fastai_roberta_vocab)"
      ],
      "execution_count": null,
      "outputs": []
    },
    {
      "cell_type": "code",
      "metadata": {
        "id": "wbUluljIQg30",
        "colab": {
          "base_uri": "https://localhost:8080/"
        },
        "outputId": "be80b0be-71b8-4fc1-f806-671164b01864"
      },
      "source": [
        "processor"
      ],
      "execution_count": null,
      "outputs": [
        {
          "output_type": "execute_result",
          "data": {
            "text/plain": [
              "[<__main__.RobertaTokenizeProcessor at 0x7fc444813c90>,\n",
              " <fastai.text.data.NumericalizeProcessor at 0x7fc444813350>]"
            ]
          },
          "metadata": {},
          "execution_count": 187
        }
      ]
    },
    {
      "cell_type": "markdown",
      "metadata": {
        "id": "2-k4Hr5ab083"
      },
      "source": [
        "We can now simply create a Fastai DataBunch with Roberta"
      ]
    },
    {
      "cell_type": "code",
      "metadata": {
        "id": "Q3KdGwTcQfR0",
        "colab": {
          "base_uri": "https://localhost:8080/",
          "height": 110
        },
        "outputId": "d8736fa1-866e-40f7-942b-98261fbf777a"
      },
      "source": [
        "# creating our databunch \n",
        "data = RobertaTextList.from_df(df, \".\", cols=feat_cols, processor=processor) \\\n",
        "    .split_by_rand_pct(seed=config.seed) \\\n",
        "    .label_from_df(cols=label_cols,label_cls=CategoryList) \\\n",
        "    .databunch(bs=config.bs, pad_first=False, pad_idx=0)\n",
        "\n",
        "\n"
      ],
      "execution_count": null,
      "outputs": [
        {
          "output_type": "display_data",
          "data": {
            "text/html": [
              ""
            ],
            "text/plain": [
              "<IPython.core.display.HTML object>"
            ]
          },
          "metadata": {}
        },
        {
          "output_type": "stream",
          "name": "stderr",
          "text": [
            "/usr/local/lib/python3.7/dist-packages/fastai/core.py:302: VisibleDeprecationWarning:\n",
            "\n",
            "Creating an ndarray from ragged nested sequences (which is a list-or-tuple of lists-or-tuples-or ndarrays with different lengths or shapes) is deprecated. If you meant to do this, you must specify 'dtype=object' when creating the ndarray\n",
            "\n"
          ]
        },
        {
          "output_type": "display_data",
          "data": {
            "text/html": [
              ""
            ],
            "text/plain": [
              "<IPython.core.display.HTML object>"
            ]
          },
          "metadata": {}
        }
      ]
    },
    {
      "cell_type": "code",
      "metadata": {
        "id": "xt1MiIstQfVp",
        "colab": {
          "base_uri": "https://localhost:8080/"
        },
        "outputId": "fd317ba1-090d-4fc1-ad70-5ed1ff817470"
      },
      "source": [
        "data"
      ],
      "execution_count": null,
      "outputs": [
        {
          "output_type": "execute_result",
          "data": {
            "text/plain": [
              "RobertaDataBunch;\n",
              "\n",
              "Train: LabelList (1280 items)\n",
              "x: RobertaTextList\n",
              "<s> Tri ple ĠA Ġrate Ġwith Ġupgrade Ġto Ġview Ġroom Ġwas Ġless Ġthan Ġwhich Ġalso Ġincluded Ġbreakfast Ġvouchers ĠHad Ġa Ġgreat Ġview Ġof Ġriver Ġlake ĠW rig ley ĠB ld g ĠTribune ĠB ld g ĠMost Ġmajor Ġrestaurants ĠShopping ĠSight seeing Ġattractions Ġwithin Ġwalking Ġdistance ĠLarge Ġroom Ġwith Ġa Ġvery Ġcomfortable Ġbed Ġ </s>,<s> This Ġcomes Ġa Ġlittle Ġlate Ġas ĠI Ġm Ġfinally Ġcatching Ġup Ġon Ġmy Ġreviews Ġfrom Ġthe Ġpast Ġseveral Ġmonths ĠA Ġdear Ġfriend Ġand ĠI Ġstayed Ġat Ġthe ĠHy att ĠReg ency Ġin Ġlate ĠOctober Ġfor Ġone Ġnight Ġwhile Ġvisiting Ġa Ġfriend Ġand Ġher Ġhusband Ġfrom Ġout Ġof Ġtown ĠThis Ġhotel Ġis Ġperfect ĠIM O ĠEasy Ġcheck Ġin Ġand Ġcheck Ġout ĠLovely Ġclean Ġcomfortable Ġrooms Ġwith Ġgreat Ġviews Ġof Ġthe Ġcity ĠI Ġknow Ġthis Ġarea Ġpretty Ġwell Ġand Ġit Ġs Ġvery Ġconvenient Ġto Ġmany Ġdowntown ĠChicago Ġattractions ĠWe Ġhad Ġdinner Ġand Ġwent Ġclub ing Ġwith Ġour Ġfriends Ġaround ĠDivision ĠSt ĠWe Ġhad Ġno Ġproblems Ġgetting Ġc abs Ġback Ġand Ġforth Ġto Ġthe ĠHy att Ġand Ġthere Ġs Ġeven Ġpublic Ġtransportation Ġright Ġnear Ġby Ġbut Ġwe Ġdidn Ġt Ġbother Ġsince Ġwe Ġonly Ġneeded Ġc abs Ġfrom Ġand Ġto Ġthe Ġhotel ĠParking Ġas Ġis Ġusual Ġfor ĠChicago Ġwas Ġexpensive Ġbut Ġwe Ġwere Ġable Ġto Ġget Ġour Ġcar Ġout Ġquickly ĠNo Ġproblems Ġat Ġall Ġand Ġthe Ġbest Ġpart Ġis Ġthat Ġwe Ġgot Ġa Ġrate Ġof Ġthrough ĠHot wire Ġa Ġdownright Ġsteal Ġfor Ġthis Ġarea Ġof ĠChicago Ġand Ġthe Ġquality Ġof Ġthe Ġhotel Ġ </s>,<s> The ĠOmni ĠChicago Ġreally Ġdelivers Ġon Ġall Ġfronts Ġfrom Ġthe Ġspacious ness Ġof Ġthe Ġrooms Ġto Ġthe Ġhelpful Ġstaff Ġto Ġthe Ġprized Ġlocation Ġon ĠMichigan ĠAvenue ĠWhile Ġthis Ġaddress Ġin ĠChicago Ġrequires Ġa Ġhigh Ġlevel Ġof Ġquality Ġthe ĠOmni Ġdelivers ĠCheck Ġin Ġfor Ġmyself Ġand Ġa Ġwhole Ġgroup Ġof Ġpeople Ġwith Ġme Ġwas Ġunder Ġminutes Ġthe Ġstaff Ġhad Ġplentiful Ġrecommendations Ġfor Ġdining Ġand Ġevents Ġand Ġthe Ġrooms Ġare Ġsome Ġof Ġthe Ġlargest Ġyou Ġll Ġfind Ġat Ġthis Ġprice Ġrange Ġin ĠChicago ĠEven Ġthe Ġstandard Ġroom Ġhas Ġa Ġseparate Ġliving Ġarea Ġand Ġwork Ġdesk ĠThe Ġfitness Ġcenter Ġhas Ġfree Ġweights Ġweight Ġmachines Ġand Ġtwo Ġrows Ġof Ġcardio Ġequipment ĠI Ġshared Ġthe Ġroom Ġwith Ġothers Ġand Ġdid Ġnot Ġfeel Ġcramped Ġin Ġany Ġway ĠAll Ġin Ġall Ġa Ġgreat Ġproperty Ġ </s>,<s> I Ġasked Ġfor Ġa Ġhigh Ġfloor Ġaway Ġfrom Ġthe Ġelevator Ġand Ġthat Ġis Ġwhat ĠI Ġgot ĠThe Ġroom Ġwas Ġpleasantly Ġdecorated Ġfunctional Ġand Ġvery Ġclean ĠI Ġdidn Ġt Ġneed Ġa Ġwhole Ġlot Ġof Ġservice Ġbut Ġwhen ĠI Ġdid Ġthey Ġwere Ġpleasant Ġand Ġprompt ĠI Ġused Ġthe Ġfitness Ġcenter Ġwhich Ġwas Ġwell Ġequipped Ġand Ġeverything Ġwas Ġin Ġworking Ġorder ĠIt Ġis Ġin Ġa Ġgreat Ġlocation Ġat Ġone Ġend Ġof Ġthe ĠMichigan ĠAvenue Ġshopping Ġdistrict Ġ </s>,<s> We Ġstayed Ġin Ġthe ĠConrad Ġfor Ġnights Ġjust Ġbefore ĠThanksgiving ĠWe Ġhad Ġa Ġcorner Ġroom Ġoverlooking ĠN ĠMichigan ĠAv Ġand Ġthe ĠTribune ĠBuilding ĠTo Ġsay Ġthis Ġis Ġa Ġstar Ġhotel Ġis Ġto Ġdamn Ġthis Ġplace Ġwith Ġfaint Ġpraise Ġit Ġis Ġwonderful ĠThe Ġstaff Ġwere Ġunbelievably Ġhelpful ĠThe Ġstandard Ġof Ġthe Ġroom Ġwas Ġsuperb ĠHD Ġplasma Ġscreens Ġluxury Ġbed lin ens ĠiPod Ġradio Ġhuge Ġbathroom ĠLocation Ġis Ġunbeat able Ġright Ġin Ġthe Ġheart Ġof Ġeverything Ġwatched Ġthe Ġwhole ĠLight ĠFestival Ġparade Ġfrom Ġthe Ġwindow ĠBreak f asts Ġwere Ġexcellent Ġno Ġhelp Ġyourself Ġbuffet Ġhere Ġwith Ġfull Ġand Ġattentive Ġtable Ġservice ĠWould Ġhave Ġno Ġhesitation Ġrecommending Ġor Ġstaying Ġagain Ġin Ġthis Ġhotel Ġout Ġof Ġ </s>\n",
              "y: CategoryList\n",
              "truthful,truthful,truthful,truthful,truthful\n",
              "Path: .;\n",
              "\n",
              "Valid: LabelList (320 items)\n",
              "x: RobertaTextList\n",
              "<s> I Ġstayed Ġat Ġthe ĠFair mont Ġfor Ġa Ġfew Ġnights Ġand Ġfound Ġthe Ġwhole Ġexperience Ġexcellent ĠI Ġwas Ġgiven Ġa Ġvery Ġlarge Ġroom Ġwith Ġgreat Ġviews Ġof Ġthe Ġcity Ġthe Ġbreakfast Ġwas Ġextremely Ġgood Ġand Ġthe Ġlocation Ġwas Ġas Ġcentral Ġas ĠI Ġcould Ġhave Ġwished Ġfor ĠThe Ġpool Ġwas Ġnot Ġlarge Ġbut Ġfelt Ġluxurious Ġand Ġwas Ġgreat Ġfor Ġearly Ġmorning Ġswim s ĠIn Ġthe Ġevening ĠI Ġspent Ġsome Ġtime Ġin Ġthe Ġhotel Ġbar Ġwith Ġfriends Ġand Ġthat Ġwas Ġexcellent Ġtoo ĠHighly Ġrecommended Ġas Ġa Ġbase Ġfor Ġexploring ĠChicago Ġ </s>,<s> I Ġstayed Ġat Ġthe ĠOmni Ġfor Ġone Ġnight Ġfollowing Ġa Ġbusiness Ġmeeting Ġat Ġanother Ġdowntown ĠChicago Ġhotel ĠI Ġwas Ġcompletely Ġimpressed Ġby Ġthe Ġservice Ġall Ġpersonnel Ġduring Ġmy Ġstay Ġwere Ġabsolutely Ġoutstanding ĠI Ġchecked Ġin Ġquite Ġearly Ġand Ġwas Ġefficiently Ġchecked Ġin ĠMy Ġroom Ġhad Ġa Ġsomewhat Ġheavy Ġscent Ġof Ġair Ġfres hen er Ġwhich Ġwas Ġmanaged Ġreasonably Ġwell Ġby Ġopening Ġthe Ġwindows ĠI Ġdon Ġt Ġgenerally Ġrequire Ġmuch Ġduring Ġmy Ġhotel Ġstays Ġbut Ġsuffice Ġto Ġsay Ġthe Ġdo orman Ġhouse keeping Ġthe Ġnight Ġmanager Ġand Ġbartender Ġat Ġthe Ġday Ġwaiter Ġat Ġand Ġthe Ġconc ier ge Ġwere Ġamazing ĠI Ġnever Ġwaited Ġmore Ġthan Ġabout Ġseconds Ġfor Ġanything ĠThe Ġroom Ġwas Ġvery Ġcom fy Ġand Ġthe Ġamenities Ġwere Ġsuperior ĠOne Ġvery Ġtiny Ġcomplaint Ġthere Ġwas Ġno Ġwaste b asket Ġnear Ġthe Ġsink Ġor Ġnear Ġthe Ġwet Ġbar Ġhad Ġto Ġwalk Ġto Ġthe Ġother Ġend Ġof Ġthe Ġbathroom Ġor Ġsitting Ġroom Ġto Ġdispose Ġof Ġk leen ex Ġcoffee Ġparap hern alia ĠOne Ġwaste b asket Ġwould Ġmake Ġall Ġthe Ġdifference ĠAll Ġthat Ġsaid Ġwhat Ġa Ġgreat Ġhotel ĠThanks ĠOmni ĠI Ġhad Ġa Ġgreat Ġstay Ġ </s>,<s> The ĠPalmer ĠHouse ĠH l ton ĠHotel Ġhas Ġto Ġbe Ġthe Ġnic est Ġhotel ĠI Ġhave Ġstayed Ġat Ġin ĠChicago ĠI Ġwent Ġto ĠChicago Ġon Ġa Ġbusiness Ġtrip Ġfor Ġa Ġmeeting ĠWhen ĠI Ġarrived Ġonce ĠI Ġwalked Ġin Ġthe Ġlobby Ġwas Ġbeautiful ĠI Ġcouldn Ġt Ġhardly Ġwait Ġto Ġsee Ġmy Ġroom ĠThe Ġrooms Ġwere Ġjust Ġas Ġnice Ġthe Ġbathroom Ġwas Ġimm ac ulate ĠWe Ġhad Ġa Ġmeeting Ġin Ġthe ĠClark ĠMeeting ĠRoom Ġeven Ġthat Ġwas Ġnice ĠI Ġwanted Ġto Ġtake Ġa Ġtour Ġof Ġthe Ġhotel Ġitself ĠI Ġwas Ġthere Ġfor Ġabout Ġdays Ġand Ġbecause Ġof Ġhow Ġconvenient Ġthe Ġhotel Ġwas Ġto Ġa Ġlot Ġof Ġmajor Ġattractions Ġlike ĠGrant ĠPark ĠLake ĠMichigan ĠMag ĠMile Ġwhich Ġis Ġa Ġshopping Ġheaven Ġand Ġthe ĠNavy ĠPier Ġit Ġnever Ġreally Ġlike Ġthe Ġnormal Ġstressed Ġout Ġmeetings ĠI Ġlove ĠChicago Ġand ĠI Ġnow Ġhave Ġa Ġnew Ġfavorite Ġhotel Ġto Ġstay Ġat Ġwhile ĠI Ġm Ġin Ġtown Ġ </s>,<s> This Ġis Ġa Ġbeautiful Ġhotel Ġinside Ġand Ġoutside ĠThe Ġrooms Ġwere Ġvery Ġcomfortable Ġand Ġclean ĠThe Ġhotel Ġmade Ġmy Ġexperience Ġof Ġvisiting Ġthis Ġcity Ġeven Ġmore Ġwonderful ĠI Ġhighly Ġrecommend Ġthis Ġto Ġanyone Ġ </s>,<s> This Ġis Ġan Ġabsolutely Ġgorgeous Ġhotel ĠWe Ġhad Ġan Ġamazing Ġview Ġof Ġthe Ġcity Ġespecially Ġat Ġnight ĠOur Ġroom Ġwas Ġluxurious Ġwith Ġextremely Ġcomfortable Ġbeds ĠThere Ġwas Ġa Ġdesk Ġand Ġchair Ġlarge Ġbathroom Ġcomfortable Ġchair Ġand Ġreading Ġlamp ĠThere Ġwas Ġalso Ġan Ġarea Ġfor Ġsnacks Ġand Ġa Ġcoffee Ġmaker Ġthat Ġincluded ĠStarbucks Ġcoffee ĠWe Ġwould Ġdefinitely Ġcome Ġback Ġagain Ġ </s>\n",
              "y: CategoryList\n",
              "truthful,truthful,deceptive,deceptive,deceptive\n",
              "Path: .;\n",
              "\n",
              "Test: None"
            ]
          },
          "metadata": {},
          "execution_count": 189
        }
      ]
    },
    {
      "cell_type": "markdown",
      "metadata": {
        "id": "NbW8so22Ws5C"
      },
      "source": [
        "#### Model Building"
      ]
    },
    {
      "cell_type": "markdown",
      "metadata": {
        "id": "hm6fzxwScBAI"
      },
      "source": [
        "we will define the model architecture to pass to our Fastai learner. Essentially, we add a new final layer to the output of the RobertaModel. This layer will be trained specifically for the deceptive dataset sentiment classification."
      ]
    },
    {
      "cell_type": "code",
      "metadata": {
        "id": "MdfWJcsnRDoV"
      },
      "source": [
        "import torch.nn as nn\n",
        "from transformers import RobertaModel\n",
        "\n",
        "# defining our model architecture \n",
        "class CustomRobertaModel(nn.Module):\n",
        "    def __init__(self,num_labels=2):\n",
        "        super(CustomRobertaModel,self).__init__()\n",
        "        self.num_labels = num_labels\n",
        "        self.roberta = RobertaModel.from_pretrained(config.roberta_model_name)\n",
        "        self.dropout = nn.Dropout(config.hidden_dropout_prob)\n",
        "        self.classifier = nn.Linear(config.hidden_size, num_labels) # defining final output layer\n",
        "        \n",
        "    def forward(self, input_ids, token_type_ids=None, attention_mask=None, labels=None):\n",
        "        _ , pooled_output = self.roberta(input_ids, token_type_ids, attention_mask, return_dict=False) # \n",
        "        logits = self.classifier(pooled_output)        \n",
        "        return logits"
      ],
      "execution_count": null,
      "outputs": []
    },
    {
      "cell_type": "code",
      "metadata": {
        "id": "NKcfou-HRDsc",
        "colab": {
          "base_uri": "https://localhost:8080/"
        },
        "outputId": "382a7d45-dd9e-437b-8998-9cf13aa5088f"
      },
      "source": [
        "#Initialize the model\n",
        "roberta_model = CustomRobertaModel(num_labels=config.num_labels)\n",
        "\n",
        "learn = Learner(data, roberta_model, metrics=[accuracy])"
      ],
      "execution_count": null,
      "outputs": [
        {
          "output_type": "stream",
          "name": "stderr",
          "text": [
            "Some weights of the model checkpoint at roberta-base were not used when initializing RobertaModel: ['lm_head.layer_norm.weight', 'lm_head.layer_norm.bias', 'lm_head.dense.weight', 'lm_head.dense.bias', 'lm_head.bias', 'lm_head.decoder.weight']\n",
            "- This IS expected if you are initializing RobertaModel from the checkpoint of a model trained on another task or with another architecture (e.g. initializing a BertForSequenceClassification model from a BertForPreTraining model).\n",
            "- This IS NOT expected if you are initializing RobertaModel from the checkpoint of a model that you expect to be exactly identical (initializing a BertForSequenceClassification model from a BertForSequenceClassification model).\n"
          ]
        }
      ]
    },
    {
      "cell_type": "code",
      "metadata": {
        "id": "Wt5f1QlKRDwW",
        "colab": {
          "base_uri": "https://localhost:8080/",
          "height": 363
        },
        "outputId": "89d520df-bf51-4da9-aa73-fb781b6c9379"
      },
      "source": [
        "learn.model.roberta.train() # setting roberta to train as it is in eval mode by default\n",
        "learn.fit_one_cycle(config.epochs, max_lr=config.max_lr)"
      ],
      "execution_count": null,
      "outputs": [
        {
          "output_type": "display_data",
          "data": {
            "text/html": [
              "<table border=\"1\" class=\"dataframe\">\n",
              "  <thead>\n",
              "    <tr style=\"text-align: left;\">\n",
              "      <th>epoch</th>\n",
              "      <th>train_loss</th>\n",
              "      <th>valid_loss</th>\n",
              "      <th>accuracy</th>\n",
              "      <th>time</th>\n",
              "    </tr>\n",
              "  </thead>\n",
              "  <tbody>\n",
              "    <tr>\n",
              "      <td>0</td>\n",
              "      <td>0.694974</td>\n",
              "      <td>0.690989</td>\n",
              "      <td>0.568750</td>\n",
              "      <td>01:09</td>\n",
              "    </tr>\n",
              "    <tr>\n",
              "      <td>1</td>\n",
              "      <td>0.649215</td>\n",
              "      <td>0.757951</td>\n",
              "      <td>0.603125</td>\n",
              "      <td>01:10</td>\n",
              "    </tr>\n",
              "    <tr>\n",
              "      <td>2</td>\n",
              "      <td>0.425698</td>\n",
              "      <td>0.565541</td>\n",
              "      <td>0.715625</td>\n",
              "      <td>01:10</td>\n",
              "    </tr>\n",
              "    <tr>\n",
              "      <td>3</td>\n",
              "      <td>0.279230</td>\n",
              "      <td>0.394268</td>\n",
              "      <td>0.825000</td>\n",
              "      <td>01:10</td>\n",
              "    </tr>\n",
              "    <tr>\n",
              "      <td>4</td>\n",
              "      <td>0.153037</td>\n",
              "      <td>0.478175</td>\n",
              "      <td>0.837500</td>\n",
              "      <td>01:10</td>\n",
              "    </tr>\n",
              "    <tr>\n",
              "      <td>5</td>\n",
              "      <td>0.073154</td>\n",
              "      <td>0.420954</td>\n",
              "      <td>0.878125</td>\n",
              "      <td>01:10</td>\n",
              "    </tr>\n",
              "    <tr>\n",
              "      <td>6</td>\n",
              "      <td>0.026628</td>\n",
              "      <td>0.533001</td>\n",
              "      <td>0.865625</td>\n",
              "      <td>01:10</td>\n",
              "    </tr>\n",
              "    <tr>\n",
              "      <td>7</td>\n",
              "      <td>0.024873</td>\n",
              "      <td>0.836563</td>\n",
              "      <td>0.812500</td>\n",
              "      <td>01:10</td>\n",
              "    </tr>\n",
              "    <tr>\n",
              "      <td>8</td>\n",
              "      <td>0.010534</td>\n",
              "      <td>0.682923</td>\n",
              "      <td>0.837500</td>\n",
              "      <td>01:10</td>\n",
              "    </tr>\n",
              "    <tr>\n",
              "      <td>9</td>\n",
              "      <td>0.005967</td>\n",
              "      <td>0.688391</td>\n",
              "      <td>0.837500</td>\n",
              "      <td>01:10</td>\n",
              "    </tr>\n",
              "  </tbody>\n",
              "</table>"
            ],
            "text/plain": [
              "<IPython.core.display.HTML object>"
            ]
          },
          "metadata": {}
        }
      ]
    },
    {
      "cell_type": "code",
      "metadata": {
        "id": "JIQrYOZzRD3O",
        "colab": {
          "base_uri": "https://localhost:8080/"
        },
        "outputId": "bad6342a-f38d-4dcc-d6aa-ddde135a470e"
      },
      "source": [
        "learn.model.roberta.eval()"
      ],
      "execution_count": null,
      "outputs": [
        {
          "output_type": "execute_result",
          "data": {
            "text/plain": [
              "RobertaModel(\n",
              "  (embeddings): RobertaEmbeddings(\n",
              "    (word_embeddings): Embedding(50265, 768, padding_idx=1)\n",
              "    (position_embeddings): Embedding(514, 768, padding_idx=1)\n",
              "    (token_type_embeddings): Embedding(1, 768)\n",
              "    (LayerNorm): LayerNorm((768,), eps=1e-05, elementwise_affine=True)\n",
              "    (dropout): Dropout(p=0.1, inplace=False)\n",
              "  )\n",
              "  (encoder): RobertaEncoder(\n",
              "    (layer): ModuleList(\n",
              "      (0): RobertaLayer(\n",
              "        (attention): RobertaAttention(\n",
              "          (self): RobertaSelfAttention(\n",
              "            (query): Linear(in_features=768, out_features=768, bias=True)\n",
              "            (key): Linear(in_features=768, out_features=768, bias=True)\n",
              "            (value): Linear(in_features=768, out_features=768, bias=True)\n",
              "            (dropout): Dropout(p=0.1, inplace=False)\n",
              "          )\n",
              "          (output): RobertaSelfOutput(\n",
              "            (dense): Linear(in_features=768, out_features=768, bias=True)\n",
              "            (LayerNorm): LayerNorm((768,), eps=1e-05, elementwise_affine=True)\n",
              "            (dropout): Dropout(p=0.1, inplace=False)\n",
              "          )\n",
              "        )\n",
              "        (intermediate): RobertaIntermediate(\n",
              "          (dense): Linear(in_features=768, out_features=3072, bias=True)\n",
              "        )\n",
              "        (output): RobertaOutput(\n",
              "          (dense): Linear(in_features=3072, out_features=768, bias=True)\n",
              "          (LayerNorm): LayerNorm((768,), eps=1e-05, elementwise_affine=True)\n",
              "          (dropout): Dropout(p=0.1, inplace=False)\n",
              "        )\n",
              "      )\n",
              "      (1): RobertaLayer(\n",
              "        (attention): RobertaAttention(\n",
              "          (self): RobertaSelfAttention(\n",
              "            (query): Linear(in_features=768, out_features=768, bias=True)\n",
              "            (key): Linear(in_features=768, out_features=768, bias=True)\n",
              "            (value): Linear(in_features=768, out_features=768, bias=True)\n",
              "            (dropout): Dropout(p=0.1, inplace=False)\n",
              "          )\n",
              "          (output): RobertaSelfOutput(\n",
              "            (dense): Linear(in_features=768, out_features=768, bias=True)\n",
              "            (LayerNorm): LayerNorm((768,), eps=1e-05, elementwise_affine=True)\n",
              "            (dropout): Dropout(p=0.1, inplace=False)\n",
              "          )\n",
              "        )\n",
              "        (intermediate): RobertaIntermediate(\n",
              "          (dense): Linear(in_features=768, out_features=3072, bias=True)\n",
              "        )\n",
              "        (output): RobertaOutput(\n",
              "          (dense): Linear(in_features=3072, out_features=768, bias=True)\n",
              "          (LayerNorm): LayerNorm((768,), eps=1e-05, elementwise_affine=True)\n",
              "          (dropout): Dropout(p=0.1, inplace=False)\n",
              "        )\n",
              "      )\n",
              "      (2): RobertaLayer(\n",
              "        (attention): RobertaAttention(\n",
              "          (self): RobertaSelfAttention(\n",
              "            (query): Linear(in_features=768, out_features=768, bias=True)\n",
              "            (key): Linear(in_features=768, out_features=768, bias=True)\n",
              "            (value): Linear(in_features=768, out_features=768, bias=True)\n",
              "            (dropout): Dropout(p=0.1, inplace=False)\n",
              "          )\n",
              "          (output): RobertaSelfOutput(\n",
              "            (dense): Linear(in_features=768, out_features=768, bias=True)\n",
              "            (LayerNorm): LayerNorm((768,), eps=1e-05, elementwise_affine=True)\n",
              "            (dropout): Dropout(p=0.1, inplace=False)\n",
              "          )\n",
              "        )\n",
              "        (intermediate): RobertaIntermediate(\n",
              "          (dense): Linear(in_features=768, out_features=3072, bias=True)\n",
              "        )\n",
              "        (output): RobertaOutput(\n",
              "          (dense): Linear(in_features=3072, out_features=768, bias=True)\n",
              "          (LayerNorm): LayerNorm((768,), eps=1e-05, elementwise_affine=True)\n",
              "          (dropout): Dropout(p=0.1, inplace=False)\n",
              "        )\n",
              "      )\n",
              "      (3): RobertaLayer(\n",
              "        (attention): RobertaAttention(\n",
              "          (self): RobertaSelfAttention(\n",
              "            (query): Linear(in_features=768, out_features=768, bias=True)\n",
              "            (key): Linear(in_features=768, out_features=768, bias=True)\n",
              "            (value): Linear(in_features=768, out_features=768, bias=True)\n",
              "            (dropout): Dropout(p=0.1, inplace=False)\n",
              "          )\n",
              "          (output): RobertaSelfOutput(\n",
              "            (dense): Linear(in_features=768, out_features=768, bias=True)\n",
              "            (LayerNorm): LayerNorm((768,), eps=1e-05, elementwise_affine=True)\n",
              "            (dropout): Dropout(p=0.1, inplace=False)\n",
              "          )\n",
              "        )\n",
              "        (intermediate): RobertaIntermediate(\n",
              "          (dense): Linear(in_features=768, out_features=3072, bias=True)\n",
              "        )\n",
              "        (output): RobertaOutput(\n",
              "          (dense): Linear(in_features=3072, out_features=768, bias=True)\n",
              "          (LayerNorm): LayerNorm((768,), eps=1e-05, elementwise_affine=True)\n",
              "          (dropout): Dropout(p=0.1, inplace=False)\n",
              "        )\n",
              "      )\n",
              "      (4): RobertaLayer(\n",
              "        (attention): RobertaAttention(\n",
              "          (self): RobertaSelfAttention(\n",
              "            (query): Linear(in_features=768, out_features=768, bias=True)\n",
              "            (key): Linear(in_features=768, out_features=768, bias=True)\n",
              "            (value): Linear(in_features=768, out_features=768, bias=True)\n",
              "            (dropout): Dropout(p=0.1, inplace=False)\n",
              "          )\n",
              "          (output): RobertaSelfOutput(\n",
              "            (dense): Linear(in_features=768, out_features=768, bias=True)\n",
              "            (LayerNorm): LayerNorm((768,), eps=1e-05, elementwise_affine=True)\n",
              "            (dropout): Dropout(p=0.1, inplace=False)\n",
              "          )\n",
              "        )\n",
              "        (intermediate): RobertaIntermediate(\n",
              "          (dense): Linear(in_features=768, out_features=3072, bias=True)\n",
              "        )\n",
              "        (output): RobertaOutput(\n",
              "          (dense): Linear(in_features=3072, out_features=768, bias=True)\n",
              "          (LayerNorm): LayerNorm((768,), eps=1e-05, elementwise_affine=True)\n",
              "          (dropout): Dropout(p=0.1, inplace=False)\n",
              "        )\n",
              "      )\n",
              "      (5): RobertaLayer(\n",
              "        (attention): RobertaAttention(\n",
              "          (self): RobertaSelfAttention(\n",
              "            (query): Linear(in_features=768, out_features=768, bias=True)\n",
              "            (key): Linear(in_features=768, out_features=768, bias=True)\n",
              "            (value): Linear(in_features=768, out_features=768, bias=True)\n",
              "            (dropout): Dropout(p=0.1, inplace=False)\n",
              "          )\n",
              "          (output): RobertaSelfOutput(\n",
              "            (dense): Linear(in_features=768, out_features=768, bias=True)\n",
              "            (LayerNorm): LayerNorm((768,), eps=1e-05, elementwise_affine=True)\n",
              "            (dropout): Dropout(p=0.1, inplace=False)\n",
              "          )\n",
              "        )\n",
              "        (intermediate): RobertaIntermediate(\n",
              "          (dense): Linear(in_features=768, out_features=3072, bias=True)\n",
              "        )\n",
              "        (output): RobertaOutput(\n",
              "          (dense): Linear(in_features=3072, out_features=768, bias=True)\n",
              "          (LayerNorm): LayerNorm((768,), eps=1e-05, elementwise_affine=True)\n",
              "          (dropout): Dropout(p=0.1, inplace=False)\n",
              "        )\n",
              "      )\n",
              "      (6): RobertaLayer(\n",
              "        (attention): RobertaAttention(\n",
              "          (self): RobertaSelfAttention(\n",
              "            (query): Linear(in_features=768, out_features=768, bias=True)\n",
              "            (key): Linear(in_features=768, out_features=768, bias=True)\n",
              "            (value): Linear(in_features=768, out_features=768, bias=True)\n",
              "            (dropout): Dropout(p=0.1, inplace=False)\n",
              "          )\n",
              "          (output): RobertaSelfOutput(\n",
              "            (dense): Linear(in_features=768, out_features=768, bias=True)\n",
              "            (LayerNorm): LayerNorm((768,), eps=1e-05, elementwise_affine=True)\n",
              "            (dropout): Dropout(p=0.1, inplace=False)\n",
              "          )\n",
              "        )\n",
              "        (intermediate): RobertaIntermediate(\n",
              "          (dense): Linear(in_features=768, out_features=3072, bias=True)\n",
              "        )\n",
              "        (output): RobertaOutput(\n",
              "          (dense): Linear(in_features=3072, out_features=768, bias=True)\n",
              "          (LayerNorm): LayerNorm((768,), eps=1e-05, elementwise_affine=True)\n",
              "          (dropout): Dropout(p=0.1, inplace=False)\n",
              "        )\n",
              "      )\n",
              "      (7): RobertaLayer(\n",
              "        (attention): RobertaAttention(\n",
              "          (self): RobertaSelfAttention(\n",
              "            (query): Linear(in_features=768, out_features=768, bias=True)\n",
              "            (key): Linear(in_features=768, out_features=768, bias=True)\n",
              "            (value): Linear(in_features=768, out_features=768, bias=True)\n",
              "            (dropout): Dropout(p=0.1, inplace=False)\n",
              "          )\n",
              "          (output): RobertaSelfOutput(\n",
              "            (dense): Linear(in_features=768, out_features=768, bias=True)\n",
              "            (LayerNorm): LayerNorm((768,), eps=1e-05, elementwise_affine=True)\n",
              "            (dropout): Dropout(p=0.1, inplace=False)\n",
              "          )\n",
              "        )\n",
              "        (intermediate): RobertaIntermediate(\n",
              "          (dense): Linear(in_features=768, out_features=3072, bias=True)\n",
              "        )\n",
              "        (output): RobertaOutput(\n",
              "          (dense): Linear(in_features=3072, out_features=768, bias=True)\n",
              "          (LayerNorm): LayerNorm((768,), eps=1e-05, elementwise_affine=True)\n",
              "          (dropout): Dropout(p=0.1, inplace=False)\n",
              "        )\n",
              "      )\n",
              "      (8): RobertaLayer(\n",
              "        (attention): RobertaAttention(\n",
              "          (self): RobertaSelfAttention(\n",
              "            (query): Linear(in_features=768, out_features=768, bias=True)\n",
              "            (key): Linear(in_features=768, out_features=768, bias=True)\n",
              "            (value): Linear(in_features=768, out_features=768, bias=True)\n",
              "            (dropout): Dropout(p=0.1, inplace=False)\n",
              "          )\n",
              "          (output): RobertaSelfOutput(\n",
              "            (dense): Linear(in_features=768, out_features=768, bias=True)\n",
              "            (LayerNorm): LayerNorm((768,), eps=1e-05, elementwise_affine=True)\n",
              "            (dropout): Dropout(p=0.1, inplace=False)\n",
              "          )\n",
              "        )\n",
              "        (intermediate): RobertaIntermediate(\n",
              "          (dense): Linear(in_features=768, out_features=3072, bias=True)\n",
              "        )\n",
              "        (output): RobertaOutput(\n",
              "          (dense): Linear(in_features=3072, out_features=768, bias=True)\n",
              "          (LayerNorm): LayerNorm((768,), eps=1e-05, elementwise_affine=True)\n",
              "          (dropout): Dropout(p=0.1, inplace=False)\n",
              "        )\n",
              "      )\n",
              "      (9): RobertaLayer(\n",
              "        (attention): RobertaAttention(\n",
              "          (self): RobertaSelfAttention(\n",
              "            (query): Linear(in_features=768, out_features=768, bias=True)\n",
              "            (key): Linear(in_features=768, out_features=768, bias=True)\n",
              "            (value): Linear(in_features=768, out_features=768, bias=True)\n",
              "            (dropout): Dropout(p=0.1, inplace=False)\n",
              "          )\n",
              "          (output): RobertaSelfOutput(\n",
              "            (dense): Linear(in_features=768, out_features=768, bias=True)\n",
              "            (LayerNorm): LayerNorm((768,), eps=1e-05, elementwise_affine=True)\n",
              "            (dropout): Dropout(p=0.1, inplace=False)\n",
              "          )\n",
              "        )\n",
              "        (intermediate): RobertaIntermediate(\n",
              "          (dense): Linear(in_features=768, out_features=3072, bias=True)\n",
              "        )\n",
              "        (output): RobertaOutput(\n",
              "          (dense): Linear(in_features=3072, out_features=768, bias=True)\n",
              "          (LayerNorm): LayerNorm((768,), eps=1e-05, elementwise_affine=True)\n",
              "          (dropout): Dropout(p=0.1, inplace=False)\n",
              "        )\n",
              "      )\n",
              "      (10): RobertaLayer(\n",
              "        (attention): RobertaAttention(\n",
              "          (self): RobertaSelfAttention(\n",
              "            (query): Linear(in_features=768, out_features=768, bias=True)\n",
              "            (key): Linear(in_features=768, out_features=768, bias=True)\n",
              "            (value): Linear(in_features=768, out_features=768, bias=True)\n",
              "            (dropout): Dropout(p=0.1, inplace=False)\n",
              "          )\n",
              "          (output): RobertaSelfOutput(\n",
              "            (dense): Linear(in_features=768, out_features=768, bias=True)\n",
              "            (LayerNorm): LayerNorm((768,), eps=1e-05, elementwise_affine=True)\n",
              "            (dropout): Dropout(p=0.1, inplace=False)\n",
              "          )\n",
              "        )\n",
              "        (intermediate): RobertaIntermediate(\n",
              "          (dense): Linear(in_features=768, out_features=3072, bias=True)\n",
              "        )\n",
              "        (output): RobertaOutput(\n",
              "          (dense): Linear(in_features=3072, out_features=768, bias=True)\n",
              "          (LayerNorm): LayerNorm((768,), eps=1e-05, elementwise_affine=True)\n",
              "          (dropout): Dropout(p=0.1, inplace=False)\n",
              "        )\n",
              "      )\n",
              "      (11): RobertaLayer(\n",
              "        (attention): RobertaAttention(\n",
              "          (self): RobertaSelfAttention(\n",
              "            (query): Linear(in_features=768, out_features=768, bias=True)\n",
              "            (key): Linear(in_features=768, out_features=768, bias=True)\n",
              "            (value): Linear(in_features=768, out_features=768, bias=True)\n",
              "            (dropout): Dropout(p=0.1, inplace=False)\n",
              "          )\n",
              "          (output): RobertaSelfOutput(\n",
              "            (dense): Linear(in_features=768, out_features=768, bias=True)\n",
              "            (LayerNorm): LayerNorm((768,), eps=1e-05, elementwise_affine=True)\n",
              "            (dropout): Dropout(p=0.1, inplace=False)\n",
              "          )\n",
              "        )\n",
              "        (intermediate): RobertaIntermediate(\n",
              "          (dense): Linear(in_features=768, out_features=3072, bias=True)\n",
              "        )\n",
              "        (output): RobertaOutput(\n",
              "          (dense): Linear(in_features=3072, out_features=768, bias=True)\n",
              "          (LayerNorm): LayerNorm((768,), eps=1e-05, elementwise_affine=True)\n",
              "          (dropout): Dropout(p=0.1, inplace=False)\n",
              "        )\n",
              "      )\n",
              "    )\n",
              "  )\n",
              "  (pooler): RobertaPooler(\n",
              "    (dense): Linear(in_features=768, out_features=768, bias=True)\n",
              "    (activation): Tanh()\n",
              "  )\n",
              ")"
            ]
          },
          "metadata": {},
          "execution_count": 193
        }
      ]
    },
    {
      "cell_type": "code",
      "metadata": {
        "id": "0Q4iMrslRD6c",
        "colab": {
          "base_uri": "https://localhost:8080/",
          "height": 501
        },
        "outputId": "51a58b39-3092-4361-fe60-9aac48cee2b7"
      },
      "source": [
        "learn.show_results()"
      ],
      "execution_count": null,
      "outputs": [
        {
          "output_type": "display_data",
          "data": {
            "text/html": [
              "<table border=\"1\" class=\"dataframe\">\n",
              "  <thead>\n",
              "    <tr style=\"text-align: right;\">\n",
              "      <th>text</th>\n",
              "      <th>target</th>\n",
              "      <th>prediction</th>\n",
              "    </tr>\n",
              "  </thead>\n",
              "  <tbody>\n",
              "    <tr>\n",
              "      <td>&lt;s&gt; My Ġfiance Ġand ĠI Ġtraveled Ġto ĠChicago Ġfor Ġthe Ġfirst Ġtime Ġthis ĠDecember Ġand Ġwe Ġwere Ġnot Ġhappy Ġwith Ġthis Ġhotel ĠThe Ġfriend liest Ġpeople Ġon Ġthe Ġstaff Ġwere Ġthe Ġbell Ġboys ĠThey Ġgreeted Ġus Ġwith Ġa Ġsmile Ġand Ġgave Ġus Ġlots Ġof Ġgreat Ġadvice Ġthroughout Ġour Ġstay ĠThe Ġrest Ġof Ġthe Ġstaff Ġhowever Ġwas Ġterrible ĠWhen Ġwe Ġfirst Ġchecked Ġin ĠI Ġwas Ġinstantly Ġdiscouraged ĠThe Ġfront Ġdesk Ġperson</td>\n",
              "      <td>truthful</td>\n",
              "      <td>deceptive</td>\n",
              "    </tr>\n",
              "    <tr>\n",
              "      <td>&lt;s&gt; Just Ġwanted Ġto Ġlet Ġeveryone Ġknow Ġif Ġyou Ġare Ġlooking Ġfor Ġa Ġhotel Ġwith Ġhigh Ġrise Ġconstruction Ġnext Ġdoor Ġthe ĠSwiss ot el ĠChicago Ġis Ġthe Ġone Ġfor Ġyou ĠMy Ġwife Ġand ĠI Ġwent Ġthere Ġlast Ġyear Ġand Ġthere Ġwas Ġjust Ġan Ġempty Ġlot Ġnext Ġdoor Ġthis Ġyear Ġthere Ġis Ġa Ġloud Ġconstruction Ġsite Ġnext Ġdoor ĠSo Ġam ĠSaturday Ġmorning Ġyou Ġwill Ġhear Ġthe Ġworkers Ġstarting ĠI Ġam Ġsure</td>\n",
              "      <td>truthful</td>\n",
              "      <td>truthful</td>\n",
              "    </tr>\n",
              "    <tr>\n",
              "      <td>&lt;s&gt; Imagine Ġflying Ġto Ġthe Ġwind y Ġcity Ġfor Ġbusiness ĠAfter Ġa Ġlong Ġflight Ġwith Ġmany Ġdelays Ġyou Ġget Ġa Ġcab Ġto Ġyour Ġhotel Ġthe Ġmuch Ġhyp ed ĠConrad ĠYou Ġve Ġbeen Ġexpecting Ġto Ġfall Ġinto Ġa Ġsoft Ġbed Ġwith Ġa Ġlovely Ġview Ġof Ġthe ĠChicago Ġskyline Ġout Ġyour Ġwindow ĠThat Ġs Ġexactly Ġhow ĠI Ġimagined Ġit Ġafter Ġmy Ġdelayed Ġflight Ġand Ġterrible Ġcab Ġride ĠThat Ġs Ġthe Ġopposite Ġof</td>\n",
              "      <td>deceptive</td>\n",
              "      <td>deceptive</td>\n",
              "    </tr>\n",
              "    <tr>\n",
              "      <td>&lt;s&gt; I Ġreally Ġwish ĠI Ġcould Ġsay Ġthat ĠI Ġliked Ġthis Ġhotel Ġbut Ġthe Ġwhole Ġexperience Ġwas Ġjust Ġplain Ġawful ĠMy Ġfirst Ġwarning Ġsign Ġshould Ġhave Ġbeen Ġwhen ĠI Ġmade Ġmy Ġreservation ĠThe Ġperson ĠI Ġspoke Ġwith Ġwhen Ġplacing Ġmy Ġreservation Ġhad Ġabsolutely Ġno Ġidea Ġwhat Ġhe Ġwas Ġdoing ĠAt Ġfirst Ġhe Ġtried Ġto Ġbook Ġme Ġinto Ġthe Ġwrong Ġhotel Ġand Ġthen Ġwhen Ġwe Ġfinally Ġgot Ġit Ġsorted Ġwhich Ġhotel</td>\n",
              "      <td>deceptive</td>\n",
              "      <td>deceptive</td>\n",
              "    </tr>\n",
              "    <tr>\n",
              "      <td>&lt;s&gt; Am alf i ĠHotel ĠChicago Ġhas Ġseveral Ġfactors Ġthat Ġmake Ġit Ġone Ġof Ġthe Ġbest Ġhotels Ġin Ġthe Ġch icago Ġarea Ġand Ġan Ġexperience Ġyou Ġwill Ġnot Ġforget Ġin Ġa Ġlong Ġtime ĠIts Ġproximity Ġto Ġsome Ġof Ġthe Ġbest Ġspots Ġin ĠChicago Ġmakes Ġit Ġa Ġvisitor Ġs Ġdelight ĠIt Ġis Ġclose Ġto Ġthe ĠMagn ific ient ĠMile Ġwhich Ġis Ġthe Ġshopping Ġarea Ġit Ġis Ġalso Ġclose Ġto Ġthe ĠLoop</td>\n",
              "      <td>deceptive</td>\n",
              "      <td>deceptive</td>\n",
              "    </tr>\n",
              "  </tbody>\n",
              "</table>"
            ],
            "text/plain": [
              "<IPython.core.display.HTML object>"
            ]
          },
          "metadata": {}
        }
      ]
    },
    {
      "cell_type": "code",
      "metadata": {
        "id": "CWiSj0KZRD-Q",
        "colab": {
          "base_uri": "https://localhost:8080/",
          "height": 17
        },
        "outputId": "7f08b5e1-6fe7-40a0-f61b-f1865ac26181"
      },
      "source": [
        "preds, target = learn.get_preds()"
      ],
      "execution_count": null,
      "outputs": [
        {
          "output_type": "display_data",
          "data": {
            "text/html": [
              ""
            ],
            "text/plain": [
              "<IPython.core.display.HTML object>"
            ]
          },
          "metadata": {}
        }
      ]
    },
    {
      "cell_type": "code",
      "metadata": {
        "id": "KZfdspSYRECV",
        "colab": {
          "base_uri": "https://localhost:8080/"
        },
        "outputId": "f17923cf-3b3a-443a-88cf-ddb08f844a95"
      },
      "source": [
        "preds"
      ],
      "execution_count": null,
      "outputs": [
        {
          "output_type": "execute_result",
          "data": {
            "text/plain": [
              "tensor([[9.9835e-01, 1.6534e-03],\n",
              "        [4.6305e-03, 9.9537e-01],\n",
              "        [9.9911e-01, 8.9035e-04],\n",
              "        [9.9924e-01, 7.5517e-04],\n",
              "        [9.9907e-01, 9.2947e-04],\n",
              "        [9.9953e-01, 4.6724e-04],\n",
              "        [1.1029e-03, 9.9890e-01],\n",
              "        [6.3480e-04, 9.9937e-01],\n",
              "        [9.9962e-01, 3.7774e-04],\n",
              "        [5.5357e-04, 9.9945e-01],\n",
              "        [1.0690e-03, 9.9893e-01],\n",
              "        [1.0679e-03, 9.9893e-01],\n",
              "        [9.9962e-01, 3.7739e-04],\n",
              "        [9.9773e-01, 2.2731e-03],\n",
              "        [9.9954e-01, 4.5695e-04],\n",
              "        [9.7966e-01, 2.0335e-02],\n",
              "        [5.1131e-03, 9.9489e-01],\n",
              "        [9.6284e-01, 3.7160e-02],\n",
              "        [9.8134e-01, 1.8657e-02],\n",
              "        [9.9961e-01, 3.8829e-04],\n",
              "        [9.9946e-01, 5.3993e-04],\n",
              "        [9.9960e-01, 4.0050e-04],\n",
              "        [5.2253e-04, 9.9948e-01],\n",
              "        [9.9964e-01, 3.6462e-04],\n",
              "        [9.9949e-01, 5.1231e-04],\n",
              "        [9.6383e-01, 3.6172e-02],\n",
              "        [5.5403e-04, 9.9945e-01],\n",
              "        [4.8709e-04, 9.9951e-01],\n",
              "        [1.5441e-02, 9.8456e-01],\n",
              "        [8.1870e-01, 1.8130e-01],\n",
              "        [5.7993e-04, 9.9942e-01],\n",
              "        [9.9857e-01, 1.4315e-03],\n",
              "        [9.9885e-01, 1.1450e-03],\n",
              "        [7.2094e-04, 9.9928e-01],\n",
              "        [6.3626e-04, 9.9936e-01],\n",
              "        [7.9710e-01, 2.0290e-01],\n",
              "        [9.9878e-01, 1.2175e-03],\n",
              "        [8.5003e-04, 9.9915e-01],\n",
              "        [6.7012e-04, 9.9933e-01],\n",
              "        [9.9939e-01, 6.0562e-04],\n",
              "        [4.6699e-04, 9.9953e-01],\n",
              "        [9.9964e-01, 3.5617e-04],\n",
              "        [9.9899e-01, 1.0141e-03],\n",
              "        [9.9895e-01, 1.0489e-03],\n",
              "        [9.9931e-01, 6.9491e-04],\n",
              "        [9.9949e-01, 5.0950e-04],\n",
              "        [6.6105e-04, 9.9934e-01],\n",
              "        [3.9708e-02, 9.6029e-01],\n",
              "        [3.6714e-03, 9.9633e-01],\n",
              "        [9.5217e-04, 9.9905e-01],\n",
              "        [9.9962e-01, 3.8377e-04],\n",
              "        [1.0384e-01, 8.9616e-01],\n",
              "        [9.9951e-01, 4.8551e-04],\n",
              "        [7.5867e-04, 9.9924e-01],\n",
              "        [9.9960e-01, 3.9515e-04],\n",
              "        [1.1033e-03, 9.9890e-01],\n",
              "        [9.9949e-01, 5.1447e-04],\n",
              "        [9.9937e-01, 6.2817e-04],\n",
              "        [5.6076e-01, 4.3924e-01],\n",
              "        [9.9931e-01, 6.8761e-04],\n",
              "        [9.9959e-01, 4.1329e-04],\n",
              "        [9.9721e-01, 2.7947e-03],\n",
              "        [6.4791e-04, 9.9935e-01],\n",
              "        [4.8592e-03, 9.9514e-01],\n",
              "        [9.9959e-01, 4.1056e-04],\n",
              "        [5.7385e-01, 4.2615e-01],\n",
              "        [3.9852e-03, 9.9601e-01],\n",
              "        [9.9926e-01, 7.3597e-04],\n",
              "        [9.9953e-01, 4.6709e-04],\n",
              "        [9.9966e-01, 3.3688e-04],\n",
              "        [1.7554e-01, 8.2446e-01],\n",
              "        [9.9771e-01, 2.2913e-03],\n",
              "        [9.9958e-01, 4.2307e-04],\n",
              "        [8.4177e-04, 9.9916e-01],\n",
              "        [8.7861e-03, 9.9121e-01],\n",
              "        [9.4758e-01, 5.2415e-02],\n",
              "        [1.8889e-02, 9.8111e-01],\n",
              "        [7.8555e-01, 2.1445e-01],\n",
              "        [9.9962e-01, 3.8290e-04],\n",
              "        [1.0716e-03, 9.9893e-01],\n",
              "        [9.9933e-01, 6.7056e-04],\n",
              "        [1.7214e-02, 9.8279e-01],\n",
              "        [9.9954e-01, 4.5671e-04],\n",
              "        [9.9958e-01, 4.2150e-04],\n",
              "        [9.9954e-01, 4.5663e-04],\n",
              "        [9.9938e-01, 6.1881e-04],\n",
              "        [9.9924e-01, 7.5721e-04],\n",
              "        [7.1318e-04, 9.9929e-01],\n",
              "        [1.0576e-02, 9.8942e-01],\n",
              "        [8.9436e-03, 9.9106e-01],\n",
              "        [1.6098e-01, 8.3902e-01],\n",
              "        [9.9951e-01, 4.8684e-04],\n",
              "        [9.9948e-01, 5.2243e-04],\n",
              "        [8.4142e-03, 9.9159e-01],\n",
              "        [9.9967e-01, 3.2769e-04],\n",
              "        [6.1573e-04, 9.9938e-01],\n",
              "        [9.9944e-01, 5.5940e-04],\n",
              "        [9.9806e-01, 1.9436e-03],\n",
              "        [9.9944e-01, 5.5552e-04],\n",
              "        [6.0423e-03, 9.9396e-01],\n",
              "        [5.6417e-03, 9.9436e-01],\n",
              "        [5.1645e-04, 9.9948e-01],\n",
              "        [9.8829e-01, 1.1710e-02],\n",
              "        [9.9900e-01, 1.0049e-03],\n",
              "        [9.9914e-01, 8.5825e-04],\n",
              "        [9.8760e-01, 1.2397e-02],\n",
              "        [9.9919e-01, 8.0925e-04],\n",
              "        [1.0962e-01, 8.9038e-01],\n",
              "        [6.3353e-04, 9.9937e-01],\n",
              "        [7.2924e-01, 2.7076e-01],\n",
              "        [1.6642e-03, 9.9834e-01],\n",
              "        [7.5618e-04, 9.9924e-01],\n",
              "        [9.9955e-01, 4.4772e-04],\n",
              "        [9.9965e-01, 3.4747e-04],\n",
              "        [9.9959e-01, 4.1426e-04],\n",
              "        [4.4478e-01, 5.5522e-01],\n",
              "        [4.4498e-04, 9.9956e-01],\n",
              "        [9.9961e-01, 3.9155e-04],\n",
              "        [9.9948e-01, 5.1964e-04],\n",
              "        [9.9954e-01, 4.6175e-04],\n",
              "        [9.9797e-01, 2.0291e-03],\n",
              "        [4.7641e-03, 9.9524e-01],\n",
              "        [9.9935e-01, 6.5065e-04],\n",
              "        [9.9952e-01, 4.7829e-04],\n",
              "        [9.9958e-01, 4.2271e-04],\n",
              "        [9.9955e-01, 4.5144e-04],\n",
              "        [9.9963e-01, 3.7134e-04],\n",
              "        [6.9192e-04, 9.9931e-01],\n",
              "        [5.4584e-04, 9.9945e-01],\n",
              "        [1.0321e-01, 8.9679e-01],\n",
              "        [7.1873e-02, 9.2813e-01],\n",
              "        [4.3577e-04, 9.9956e-01],\n",
              "        [9.9914e-01, 8.6240e-04],\n",
              "        [9.9944e-01, 5.6029e-04],\n",
              "        [6.0510e-03, 9.9395e-01],\n",
              "        [2.5076e-03, 9.9749e-01],\n",
              "        [9.9948e-01, 5.1779e-04],\n",
              "        [4.5839e-02, 9.5416e-01],\n",
              "        [1.4195e-03, 9.9858e-01],\n",
              "        [9.9960e-01, 3.9814e-04],\n",
              "        [9.9911e-01, 8.9296e-04],\n",
              "        [1.0127e-03, 9.9899e-01],\n",
              "        [8.6704e-04, 9.9913e-01],\n",
              "        [9.9591e-01, 4.0881e-03],\n",
              "        [9.9587e-01, 4.1308e-03],\n",
              "        [9.9658e-01, 3.4164e-03],\n",
              "        [1.4718e-01, 8.5282e-01],\n",
              "        [9.9944e-01, 5.5955e-04],\n",
              "        [9.9960e-01, 3.9907e-04],\n",
              "        [1.5040e-03, 9.9850e-01],\n",
              "        [9.9966e-01, 3.3709e-04],\n",
              "        [3.3920e-01, 6.6080e-01],\n",
              "        [4.9013e-01, 5.0987e-01],\n",
              "        [9.6004e-04, 9.9904e-01],\n",
              "        [6.7075e-02, 9.3292e-01],\n",
              "        [9.9961e-01, 3.9209e-04],\n",
              "        [5.7683e-03, 9.9423e-01],\n",
              "        [9.6972e-01, 3.0282e-02],\n",
              "        [5.1571e-04, 9.9948e-01],\n",
              "        [1.0347e-03, 9.9897e-01],\n",
              "        [3.8623e-02, 9.6138e-01],\n",
              "        [9.9573e-01, 4.2729e-03],\n",
              "        [9.9953e-01, 4.7471e-04],\n",
              "        [5.5231e-04, 9.9945e-01],\n",
              "        [1.4173e-03, 9.9858e-01],\n",
              "        [9.9948e-01, 5.1649e-04],\n",
              "        [7.0169e-04, 9.9930e-01],\n",
              "        [9.9427e-01, 5.7258e-03],\n",
              "        [9.9946e-01, 5.3663e-04],\n",
              "        [9.9941e-01, 5.9131e-04],\n",
              "        [5.7547e-04, 9.9942e-01],\n",
              "        [9.9938e-01, 6.1950e-04],\n",
              "        [9.9951e-01, 4.8549e-04],\n",
              "        [9.9938e-01, 6.1582e-04],\n",
              "        [9.9963e-01, 3.7417e-04],\n",
              "        [9.9961e-01, 3.9091e-04],\n",
              "        [8.1999e-04, 9.9918e-01],\n",
              "        [7.7553e-04, 9.9922e-01],\n",
              "        [9.9941e-01, 5.8865e-04],\n",
              "        [6.6682e-04, 9.9933e-01],\n",
              "        [5.5122e-04, 9.9945e-01],\n",
              "        [9.9961e-01, 3.9324e-04],\n",
              "        [9.9945e-01, 5.4510e-04],\n",
              "        [9.9961e-01, 3.9464e-04],\n",
              "        [9.2680e-01, 7.3204e-02],\n",
              "        [9.9957e-01, 4.3184e-04],\n",
              "        [2.1662e-01, 7.8338e-01],\n",
              "        [3.9440e-03, 9.9606e-01],\n",
              "        [9.9940e-01, 6.0452e-04],\n",
              "        [9.9947e-01, 5.2632e-04],\n",
              "        [6.7711e-04, 9.9932e-01],\n",
              "        [9.9743e-01, 2.5736e-03],\n",
              "        [1.1323e-03, 9.9887e-01],\n",
              "        [9.9697e-01, 3.0284e-03],\n",
              "        [9.9954e-01, 4.5853e-04],\n",
              "        [9.9952e-01, 4.8380e-04],\n",
              "        [9.9949e-01, 5.1033e-04],\n",
              "        [9.8985e-01, 1.0149e-02],\n",
              "        [4.9203e-04, 9.9951e-01],\n",
              "        [2.2318e-03, 9.9777e-01],\n",
              "        [9.9953e-01, 4.6993e-04],\n",
              "        [9.9961e-01, 3.9159e-04],\n",
              "        [9.6943e-01, 3.0565e-02],\n",
              "        [9.9925e-01, 7.5050e-04],\n",
              "        [7.2096e-03, 9.9279e-01],\n",
              "        [1.9369e-03, 9.9806e-01],\n",
              "        [5.2352e-04, 9.9948e-01],\n",
              "        [9.9954e-01, 4.5973e-04],\n",
              "        [5.5268e-04, 9.9945e-01],\n",
              "        [9.9945e-01, 5.4631e-04],\n",
              "        [1.6508e-03, 9.9835e-01],\n",
              "        [9.9962e-01, 3.7748e-04],\n",
              "        [9.9961e-01, 3.8881e-04],\n",
              "        [2.2912e-01, 7.7088e-01],\n",
              "        [7.3060e-03, 9.9269e-01],\n",
              "        [4.1397e-01, 5.8603e-01],\n",
              "        [5.0302e-04, 9.9950e-01],\n",
              "        [9.9949e-01, 5.1398e-04],\n",
              "        [9.9948e-01, 5.1563e-04],\n",
              "        [5.8240e-04, 9.9942e-01],\n",
              "        [6.5072e-04, 9.9935e-01],\n",
              "        [9.2006e-04, 9.9908e-01],\n",
              "        [7.5359e-03, 9.9246e-01],\n",
              "        [9.9960e-01, 3.9750e-04],\n",
              "        [9.9956e-01, 4.3506e-04],\n",
              "        [9.9863e-01, 1.3653e-03],\n",
              "        [9.9005e-01, 9.9531e-03],\n",
              "        [5.4977e-04, 9.9945e-01],\n",
              "        [9.9940e-01, 6.0104e-04],\n",
              "        [6.5359e-03, 9.9346e-01],\n",
              "        [4.7304e-03, 9.9527e-01],\n",
              "        [9.9955e-01, 4.4565e-04],\n",
              "        [9.9927e-01, 7.3430e-04],\n",
              "        [9.9967e-01, 3.3344e-04],\n",
              "        [9.9490e-01, 5.1038e-03],\n",
              "        [9.3132e-02, 9.0687e-01],\n",
              "        [9.9960e-01, 3.9900e-04],\n",
              "        [1.6421e-03, 9.9836e-01],\n",
              "        [9.9954e-01, 4.5639e-04],\n",
              "        [5.3696e-04, 9.9946e-01],\n",
              "        [5.2349e-01, 4.7651e-01],\n",
              "        [9.3587e-01, 6.4132e-02],\n",
              "        [1.1975e-03, 9.9880e-01],\n",
              "        [6.1709e-04, 9.9938e-01],\n",
              "        [9.9964e-01, 3.6404e-04],\n",
              "        [1.1176e-01, 8.8824e-01],\n",
              "        [5.0397e-02, 9.4960e-01],\n",
              "        [5.5878e-04, 9.9944e-01],\n",
              "        [6.1638e-03, 9.9384e-01],\n",
              "        [9.9960e-01, 4.0014e-04],\n",
              "        [9.9636e-01, 3.6388e-03],\n",
              "        [6.8503e-04, 9.9932e-01],\n",
              "        [4.4092e-04, 9.9956e-01],\n",
              "        [4.0754e-01, 5.9246e-01],\n",
              "        [9.7022e-01, 2.9785e-02],\n",
              "        [9.9945e-01, 5.5318e-04],\n",
              "        [9.7400e-01, 2.5999e-02],\n",
              "        [9.9959e-01, 4.1017e-04],\n",
              "        [9.9894e-01, 1.0575e-03],\n",
              "        [9.8968e-01, 1.0321e-02],\n",
              "        [9.9914e-01, 8.6118e-04],\n",
              "        [3.1145e-01, 6.8855e-01],\n",
              "        [9.9954e-01, 4.6334e-04],\n",
              "        [8.1117e-04, 9.9919e-01],\n",
              "        [8.8068e-03, 9.9119e-01],\n",
              "        [9.9849e-01, 1.5109e-03],\n",
              "        [1.8901e-02, 9.8110e-01],\n",
              "        [8.9126e-04, 9.9911e-01],\n",
              "        [9.9417e-01, 5.8278e-03],\n",
              "        [9.9958e-01, 4.1541e-04],\n",
              "        [9.9739e-01, 2.6129e-03],\n",
              "        [9.9949e-01, 5.0905e-04],\n",
              "        [1.6812e-01, 8.3188e-01],\n",
              "        [9.9953e-01, 4.7460e-04],\n",
              "        [1.0058e-03, 9.9899e-01],\n",
              "        [2.3586e-02, 9.7641e-01],\n",
              "        [9.9960e-01, 3.9510e-04],\n",
              "        [9.9910e-01, 8.9878e-04],\n",
              "        [4.4196e-01, 5.5804e-01],\n",
              "        [1.9924e-03, 9.9801e-01],\n",
              "        [9.9952e-01, 4.8200e-04],\n",
              "        [5.3050e-01, 4.6950e-01],\n",
              "        [9.9550e-01, 4.4987e-03],\n",
              "        [9.9950e-01, 4.9864e-04],\n",
              "        [5.3260e-01, 4.6740e-01],\n",
              "        [8.1277e-04, 9.9919e-01],\n",
              "        [9.9615e-01, 3.8481e-03],\n",
              "        [9.9959e-01, 4.0967e-04],\n",
              "        [9.9525e-01, 4.7513e-03],\n",
              "        [9.9906e-01, 9.3780e-04],\n",
              "        [8.7781e-04, 9.9912e-01],\n",
              "        [8.9020e-04, 9.9911e-01],\n",
              "        [9.9899e-01, 1.0056e-03],\n",
              "        [7.4917e-01, 2.5083e-01],\n",
              "        [9.9928e-01, 7.1939e-04],\n",
              "        [9.9185e-01, 8.1509e-03],\n",
              "        [7.4173e-01, 2.5827e-01],\n",
              "        [9.9942e-01, 5.7884e-04],\n",
              "        [9.9961e-01, 3.9207e-04],\n",
              "        [9.9927e-01, 7.3187e-04],\n",
              "        [6.2536e-04, 9.9937e-01],\n",
              "        [9.9532e-01, 4.6762e-03],\n",
              "        [3.7100e-02, 9.6290e-01],\n",
              "        [7.7855e-04, 9.9922e-01],\n",
              "        [9.9951e-01, 4.8600e-04],\n",
              "        [9.9754e-01, 2.4612e-03],\n",
              "        [1.1359e-03, 9.9886e-01],\n",
              "        [2.8523e-01, 7.1477e-01],\n",
              "        [7.2108e-04, 9.9928e-01],\n",
              "        [9.1289e-01, 8.7105e-02],\n",
              "        [2.1487e-02, 9.7851e-01],\n",
              "        [6.7241e-02, 9.3276e-01],\n",
              "        [1.1587e-03, 9.9884e-01],\n",
              "        [8.7399e-04, 9.9913e-01],\n",
              "        [9.9781e-01, 2.1855e-03],\n",
              "        [7.1957e-02, 9.2804e-01],\n",
              "        [2.2159e-03, 9.9778e-01],\n",
              "        [9.9881e-01, 1.1855e-03],\n",
              "        [1.3725e-02, 9.8628e-01],\n",
              "        [9.9698e-01, 3.0153e-03]])"
            ]
          },
          "metadata": {},
          "execution_count": 196
        }
      ]
    },
    {
      "cell_type": "code",
      "metadata": {
        "id": "9sb5_-LvREGF",
        "colab": {
          "base_uri": "https://localhost:8080/"
        },
        "outputId": "5ade3d25-67d1-470f-8bba-440214d28ff5"
      },
      "source": [
        "target"
      ],
      "execution_count": null,
      "outputs": [
        {
          "output_type": "execute_result",
          "data": {
            "text/plain": [
              "tensor([1, 1, 0, 0, 0, 0, 1, 1, 0, 1, 1, 1, 0, 0, 0, 1, 1, 1, 1, 0, 0, 0, 1, 0,\n",
              "        0, 0, 1, 1, 1, 1, 1, 1, 0, 1, 1, 0, 1, 1, 1, 0, 1, 0, 0, 0, 0, 0, 1, 1,\n",
              "        1, 1, 0, 1, 0, 1, 0, 1, 0, 0, 1, 0, 0, 0, 1, 1, 0, 1, 1, 0, 0, 0, 1, 0,\n",
              "        0, 1, 1, 1, 1, 1, 0, 1, 0, 1, 0, 0, 0, 1, 0, 1, 1, 1, 1, 0, 0, 1, 0, 1,\n",
              "        0, 1, 0, 1, 1, 1, 1, 1, 0, 1, 0, 1, 1, 1, 1, 1, 0, 0, 0, 1, 1, 0, 0, 0,\n",
              "        1, 1, 0, 0, 0, 0, 0, 1, 1, 1, 1, 1, 1, 0, 1, 1, 0, 1, 1, 0, 0, 1, 1, 0,\n",
              "        0, 0, 1, 0, 0, 1, 0, 1, 0, 1, 1, 0, 1, 1, 1, 1, 1, 1, 0, 1, 1, 0, 1, 0,\n",
              "        0, 0, 1, 0, 0, 0, 0, 0, 1, 1, 0, 1, 1, 0, 0, 0, 1, 0, 1, 1, 0, 0, 1, 1,\n",
              "        1, 0, 0, 0, 0, 0, 1, 1, 0, 0, 0, 0, 1, 1, 1, 0, 1, 0, 1, 0, 0, 1, 1, 1,\n",
              "        1, 0, 0, 1, 1, 1, 1, 0, 0, 0, 1, 1, 0, 0, 1, 0, 0, 0, 1, 1, 0, 1, 0, 1,\n",
              "        1, 1, 1, 1, 0, 1, 1, 1, 1, 0, 1, 1, 1, 1, 1, 0, 1, 0, 1, 1, 1, 1, 0, 1,\n",
              "        1, 0, 1, 1, 0, 0, 1, 0, 0, 0, 1, 1, 0, 0, 0, 1, 0, 1, 1, 0, 1, 1, 1, 0,\n",
              "        1, 0, 1, 1, 0, 1, 1, 0, 1, 0, 0, 0, 1, 1, 0, 1, 0, 0, 0, 1, 1, 1, 0, 1,\n",
              "        1, 1, 0, 1, 0, 0, 1, 0])"
            ]
          },
          "metadata": {},
          "execution_count": 197
        }
      ]
    },
    {
      "cell_type": "code",
      "metadata": {
        "id": "YrBW9YKmREJH",
        "colab": {
          "base_uri": "https://localhost:8080/",
          "height": 17
        },
        "outputId": "154e482b-50df-4238-f200-f2d11793baef"
      },
      "source": [
        "interpretations = ClassificationInterpretation.from_learner(learn)"
      ],
      "execution_count": null,
      "outputs": [
        {
          "output_type": "display_data",
          "data": {
            "text/html": [
              ""
            ],
            "text/plain": [
              "<IPython.core.display.HTML object>"
            ]
          },
          "metadata": {}
        }
      ]
    },
    {
      "cell_type": "code",
      "metadata": {
        "id": "4h-K53GCREMO",
        "colab": {
          "base_uri": "https://localhost:8080/",
          "height": 311
        },
        "outputId": "98319235-4b57-417c-fe02-0b43b29ba272"
      },
      "source": [
        "interpretations.plot_confusion_matrix()"
      ],
      "execution_count": null,
      "outputs": [
        {
          "output_type": "display_data",
          "data": {
            "image/png": "[encoded data removed]",
            "text/plain": [
              "<Figure size 432x288 with 1 Axes>"
            ]
          },
          "metadata": {
            "needs_background": "light"
          }
        }
      ]
    },
    {
      "cell_type": "markdown",
      "metadata": {
        "id": "bv94pJyGcdsP"
      },
      "source": [
        "### Accuracy of Roberta model is 84%"
      ]
    },
    {
      "cell_type": "code",
      "metadata": {
        "id": "sVvMMPrYREPl"
      },
      "source": [
        "y_test = list(target.numpy())\n",
        "y_pred = preds.numpy()[:,1]"
      ],
      "execution_count": null,
      "outputs": []
    },
    {
      "cell_type": "code",
      "metadata": {
        "id": "l_1t2pU7diU1"
      },
      "source": [
        "from sklearn.metrics import  confusion_matrix, classification_report, accuracy_score\n",
        "print(classification_report(y_test, y_pred))\n",
        "print(confusion_matrix(y_test, y_pred))\n",
        "print(accuracy_score(y_test, y_pred))"
      ],
      "execution_count": null,
      "outputs": []
    },
    {
      "cell_type": "code",
      "metadata": {
        "id": "RnUaD1XxRETj",
        "colab": {
          "base_uri": "https://localhost:8080/"
        },
        "outputId": "f8555299-dd28-45cb-8df3-4f26787cfe1f"
      },
      "source": [
        "import matplotlib.pyplot as plt \n",
        "from sklearn.metrics import roc_curve, auc\n",
        "fpr, tpr, thresholds = roc_curve(y_test, y_pred)\n",
        "auc_score = auc(fpr, tpr)\n",
        "auc_score"
      ],
      "execution_count": null,
      "outputs": [
        {
          "output_type": "execute_result",
          "data": {
            "text/plain": [
              "0.9626436781609196"
            ]
          },
          "metadata": {},
          "execution_count": 201
        }
      ]
    },
    {
      "cell_type": "code",
      "metadata": {
        "id": "JBh9NpbgR0N-",
        "colab": {
          "base_uri": "https://localhost:8080/",
          "height": 313
        },
        "outputId": "d5735b64-5c40-45a0-ff54-6a4acad0e13e"
      },
      "source": [
        "plt.plot([0,1], [0, 1], 'k--')\n",
        "plt.plot(fpr, tpr, label = 'Area = {:.3f}'.format(auc_score))\n",
        "plt.xlabel('False positive rate')\n",
        "plt.ylabel('True positive rate')\n",
        "plt.title('ROC curve of RoBERTa')\n",
        "plt.legend(loc='best')\n",
        "plt.show()\n",
        "plt.savefig('binary.png')"
      ],
      "execution_count": null,
      "outputs": [
        {
          "output_type": "display_data",
          "data": {
            "image/png": "[encoded data removed]",
            "text/plain": [
              "<Figure size 432x288 with 1 Axes>"
            ]
          },
          "metadata": {
            "needs_background": "light"
          }
        },
        {
          "output_type": "display_data",
          "data": {
            "text/plain": [
              "<Figure size 432x288 with 0 Axes>"
            ]
          },
          "metadata": {}
        }
      ]
    },
    {
      "cell_type": "markdown",
      "metadata": {
        "id": "CDn2ito8TT_L"
      },
      "source": [
        "### MODEL EVALUATION"
      ]
    },
    {
      "cell_type": "markdown",
      "metadata": {
        "id": "d4kYC1AGTJk7"
      },
      "source": [
        "tensor(0) is deceptive and \n",
        "tensor(1) is truthful"
      ]
    },
    {
      "cell_type": "code",
      "metadata": {
        "id": "T7GgB_MNR0c_",
        "colab": {
          "base_uri": "https://localhost:8080/"
        },
        "outputId": "fe00ab0d-7925-4488-c3b9-0a6ccb7af285"
      },
      "source": [
        "#  tensor(0) is deceptive\n",
        "text = \"this hotel staff is good towards me!!!\"\n",
        "learn.predict(text)"
      ],
      "execution_count": null,
      "outputs": [
        {
          "output_type": "execute_result",
          "data": {
            "text/plain": [
              "(Category tensor(0), tensor(0), tensor([0.9238, 0.0762]))"
            ]
          },
          "metadata": {},
          "execution_count": 203
        }
      ]
    },
    {
      "cell_type": "code",
      "metadata": {
        "colab": {
          "base_uri": "https://localhost:8080/"
        },
        "id": "8YDwvyPrSiFY",
        "outputId": "aaf8521f-d3ae-4914-e133-3abf859e67d0"
      },
      "source": [
        "text = \"My wife and I came to spend the weekend in downtown Chicago for shopping and we found this Conrad hotel well located close to everything downtown and of a size that doesn't make you feel lost in the Convention world. We have had this feeling when staying at larger hotels in the past. Our Suite has view on Michigan avenue with a bit of the Lake at the end. Staff was very professional, pleasant and friendly making us feel very comfortable. Internet is free n the rooms and I am making my review from there. \"\n",
        "learn.predict(text)"
      ],
      "execution_count": null,
      "outputs": [
        {
          "output_type": "execute_result",
          "data": {
            "text/plain": [
              "(Category tensor(1), tensor(1), tensor([0.1393, 0.8607]))"
            ]
          },
          "metadata": {},
          "execution_count": 204
        }
      ]
    },
    {
      "cell_type": "code",
      "metadata": {
        "colab": {
          "base_uri": "https://localhost:8080/"
        },
        "id": "I7U4fkKHTgXp",
        "outputId": "e70203b1-d1d1-4c42-adc7-2df01c726642"
      },
      "source": [
        "text = \"The atmosphere at the Talbott Hotel is very welcoming when you first walk in. The employees are friendly and will greet you when you first arrive. The hotel seems to be luxurious, even from the lobby, and right away, I was very excited for my stay! I stayed in a double queen room with my friend. The room is spacious enough, and beds are very comfortable. I didn't try the room service, but they do have a fitness club close by with a spa, which is very convenient. I also love how the room has individual climate controls! Very neat! Also handy that there is an iHome in the room. I'm usually stuck using just a regular alarm clock radio at other hotels. I will most likely stay in this hotel another time. It was a wonderful experience!\"\n",
        "learn.predict(text)"
      ],
      "execution_count": null,
      "outputs": [
        {
          "output_type": "execute_result",
          "data": {
            "text/plain": [
              "(Category tensor(0), tensor(0), tensor([0.9790, 0.0210]))"
            ]
          },
          "metadata": {},
          "execution_count": 205
        }
      ]
    }
  ]
}